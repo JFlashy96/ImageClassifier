<!DOCTYPE html>
<html>
<head><meta charset="utf-8" />

<title>Image Classifier Project-Copy1</title>

<script src="https://cdnjs.cloudflare.com/ajax/libs/require.js/2.1.10/require.min.js"></script>
<script src="https://cdnjs.cloudflare.com/ajax/libs/jquery/2.0.3/jquery.min.js"></script>



<style type="text/css">
    /*!
*
* Twitter Bootstrap
*
*/
/*!
 * Bootstrap v3.3.7 (http://getbootstrap.com)
 * Copyright 2011-2016 Twitter, Inc.
 * Licensed under MIT (https://github.com/twbs/bootstrap/blob/master/LICENSE)
 */
/*! normalize.css v3.0.3 | MIT License | github.com/necolas/normalize.css */
html {
  font-family: sans-serif;
  -ms-text-size-adjust: 100%;
  -webkit-text-size-adjust: 100%;
}
body {
  margin: 0;
}
article,
aside,
details,
figcaption,
figure,
footer,
header,
hgroup,
main,
menu,
nav,
section,
summary {
  display: block;
}
audio,
canvas,
progress,
video {
  display: inline-block;
  vertical-align: baseline;
}
audio:not([controls]) {
  display: none;
  height: 0;
}
[hidden],
template {
  display: none;
}
a {
  background-color: transparent;
}
a:active,
a:hover {
  outline: 0;
}
abbr[title] {
  border-bottom: 1px dotted;
}
b,
strong {
  font-weight: bold;
}
dfn {
  font-style: italic;
}
h1 {
  font-size: 2em;
  margin: 0.67em 0;
}
mark {
  background: #ff0;
  color: #000;
}
small {
  font-size: 80%;
}
sub,
sup {
  font-size: 75%;
  line-height: 0;
  position: relative;
  vertical-align: baseline;
}
sup {
  top: -0.5em;
}
sub {
  bottom: -0.25em;
}
img {
  border: 0;
}
svg:not(:root) {
  overflow: hidden;
}
figure {
  margin: 1em 40px;
}
hr {
  box-sizing: content-box;
  height: 0;
}
pre {
  overflow: auto;
}
code,
kbd,
pre,
samp {
  font-family: monospace, monospace;
  font-size: 1em;
}
button,
input,
optgroup,
select,
textarea {
  color: inherit;
  font: inherit;
  margin: 0;
}
button {
  overflow: visible;
}
button,
select {
  text-transform: none;
}
button,
html input[type="button"],
input[type="reset"],
input[type="submit"] {
  -webkit-appearance: button;
  cursor: pointer;
}
button[disabled],
html input[disabled] {
  cursor: default;
}
button::-moz-focus-inner,
input::-moz-focus-inner {
  border: 0;
  padding: 0;
}
input {
  line-height: normal;
}
input[type="checkbox"],
input[type="radio"] {
  box-sizing: border-box;
  padding: 0;
}
input[type="number"]::-webkit-inner-spin-button,
input[type="number"]::-webkit-outer-spin-button {
  height: auto;
}
input[type="search"] {
  -webkit-appearance: textfield;
  box-sizing: content-box;
}
input[type="search"]::-webkit-search-cancel-button,
input[type="search"]::-webkit-search-decoration {
  -webkit-appearance: none;
}
fieldset {
  border: 1px solid #c0c0c0;
  margin: 0 2px;
  padding: 0.35em 0.625em 0.75em;
}
legend {
  border: 0;
  padding: 0;
}
textarea {
  overflow: auto;
}
optgroup {
  font-weight: bold;
}
table {
  border-collapse: collapse;
  border-spacing: 0;
}
td,
th {
  padding: 0;
}
/*! Source: https://github.com/h5bp/html5-boilerplate/blob/master/src/css/main.css */
@media print {
  *,
  *:before,
  *:after {
    background: transparent !important;
    box-shadow: none !important;
    text-shadow: none !important;
  }
  a,
  a:visited {
    text-decoration: underline;
  }
  a[href]:after {
    content: " (" attr(href) ")";
  }
  abbr[title]:after {
    content: " (" attr(title) ")";
  }
  a[href^="#"]:after,
  a[href^="javascript:"]:after {
    content: "";
  }
  pre,
  blockquote {
    border: 1px solid #999;
    page-break-inside: avoid;
  }
  thead {
    display: table-header-group;
  }
  tr,
  img {
    page-break-inside: avoid;
  }
  img {
    max-width: 100% !important;
  }
  p,
  h2,
  h3 {
    orphans: 3;
    widows: 3;
  }
  h2,
  h3 {
    page-break-after: avoid;
  }
  .navbar {
    display: none;
  }
  .btn > .caret,
  .dropup > .btn > .caret {
    border-top-color: #000 !important;
  }
  .label {
    border: 1px solid #000;
  }
  .table {
    border-collapse: collapse !important;
  }
  .table td,
  .table th {
    background-color: #fff !important;
  }
  .table-bordered th,
  .table-bordered td {
    border: 1px solid #ddd !important;
  }
}
@font-face {
  font-family: 'Glyphicons Halflings';
  src: url('../components/bootstrap/fonts/glyphicons-halflings-regular.eot');
  src: url('../components/bootstrap/fonts/glyphicons-halflings-regular.eot?#iefix') format('embedded-opentype'), url('../components/bootstrap/fonts/glyphicons-halflings-regular.woff2') format('woff2'), url('../components/bootstrap/fonts/glyphicons-halflings-regular.woff') format('woff'), url('../components/bootstrap/fonts/glyphicons-halflings-regular.ttf') format('truetype'), url('../components/bootstrap/fonts/glyphicons-halflings-regular.svg#glyphicons_halflingsregular') format('svg');
}
.glyphicon {
  position: relative;
  top: 1px;
  display: inline-block;
  font-family: 'Glyphicons Halflings';
  font-style: normal;
  font-weight: normal;
  line-height: 1;
  -webkit-font-smoothing: antialiased;
  -moz-osx-font-smoothing: grayscale;
}
.glyphicon-asterisk:before {
  content: "\002a";
}
.glyphicon-plus:before {
  content: "\002b";
}
.glyphicon-euro:before,
.glyphicon-eur:before {
  content: "\20ac";
}
.glyphicon-minus:before {
  content: "\2212";
}
.glyphicon-cloud:before {
  content: "\2601";
}
.glyphicon-envelope:before {
  content: "\2709";
}
.glyphicon-pencil:before {
  content: "\270f";
}
.glyphicon-glass:before {
  content: "\e001";
}
.glyphicon-music:before {
  content: "\e002";
}
.glyphicon-search:before {
  content: "\e003";
}
.glyphicon-heart:before {
  content: "\e005";
}
.glyphicon-star:before {
  content: "\e006";
}
.glyphicon-star-empty:before {
  content: "\e007";
}
.glyphicon-user:before {
  content: "\e008";
}
.glyphicon-film:before {
  content: "\e009";
}
.glyphicon-th-large:before {
  content: "\e010";
}
.glyphicon-th:before {
  content: "\e011";
}
.glyphicon-th-list:before {
  content: "\e012";
}
.glyphicon-ok:before {
  content: "\e013";
}
.glyphicon-remove:before {
  content: "\e014";
}
.glyphicon-zoom-in:before {
  content: "\e015";
}
.glyphicon-zoom-out:before {
  content: "\e016";
}
.glyphicon-off:before {
  content: "\e017";
}
.glyphicon-signal:before {
  content: "\e018";
}
.glyphicon-cog:before {
  content: "\e019";
}
.glyphicon-trash:before {
  content: "\e020";
}
.glyphicon-home:before {
  content: "\e021";
}
.glyphicon-file:before {
  content: "\e022";
}
.glyphicon-time:before {
  content: "\e023";
}
.glyphicon-road:before {
  content: "\e024";
}
.glyphicon-download-alt:before {
  content: "\e025";
}
.glyphicon-download:before {
  content: "\e026";
}
.glyphicon-upload:before {
  content: "\e027";
}
.glyphicon-inbox:before {
  content: "\e028";
}
.glyphicon-play-circle:before {
  content: "\e029";
}
.glyphicon-repeat:before {
  content: "\e030";
}
.glyphicon-refresh:before {
  content: "\e031";
}
.glyphicon-list-alt:before {
  content: "\e032";
}
.glyphicon-lock:before {
  content: "\e033";
}
.glyphicon-flag:before {
  content: "\e034";
}
.glyphicon-headphones:before {
  content: "\e035";
}
.glyphicon-volume-off:before {
  content: "\e036";
}
.glyphicon-volume-down:before {
  content: "\e037";
}
.glyphicon-volume-up:before {
  content: "\e038";
}
.glyphicon-qrcode:before {
  content: "\e039";
}
.glyphicon-barcode:before {
  content: "\e040";
}
.glyphicon-tag:before {
  content: "\e041";
}
.glyphicon-tags:before {
  content: "\e042";
}
.glyphicon-book:before {
  content: "\e043";
}
.glyphicon-bookmark:before {
  content: "\e044";
}
.glyphicon-print:before {
  content: "\e045";
}
.glyphicon-camera:before {
  content: "\e046";
}
.glyphicon-font:before {
  content: "\e047";
}
.glyphicon-bold:before {
  content: "\e048";
}
.glyphicon-italic:before {
  content: "\e049";
}
.glyphicon-text-height:before {
  content: "\e050";
}
.glyphicon-text-width:before {
  content: "\e051";
}
.glyphicon-align-left:before {
  content: "\e052";
}
.glyphicon-align-center:before {
  content: "\e053";
}
.glyphicon-align-right:before {
  content: "\e054";
}
.glyphicon-align-justify:before {
  content: "\e055";
}
.glyphicon-list:before {
  content: "\e056";
}
.glyphicon-indent-left:before {
  content: "\e057";
}
.glyphicon-indent-right:before {
  content: "\e058";
}
.glyphicon-facetime-video:before {
  content: "\e059";
}
.glyphicon-picture:before {
  content: "\e060";
}
.glyphicon-map-marker:before {
  content: "\e062";
}
.glyphicon-adjust:before {
  content: "\e063";
}
.glyphicon-tint:before {
  content: "\e064";
}
.glyphicon-edit:before {
  content: "\e065";
}
.glyphicon-share:before {
  content: "\e066";
}
.glyphicon-check:before {
  content: "\e067";
}
.glyphicon-move:before {
  content: "\e068";
}
.glyphicon-step-backward:before {
  content: "\e069";
}
.glyphicon-fast-backward:before {
  content: "\e070";
}
.glyphicon-backward:before {
  content: "\e071";
}
.glyphicon-play:before {
  content: "\e072";
}
.glyphicon-pause:before {
  content: "\e073";
}
.glyphicon-stop:before {
  content: "\e074";
}
.glyphicon-forward:before {
  content: "\e075";
}
.glyphicon-fast-forward:before {
  content: "\e076";
}
.glyphicon-step-forward:before {
  content: "\e077";
}
.glyphicon-eject:before {
  content: "\e078";
}
.glyphicon-chevron-left:before {
  content: "\e079";
}
.glyphicon-chevron-right:before {
  content: "\e080";
}
.glyphicon-plus-sign:before {
  content: "\e081";
}
.glyphicon-minus-sign:before {
  content: "\e082";
}
.glyphicon-remove-sign:before {
  content: "\e083";
}
.glyphicon-ok-sign:before {
  content: "\e084";
}
.glyphicon-question-sign:before {
  content: "\e085";
}
.glyphicon-info-sign:before {
  content: "\e086";
}
.glyphicon-screenshot:before {
  content: "\e087";
}
.glyphicon-remove-circle:before {
  content: "\e088";
}
.glyphicon-ok-circle:before {
  content: "\e089";
}
.glyphicon-ban-circle:before {
  content: "\e090";
}
.glyphicon-arrow-left:before {
  content: "\e091";
}
.glyphicon-arrow-right:before {
  content: "\e092";
}
.glyphicon-arrow-up:before {
  content: "\e093";
}
.glyphicon-arrow-down:before {
  content: "\e094";
}
.glyphicon-share-alt:before {
  content: "\e095";
}
.glyphicon-resize-full:before {
  content: "\e096";
}
.glyphicon-resize-small:before {
  content: "\e097";
}
.glyphicon-exclamation-sign:before {
  content: "\e101";
}
.glyphicon-gift:before {
  content: "\e102";
}
.glyphicon-leaf:before {
  content: "\e103";
}
.glyphicon-fire:before {
  content: "\e104";
}
.glyphicon-eye-open:before {
  content: "\e105";
}
.glyphicon-eye-close:before {
  content: "\e106";
}
.glyphicon-warning-sign:before {
  content: "\e107";
}
.glyphicon-plane:before {
  content: "\e108";
}
.glyphicon-calendar:before {
  content: "\e109";
}
.glyphicon-random:before {
  content: "\e110";
}
.glyphicon-comment:before {
  content: "\e111";
}
.glyphicon-magnet:before {
  content: "\e112";
}
.glyphicon-chevron-up:before {
  content: "\e113";
}
.glyphicon-chevron-down:before {
  content: "\e114";
}
.glyphicon-retweet:before {
  content: "\e115";
}
.glyphicon-shopping-cart:before {
  content: "\e116";
}
.glyphicon-folder-close:before {
  content: "\e117";
}
.glyphicon-folder-open:before {
  content: "\e118";
}
.glyphicon-resize-vertical:before {
  content: "\e119";
}
.glyphicon-resize-horizontal:before {
  content: "\e120";
}
.glyphicon-hdd:before {
  content: "\e121";
}
.glyphicon-bullhorn:before {
  content: "\e122";
}
.glyphicon-bell:before {
  content: "\e123";
}
.glyphicon-certificate:before {
  content: "\e124";
}
.glyphicon-thumbs-up:before {
  content: "\e125";
}
.glyphicon-thumbs-down:before {
  content: "\e126";
}
.glyphicon-hand-right:before {
  content: "\e127";
}
.glyphicon-hand-left:before {
  content: "\e128";
}
.glyphicon-hand-up:before {
  content: "\e129";
}
.glyphicon-hand-down:before {
  content: "\e130";
}
.glyphicon-circle-arrow-right:before {
  content: "\e131";
}
.glyphicon-circle-arrow-left:before {
  content: "\e132";
}
.glyphicon-circle-arrow-up:before {
  content: "\e133";
}
.glyphicon-circle-arrow-down:before {
  content: "\e134";
}
.glyphicon-globe:before {
  content: "\e135";
}
.glyphicon-wrench:before {
  content: "\e136";
}
.glyphicon-tasks:before {
  content: "\e137";
}
.glyphicon-filter:before {
  content: "\e138";
}
.glyphicon-briefcase:before {
  content: "\e139";
}
.glyphicon-fullscreen:before {
  content: "\e140";
}
.glyphicon-dashboard:before {
  content: "\e141";
}
.glyphicon-paperclip:before {
  content: "\e142";
}
.glyphicon-heart-empty:before {
  content: "\e143";
}
.glyphicon-link:before {
  content: "\e144";
}
.glyphicon-phone:before {
  content: "\e145";
}
.glyphicon-pushpin:before {
  content: "\e146";
}
.glyphicon-usd:before {
  content: "\e148";
}
.glyphicon-gbp:before {
  content: "\e149";
}
.glyphicon-sort:before {
  content: "\e150";
}
.glyphicon-sort-by-alphabet:before {
  content: "\e151";
}
.glyphicon-sort-by-alphabet-alt:before {
  content: "\e152";
}
.glyphicon-sort-by-order:before {
  content: "\e153";
}
.glyphicon-sort-by-order-alt:before {
  content: "\e154";
}
.glyphicon-sort-by-attributes:before {
  content: "\e155";
}
.glyphicon-sort-by-attributes-alt:before {
  content: "\e156";
}
.glyphicon-unchecked:before {
  content: "\e157";
}
.glyphicon-expand:before {
  content: "\e158";
}
.glyphicon-collapse-down:before {
  content: "\e159";
}
.glyphicon-collapse-up:before {
  content: "\e160";
}
.glyphicon-log-in:before {
  content: "\e161";
}
.glyphicon-flash:before {
  content: "\e162";
}
.glyphicon-log-out:before {
  content: "\e163";
}
.glyphicon-new-window:before {
  content: "\e164";
}
.glyphicon-record:before {
  content: "\e165";
}
.glyphicon-save:before {
  content: "\e166";
}
.glyphicon-open:before {
  content: "\e167";
}
.glyphicon-saved:before {
  content: "\e168";
}
.glyphicon-import:before {
  content: "\e169";
}
.glyphicon-export:before {
  content: "\e170";
}
.glyphicon-send:before {
  content: "\e171";
}
.glyphicon-floppy-disk:before {
  content: "\e172";
}
.glyphicon-floppy-saved:before {
  content: "\e173";
}
.glyphicon-floppy-remove:before {
  content: "\e174";
}
.glyphicon-floppy-save:before {
  content: "\e175";
}
.glyphicon-floppy-open:before {
  content: "\e176";
}
.glyphicon-credit-card:before {
  content: "\e177";
}
.glyphicon-transfer:before {
  content: "\e178";
}
.glyphicon-cutlery:before {
  content: "\e179";
}
.glyphicon-header:before {
  content: "\e180";
}
.glyphicon-compressed:before {
  content: "\e181";
}
.glyphicon-earphone:before {
  content: "\e182";
}
.glyphicon-phone-alt:before {
  content: "\e183";
}
.glyphicon-tower:before {
  content: "\e184";
}
.glyphicon-stats:before {
  content: "\e185";
}
.glyphicon-sd-video:before {
  content: "\e186";
}
.glyphicon-hd-video:before {
  content: "\e187";
}
.glyphicon-subtitles:before {
  content: "\e188";
}
.glyphicon-sound-stereo:before {
  content: "\e189";
}
.glyphicon-sound-dolby:before {
  content: "\e190";
}
.glyphicon-sound-5-1:before {
  content: "\e191";
}
.glyphicon-sound-6-1:before {
  content: "\e192";
}
.glyphicon-sound-7-1:before {
  content: "\e193";
}
.glyphicon-copyright-mark:before {
  content: "\e194";
}
.glyphicon-registration-mark:before {
  content: "\e195";
}
.glyphicon-cloud-download:before {
  content: "\e197";
}
.glyphicon-cloud-upload:before {
  content: "\e198";
}
.glyphicon-tree-conifer:before {
  content: "\e199";
}
.glyphicon-tree-deciduous:before {
  content: "\e200";
}
.glyphicon-cd:before {
  content: "\e201";
}
.glyphicon-save-file:before {
  content: "\e202";
}
.glyphicon-open-file:before {
  content: "\e203";
}
.glyphicon-level-up:before {
  content: "\e204";
}
.glyphicon-copy:before {
  content: "\e205";
}
.glyphicon-paste:before {
  content: "\e206";
}
.glyphicon-alert:before {
  content: "\e209";
}
.glyphicon-equalizer:before {
  content: "\e210";
}
.glyphicon-king:before {
  content: "\e211";
}
.glyphicon-queen:before {
  content: "\e212";
}
.glyphicon-pawn:before {
  content: "\e213";
}
.glyphicon-bishop:before {
  content: "\e214";
}
.glyphicon-knight:before {
  content: "\e215";
}
.glyphicon-baby-formula:before {
  content: "\e216";
}
.glyphicon-tent:before {
  content: "\26fa";
}
.glyphicon-blackboard:before {
  content: "\e218";
}
.glyphicon-bed:before {
  content: "\e219";
}
.glyphicon-apple:before {
  content: "\f8ff";
}
.glyphicon-erase:before {
  content: "\e221";
}
.glyphicon-hourglass:before {
  content: "\231b";
}
.glyphicon-lamp:before {
  content: "\e223";
}
.glyphicon-duplicate:before {
  content: "\e224";
}
.glyphicon-piggy-bank:before {
  content: "\e225";
}
.glyphicon-scissors:before {
  content: "\e226";
}
.glyphicon-bitcoin:before {
  content: "\e227";
}
.glyphicon-btc:before {
  content: "\e227";
}
.glyphicon-xbt:before {
  content: "\e227";
}
.glyphicon-yen:before {
  content: "\00a5";
}
.glyphicon-jpy:before {
  content: "\00a5";
}
.glyphicon-ruble:before {
  content: "\20bd";
}
.glyphicon-rub:before {
  content: "\20bd";
}
.glyphicon-scale:before {
  content: "\e230";
}
.glyphicon-ice-lolly:before {
  content: "\e231";
}
.glyphicon-ice-lolly-tasted:before {
  content: "\e232";
}
.glyphicon-education:before {
  content: "\e233";
}
.glyphicon-option-horizontal:before {
  content: "\e234";
}
.glyphicon-option-vertical:before {
  content: "\e235";
}
.glyphicon-menu-hamburger:before {
  content: "\e236";
}
.glyphicon-modal-window:before {
  content: "\e237";
}
.glyphicon-oil:before {
  content: "\e238";
}
.glyphicon-grain:before {
  content: "\e239";
}
.glyphicon-sunglasses:before {
  content: "\e240";
}
.glyphicon-text-size:before {
  content: "\e241";
}
.glyphicon-text-color:before {
  content: "\e242";
}
.glyphicon-text-background:before {
  content: "\e243";
}
.glyphicon-object-align-top:before {
  content: "\e244";
}
.glyphicon-object-align-bottom:before {
  content: "\e245";
}
.glyphicon-object-align-horizontal:before {
  content: "\e246";
}
.glyphicon-object-align-left:before {
  content: "\e247";
}
.glyphicon-object-align-vertical:before {
  content: "\e248";
}
.glyphicon-object-align-right:before {
  content: "\e249";
}
.glyphicon-triangle-right:before {
  content: "\e250";
}
.glyphicon-triangle-left:before {
  content: "\e251";
}
.glyphicon-triangle-bottom:before {
  content: "\e252";
}
.glyphicon-triangle-top:before {
  content: "\e253";
}
.glyphicon-console:before {
  content: "\e254";
}
.glyphicon-superscript:before {
  content: "\e255";
}
.glyphicon-subscript:before {
  content: "\e256";
}
.glyphicon-menu-left:before {
  content: "\e257";
}
.glyphicon-menu-right:before {
  content: "\e258";
}
.glyphicon-menu-down:before {
  content: "\e259";
}
.glyphicon-menu-up:before {
  content: "\e260";
}
* {
  -webkit-box-sizing: border-box;
  -moz-box-sizing: border-box;
  box-sizing: border-box;
}
*:before,
*:after {
  -webkit-box-sizing: border-box;
  -moz-box-sizing: border-box;
  box-sizing: border-box;
}
html {
  font-size: 10px;
  -webkit-tap-highlight-color: rgba(0, 0, 0, 0);
}
body {
  font-family: "Helvetica Neue", Helvetica, Arial, sans-serif;
  font-size: 13px;
  line-height: 1.42857143;
  color: #000;
  background-color: #fff;
}
input,
button,
select,
textarea {
  font-family: inherit;
  font-size: inherit;
  line-height: inherit;
}
a {
  color: #337ab7;
  text-decoration: none;
}
a:hover,
a:focus {
  color: #23527c;
  text-decoration: underline;
}
a:focus {
  outline: 5px auto -webkit-focus-ring-color;
  outline-offset: -2px;
}
figure {
  margin: 0;
}
img {
  vertical-align: middle;
}
.img-responsive,
.thumbnail > img,
.thumbnail a > img,
.carousel-inner > .item > img,
.carousel-inner > .item > a > img {
  display: block;
  max-width: 100%;
  height: auto;
}
.img-rounded {
  border-radius: 3px;
}
.img-thumbnail {
  padding: 4px;
  line-height: 1.42857143;
  background-color: #fff;
  border: 1px solid #ddd;
  border-radius: 2px;
  -webkit-transition: all 0.2s ease-in-out;
  -o-transition: all 0.2s ease-in-out;
  transition: all 0.2s ease-in-out;
  display: inline-block;
  max-width: 100%;
  height: auto;
}
.img-circle {
  border-radius: 50%;
}
hr {
  margin-top: 18px;
  margin-bottom: 18px;
  border: 0;
  border-top: 1px solid #eeeeee;
}
.sr-only {
  position: absolute;
  width: 1px;
  height: 1px;
  margin: -1px;
  padding: 0;
  overflow: hidden;
  clip: rect(0, 0, 0, 0);
  border: 0;
}
.sr-only-focusable:active,
.sr-only-focusable:focus {
  position: static;
  width: auto;
  height: auto;
  margin: 0;
  overflow: visible;
  clip: auto;
}
[role="button"] {
  cursor: pointer;
}
h1,
h2,
h3,
h4,
h5,
h6,
.h1,
.h2,
.h3,
.h4,
.h5,
.h6 {
  font-family: inherit;
  font-weight: 500;
  line-height: 1.1;
  color: inherit;
}
h1 small,
h2 small,
h3 small,
h4 small,
h5 small,
h6 small,
.h1 small,
.h2 small,
.h3 small,
.h4 small,
.h5 small,
.h6 small,
h1 .small,
h2 .small,
h3 .small,
h4 .small,
h5 .small,
h6 .small,
.h1 .small,
.h2 .small,
.h3 .small,
.h4 .small,
.h5 .small,
.h6 .small {
  font-weight: normal;
  line-height: 1;
  color: #777777;
}
h1,
.h1,
h2,
.h2,
h3,
.h3 {
  margin-top: 18px;
  margin-bottom: 9px;
}
h1 small,
.h1 small,
h2 small,
.h2 small,
h3 small,
.h3 small,
h1 .small,
.h1 .small,
h2 .small,
.h2 .small,
h3 .small,
.h3 .small {
  font-size: 65%;
}
h4,
.h4,
h5,
.h5,
h6,
.h6 {
  margin-top: 9px;
  margin-bottom: 9px;
}
h4 small,
.h4 small,
h5 small,
.h5 small,
h6 small,
.h6 small,
h4 .small,
.h4 .small,
h5 .small,
.h5 .small,
h6 .small,
.h6 .small {
  font-size: 75%;
}
h1,
.h1 {
  font-size: 33px;
}
h2,
.h2 {
  font-size: 27px;
}
h3,
.h3 {
  font-size: 23px;
}
h4,
.h4 {
  font-size: 17px;
}
h5,
.h5 {
  font-size: 13px;
}
h6,
.h6 {
  font-size: 12px;
}
p {
  margin: 0 0 9px;
}
.lead {
  margin-bottom: 18px;
  font-size: 14px;
  font-weight: 300;
  line-height: 1.4;
}
@media (min-width: 768px) {
  .lead {
    font-size: 19.5px;
  }
}
small,
.small {
  font-size: 92%;
}
mark,
.mark {
  background-color: #fcf8e3;
  padding: .2em;
}
.text-left {
  text-align: left;
}
.text-right {
  text-align: right;
}
.text-center {
  text-align: center;
}
.text-justify {
  text-align: justify;
}
.text-nowrap {
  white-space: nowrap;
}
.text-lowercase {
  text-transform: lowercase;
}
.text-uppercase {
  text-transform: uppercase;
}
.text-capitalize {
  text-transform: capitalize;
}
.text-muted {
  color: #777777;
}
.text-primary {
  color: #337ab7;
}
a.text-primary:hover,
a.text-primary:focus {
  color: #286090;
}
.text-success {
  color: #3c763d;
}
a.text-success:hover,
a.text-success:focus {
  color: #2b542c;
}
.text-info {
  color: #31708f;
}
a.text-info:hover,
a.text-info:focus {
  color: #245269;
}
.text-warning {
  color: #8a6d3b;
}
a.text-warning:hover,
a.text-warning:focus {
  color: #66512c;
}
.text-danger {
  color: #a94442;
}
a.text-danger:hover,
a.text-danger:focus {
  color: #843534;
}
.bg-primary {
  color: #fff;
  background-color: #337ab7;
}
a.bg-primary:hover,
a.bg-primary:focus {
  background-color: #286090;
}
.bg-success {
  background-color: #dff0d8;
}
a.bg-success:hover,
a.bg-success:focus {
  background-color: #c1e2b3;
}
.bg-info {
  background-color: #d9edf7;
}
a.bg-info:hover,
a.bg-info:focus {
  background-color: #afd9ee;
}
.bg-warning {
  background-color: #fcf8e3;
}
a.bg-warning:hover,
a.bg-warning:focus {
  background-color: #f7ecb5;
}
.bg-danger {
  background-color: #f2dede;
}
a.bg-danger:hover,
a.bg-danger:focus {
  background-color: #e4b9b9;
}
.page-header {
  padding-bottom: 8px;
  margin: 36px 0 18px;
  border-bottom: 1px solid #eeeeee;
}
ul,
ol {
  margin-top: 0;
  margin-bottom: 9px;
}
ul ul,
ol ul,
ul ol,
ol ol {
  margin-bottom: 0;
}
.list-unstyled {
  padding-left: 0;
  list-style: none;
}
.list-inline {
  padding-left: 0;
  list-style: none;
  margin-left: -5px;
}
.list-inline > li {
  display: inline-block;
  padding-left: 5px;
  padding-right: 5px;
}
dl {
  margin-top: 0;
  margin-bottom: 18px;
}
dt,
dd {
  line-height: 1.42857143;
}
dt {
  font-weight: bold;
}
dd {
  margin-left: 0;
}
@media (min-width: 541px) {
  .dl-horizontal dt {
    float: left;
    width: 160px;
    clear: left;
    text-align: right;
    overflow: hidden;
    text-overflow: ellipsis;
    white-space: nowrap;
  }
  .dl-horizontal dd {
    margin-left: 180px;
  }
}
abbr[title],
abbr[data-original-title] {
  cursor: help;
  border-bottom: 1px dotted #777777;
}
.initialism {
  font-size: 90%;
  text-transform: uppercase;
}
blockquote {
  padding: 9px 18px;
  margin: 0 0 18px;
  font-size: inherit;
  border-left: 5px solid #eeeeee;
}
blockquote p:last-child,
blockquote ul:last-child,
blockquote ol:last-child {
  margin-bottom: 0;
}
blockquote footer,
blockquote small,
blockquote .small {
  display: block;
  font-size: 80%;
  line-height: 1.42857143;
  color: #777777;
}
blockquote footer:before,
blockquote small:before,
blockquote .small:before {
  content: '\2014 \00A0';
}
.blockquote-reverse,
blockquote.pull-right {
  padding-right: 15px;
  padding-left: 0;
  border-right: 5px solid #eeeeee;
  border-left: 0;
  text-align: right;
}
.blockquote-reverse footer:before,
blockquote.pull-right footer:before,
.blockquote-reverse small:before,
blockquote.pull-right small:before,
.blockquote-reverse .small:before,
blockquote.pull-right .small:before {
  content: '';
}
.blockquote-reverse footer:after,
blockquote.pull-right footer:after,
.blockquote-reverse small:after,
blockquote.pull-right small:after,
.blockquote-reverse .small:after,
blockquote.pull-right .small:after {
  content: '\00A0 \2014';
}
address {
  margin-bottom: 18px;
  font-style: normal;
  line-height: 1.42857143;
}
code,
kbd,
pre,
samp {
  font-family: monospace;
}
code {
  padding: 2px 4px;
  font-size: 90%;
  color: #c7254e;
  background-color: #f9f2f4;
  border-radius: 2px;
}
kbd {
  padding: 2px 4px;
  font-size: 90%;
  color: #888;
  background-color: transparent;
  border-radius: 1px;
  box-shadow: inset 0 -1px 0 rgba(0, 0, 0, 0.25);
}
kbd kbd {
  padding: 0;
  font-size: 100%;
  font-weight: bold;
  box-shadow: none;
}
pre {
  display: block;
  padding: 8.5px;
  margin: 0 0 9px;
  font-size: 12px;
  line-height: 1.42857143;
  word-break: break-all;
  word-wrap: break-word;
  color: #333333;
  background-color: #f5f5f5;
  border: 1px solid #ccc;
  border-radius: 2px;
}
pre code {
  padding: 0;
  font-size: inherit;
  color: inherit;
  white-space: pre-wrap;
  background-color: transparent;
  border-radius: 0;
}
.pre-scrollable {
  max-height: 340px;
  overflow-y: scroll;
}
.container {
  margin-right: auto;
  margin-left: auto;
  padding-left: 0px;
  padding-right: 0px;
}
@media (min-width: 768px) {
  .container {
    width: 768px;
  }
}
@media (min-width: 992px) {
  .container {
    width: 940px;
  }
}
@media (min-width: 1200px) {
  .container {
    width: 1140px;
  }
}
.container-fluid {
  margin-right: auto;
  margin-left: auto;
  padding-left: 0px;
  padding-right: 0px;
}
.row {
  margin-left: 0px;
  margin-right: 0px;
}
.col-xs-1, .col-sm-1, .col-md-1, .col-lg-1, .col-xs-2, .col-sm-2, .col-md-2, .col-lg-2, .col-xs-3, .col-sm-3, .col-md-3, .col-lg-3, .col-xs-4, .col-sm-4, .col-md-4, .col-lg-4, .col-xs-5, .col-sm-5, .col-md-5, .col-lg-5, .col-xs-6, .col-sm-6, .col-md-6, .col-lg-6, .col-xs-7, .col-sm-7, .col-md-7, .col-lg-7, .col-xs-8, .col-sm-8, .col-md-8, .col-lg-8, .col-xs-9, .col-sm-9, .col-md-9, .col-lg-9, .col-xs-10, .col-sm-10, .col-md-10, .col-lg-10, .col-xs-11, .col-sm-11, .col-md-11, .col-lg-11, .col-xs-12, .col-sm-12, .col-md-12, .col-lg-12 {
  position: relative;
  min-height: 1px;
  padding-left: 0px;
  padding-right: 0px;
}
.col-xs-1, .col-xs-2, .col-xs-3, .col-xs-4, .col-xs-5, .col-xs-6, .col-xs-7, .col-xs-8, .col-xs-9, .col-xs-10, .col-xs-11, .col-xs-12 {
  float: left;
}
.col-xs-12 {
  width: 100%;
}
.col-xs-11 {
  width: 91.66666667%;
}
.col-xs-10 {
  width: 83.33333333%;
}
.col-xs-9 {
  width: 75%;
}
.col-xs-8 {
  width: 66.66666667%;
}
.col-xs-7 {
  width: 58.33333333%;
}
.col-xs-6 {
  width: 50%;
}
.col-xs-5 {
  width: 41.66666667%;
}
.col-xs-4 {
  width: 33.33333333%;
}
.col-xs-3 {
  width: 25%;
}
.col-xs-2 {
  width: 16.66666667%;
}
.col-xs-1 {
  width: 8.33333333%;
}
.col-xs-pull-12 {
  right: 100%;
}
.col-xs-pull-11 {
  right: 91.66666667%;
}
.col-xs-pull-10 {
  right: 83.33333333%;
}
.col-xs-pull-9 {
  right: 75%;
}
.col-xs-pull-8 {
  right: 66.66666667%;
}
.col-xs-pull-7 {
  right: 58.33333333%;
}
.col-xs-pull-6 {
  right: 50%;
}
.col-xs-pull-5 {
  right: 41.66666667%;
}
.col-xs-pull-4 {
  right: 33.33333333%;
}
.col-xs-pull-3 {
  right: 25%;
}
.col-xs-pull-2 {
  right: 16.66666667%;
}
.col-xs-pull-1 {
  right: 8.33333333%;
}
.col-xs-pull-0 {
  right: auto;
}
.col-xs-push-12 {
  left: 100%;
}
.col-xs-push-11 {
  left: 91.66666667%;
}
.col-xs-push-10 {
  left: 83.33333333%;
}
.col-xs-push-9 {
  left: 75%;
}
.col-xs-push-8 {
  left: 66.66666667%;
}
.col-xs-push-7 {
  left: 58.33333333%;
}
.col-xs-push-6 {
  left: 50%;
}
.col-xs-push-5 {
  left: 41.66666667%;
}
.col-xs-push-4 {
  left: 33.33333333%;
}
.col-xs-push-3 {
  left: 25%;
}
.col-xs-push-2 {
  left: 16.66666667%;
}
.col-xs-push-1 {
  left: 8.33333333%;
}
.col-xs-push-0 {
  left: auto;
}
.col-xs-offset-12 {
  margin-left: 100%;
}
.col-xs-offset-11 {
  margin-left: 91.66666667%;
}
.col-xs-offset-10 {
  margin-left: 83.33333333%;
}
.col-xs-offset-9 {
  margin-left: 75%;
}
.col-xs-offset-8 {
  margin-left: 66.66666667%;
}
.col-xs-offset-7 {
  margin-left: 58.33333333%;
}
.col-xs-offset-6 {
  margin-left: 50%;
}
.col-xs-offset-5 {
  margin-left: 41.66666667%;
}
.col-xs-offset-4 {
  margin-left: 33.33333333%;
}
.col-xs-offset-3 {
  margin-left: 25%;
}
.col-xs-offset-2 {
  margin-left: 16.66666667%;
}
.col-xs-offset-1 {
  margin-left: 8.33333333%;
}
.col-xs-offset-0 {
  margin-left: 0%;
}
@media (min-width: 768px) {
  .col-sm-1, .col-sm-2, .col-sm-3, .col-sm-4, .col-sm-5, .col-sm-6, .col-sm-7, .col-sm-8, .col-sm-9, .col-sm-10, .col-sm-11, .col-sm-12 {
    float: left;
  }
  .col-sm-12 {
    width: 100%;
  }
  .col-sm-11 {
    width: 91.66666667%;
  }
  .col-sm-10 {
    width: 83.33333333%;
  }
  .col-sm-9 {
    width: 75%;
  }
  .col-sm-8 {
    width: 66.66666667%;
  }
  .col-sm-7 {
    width: 58.33333333%;
  }
  .col-sm-6 {
    width: 50%;
  }
  .col-sm-5 {
    width: 41.66666667%;
  }
  .col-sm-4 {
    width: 33.33333333%;
  }
  .col-sm-3 {
    width: 25%;
  }
  .col-sm-2 {
    width: 16.66666667%;
  }
  .col-sm-1 {
    width: 8.33333333%;
  }
  .col-sm-pull-12 {
    right: 100%;
  }
  .col-sm-pull-11 {
    right: 91.66666667%;
  }
  .col-sm-pull-10 {
    right: 83.33333333%;
  }
  .col-sm-pull-9 {
    right: 75%;
  }
  .col-sm-pull-8 {
    right: 66.66666667%;
  }
  .col-sm-pull-7 {
    right: 58.33333333%;
  }
  .col-sm-pull-6 {
    right: 50%;
  }
  .col-sm-pull-5 {
    right: 41.66666667%;
  }
  .col-sm-pull-4 {
    right: 33.33333333%;
  }
  .col-sm-pull-3 {
    right: 25%;
  }
  .col-sm-pull-2 {
    right: 16.66666667%;
  }
  .col-sm-pull-1 {
    right: 8.33333333%;
  }
  .col-sm-pull-0 {
    right: auto;
  }
  .col-sm-push-12 {
    left: 100%;
  }
  .col-sm-push-11 {
    left: 91.66666667%;
  }
  .col-sm-push-10 {
    left: 83.33333333%;
  }
  .col-sm-push-9 {
    left: 75%;
  }
  .col-sm-push-8 {
    left: 66.66666667%;
  }
  .col-sm-push-7 {
    left: 58.33333333%;
  }
  .col-sm-push-6 {
    left: 50%;
  }
  .col-sm-push-5 {
    left: 41.66666667%;
  }
  .col-sm-push-4 {
    left: 33.33333333%;
  }
  .col-sm-push-3 {
    left: 25%;
  }
  .col-sm-push-2 {
    left: 16.66666667%;
  }
  .col-sm-push-1 {
    left: 8.33333333%;
  }
  .col-sm-push-0 {
    left: auto;
  }
  .col-sm-offset-12 {
    margin-left: 100%;
  }
  .col-sm-offset-11 {
    margin-left: 91.66666667%;
  }
  .col-sm-offset-10 {
    margin-left: 83.33333333%;
  }
  .col-sm-offset-9 {
    margin-left: 75%;
  }
  .col-sm-offset-8 {
    margin-left: 66.66666667%;
  }
  .col-sm-offset-7 {
    margin-left: 58.33333333%;
  }
  .col-sm-offset-6 {
    margin-left: 50%;
  }
  .col-sm-offset-5 {
    margin-left: 41.66666667%;
  }
  .col-sm-offset-4 {
    margin-left: 33.33333333%;
  }
  .col-sm-offset-3 {
    margin-left: 25%;
  }
  .col-sm-offset-2 {
    margin-left: 16.66666667%;
  }
  .col-sm-offset-1 {
    margin-left: 8.33333333%;
  }
  .col-sm-offset-0 {
    margin-left: 0%;
  }
}
@media (min-width: 992px) {
  .col-md-1, .col-md-2, .col-md-3, .col-md-4, .col-md-5, .col-md-6, .col-md-7, .col-md-8, .col-md-9, .col-md-10, .col-md-11, .col-md-12 {
    float: left;
  }
  .col-md-12 {
    width: 100%;
  }
  .col-md-11 {
    width: 91.66666667%;
  }
  .col-md-10 {
    width: 83.33333333%;
  }
  .col-md-9 {
    width: 75%;
  }
  .col-md-8 {
    width: 66.66666667%;
  }
  .col-md-7 {
    width: 58.33333333%;
  }
  .col-md-6 {
    width: 50%;
  }
  .col-md-5 {
    width: 41.66666667%;
  }
  .col-md-4 {
    width: 33.33333333%;
  }
  .col-md-3 {
    width: 25%;
  }
  .col-md-2 {
    width: 16.66666667%;
  }
  .col-md-1 {
    width: 8.33333333%;
  }
  .col-md-pull-12 {
    right: 100%;
  }
  .col-md-pull-11 {
    right: 91.66666667%;
  }
  .col-md-pull-10 {
    right: 83.33333333%;
  }
  .col-md-pull-9 {
    right: 75%;
  }
  .col-md-pull-8 {
    right: 66.66666667%;
  }
  .col-md-pull-7 {
    right: 58.33333333%;
  }
  .col-md-pull-6 {
    right: 50%;
  }
  .col-md-pull-5 {
    right: 41.66666667%;
  }
  .col-md-pull-4 {
    right: 33.33333333%;
  }
  .col-md-pull-3 {
    right: 25%;
  }
  .col-md-pull-2 {
    right: 16.66666667%;
  }
  .col-md-pull-1 {
    right: 8.33333333%;
  }
  .col-md-pull-0 {
    right: auto;
  }
  .col-md-push-12 {
    left: 100%;
  }
  .col-md-push-11 {
    left: 91.66666667%;
  }
  .col-md-push-10 {
    left: 83.33333333%;
  }
  .col-md-push-9 {
    left: 75%;
  }
  .col-md-push-8 {
    left: 66.66666667%;
  }
  .col-md-push-7 {
    left: 58.33333333%;
  }
  .col-md-push-6 {
    left: 50%;
  }
  .col-md-push-5 {
    left: 41.66666667%;
  }
  .col-md-push-4 {
    left: 33.33333333%;
  }
  .col-md-push-3 {
    left: 25%;
  }
  .col-md-push-2 {
    left: 16.66666667%;
  }
  .col-md-push-1 {
    left: 8.33333333%;
  }
  .col-md-push-0 {
    left: auto;
  }
  .col-md-offset-12 {
    margin-left: 100%;
  }
  .col-md-offset-11 {
    margin-left: 91.66666667%;
  }
  .col-md-offset-10 {
    margin-left: 83.33333333%;
  }
  .col-md-offset-9 {
    margin-left: 75%;
  }
  .col-md-offset-8 {
    margin-left: 66.66666667%;
  }
  .col-md-offset-7 {
    margin-left: 58.33333333%;
  }
  .col-md-offset-6 {
    margin-left: 50%;
  }
  .col-md-offset-5 {
    margin-left: 41.66666667%;
  }
  .col-md-offset-4 {
    margin-left: 33.33333333%;
  }
  .col-md-offset-3 {
    margin-left: 25%;
  }
  .col-md-offset-2 {
    margin-left: 16.66666667%;
  }
  .col-md-offset-1 {
    margin-left: 8.33333333%;
  }
  .col-md-offset-0 {
    margin-left: 0%;
  }
}
@media (min-width: 1200px) {
  .col-lg-1, .col-lg-2, .col-lg-3, .col-lg-4, .col-lg-5, .col-lg-6, .col-lg-7, .col-lg-8, .col-lg-9, .col-lg-10, .col-lg-11, .col-lg-12 {
    float: left;
  }
  .col-lg-12 {
    width: 100%;
  }
  .col-lg-11 {
    width: 91.66666667%;
  }
  .col-lg-10 {
    width: 83.33333333%;
  }
  .col-lg-9 {
    width: 75%;
  }
  .col-lg-8 {
    width: 66.66666667%;
  }
  .col-lg-7 {
    width: 58.33333333%;
  }
  .col-lg-6 {
    width: 50%;
  }
  .col-lg-5 {
    width: 41.66666667%;
  }
  .col-lg-4 {
    width: 33.33333333%;
  }
  .col-lg-3 {
    width: 25%;
  }
  .col-lg-2 {
    width: 16.66666667%;
  }
  .col-lg-1 {
    width: 8.33333333%;
  }
  .col-lg-pull-12 {
    right: 100%;
  }
  .col-lg-pull-11 {
    right: 91.66666667%;
  }
  .col-lg-pull-10 {
    right: 83.33333333%;
  }
  .col-lg-pull-9 {
    right: 75%;
  }
  .col-lg-pull-8 {
    right: 66.66666667%;
  }
  .col-lg-pull-7 {
    right: 58.33333333%;
  }
  .col-lg-pull-6 {
    right: 50%;
  }
  .col-lg-pull-5 {
    right: 41.66666667%;
  }
  .col-lg-pull-4 {
    right: 33.33333333%;
  }
  .col-lg-pull-3 {
    right: 25%;
  }
  .col-lg-pull-2 {
    right: 16.66666667%;
  }
  .col-lg-pull-1 {
    right: 8.33333333%;
  }
  .col-lg-pull-0 {
    right: auto;
  }
  .col-lg-push-12 {
    left: 100%;
  }
  .col-lg-push-11 {
    left: 91.66666667%;
  }
  .col-lg-push-10 {
    left: 83.33333333%;
  }
  .col-lg-push-9 {
    left: 75%;
  }
  .col-lg-push-8 {
    left: 66.66666667%;
  }
  .col-lg-push-7 {
    left: 58.33333333%;
  }
  .col-lg-push-6 {
    left: 50%;
  }
  .col-lg-push-5 {
    left: 41.66666667%;
  }
  .col-lg-push-4 {
    left: 33.33333333%;
  }
  .col-lg-push-3 {
    left: 25%;
  }
  .col-lg-push-2 {
    left: 16.66666667%;
  }
  .col-lg-push-1 {
    left: 8.33333333%;
  }
  .col-lg-push-0 {
    left: auto;
  }
  .col-lg-offset-12 {
    margin-left: 100%;
  }
  .col-lg-offset-11 {
    margin-left: 91.66666667%;
  }
  .col-lg-offset-10 {
    margin-left: 83.33333333%;
  }
  .col-lg-offset-9 {
    margin-left: 75%;
  }
  .col-lg-offset-8 {
    margin-left: 66.66666667%;
  }
  .col-lg-offset-7 {
    margin-left: 58.33333333%;
  }
  .col-lg-offset-6 {
    margin-left: 50%;
  }
  .col-lg-offset-5 {
    margin-left: 41.66666667%;
  }
  .col-lg-offset-4 {
    margin-left: 33.33333333%;
  }
  .col-lg-offset-3 {
    margin-left: 25%;
  }
  .col-lg-offset-2 {
    margin-left: 16.66666667%;
  }
  .col-lg-offset-1 {
    margin-left: 8.33333333%;
  }
  .col-lg-offset-0 {
    margin-left: 0%;
  }
}
table {
  background-color: transparent;
}
caption {
  padding-top: 8px;
  padding-bottom: 8px;
  color: #777777;
  text-align: left;
}
th {
  text-align: left;
}
.table {
  width: 100%;
  max-width: 100%;
  margin-bottom: 18px;
}
.table > thead > tr > th,
.table > tbody > tr > th,
.table > tfoot > tr > th,
.table > thead > tr > td,
.table > tbody > tr > td,
.table > tfoot > tr > td {
  padding: 8px;
  line-height: 1.42857143;
  vertical-align: top;
  border-top: 1px solid #ddd;
}
.table > thead > tr > th {
  vertical-align: bottom;
  border-bottom: 2px solid #ddd;
}
.table > caption + thead > tr:first-child > th,
.table > colgroup + thead > tr:first-child > th,
.table > thead:first-child > tr:first-child > th,
.table > caption + thead > tr:first-child > td,
.table > colgroup + thead > tr:first-child > td,
.table > thead:first-child > tr:first-child > td {
  border-top: 0;
}
.table > tbody + tbody {
  border-top: 2px solid #ddd;
}
.table .table {
  background-color: #fff;
}
.table-condensed > thead > tr > th,
.table-condensed > tbody > tr > th,
.table-condensed > tfoot > tr > th,
.table-condensed > thead > tr > td,
.table-condensed > tbody > tr > td,
.table-condensed > tfoot > tr > td {
  padding: 5px;
}
.table-bordered {
  border: 1px solid #ddd;
}
.table-bordered > thead > tr > th,
.table-bordered > tbody > tr > th,
.table-bordered > tfoot > tr > th,
.table-bordered > thead > tr > td,
.table-bordered > tbody > tr > td,
.table-bordered > tfoot > tr > td {
  border: 1px solid #ddd;
}
.table-bordered > thead > tr > th,
.table-bordered > thead > tr > td {
  border-bottom-width: 2px;
}
.table-striped > tbody > tr:nth-of-type(odd) {
  background-color: #f9f9f9;
}
.table-hover > tbody > tr:hover {
  background-color: #f5f5f5;
}
table col[class*="col-"] {
  position: static;
  float: none;
  display: table-column;
}
table td[class*="col-"],
table th[class*="col-"] {
  position: static;
  float: none;
  display: table-cell;
}
.table > thead > tr > td.active,
.table > tbody > tr > td.active,
.table > tfoot > tr > td.active,
.table > thead > tr > th.active,
.table > tbody > tr > th.active,
.table > tfoot > tr > th.active,
.table > thead > tr.active > td,
.table > tbody > tr.active > td,
.table > tfoot > tr.active > td,
.table > thead > tr.active > th,
.table > tbody > tr.active > th,
.table > tfoot > tr.active > th {
  background-color: #f5f5f5;
}
.table-hover > tbody > tr > td.active:hover,
.table-hover > tbody > tr > th.active:hover,
.table-hover > tbody > tr.active:hover > td,
.table-hover > tbody > tr:hover > .active,
.table-hover > tbody > tr.active:hover > th {
  background-color: #e8e8e8;
}
.table > thead > tr > td.success,
.table > tbody > tr > td.success,
.table > tfoot > tr > td.success,
.table > thead > tr > th.success,
.table > tbody > tr > th.success,
.table > tfoot > tr > th.success,
.table > thead > tr.success > td,
.table > tbody > tr.success > td,
.table > tfoot > tr.success > td,
.table > thead > tr.success > th,
.table > tbody > tr.success > th,
.table > tfoot > tr.success > th {
  background-color: #dff0d8;
}
.table-hover > tbody > tr > td.success:hover,
.table-hover > tbody > tr > th.success:hover,
.table-hover > tbody > tr.success:hover > td,
.table-hover > tbody > tr:hover > .success,
.table-hover > tbody > tr.success:hover > th {
  background-color: #d0e9c6;
}
.table > thead > tr > td.info,
.table > tbody > tr > td.info,
.table > tfoot > tr > td.info,
.table > thead > tr > th.info,
.table > tbody > tr > th.info,
.table > tfoot > tr > th.info,
.table > thead > tr.info > td,
.table > tbody > tr.info > td,
.table > tfoot > tr.info > td,
.table > thead > tr.info > th,
.table > tbody > tr.info > th,
.table > tfoot > tr.info > th {
  background-color: #d9edf7;
}
.table-hover > tbody > tr > td.info:hover,
.table-hover > tbody > tr > th.info:hover,
.table-hover > tbody > tr.info:hover > td,
.table-hover > tbody > tr:hover > .info,
.table-hover > tbody > tr.info:hover > th {
  background-color: #c4e3f3;
}
.table > thead > tr > td.warning,
.table > tbody > tr > td.warning,
.table > tfoot > tr > td.warning,
.table > thead > tr > th.warning,
.table > tbody > tr > th.warning,
.table > tfoot > tr > th.warning,
.table > thead > tr.warning > td,
.table > tbody > tr.warning > td,
.table > tfoot > tr.warning > td,
.table > thead > tr.warning > th,
.table > tbody > tr.warning > th,
.table > tfoot > tr.warning > th {
  background-color: #fcf8e3;
}
.table-hover > tbody > tr > td.warning:hover,
.table-hover > tbody > tr > th.warning:hover,
.table-hover > tbody > tr.warning:hover > td,
.table-hover > tbody > tr:hover > .warning,
.table-hover > tbody > tr.warning:hover > th {
  background-color: #faf2cc;
}
.table > thead > tr > td.danger,
.table > tbody > tr > td.danger,
.table > tfoot > tr > td.danger,
.table > thead > tr > th.danger,
.table > tbody > tr > th.danger,
.table > tfoot > tr > th.danger,
.table > thead > tr.danger > td,
.table > tbody > tr.danger > td,
.table > tfoot > tr.danger > td,
.table > thead > tr.danger > th,
.table > tbody > tr.danger > th,
.table > tfoot > tr.danger > th {
  background-color: #f2dede;
}
.table-hover > tbody > tr > td.danger:hover,
.table-hover > tbody > tr > th.danger:hover,
.table-hover > tbody > tr.danger:hover > td,
.table-hover > tbody > tr:hover > .danger,
.table-hover > tbody > tr.danger:hover > th {
  background-color: #ebcccc;
}
.table-responsive {
  overflow-x: auto;
  min-height: 0.01%;
}
@media screen and (max-width: 767px) {
  .table-responsive {
    width: 100%;
    margin-bottom: 13.5px;
    overflow-y: hidden;
    -ms-overflow-style: -ms-autohiding-scrollbar;
    border: 1px solid #ddd;
  }
  .table-responsive > .table {
    margin-bottom: 0;
  }
  .table-responsive > .table > thead > tr > th,
  .table-responsive > .table > tbody > tr > th,
  .table-responsive > .table > tfoot > tr > th,
  .table-responsive > .table > thead > tr > td,
  .table-responsive > .table > tbody > tr > td,
  .table-responsive > .table > tfoot > tr > td {
    white-space: nowrap;
  }
  .table-responsive > .table-bordered {
    border: 0;
  }
  .table-responsive > .table-bordered > thead > tr > th:first-child,
  .table-responsive > .table-bordered > tbody > tr > th:first-child,
  .table-responsive > .table-bordered > tfoot > tr > th:first-child,
  .table-responsive > .table-bordered > thead > tr > td:first-child,
  .table-responsive > .table-bordered > tbody > tr > td:first-child,
  .table-responsive > .table-bordered > tfoot > tr > td:first-child {
    border-left: 0;
  }
  .table-responsive > .table-bordered > thead > tr > th:last-child,
  .table-responsive > .table-bordered > tbody > tr > th:last-child,
  .table-responsive > .table-bordered > tfoot > tr > th:last-child,
  .table-responsive > .table-bordered > thead > tr > td:last-child,
  .table-responsive > .table-bordered > tbody > tr > td:last-child,
  .table-responsive > .table-bordered > tfoot > tr > td:last-child {
    border-right: 0;
  }
  .table-responsive > .table-bordered > tbody > tr:last-child > th,
  .table-responsive > .table-bordered > tfoot > tr:last-child > th,
  .table-responsive > .table-bordered > tbody > tr:last-child > td,
  .table-responsive > .table-bordered > tfoot > tr:last-child > td {
    border-bottom: 0;
  }
}
fieldset {
  padding: 0;
  margin: 0;
  border: 0;
  min-width: 0;
}
legend {
  display: block;
  width: 100%;
  padding: 0;
  margin-bottom: 18px;
  font-size: 19.5px;
  line-height: inherit;
  color: #333333;
  border: 0;
  border-bottom: 1px solid #e5e5e5;
}
label {
  display: inline-block;
  max-width: 100%;
  margin-bottom: 5px;
  font-weight: bold;
}
input[type="search"] {
  -webkit-box-sizing: border-box;
  -moz-box-sizing: border-box;
  box-sizing: border-box;
}
input[type="radio"],
input[type="checkbox"] {
  margin: 4px 0 0;
  margin-top: 1px \9;
  line-height: normal;
}
input[type="file"] {
  display: block;
}
input[type="range"] {
  display: block;
  width: 100%;
}
select[multiple],
select[size] {
  height: auto;
}
input[type="file"]:focus,
input[type="radio"]:focus,
input[type="checkbox"]:focus {
  outline: 5px auto -webkit-focus-ring-color;
  outline-offset: -2px;
}
output {
  display: block;
  padding-top: 7px;
  font-size: 13px;
  line-height: 1.42857143;
  color: #555555;
}
.form-control {
  display: block;
  width: 100%;
  height: 32px;
  padding: 6px 12px;
  font-size: 13px;
  line-height: 1.42857143;
  color: #555555;
  background-color: #fff;
  background-image: none;
  border: 1px solid #ccc;
  border-radius: 2px;
  -webkit-box-shadow: inset 0 1px 1px rgba(0, 0, 0, 0.075);
  box-shadow: inset 0 1px 1px rgba(0, 0, 0, 0.075);
  -webkit-transition: border-color ease-in-out .15s, box-shadow ease-in-out .15s;
  -o-transition: border-color ease-in-out .15s, box-shadow ease-in-out .15s;
  transition: border-color ease-in-out .15s, box-shadow ease-in-out .15s;
}
.form-control:focus {
  border-color: #66afe9;
  outline: 0;
  -webkit-box-shadow: inset 0 1px 1px rgba(0,0,0,.075), 0 0 8px rgba(102, 175, 233, 0.6);
  box-shadow: inset 0 1px 1px rgba(0,0,0,.075), 0 0 8px rgba(102, 175, 233, 0.6);
}
.form-control::-moz-placeholder {
  color: #999;
  opacity: 1;
}
.form-control:-ms-input-placeholder {
  color: #999;
}
.form-control::-webkit-input-placeholder {
  color: #999;
}
.form-control::-ms-expand {
  border: 0;
  background-color: transparent;
}
.form-control[disabled],
.form-control[readonly],
fieldset[disabled] .form-control {
  background-color: #eeeeee;
  opacity: 1;
}
.form-control[disabled],
fieldset[disabled] .form-control {
  cursor: not-allowed;
}
textarea.form-control {
  height: auto;
}
input[type="search"] {
  -webkit-appearance: none;
}
@media screen and (-webkit-min-device-pixel-ratio: 0) {
  input[type="date"].form-control,
  input[type="time"].form-control,
  input[type="datetime-local"].form-control,
  input[type="month"].form-control {
    line-height: 32px;
  }
  input[type="date"].input-sm,
  input[type="time"].input-sm,
  input[type="datetime-local"].input-sm,
  input[type="month"].input-sm,
  .input-group-sm input[type="date"],
  .input-group-sm input[type="time"],
  .input-group-sm input[type="datetime-local"],
  .input-group-sm input[type="month"] {
    line-height: 30px;
  }
  input[type="date"].input-lg,
  input[type="time"].input-lg,
  input[type="datetime-local"].input-lg,
  input[type="month"].input-lg,
  .input-group-lg input[type="date"],
  .input-group-lg input[type="time"],
  .input-group-lg input[type="datetime-local"],
  .input-group-lg input[type="month"] {
    line-height: 45px;
  }
}
.form-group {
  margin-bottom: 15px;
}
.radio,
.checkbox {
  position: relative;
  display: block;
  margin-top: 10px;
  margin-bottom: 10px;
}
.radio label,
.checkbox label {
  min-height: 18px;
  padding-left: 20px;
  margin-bottom: 0;
  font-weight: normal;
  cursor: pointer;
}
.radio input[type="radio"],
.radio-inline input[type="radio"],
.checkbox input[type="checkbox"],
.checkbox-inline input[type="checkbox"] {
  position: absolute;
  margin-left: -20px;
  margin-top: 4px \9;
}
.radio + .radio,
.checkbox + .checkbox {
  margin-top: -5px;
}
.radio-inline,
.checkbox-inline {
  position: relative;
  display: inline-block;
  padding-left: 20px;
  margin-bottom: 0;
  vertical-align: middle;
  font-weight: normal;
  cursor: pointer;
}
.radio-inline + .radio-inline,
.checkbox-inline + .checkbox-inline {
  margin-top: 0;
  margin-left: 10px;
}
input[type="radio"][disabled],
input[type="checkbox"][disabled],
input[type="radio"].disabled,
input[type="checkbox"].disabled,
fieldset[disabled] input[type="radio"],
fieldset[disabled] input[type="checkbox"] {
  cursor: not-allowed;
}
.radio-inline.disabled,
.checkbox-inline.disabled,
fieldset[disabled] .radio-inline,
fieldset[disabled] .checkbox-inline {
  cursor: not-allowed;
}
.radio.disabled label,
.checkbox.disabled label,
fieldset[disabled] .radio label,
fieldset[disabled] .checkbox label {
  cursor: not-allowed;
}
.form-control-static {
  padding-top: 7px;
  padding-bottom: 7px;
  margin-bottom: 0;
  min-height: 31px;
}
.form-control-static.input-lg,
.form-control-static.input-sm {
  padding-left: 0;
  padding-right: 0;
}
.input-sm {
  height: 30px;
  padding: 5px 10px;
  font-size: 12px;
  line-height: 1.5;
  border-radius: 1px;
}
select.input-sm {
  height: 30px;
  line-height: 30px;
}
textarea.input-sm,
select[multiple].input-sm {
  height: auto;
}
.form-group-sm .form-control {
  height: 30px;
  padding: 5px 10px;
  font-size: 12px;
  line-height: 1.5;
  border-radius: 1px;
}
.form-group-sm select.form-control {
  height: 30px;
  line-height: 30px;
}
.form-group-sm textarea.form-control,
.form-group-sm select[multiple].form-control {
  height: auto;
}
.form-group-sm .form-control-static {
  height: 30px;
  min-height: 30px;
  padding: 6px 10px;
  font-size: 12px;
  line-height: 1.5;
}
.input-lg {
  height: 45px;
  padding: 10px 16px;
  font-size: 17px;
  line-height: 1.3333333;
  border-radius: 3px;
}
select.input-lg {
  height: 45px;
  line-height: 45px;
}
textarea.input-lg,
select[multiple].input-lg {
  height: auto;
}
.form-group-lg .form-control {
  height: 45px;
  padding: 10px 16px;
  font-size: 17px;
  line-height: 1.3333333;
  border-radius: 3px;
}
.form-group-lg select.form-control {
  height: 45px;
  line-height: 45px;
}
.form-group-lg textarea.form-control,
.form-group-lg select[multiple].form-control {
  height: auto;
}
.form-group-lg .form-control-static {
  height: 45px;
  min-height: 35px;
  padding: 11px 16px;
  font-size: 17px;
  line-height: 1.3333333;
}
.has-feedback {
  position: relative;
}
.has-feedback .form-control {
  padding-right: 40px;
}
.form-control-feedback {
  position: absolute;
  top: 0;
  right: 0;
  z-index: 2;
  display: block;
  width: 32px;
  height: 32px;
  line-height: 32px;
  text-align: center;
  pointer-events: none;
}
.input-lg + .form-control-feedback,
.input-group-lg + .form-control-feedback,
.form-group-lg .form-control + .form-control-feedback {
  width: 45px;
  height: 45px;
  line-height: 45px;
}
.input-sm + .form-control-feedback,
.input-group-sm + .form-control-feedback,
.form-group-sm .form-control + .form-control-feedback {
  width: 30px;
  height: 30px;
  line-height: 30px;
}
.has-success .help-block,
.has-success .control-label,
.has-success .radio,
.has-success .checkbox,
.has-success .radio-inline,
.has-success .checkbox-inline,
.has-success.radio label,
.has-success.checkbox label,
.has-success.radio-inline label,
.has-success.checkbox-inline label {
  color: #3c763d;
}
.has-success .form-control {
  border-color: #3c763d;
  -webkit-box-shadow: inset 0 1px 1px rgba(0, 0, 0, 0.075);
  box-shadow: inset 0 1px 1px rgba(0, 0, 0, 0.075);
}
.has-success .form-control:focus {
  border-color: #2b542c;
  -webkit-box-shadow: inset 0 1px 1px rgba(0, 0, 0, 0.075), 0 0 6px #67b168;
  box-shadow: inset 0 1px 1px rgba(0, 0, 0, 0.075), 0 0 6px #67b168;
}
.has-success .input-group-addon {
  color: #3c763d;
  border-color: #3c763d;
  background-color: #dff0d8;
}
.has-success .form-control-feedback {
  color: #3c763d;
}
.has-warning .help-block,
.has-warning .control-label,
.has-warning .radio,
.has-warning .checkbox,
.has-warning .radio-inline,
.has-warning .checkbox-inline,
.has-warning.radio label,
.has-warning.checkbox label,
.has-warning.radio-inline label,
.has-warning.checkbox-inline label {
  color: #8a6d3b;
}
.has-warning .form-control {
  border-color: #8a6d3b;
  -webkit-box-shadow: inset 0 1px 1px rgba(0, 0, 0, 0.075);
  box-shadow: inset 0 1px 1px rgba(0, 0, 0, 0.075);
}
.has-warning .form-control:focus {
  border-color: #66512c;
  -webkit-box-shadow: inset 0 1px 1px rgba(0, 0, 0, 0.075), 0 0 6px #c0a16b;
  box-shadow: inset 0 1px 1px rgba(0, 0, 0, 0.075), 0 0 6px #c0a16b;
}
.has-warning .input-group-addon {
  color: #8a6d3b;
  border-color: #8a6d3b;
  background-color: #fcf8e3;
}
.has-warning .form-control-feedback {
  color: #8a6d3b;
}
.has-error .help-block,
.has-error .control-label,
.has-error .radio,
.has-error .checkbox,
.has-error .radio-inline,
.has-error .checkbox-inline,
.has-error.radio label,
.has-error.checkbox label,
.has-error.radio-inline label,
.has-error.checkbox-inline label {
  color: #a94442;
}
.has-error .form-control {
  border-color: #a94442;
  -webkit-box-shadow: inset 0 1px 1px rgba(0, 0, 0, 0.075);
  box-shadow: inset 0 1px 1px rgba(0, 0, 0, 0.075);
}
.has-error .form-control:focus {
  border-color: #843534;
  -webkit-box-shadow: inset 0 1px 1px rgba(0, 0, 0, 0.075), 0 0 6px #ce8483;
  box-shadow: inset 0 1px 1px rgba(0, 0, 0, 0.075), 0 0 6px #ce8483;
}
.has-error .input-group-addon {
  color: #a94442;
  border-color: #a94442;
  background-color: #f2dede;
}
.has-error .form-control-feedback {
  color: #a94442;
}
.has-feedback label ~ .form-control-feedback {
  top: 23px;
}
.has-feedback label.sr-only ~ .form-control-feedback {
  top: 0;
}
.help-block {
  display: block;
  margin-top: 5px;
  margin-bottom: 10px;
  color: #404040;
}
@media (min-width: 768px) {
  .form-inline .form-group {
    display: inline-block;
    margin-bottom: 0;
    vertical-align: middle;
  }
  .form-inline .form-control {
    display: inline-block;
    width: auto;
    vertical-align: middle;
  }
  .form-inline .form-control-static {
    display: inline-block;
  }
  .form-inline .input-group {
    display: inline-table;
    vertical-align: middle;
  }
  .form-inline .input-group .input-group-addon,
  .form-inline .input-group .input-group-btn,
  .form-inline .input-group .form-control {
    width: auto;
  }
  .form-inline .input-group > .form-control {
    width: 100%;
  }
  .form-inline .control-label {
    margin-bottom: 0;
    vertical-align: middle;
  }
  .form-inline .radio,
  .form-inline .checkbox {
    display: inline-block;
    margin-top: 0;
    margin-bottom: 0;
    vertical-align: middle;
  }
  .form-inline .radio label,
  .form-inline .checkbox label {
    padding-left: 0;
  }
  .form-inline .radio input[type="radio"],
  .form-inline .checkbox input[type="checkbox"] {
    position: relative;
    margin-left: 0;
  }
  .form-inline .has-feedback .form-control-feedback {
    top: 0;
  }
}
.form-horizontal .radio,
.form-horizontal .checkbox,
.form-horizontal .radio-inline,
.form-horizontal .checkbox-inline {
  margin-top: 0;
  margin-bottom: 0;
  padding-top: 7px;
}
.form-horizontal .radio,
.form-horizontal .checkbox {
  min-height: 25px;
}
.form-horizontal .form-group {
  margin-left: 0px;
  margin-right: 0px;
}
@media (min-width: 768px) {
  .form-horizontal .control-label {
    text-align: right;
    margin-bottom: 0;
    padding-top: 7px;
  }
}
.form-horizontal .has-feedback .form-control-feedback {
  right: 0px;
}
@media (min-width: 768px) {
  .form-horizontal .form-group-lg .control-label {
    padding-top: 11px;
    font-size: 17px;
  }
}
@media (min-width: 768px) {
  .form-horizontal .form-group-sm .control-label {
    padding-top: 6px;
    font-size: 12px;
  }
}
.btn {
  display: inline-block;
  margin-bottom: 0;
  font-weight: normal;
  text-align: center;
  vertical-align: middle;
  touch-action: manipulation;
  cursor: pointer;
  background-image: none;
  border: 1px solid transparent;
  white-space: nowrap;
  padding: 6px 12px;
  font-size: 13px;
  line-height: 1.42857143;
  border-radius: 2px;
  -webkit-user-select: none;
  -moz-user-select: none;
  -ms-user-select: none;
  user-select: none;
}
.btn:focus,
.btn:active:focus,
.btn.active:focus,
.btn.focus,
.btn:active.focus,
.btn.active.focus {
  outline: 5px auto -webkit-focus-ring-color;
  outline-offset: -2px;
}
.btn:hover,
.btn:focus,
.btn.focus {
  color: #333;
  text-decoration: none;
}
.btn:active,
.btn.active {
  outline: 0;
  background-image: none;
  -webkit-box-shadow: inset 0 3px 5px rgba(0, 0, 0, 0.125);
  box-shadow: inset 0 3px 5px rgba(0, 0, 0, 0.125);
}
.btn.disabled,
.btn[disabled],
fieldset[disabled] .btn {
  cursor: not-allowed;
  opacity: 0.65;
  filter: alpha(opacity=65);
  -webkit-box-shadow: none;
  box-shadow: none;
}
a.btn.disabled,
fieldset[disabled] a.btn {
  pointer-events: none;
}
.btn-default {
  color: #333;
  background-color: #fff;
  border-color: #ccc;
}
.btn-default:focus,
.btn-default.focus {
  color: #333;
  background-color: #e6e6e6;
  border-color: #8c8c8c;
}
.btn-default:hover {
  color: #333;
  background-color: #e6e6e6;
  border-color: #adadad;
}
.btn-default:active,
.btn-default.active,
.open > .dropdown-toggle.btn-default {
  color: #333;
  background-color: #e6e6e6;
  border-color: #adadad;
}
.btn-default:active:hover,
.btn-default.active:hover,
.open > .dropdown-toggle.btn-default:hover,
.btn-default:active:focus,
.btn-default.active:focus,
.open > .dropdown-toggle.btn-default:focus,
.btn-default:active.focus,
.btn-default.active.focus,
.open > .dropdown-toggle.btn-default.focus {
  color: #333;
  background-color: #d4d4d4;
  border-color: #8c8c8c;
}
.btn-default:active,
.btn-default.active,
.open > .dropdown-toggle.btn-default {
  background-image: none;
}
.btn-default.disabled:hover,
.btn-default[disabled]:hover,
fieldset[disabled] .btn-default:hover,
.btn-default.disabled:focus,
.btn-default[disabled]:focus,
fieldset[disabled] .btn-default:focus,
.btn-default.disabled.focus,
.btn-default[disabled].focus,
fieldset[disabled] .btn-default.focus {
  background-color: #fff;
  border-color: #ccc;
}
.btn-default .badge {
  color: #fff;
  background-color: #333;
}
.btn-primary {
  color: #fff;
  background-color: #337ab7;
  border-color: #2e6da4;
}
.btn-primary:focus,
.btn-primary.focus {
  color: #fff;
  background-color: #286090;
  border-color: #122b40;
}
.btn-primary:hover {
  color: #fff;
  background-color: #286090;
  border-color: #204d74;
}
.btn-primary:active,
.btn-primary.active,
.open > .dropdown-toggle.btn-primary {
  color: #fff;
  background-color: #286090;
  border-color: #204d74;
}
.btn-primary:active:hover,
.btn-primary.active:hover,
.open > .dropdown-toggle.btn-primary:hover,
.btn-primary:active:focus,
.btn-primary.active:focus,
.open > .dropdown-toggle.btn-primary:focus,
.btn-primary:active.focus,
.btn-primary.active.focus,
.open > .dropdown-toggle.btn-primary.focus {
  color: #fff;
  background-color: #204d74;
  border-color: #122b40;
}
.btn-primary:active,
.btn-primary.active,
.open > .dropdown-toggle.btn-primary {
  background-image: none;
}
.btn-primary.disabled:hover,
.btn-primary[disabled]:hover,
fieldset[disabled] .btn-primary:hover,
.btn-primary.disabled:focus,
.btn-primary[disabled]:focus,
fieldset[disabled] .btn-primary:focus,
.btn-primary.disabled.focus,
.btn-primary[disabled].focus,
fieldset[disabled] .btn-primary.focus {
  background-color: #337ab7;
  border-color: #2e6da4;
}
.btn-primary .badge {
  color: #337ab7;
  background-color: #fff;
}
.btn-success {
  color: #fff;
  background-color: #5cb85c;
  border-color: #4cae4c;
}
.btn-success:focus,
.btn-success.focus {
  color: #fff;
  background-color: #449d44;
  border-color: #255625;
}
.btn-success:hover {
  color: #fff;
  background-color: #449d44;
  border-color: #398439;
}
.btn-success:active,
.btn-success.active,
.open > .dropdown-toggle.btn-success {
  color: #fff;
  background-color: #449d44;
  border-color: #398439;
}
.btn-success:active:hover,
.btn-success.active:hover,
.open > .dropdown-toggle.btn-success:hover,
.btn-success:active:focus,
.btn-success.active:focus,
.open > .dropdown-toggle.btn-success:focus,
.btn-success:active.focus,
.btn-success.active.focus,
.open > .dropdown-toggle.btn-success.focus {
  color: #fff;
  background-color: #398439;
  border-color: #255625;
}
.btn-success:active,
.btn-success.active,
.open > .dropdown-toggle.btn-success {
  background-image: none;
}
.btn-success.disabled:hover,
.btn-success[disabled]:hover,
fieldset[disabled] .btn-success:hover,
.btn-success.disabled:focus,
.btn-success[disabled]:focus,
fieldset[disabled] .btn-success:focus,
.btn-success.disabled.focus,
.btn-success[disabled].focus,
fieldset[disabled] .btn-success.focus {
  background-color: #5cb85c;
  border-color: #4cae4c;
}
.btn-success .badge {
  color: #5cb85c;
  background-color: #fff;
}
.btn-info {
  color: #fff;
  background-color: #5bc0de;
  border-color: #46b8da;
}
.btn-info:focus,
.btn-info.focus {
  color: #fff;
  background-color: #31b0d5;
  border-color: #1b6d85;
}
.btn-info:hover {
  color: #fff;
  background-color: #31b0d5;
  border-color: #269abc;
}
.btn-info:active,
.btn-info.active,
.open > .dropdown-toggle.btn-info {
  color: #fff;
  background-color: #31b0d5;
  border-color: #269abc;
}
.btn-info:active:hover,
.btn-info.active:hover,
.open > .dropdown-toggle.btn-info:hover,
.btn-info:active:focus,
.btn-info.active:focus,
.open > .dropdown-toggle.btn-info:focus,
.btn-info:active.focus,
.btn-info.active.focus,
.open > .dropdown-toggle.btn-info.focus {
  color: #fff;
  background-color: #269abc;
  border-color: #1b6d85;
}
.btn-info:active,
.btn-info.active,
.open > .dropdown-toggle.btn-info {
  background-image: none;
}
.btn-info.disabled:hover,
.btn-info[disabled]:hover,
fieldset[disabled] .btn-info:hover,
.btn-info.disabled:focus,
.btn-info[disabled]:focus,
fieldset[disabled] .btn-info:focus,
.btn-info.disabled.focus,
.btn-info[disabled].focus,
fieldset[disabled] .btn-info.focus {
  background-color: #5bc0de;
  border-color: #46b8da;
}
.btn-info .badge {
  color: #5bc0de;
  background-color: #fff;
}
.btn-warning {
  color: #fff;
  background-color: #f0ad4e;
  border-color: #eea236;
}
.btn-warning:focus,
.btn-warning.focus {
  color: #fff;
  background-color: #ec971f;
  border-color: #985f0d;
}
.btn-warning:hover {
  color: #fff;
  background-color: #ec971f;
  border-color: #d58512;
}
.btn-warning:active,
.btn-warning.active,
.open > .dropdown-toggle.btn-warning {
  color: #fff;
  background-color: #ec971f;
  border-color: #d58512;
}
.btn-warning:active:hover,
.btn-warning.active:hover,
.open > .dropdown-toggle.btn-warning:hover,
.btn-warning:active:focus,
.btn-warning.active:focus,
.open > .dropdown-toggle.btn-warning:focus,
.btn-warning:active.focus,
.btn-warning.active.focus,
.open > .dropdown-toggle.btn-warning.focus {
  color: #fff;
  background-color: #d58512;
  border-color: #985f0d;
}
.btn-warning:active,
.btn-warning.active,
.open > .dropdown-toggle.btn-warning {
  background-image: none;
}
.btn-warning.disabled:hover,
.btn-warning[disabled]:hover,
fieldset[disabled] .btn-warning:hover,
.btn-warning.disabled:focus,
.btn-warning[disabled]:focus,
fieldset[disabled] .btn-warning:focus,
.btn-warning.disabled.focus,
.btn-warning[disabled].focus,
fieldset[disabled] .btn-warning.focus {
  background-color: #f0ad4e;
  border-color: #eea236;
}
.btn-warning .badge {
  color: #f0ad4e;
  background-color: #fff;
}
.btn-danger {
  color: #fff;
  background-color: #d9534f;
  border-color: #d43f3a;
}
.btn-danger:focus,
.btn-danger.focus {
  color: #fff;
  background-color: #c9302c;
  border-color: #761c19;
}
.btn-danger:hover {
  color: #fff;
  background-color: #c9302c;
  border-color: #ac2925;
}
.btn-danger:active,
.btn-danger.active,
.open > .dropdown-toggle.btn-danger {
  color: #fff;
  background-color: #c9302c;
  border-color: #ac2925;
}
.btn-danger:active:hover,
.btn-danger.active:hover,
.open > .dropdown-toggle.btn-danger:hover,
.btn-danger:active:focus,
.btn-danger.active:focus,
.open > .dropdown-toggle.btn-danger:focus,
.btn-danger:active.focus,
.btn-danger.active.focus,
.open > .dropdown-toggle.btn-danger.focus {
  color: #fff;
  background-color: #ac2925;
  border-color: #761c19;
}
.btn-danger:active,
.btn-danger.active,
.open > .dropdown-toggle.btn-danger {
  background-image: none;
}
.btn-danger.disabled:hover,
.btn-danger[disabled]:hover,
fieldset[disabled] .btn-danger:hover,
.btn-danger.disabled:focus,
.btn-danger[disabled]:focus,
fieldset[disabled] .btn-danger:focus,
.btn-danger.disabled.focus,
.btn-danger[disabled].focus,
fieldset[disabled] .btn-danger.focus {
  background-color: #d9534f;
  border-color: #d43f3a;
}
.btn-danger .badge {
  color: #d9534f;
  background-color: #fff;
}
.btn-link {
  color: #337ab7;
  font-weight: normal;
  border-radius: 0;
}
.btn-link,
.btn-link:active,
.btn-link.active,
.btn-link[disabled],
fieldset[disabled] .btn-link {
  background-color: transparent;
  -webkit-box-shadow: none;
  box-shadow: none;
}
.btn-link,
.btn-link:hover,
.btn-link:focus,
.btn-link:active {
  border-color: transparent;
}
.btn-link:hover,
.btn-link:focus {
  color: #23527c;
  text-decoration: underline;
  background-color: transparent;
}
.btn-link[disabled]:hover,
fieldset[disabled] .btn-link:hover,
.btn-link[disabled]:focus,
fieldset[disabled] .btn-link:focus {
  color: #777777;
  text-decoration: none;
}
.btn-lg,
.btn-group-lg > .btn {
  padding: 10px 16px;
  font-size: 17px;
  line-height: 1.3333333;
  border-radius: 3px;
}
.btn-sm,
.btn-group-sm > .btn {
  padding: 5px 10px;
  font-size: 12px;
  line-height: 1.5;
  border-radius: 1px;
}
.btn-xs,
.btn-group-xs > .btn {
  padding: 1px 5px;
  font-size: 12px;
  line-height: 1.5;
  border-radius: 1px;
}
.btn-block {
  display: block;
  width: 100%;
}
.btn-block + .btn-block {
  margin-top: 5px;
}
input[type="submit"].btn-block,
input[type="reset"].btn-block,
input[type="button"].btn-block {
  width: 100%;
}
.fade {
  opacity: 0;
  -webkit-transition: opacity 0.15s linear;
  -o-transition: opacity 0.15s linear;
  transition: opacity 0.15s linear;
}
.fade.in {
  opacity: 1;
}
.collapse {
  display: none;
}
.collapse.in {
  display: block;
}
tr.collapse.in {
  display: table-row;
}
tbody.collapse.in {
  display: table-row-group;
}
.collapsing {
  position: relative;
  height: 0;
  overflow: hidden;
  -webkit-transition-property: height, visibility;
  transition-property: height, visibility;
  -webkit-transition-duration: 0.35s;
  transition-duration: 0.35s;
  -webkit-transition-timing-function: ease;
  transition-timing-function: ease;
}
.caret {
  display: inline-block;
  width: 0;
  height: 0;
  margin-left: 2px;
  vertical-align: middle;
  border-top: 4px dashed;
  border-top: 4px solid \9;
  border-right: 4px solid transparent;
  border-left: 4px solid transparent;
}
.dropup,
.dropdown {
  position: relative;
}
.dropdown-toggle:focus {
  outline: 0;
}
.dropdown-menu {
  position: absolute;
  top: 100%;
  left: 0;
  z-index: 1000;
  display: none;
  float: left;
  min-width: 160px;
  padding: 5px 0;
  margin: 2px 0 0;
  list-style: none;
  font-size: 13px;
  text-align: left;
  background-color: #fff;
  border: 1px solid #ccc;
  border: 1px solid rgba(0, 0, 0, 0.15);
  border-radius: 2px;
  -webkit-box-shadow: 0 6px 12px rgba(0, 0, 0, 0.175);
  box-shadow: 0 6px 12px rgba(0, 0, 0, 0.175);
  background-clip: padding-box;
}
.dropdown-menu.pull-right {
  right: 0;
  left: auto;
}
.dropdown-menu .divider {
  height: 1px;
  margin: 8px 0;
  overflow: hidden;
  background-color: #e5e5e5;
}
.dropdown-menu > li > a {
  display: block;
  padding: 3px 20px;
  clear: both;
  font-weight: normal;
  line-height: 1.42857143;
  color: #333333;
  white-space: nowrap;
}
.dropdown-menu > li > a:hover,
.dropdown-menu > li > a:focus {
  text-decoration: none;
  color: #262626;
  background-color: #f5f5f5;
}
.dropdown-menu > .active > a,
.dropdown-menu > .active > a:hover,
.dropdown-menu > .active > a:focus {
  color: #fff;
  text-decoration: none;
  outline: 0;
  background-color: #337ab7;
}
.dropdown-menu > .disabled > a,
.dropdown-menu > .disabled > a:hover,
.dropdown-menu > .disabled > a:focus {
  color: #777777;
}
.dropdown-menu > .disabled > a:hover,
.dropdown-menu > .disabled > a:focus {
  text-decoration: none;
  background-color: transparent;
  background-image: none;
  filter: progid:DXImageTransform.Microsoft.gradient(enabled = false);
  cursor: not-allowed;
}
.open > .dropdown-menu {
  display: block;
}
.open > a {
  outline: 0;
}
.dropdown-menu-right {
  left: auto;
  right: 0;
}
.dropdown-menu-left {
  left: 0;
  right: auto;
}
.dropdown-header {
  display: block;
  padding: 3px 20px;
  font-size: 12px;
  line-height: 1.42857143;
  color: #777777;
  white-space: nowrap;
}
.dropdown-backdrop {
  position: fixed;
  left: 0;
  right: 0;
  bottom: 0;
  top: 0;
  z-index: 990;
}
.pull-right > .dropdown-menu {
  right: 0;
  left: auto;
}
.dropup .caret,
.navbar-fixed-bottom .dropdown .caret {
  border-top: 0;
  border-bottom: 4px dashed;
  border-bottom: 4px solid \9;
  content: "";
}
.dropup .dropdown-menu,
.navbar-fixed-bottom .dropdown .dropdown-menu {
  top: auto;
  bottom: 100%;
  margin-bottom: 2px;
}
@media (min-width: 541px) {
  .navbar-right .dropdown-menu {
    left: auto;
    right: 0;
  }
  .navbar-right .dropdown-menu-left {
    left: 0;
    right: auto;
  }
}
.btn-group,
.btn-group-vertical {
  position: relative;
  display: inline-block;
  vertical-align: middle;
}
.btn-group > .btn,
.btn-group-vertical > .btn {
  position: relative;
  float: left;
}
.btn-group > .btn:hover,
.btn-group-vertical > .btn:hover,
.btn-group > .btn:focus,
.btn-group-vertical > .btn:focus,
.btn-group > .btn:active,
.btn-group-vertical > .btn:active,
.btn-group > .btn.active,
.btn-group-vertical > .btn.active {
  z-index: 2;
}
.btn-group .btn + .btn,
.btn-group .btn + .btn-group,
.btn-group .btn-group + .btn,
.btn-group .btn-group + .btn-group {
  margin-left: -1px;
}
.btn-toolbar {
  margin-left: -5px;
}
.btn-toolbar .btn,
.btn-toolbar .btn-group,
.btn-toolbar .input-group {
  float: left;
}
.btn-toolbar > .btn,
.btn-toolbar > .btn-group,
.btn-toolbar > .input-group {
  margin-left: 5px;
}
.btn-group > .btn:not(:first-child):not(:last-child):not(.dropdown-toggle) {
  border-radius: 0;
}
.btn-group > .btn:first-child {
  margin-left: 0;
}
.btn-group > .btn:first-child:not(:last-child):not(.dropdown-toggle) {
  border-bottom-right-radius: 0;
  border-top-right-radius: 0;
}
.btn-group > .btn:last-child:not(:first-child),
.btn-group > .dropdown-toggle:not(:first-child) {
  border-bottom-left-radius: 0;
  border-top-left-radius: 0;
}
.btn-group > .btn-group {
  float: left;
}
.btn-group > .btn-group:not(:first-child):not(:last-child) > .btn {
  border-radius: 0;
}
.btn-group > .btn-group:first-child:not(:last-child) > .btn:last-child,
.btn-group > .btn-group:first-child:not(:last-child) > .dropdown-toggle {
  border-bottom-right-radius: 0;
  border-top-right-radius: 0;
}
.btn-group > .btn-group:last-child:not(:first-child) > .btn:first-child {
  border-bottom-left-radius: 0;
  border-top-left-radius: 0;
}
.btn-group .dropdown-toggle:active,
.btn-group.open .dropdown-toggle {
  outline: 0;
}
.btn-group > .btn + .dropdown-toggle {
  padding-left: 8px;
  padding-right: 8px;
}
.btn-group > .btn-lg + .dropdown-toggle {
  padding-left: 12px;
  padding-right: 12px;
}
.btn-group.open .dropdown-toggle {
  -webkit-box-shadow: inset 0 3px 5px rgba(0, 0, 0, 0.125);
  box-shadow: inset 0 3px 5px rgba(0, 0, 0, 0.125);
}
.btn-group.open .dropdown-toggle.btn-link {
  -webkit-box-shadow: none;
  box-shadow: none;
}
.btn .caret {
  margin-left: 0;
}
.btn-lg .caret {
  border-width: 5px 5px 0;
  border-bottom-width: 0;
}
.dropup .btn-lg .caret {
  border-width: 0 5px 5px;
}
.btn-group-vertical > .btn,
.btn-group-vertical > .btn-group,
.btn-group-vertical > .btn-group > .btn {
  display: block;
  float: none;
  width: 100%;
  max-width: 100%;
}
.btn-group-vertical > .btn-group > .btn {
  float: none;
}
.btn-group-vertical > .btn + .btn,
.btn-group-vertical > .btn + .btn-group,
.btn-group-vertical > .btn-group + .btn,
.btn-group-vertical > .btn-group + .btn-group {
  margin-top: -1px;
  margin-left: 0;
}
.btn-group-vertical > .btn:not(:first-child):not(:last-child) {
  border-radius: 0;
}
.btn-group-vertical > .btn:first-child:not(:last-child) {
  border-top-right-radius: 2px;
  border-top-left-radius: 2px;
  border-bottom-right-radius: 0;
  border-bottom-left-radius: 0;
}
.btn-group-vertical > .btn:last-child:not(:first-child) {
  border-top-right-radius: 0;
  border-top-left-radius: 0;
  border-bottom-right-radius: 2px;
  border-bottom-left-radius: 2px;
}
.btn-group-vertical > .btn-group:not(:first-child):not(:last-child) > .btn {
  border-radius: 0;
}
.btn-group-vertical > .btn-group:first-child:not(:last-child) > .btn:last-child,
.btn-group-vertical > .btn-group:first-child:not(:last-child) > .dropdown-toggle {
  border-bottom-right-radius: 0;
  border-bottom-left-radius: 0;
}
.btn-group-vertical > .btn-group:last-child:not(:first-child) > .btn:first-child {
  border-top-right-radius: 0;
  border-top-left-radius: 0;
}
.btn-group-justified {
  display: table;
  width: 100%;
  table-layout: fixed;
  border-collapse: separate;
}
.btn-group-justified > .btn,
.btn-group-justified > .btn-group {
  float: none;
  display: table-cell;
  width: 1%;
}
.btn-group-justified > .btn-group .btn {
  width: 100%;
}
.btn-group-justified > .btn-group .dropdown-menu {
  left: auto;
}
[data-toggle="buttons"] > .btn input[type="radio"],
[data-toggle="buttons"] > .btn-group > .btn input[type="radio"],
[data-toggle="buttons"] > .btn input[type="checkbox"],
[data-toggle="buttons"] > .btn-group > .btn input[type="checkbox"] {
  position: absolute;
  clip: rect(0, 0, 0, 0);
  pointer-events: none;
}
.input-group {
  position: relative;
  display: table;
  border-collapse: separate;
}
.input-group[class*="col-"] {
  float: none;
  padding-left: 0;
  padding-right: 0;
}
.input-group .form-control {
  position: relative;
  z-index: 2;
  float: left;
  width: 100%;
  margin-bottom: 0;
}
.input-group .form-control:focus {
  z-index: 3;
}
.input-group-lg > .form-control,
.input-group-lg > .input-group-addon,
.input-group-lg > .input-group-btn > .btn {
  height: 45px;
  padding: 10px 16px;
  font-size: 17px;
  line-height: 1.3333333;
  border-radius: 3px;
}
select.input-group-lg > .form-control,
select.input-group-lg > .input-group-addon,
select.input-group-lg > .input-group-btn > .btn {
  height: 45px;
  line-height: 45px;
}
textarea.input-group-lg > .form-control,
textarea.input-group-lg > .input-group-addon,
textarea.input-group-lg > .input-group-btn > .btn,
select[multiple].input-group-lg > .form-control,
select[multiple].input-group-lg > .input-group-addon,
select[multiple].input-group-lg > .input-group-btn > .btn {
  height: auto;
}
.input-group-sm > .form-control,
.input-group-sm > .input-group-addon,
.input-group-sm > .input-group-btn > .btn {
  height: 30px;
  padding: 5px 10px;
  font-size: 12px;
  line-height: 1.5;
  border-radius: 1px;
}
select.input-group-sm > .form-control,
select.input-group-sm > .input-group-addon,
select.input-group-sm > .input-group-btn > .btn {
  height: 30px;
  line-height: 30px;
}
textarea.input-group-sm > .form-control,
textarea.input-group-sm > .input-group-addon,
textarea.input-group-sm > .input-group-btn > .btn,
select[multiple].input-group-sm > .form-control,
select[multiple].input-group-sm > .input-group-addon,
select[multiple].input-group-sm > .input-group-btn > .btn {
  height: auto;
}
.input-group-addon,
.input-group-btn,
.input-group .form-control {
  display: table-cell;
}
.input-group-addon:not(:first-child):not(:last-child),
.input-group-btn:not(:first-child):not(:last-child),
.input-group .form-control:not(:first-child):not(:last-child) {
  border-radius: 0;
}
.input-group-addon,
.input-group-btn {
  width: 1%;
  white-space: nowrap;
  vertical-align: middle;
}
.input-group-addon {
  padding: 6px 12px;
  font-size: 13px;
  font-weight: normal;
  line-height: 1;
  color: #555555;
  text-align: center;
  background-color: #eeeeee;
  border: 1px solid #ccc;
  border-radius: 2px;
}
.input-group-addon.input-sm {
  padding: 5px 10px;
  font-size: 12px;
  border-radius: 1px;
}
.input-group-addon.input-lg {
  padding: 10px 16px;
  font-size: 17px;
  border-radius: 3px;
}
.input-group-addon input[type="radio"],
.input-group-addon input[type="checkbox"] {
  margin-top: 0;
}
.input-group .form-control:first-child,
.input-group-addon:first-child,
.input-group-btn:first-child > .btn,
.input-group-btn:first-child > .btn-group > .btn,
.input-group-btn:first-child > .dropdown-toggle,
.input-group-btn:last-child > .btn:not(:last-child):not(.dropdown-toggle),
.input-group-btn:last-child > .btn-group:not(:last-child) > .btn {
  border-bottom-right-radius: 0;
  border-top-right-radius: 0;
}
.input-group-addon:first-child {
  border-right: 0;
}
.input-group .form-control:last-child,
.input-group-addon:last-child,
.input-group-btn:last-child > .btn,
.input-group-btn:last-child > .btn-group > .btn,
.input-group-btn:last-child > .dropdown-toggle,
.input-group-btn:first-child > .btn:not(:first-child),
.input-group-btn:first-child > .btn-group:not(:first-child) > .btn {
  border-bottom-left-radius: 0;
  border-top-left-radius: 0;
}
.input-group-addon:last-child {
  border-left: 0;
}
.input-group-btn {
  position: relative;
  font-size: 0;
  white-space: nowrap;
}
.input-group-btn > .btn {
  position: relative;
}
.input-group-btn > .btn + .btn {
  margin-left: -1px;
}
.input-group-btn > .btn:hover,
.input-group-btn > .btn:focus,
.input-group-btn > .btn:active {
  z-index: 2;
}
.input-group-btn:first-child > .btn,
.input-group-btn:first-child > .btn-group {
  margin-right: -1px;
}
.input-group-btn:last-child > .btn,
.input-group-btn:last-child > .btn-group {
  z-index: 2;
  margin-left: -1px;
}
.nav {
  margin-bottom: 0;
  padding-left: 0;
  list-style: none;
}
.nav > li {
  position: relative;
  display: block;
}
.nav > li > a {
  position: relative;
  display: block;
  padding: 10px 15px;
}
.nav > li > a:hover,
.nav > li > a:focus {
  text-decoration: none;
  background-color: #eeeeee;
}
.nav > li.disabled > a {
  color: #777777;
}
.nav > li.disabled > a:hover,
.nav > li.disabled > a:focus {
  color: #777777;
  text-decoration: none;
  background-color: transparent;
  cursor: not-allowed;
}
.nav .open > a,
.nav .open > a:hover,
.nav .open > a:focus {
  background-color: #eeeeee;
  border-color: #337ab7;
}
.nav .nav-divider {
  height: 1px;
  margin: 8px 0;
  overflow: hidden;
  background-color: #e5e5e5;
}
.nav > li > a > img {
  max-width: none;
}
.nav-tabs {
  border-bottom: 1px solid #ddd;
}
.nav-tabs > li {
  float: left;
  margin-bottom: -1px;
}
.nav-tabs > li > a {
  margin-right: 2px;
  line-height: 1.42857143;
  border: 1px solid transparent;
  border-radius: 2px 2px 0 0;
}
.nav-tabs > li > a:hover {
  border-color: #eeeeee #eeeeee #ddd;
}
.nav-tabs > li.active > a,
.nav-tabs > li.active > a:hover,
.nav-tabs > li.active > a:focus {
  color: #555555;
  background-color: #fff;
  border: 1px solid #ddd;
  border-bottom-color: transparent;
  cursor: default;
}
.nav-tabs.nav-justified {
  width: 100%;
  border-bottom: 0;
}
.nav-tabs.nav-justified > li {
  float: none;
}
.nav-tabs.nav-justified > li > a {
  text-align: center;
  margin-bottom: 5px;
}
.nav-tabs.nav-justified > .dropdown .dropdown-menu {
  top: auto;
  left: auto;
}
@media (min-width: 768px) {
  .nav-tabs.nav-justified > li {
    display: table-cell;
    width: 1%;
  }
  .nav-tabs.nav-justified > li > a {
    margin-bottom: 0;
  }
}
.nav-tabs.nav-justified > li > a {
  margin-right: 0;
  border-radius: 2px;
}
.nav-tabs.nav-justified > .active > a,
.nav-tabs.nav-justified > .active > a:hover,
.nav-tabs.nav-justified > .active > a:focus {
  border: 1px solid #ddd;
}
@media (min-width: 768px) {
  .nav-tabs.nav-justified > li > a {
    border-bottom: 1px solid #ddd;
    border-radius: 2px 2px 0 0;
  }
  .nav-tabs.nav-justified > .active > a,
  .nav-tabs.nav-justified > .active > a:hover,
  .nav-tabs.nav-justified > .active > a:focus {
    border-bottom-color: #fff;
  }
}
.nav-pills > li {
  float: left;
}
.nav-pills > li > a {
  border-radius: 2px;
}
.nav-pills > li + li {
  margin-left: 2px;
}
.nav-pills > li.active > a,
.nav-pills > li.active > a:hover,
.nav-pills > li.active > a:focus {
  color: #fff;
  background-color: #337ab7;
}
.nav-stacked > li {
  float: none;
}
.nav-stacked > li + li {
  margin-top: 2px;
  margin-left: 0;
}
.nav-justified {
  width: 100%;
}
.nav-justified > li {
  float: none;
}
.nav-justified > li > a {
  text-align: center;
  margin-bottom: 5px;
}
.nav-justified > .dropdown .dropdown-menu {
  top: auto;
  left: auto;
}
@media (min-width: 768px) {
  .nav-justified > li {
    display: table-cell;
    width: 1%;
  }
  .nav-justified > li > a {
    margin-bottom: 0;
  }
}
.nav-tabs-justified {
  border-bottom: 0;
}
.nav-tabs-justified > li > a {
  margin-right: 0;
  border-radius: 2px;
}
.nav-tabs-justified > .active > a,
.nav-tabs-justified > .active > a:hover,
.nav-tabs-justified > .active > a:focus {
  border: 1px solid #ddd;
}
@media (min-width: 768px) {
  .nav-tabs-justified > li > a {
    border-bottom: 1px solid #ddd;
    border-radius: 2px 2px 0 0;
  }
  .nav-tabs-justified > .active > a,
  .nav-tabs-justified > .active > a:hover,
  .nav-tabs-justified > .active > a:focus {
    border-bottom-color: #fff;
  }
}
.tab-content > .tab-pane {
  display: none;
}
.tab-content > .active {
  display: block;
}
.nav-tabs .dropdown-menu {
  margin-top: -1px;
  border-top-right-radius: 0;
  border-top-left-radius: 0;
}
.navbar {
  position: relative;
  min-height: 30px;
  margin-bottom: 18px;
  border: 1px solid transparent;
}
@media (min-width: 541px) {
  .navbar {
    border-radius: 2px;
  }
}
@media (min-width: 541px) {
  .navbar-header {
    float: left;
  }
}
.navbar-collapse {
  overflow-x: visible;
  padding-right: 0px;
  padding-left: 0px;
  border-top: 1px solid transparent;
  box-shadow: inset 0 1px 0 rgba(255, 255, 255, 0.1);
  -webkit-overflow-scrolling: touch;
}
.navbar-collapse.in {
  overflow-y: auto;
}
@media (min-width: 541px) {
  .navbar-collapse {
    width: auto;
    border-top: 0;
    box-shadow: none;
  }
  .navbar-collapse.collapse {
    display: block !important;
    height: auto !important;
    padding-bottom: 0;
    overflow: visible !important;
  }
  .navbar-collapse.in {
    overflow-y: visible;
  }
  .navbar-fixed-top .navbar-collapse,
  .navbar-static-top .navbar-collapse,
  .navbar-fixed-bottom .navbar-collapse {
    padding-left: 0;
    padding-right: 0;
  }
}
.navbar-fixed-top .navbar-collapse,
.navbar-fixed-bottom .navbar-collapse {
  max-height: 340px;
}
@media (max-device-width: 540px) and (orientation: landscape) {
  .navbar-fixed-top .navbar-collapse,
  .navbar-fixed-bottom .navbar-collapse {
    max-height: 200px;
  }
}
.container > .navbar-header,
.container-fluid > .navbar-header,
.container > .navbar-collapse,
.container-fluid > .navbar-collapse {
  margin-right: 0px;
  margin-left: 0px;
}
@media (min-width: 541px) {
  .container > .navbar-header,
  .container-fluid > .navbar-header,
  .container > .navbar-collapse,
  .container-fluid > .navbar-collapse {
    margin-right: 0;
    margin-left: 0;
  }
}
.navbar-static-top {
  z-index: 1000;
  border-width: 0 0 1px;
}
@media (min-width: 541px) {
  .navbar-static-top {
    border-radius: 0;
  }
}
.navbar-fixed-top,
.navbar-fixed-bottom {
  position: fixed;
  right: 0;
  left: 0;
  z-index: 1030;
}
@media (min-width: 541px) {
  .navbar-fixed-top,
  .navbar-fixed-bottom {
    border-radius: 0;
  }
}
.navbar-fixed-top {
  top: 0;
  border-width: 0 0 1px;
}
.navbar-fixed-bottom {
  bottom: 0;
  margin-bottom: 0;
  border-width: 1px 0 0;
}
.navbar-brand {
  float: left;
  padding: 6px 0px;
  font-size: 17px;
  line-height: 18px;
  height: 30px;
}
.navbar-brand:hover,
.navbar-brand:focus {
  text-decoration: none;
}
.navbar-brand > img {
  display: block;
}
@media (min-width: 541px) {
  .navbar > .container .navbar-brand,
  .navbar > .container-fluid .navbar-brand {
    margin-left: 0px;
  }
}
.navbar-toggle {
  position: relative;
  float: right;
  margin-right: 0px;
  padding: 9px 10px;
  margin-top: -2px;
  margin-bottom: -2px;
  background-color: transparent;
  background-image: none;
  border: 1px solid transparent;
  border-radius: 2px;
}
.navbar-toggle:focus {
  outline: 0;
}
.navbar-toggle .icon-bar {
  display: block;
  width: 22px;
  height: 2px;
  border-radius: 1px;
}
.navbar-toggle .icon-bar + .icon-bar {
  margin-top: 4px;
}
@media (min-width: 541px) {
  .navbar-toggle {
    display: none;
  }
}
.navbar-nav {
  margin: 3px 0px;
}
.navbar-nav > li > a {
  padding-top: 10px;
  padding-bottom: 10px;
  line-height: 18px;
}
@media (max-width: 540px) {
  .navbar-nav .open .dropdown-menu {
    position: static;
    float: none;
    width: auto;
    margin-top: 0;
    background-color: transparent;
    border: 0;
    box-shadow: none;
  }
  .navbar-nav .open .dropdown-menu > li > a,
  .navbar-nav .open .dropdown-menu .dropdown-header {
    padding: 5px 15px 5px 25px;
  }
  .navbar-nav .open .dropdown-menu > li > a {
    line-height: 18px;
  }
  .navbar-nav .open .dropdown-menu > li > a:hover,
  .navbar-nav .open .dropdown-menu > li > a:focus {
    background-image: none;
  }
}
@media (min-width: 541px) {
  .navbar-nav {
    float: left;
    margin: 0;
  }
  .navbar-nav > li {
    float: left;
  }
  .navbar-nav > li > a {
    padding-top: 6px;
    padding-bottom: 6px;
  }
}
.navbar-form {
  margin-left: 0px;
  margin-right: 0px;
  padding: 10px 0px;
  border-top: 1px solid transparent;
  border-bottom: 1px solid transparent;
  -webkit-box-shadow: inset 0 1px 0 rgba(255, 255, 255, 0.1), 0 1px 0 rgba(255, 255, 255, 0.1);
  box-shadow: inset 0 1px 0 rgba(255, 255, 255, 0.1), 0 1px 0 rgba(255, 255, 255, 0.1);
  margin-top: -1px;
  margin-bottom: -1px;
}
@media (min-width: 768px) {
  .navbar-form .form-group {
    display: inline-block;
    margin-bottom: 0;
    vertical-align: middle;
  }
  .navbar-form .form-control {
    display: inline-block;
    width: auto;
    vertical-align: middle;
  }
  .navbar-form .form-control-static {
    display: inline-block;
  }
  .navbar-form .input-group {
    display: inline-table;
    vertical-align: middle;
  }
  .navbar-form .input-group .input-group-addon,
  .navbar-form .input-group .input-group-btn,
  .navbar-form .input-group .form-control {
    width: auto;
  }
  .navbar-form .input-group > .form-control {
    width: 100%;
  }
  .navbar-form .control-label {
    margin-bottom: 0;
    vertical-align: middle;
  }
  .navbar-form .radio,
  .navbar-form .checkbox {
    display: inline-block;
    margin-top: 0;
    margin-bottom: 0;
    vertical-align: middle;
  }
  .navbar-form .radio label,
  .navbar-form .checkbox label {
    padding-left: 0;
  }
  .navbar-form .radio input[type="radio"],
  .navbar-form .checkbox input[type="checkbox"] {
    position: relative;
    margin-left: 0;
  }
  .navbar-form .has-feedback .form-control-feedback {
    top: 0;
  }
}
@media (max-width: 540px) {
  .navbar-form .form-group {
    margin-bottom: 5px;
  }
  .navbar-form .form-group:last-child {
    margin-bottom: 0;
  }
}
@media (min-width: 541px) {
  .navbar-form {
    width: auto;
    border: 0;
    margin-left: 0;
    margin-right: 0;
    padding-top: 0;
    padding-bottom: 0;
    -webkit-box-shadow: none;
    box-shadow: none;
  }
}
.navbar-nav > li > .dropdown-menu {
  margin-top: 0;
  border-top-right-radius: 0;
  border-top-left-radius: 0;
}
.navbar-fixed-bottom .navbar-nav > li > .dropdown-menu {
  margin-bottom: 0;
  border-top-right-radius: 2px;
  border-top-left-radius: 2px;
  border-bottom-right-radius: 0;
  border-bottom-left-radius: 0;
}
.navbar-btn {
  margin-top: -1px;
  margin-bottom: -1px;
}
.navbar-btn.btn-sm {
  margin-top: 0px;
  margin-bottom: 0px;
}
.navbar-btn.btn-xs {
  margin-top: 4px;
  margin-bottom: 4px;
}
.navbar-text {
  margin-top: 6px;
  margin-bottom: 6px;
}
@media (min-width: 541px) {
  .navbar-text {
    float: left;
    margin-left: 0px;
    margin-right: 0px;
  }
}
@media (min-width: 541px) {
  .navbar-left {
    float: left !important;
    float: left;
  }
  .navbar-right {
    float: right !important;
    float: right;
    margin-right: 0px;
  }
  .navbar-right ~ .navbar-right {
    margin-right: 0;
  }
}
.navbar-default {
  background-color: #f8f8f8;
  border-color: #e7e7e7;
}
.navbar-default .navbar-brand {
  color: #777;
}
.navbar-default .navbar-brand:hover,
.navbar-default .navbar-brand:focus {
  color: #5e5e5e;
  background-color: transparent;
}
.navbar-default .navbar-text {
  color: #777;
}
.navbar-default .navbar-nav > li > a {
  color: #777;
}
.navbar-default .navbar-nav > li > a:hover,
.navbar-default .navbar-nav > li > a:focus {
  color: #333;
  background-color: transparent;
}
.navbar-default .navbar-nav > .active > a,
.navbar-default .navbar-nav > .active > a:hover,
.navbar-default .navbar-nav > .active > a:focus {
  color: #555;
  background-color: #e7e7e7;
}
.navbar-default .navbar-nav > .disabled > a,
.navbar-default .navbar-nav > .disabled > a:hover,
.navbar-default .navbar-nav > .disabled > a:focus {
  color: #ccc;
  background-color: transparent;
}
.navbar-default .navbar-toggle {
  border-color: #ddd;
}
.navbar-default .navbar-toggle:hover,
.navbar-default .navbar-toggle:focus {
  background-color: #ddd;
}
.navbar-default .navbar-toggle .icon-bar {
  background-color: #888;
}
.navbar-default .navbar-collapse,
.navbar-default .navbar-form {
  border-color: #e7e7e7;
}
.navbar-default .navbar-nav > .open > a,
.navbar-default .navbar-nav > .open > a:hover,
.navbar-default .navbar-nav > .open > a:focus {
  background-color: #e7e7e7;
  color: #555;
}
@media (max-width: 540px) {
  .navbar-default .navbar-nav .open .dropdown-menu > li > a {
    color: #777;
  }
  .navbar-default .navbar-nav .open .dropdown-menu > li > a:hover,
  .navbar-default .navbar-nav .open .dropdown-menu > li > a:focus {
    color: #333;
    background-color: transparent;
  }
  .navbar-default .navbar-nav .open .dropdown-menu > .active > a,
  .navbar-default .navbar-nav .open .dropdown-menu > .active > a:hover,
  .navbar-default .navbar-nav .open .dropdown-menu > .active > a:focus {
    color: #555;
    background-color: #e7e7e7;
  }
  .navbar-default .navbar-nav .open .dropdown-menu > .disabled > a,
  .navbar-default .navbar-nav .open .dropdown-menu > .disabled > a:hover,
  .navbar-default .navbar-nav .open .dropdown-menu > .disabled > a:focus {
    color: #ccc;
    background-color: transparent;
  }
}
.navbar-default .navbar-link {
  color: #777;
}
.navbar-default .navbar-link:hover {
  color: #333;
}
.navbar-default .btn-link {
  color: #777;
}
.navbar-default .btn-link:hover,
.navbar-default .btn-link:focus {
  color: #333;
}
.navbar-default .btn-link[disabled]:hover,
fieldset[disabled] .navbar-default .btn-link:hover,
.navbar-default .btn-link[disabled]:focus,
fieldset[disabled] .navbar-default .btn-link:focus {
  color: #ccc;
}
.navbar-inverse {
  background-color: #222;
  border-color: #080808;
}
.navbar-inverse .navbar-brand {
  color: #9d9d9d;
}
.navbar-inverse .navbar-brand:hover,
.navbar-inverse .navbar-brand:focus {
  color: #fff;
  background-color: transparent;
}
.navbar-inverse .navbar-text {
  color: #9d9d9d;
}
.navbar-inverse .navbar-nav > li > a {
  color: #9d9d9d;
}
.navbar-inverse .navbar-nav > li > a:hover,
.navbar-inverse .navbar-nav > li > a:focus {
  color: #fff;
  background-color: transparent;
}
.navbar-inverse .navbar-nav > .active > a,
.navbar-inverse .navbar-nav > .active > a:hover,
.navbar-inverse .navbar-nav > .active > a:focus {
  color: #fff;
  background-color: #080808;
}
.navbar-inverse .navbar-nav > .disabled > a,
.navbar-inverse .navbar-nav > .disabled > a:hover,
.navbar-inverse .navbar-nav > .disabled > a:focus {
  color: #444;
  background-color: transparent;
}
.navbar-inverse .navbar-toggle {
  border-color: #333;
}
.navbar-inverse .navbar-toggle:hover,
.navbar-inverse .navbar-toggle:focus {
  background-color: #333;
}
.navbar-inverse .navbar-toggle .icon-bar {
  background-color: #fff;
}
.navbar-inverse .navbar-collapse,
.navbar-inverse .navbar-form {
  border-color: #101010;
}
.navbar-inverse .navbar-nav > .open > a,
.navbar-inverse .navbar-nav > .open > a:hover,
.navbar-inverse .navbar-nav > .open > a:focus {
  background-color: #080808;
  color: #fff;
}
@media (max-width: 540px) {
  .navbar-inverse .navbar-nav .open .dropdown-menu > .dropdown-header {
    border-color: #080808;
  }
  .navbar-inverse .navbar-nav .open .dropdown-menu .divider {
    background-color: #080808;
  }
  .navbar-inverse .navbar-nav .open .dropdown-menu > li > a {
    color: #9d9d9d;
  }
  .navbar-inverse .navbar-nav .open .dropdown-menu > li > a:hover,
  .navbar-inverse .navbar-nav .open .dropdown-menu > li > a:focus {
    color: #fff;
    background-color: transparent;
  }
  .navbar-inverse .navbar-nav .open .dropdown-menu > .active > a,
  .navbar-inverse .navbar-nav .open .dropdown-menu > .active > a:hover,
  .navbar-inverse .navbar-nav .open .dropdown-menu > .active > a:focus {
    color: #fff;
    background-color: #080808;
  }
  .navbar-inverse .navbar-nav .open .dropdown-menu > .disabled > a,
  .navbar-inverse .navbar-nav .open .dropdown-menu > .disabled > a:hover,
  .navbar-inverse .navbar-nav .open .dropdown-menu > .disabled > a:focus {
    color: #444;
    background-color: transparent;
  }
}
.navbar-inverse .navbar-link {
  color: #9d9d9d;
}
.navbar-inverse .navbar-link:hover {
  color: #fff;
}
.navbar-inverse .btn-link {
  color: #9d9d9d;
}
.navbar-inverse .btn-link:hover,
.navbar-inverse .btn-link:focus {
  color: #fff;
}
.navbar-inverse .btn-link[disabled]:hover,
fieldset[disabled] .navbar-inverse .btn-link:hover,
.navbar-inverse .btn-link[disabled]:focus,
fieldset[disabled] .navbar-inverse .btn-link:focus {
  color: #444;
}
.breadcrumb {
  padding: 8px 15px;
  margin-bottom: 18px;
  list-style: none;
  background-color: #f5f5f5;
  border-radius: 2px;
}
.breadcrumb > li {
  display: inline-block;
}
.breadcrumb > li + li:before {
  content: "/\00a0";
  padding: 0 5px;
  color: #5e5e5e;
}
.breadcrumb > .active {
  color: #777777;
}
.pagination {
  display: inline-block;
  padding-left: 0;
  margin: 18px 0;
  border-radius: 2px;
}
.pagination > li {
  display: inline;
}
.pagination > li > a,
.pagination > li > span {
  position: relative;
  float: left;
  padding: 6px 12px;
  line-height: 1.42857143;
  text-decoration: none;
  color: #337ab7;
  background-color: #fff;
  border: 1px solid #ddd;
  margin-left: -1px;
}
.pagination > li:first-child > a,
.pagination > li:first-child > span {
  margin-left: 0;
  border-bottom-left-radius: 2px;
  border-top-left-radius: 2px;
}
.pagination > li:last-child > a,
.pagination > li:last-child > span {
  border-bottom-right-radius: 2px;
  border-top-right-radius: 2px;
}
.pagination > li > a:hover,
.pagination > li > span:hover,
.pagination > li > a:focus,
.pagination > li > span:focus {
  z-index: 2;
  color: #23527c;
  background-color: #eeeeee;
  border-color: #ddd;
}
.pagination > .active > a,
.pagination > .active > span,
.pagination > .active > a:hover,
.pagination > .active > span:hover,
.pagination > .active > a:focus,
.pagination > .active > span:focus {
  z-index: 3;
  color: #fff;
  background-color: #337ab7;
  border-color: #337ab7;
  cursor: default;
}
.pagination > .disabled > span,
.pagination > .disabled > span:hover,
.pagination > .disabled > span:focus,
.pagination > .disabled > a,
.pagination > .disabled > a:hover,
.pagination > .disabled > a:focus {
  color: #777777;
  background-color: #fff;
  border-color: #ddd;
  cursor: not-allowed;
}
.pagination-lg > li > a,
.pagination-lg > li > span {
  padding: 10px 16px;
  font-size: 17px;
  line-height: 1.3333333;
}
.pagination-lg > li:first-child > a,
.pagination-lg > li:first-child > span {
  border-bottom-left-radius: 3px;
  border-top-left-radius: 3px;
}
.pagination-lg > li:last-child > a,
.pagination-lg > li:last-child > span {
  border-bottom-right-radius: 3px;
  border-top-right-radius: 3px;
}
.pagination-sm > li > a,
.pagination-sm > li > span {
  padding: 5px 10px;
  font-size: 12px;
  line-height: 1.5;
}
.pagination-sm > li:first-child > a,
.pagination-sm > li:first-child > span {
  border-bottom-left-radius: 1px;
  border-top-left-radius: 1px;
}
.pagination-sm > li:last-child > a,
.pagination-sm > li:last-child > span {
  border-bottom-right-radius: 1px;
  border-top-right-radius: 1px;
}
.pager {
  padding-left: 0;
  margin: 18px 0;
  list-style: none;
  text-align: center;
}
.pager li {
  display: inline;
}
.pager li > a,
.pager li > span {
  display: inline-block;
  padding: 5px 14px;
  background-color: #fff;
  border: 1px solid #ddd;
  border-radius: 15px;
}
.pager li > a:hover,
.pager li > a:focus {
  text-decoration: none;
  background-color: #eeeeee;
}
.pager .next > a,
.pager .next > span {
  float: right;
}
.pager .previous > a,
.pager .previous > span {
  float: left;
}
.pager .disabled > a,
.pager .disabled > a:hover,
.pager .disabled > a:focus,
.pager .disabled > span {
  color: #777777;
  background-color: #fff;
  cursor: not-allowed;
}
.label {
  display: inline;
  padding: .2em .6em .3em;
  font-size: 75%;
  font-weight: bold;
  line-height: 1;
  color: #fff;
  text-align: center;
  white-space: nowrap;
  vertical-align: baseline;
  border-radius: .25em;
}
a.label:hover,
a.label:focus {
  color: #fff;
  text-decoration: none;
  cursor: pointer;
}
.label:empty {
  display: none;
}
.btn .label {
  position: relative;
  top: -1px;
}
.label-default {
  background-color: #777777;
}
.label-default[href]:hover,
.label-default[href]:focus {
  background-color: #5e5e5e;
}
.label-primary {
  background-color: #337ab7;
}
.label-primary[href]:hover,
.label-primary[href]:focus {
  background-color: #286090;
}
.label-success {
  background-color: #5cb85c;
}
.label-success[href]:hover,
.label-success[href]:focus {
  background-color: #449d44;
}
.label-info {
  background-color: #5bc0de;
}
.label-info[href]:hover,
.label-info[href]:focus {
  background-color: #31b0d5;
}
.label-warning {
  background-color: #f0ad4e;
}
.label-warning[href]:hover,
.label-warning[href]:focus {
  background-color: #ec971f;
}
.label-danger {
  background-color: #d9534f;
}
.label-danger[href]:hover,
.label-danger[href]:focus {
  background-color: #c9302c;
}
.badge {
  display: inline-block;
  min-width: 10px;
  padding: 3px 7px;
  font-size: 12px;
  font-weight: bold;
  color: #fff;
  line-height: 1;
  vertical-align: middle;
  white-space: nowrap;
  text-align: center;
  background-color: #777777;
  border-radius: 10px;
}
.badge:empty {
  display: none;
}
.btn .badge {
  position: relative;
  top: -1px;
}
.btn-xs .badge,
.btn-group-xs > .btn .badge {
  top: 0;
  padding: 1px 5px;
}
a.badge:hover,
a.badge:focus {
  color: #fff;
  text-decoration: none;
  cursor: pointer;
}
.list-group-item.active > .badge,
.nav-pills > .active > a > .badge {
  color: #337ab7;
  background-color: #fff;
}
.list-group-item > .badge {
  float: right;
}
.list-group-item > .badge + .badge {
  margin-right: 5px;
}
.nav-pills > li > a > .badge {
  margin-left: 3px;
}
.jumbotron {
  padding-top: 30px;
  padding-bottom: 30px;
  margin-bottom: 30px;
  color: inherit;
  background-color: #eeeeee;
}
.jumbotron h1,
.jumbotron .h1 {
  color: inherit;
}
.jumbotron p {
  margin-bottom: 15px;
  font-size: 20px;
  font-weight: 200;
}
.jumbotron > hr {
  border-top-color: #d5d5d5;
}
.container .jumbotron,
.container-fluid .jumbotron {
  border-radius: 3px;
  padding-left: 0px;
  padding-right: 0px;
}
.jumbotron .container {
  max-width: 100%;
}
@media screen and (min-width: 768px) {
  .jumbotron {
    padding-top: 48px;
    padding-bottom: 48px;
  }
  .container .jumbotron,
  .container-fluid .jumbotron {
    padding-left: 60px;
    padding-right: 60px;
  }
  .jumbotron h1,
  .jumbotron .h1 {
    font-size: 59px;
  }
}
.thumbnail {
  display: block;
  padding: 4px;
  margin-bottom: 18px;
  line-height: 1.42857143;
  background-color: #fff;
  border: 1px solid #ddd;
  border-radius: 2px;
  -webkit-transition: border 0.2s ease-in-out;
  -o-transition: border 0.2s ease-in-out;
  transition: border 0.2s ease-in-out;
}
.thumbnail > img,
.thumbnail a > img {
  margin-left: auto;
  margin-right: auto;
}
a.thumbnail:hover,
a.thumbnail:focus,
a.thumbnail.active {
  border-color: #337ab7;
}
.thumbnail .caption {
  padding: 9px;
  color: #000;
}
.alert {
  padding: 15px;
  margin-bottom: 18px;
  border: 1px solid transparent;
  border-radius: 2px;
}
.alert h4 {
  margin-top: 0;
  color: inherit;
}
.alert .alert-link {
  font-weight: bold;
}
.alert > p,
.alert > ul {
  margin-bottom: 0;
}
.alert > p + p {
  margin-top: 5px;
}
.alert-dismissable,
.alert-dismissible {
  padding-right: 35px;
}
.alert-dismissable .close,
.alert-dismissible .close {
  position: relative;
  top: -2px;
  right: -21px;
  color: inherit;
}
.alert-success {
  background-color: #dff0d8;
  border-color: #d6e9c6;
  color: #3c763d;
}
.alert-success hr {
  border-top-color: #c9e2b3;
}
.alert-success .alert-link {
  color: #2b542c;
}
.alert-info {
  background-color: #d9edf7;
  border-color: #bce8f1;
  color: #31708f;
}
.alert-info hr {
  border-top-color: #a6e1ec;
}
.alert-info .alert-link {
  color: #245269;
}
.alert-warning {
  background-color: #fcf8e3;
  border-color: #faebcc;
  color: #8a6d3b;
}
.alert-warning hr {
  border-top-color: #f7e1b5;
}
.alert-warning .alert-link {
  color: #66512c;
}
.alert-danger {
  background-color: #f2dede;
  border-color: #ebccd1;
  color: #a94442;
}
.alert-danger hr {
  border-top-color: #e4b9c0;
}
.alert-danger .alert-link {
  color: #843534;
}
@-webkit-keyframes progress-bar-stripes {
  from {
    background-position: 40px 0;
  }
  to {
    background-position: 0 0;
  }
}
@keyframes progress-bar-stripes {
  from {
    background-position: 40px 0;
  }
  to {
    background-position: 0 0;
  }
}
.progress {
  overflow: hidden;
  height: 18px;
  margin-bottom: 18px;
  background-color: #f5f5f5;
  border-radius: 2px;
  -webkit-box-shadow: inset 0 1px 2px rgba(0, 0, 0, 0.1);
  box-shadow: inset 0 1px 2px rgba(0, 0, 0, 0.1);
}
.progress-bar {
  float: left;
  width: 0%;
  height: 100%;
  font-size: 12px;
  line-height: 18px;
  color: #fff;
  text-align: center;
  background-color: #337ab7;
  -webkit-box-shadow: inset 0 -1px 0 rgba(0, 0, 0, 0.15);
  box-shadow: inset 0 -1px 0 rgba(0, 0, 0, 0.15);
  -webkit-transition: width 0.6s ease;
  -o-transition: width 0.6s ease;
  transition: width 0.6s ease;
}
.progress-striped .progress-bar,
.progress-bar-striped {
  background-image: -webkit-linear-gradient(45deg, rgba(255, 255, 255, 0.15) 25%, transparent 25%, transparent 50%, rgba(255, 255, 255, 0.15) 50%, rgba(255, 255, 255, 0.15) 75%, transparent 75%, transparent);
  background-image: -o-linear-gradient(45deg, rgba(255, 255, 255, 0.15) 25%, transparent 25%, transparent 50%, rgba(255, 255, 255, 0.15) 50%, rgba(255, 255, 255, 0.15) 75%, transparent 75%, transparent);
  background-image: linear-gradient(45deg, rgba(255, 255, 255, 0.15) 25%, transparent 25%, transparent 50%, rgba(255, 255, 255, 0.15) 50%, rgba(255, 255, 255, 0.15) 75%, transparent 75%, transparent);
  background-size: 40px 40px;
}
.progress.active .progress-bar,
.progress-bar.active {
  -webkit-animation: progress-bar-stripes 2s linear infinite;
  -o-animation: progress-bar-stripes 2s linear infinite;
  animation: progress-bar-stripes 2s linear infinite;
}
.progress-bar-success {
  background-color: #5cb85c;
}
.progress-striped .progress-bar-success {
  background-image: -webkit-linear-gradient(45deg, rgba(255, 255, 255, 0.15) 25%, transparent 25%, transparent 50%, rgba(255, 255, 255, 0.15) 50%, rgba(255, 255, 255, 0.15) 75%, transparent 75%, transparent);
  background-image: -o-linear-gradient(45deg, rgba(255, 255, 255, 0.15) 25%, transparent 25%, transparent 50%, rgba(255, 255, 255, 0.15) 50%, rgba(255, 255, 255, 0.15) 75%, transparent 75%, transparent);
  background-image: linear-gradient(45deg, rgba(255, 255, 255, 0.15) 25%, transparent 25%, transparent 50%, rgba(255, 255, 255, 0.15) 50%, rgba(255, 255, 255, 0.15) 75%, transparent 75%, transparent);
}
.progress-bar-info {
  background-color: #5bc0de;
}
.progress-striped .progress-bar-info {
  background-image: -webkit-linear-gradient(45deg, rgba(255, 255, 255, 0.15) 25%, transparent 25%, transparent 50%, rgba(255, 255, 255, 0.15) 50%, rgba(255, 255, 255, 0.15) 75%, transparent 75%, transparent);
  background-image: -o-linear-gradient(45deg, rgba(255, 255, 255, 0.15) 25%, transparent 25%, transparent 50%, rgba(255, 255, 255, 0.15) 50%, rgba(255, 255, 255, 0.15) 75%, transparent 75%, transparent);
  background-image: linear-gradient(45deg, rgba(255, 255, 255, 0.15) 25%, transparent 25%, transparent 50%, rgba(255, 255, 255, 0.15) 50%, rgba(255, 255, 255, 0.15) 75%, transparent 75%, transparent);
}
.progress-bar-warning {
  background-color: #f0ad4e;
}
.progress-striped .progress-bar-warning {
  background-image: -webkit-linear-gradient(45deg, rgba(255, 255, 255, 0.15) 25%, transparent 25%, transparent 50%, rgba(255, 255, 255, 0.15) 50%, rgba(255, 255, 255, 0.15) 75%, transparent 75%, transparent);
  background-image: -o-linear-gradient(45deg, rgba(255, 255, 255, 0.15) 25%, transparent 25%, transparent 50%, rgba(255, 255, 255, 0.15) 50%, rgba(255, 255, 255, 0.15) 75%, transparent 75%, transparent);
  background-image: linear-gradient(45deg, rgba(255, 255, 255, 0.15) 25%, transparent 25%, transparent 50%, rgba(255, 255, 255, 0.15) 50%, rgba(255, 255, 255, 0.15) 75%, transparent 75%, transparent);
}
.progress-bar-danger {
  background-color: #d9534f;
}
.progress-striped .progress-bar-danger {
  background-image: -webkit-linear-gradient(45deg, rgba(255, 255, 255, 0.15) 25%, transparent 25%, transparent 50%, rgba(255, 255, 255, 0.15) 50%, rgba(255, 255, 255, 0.15) 75%, transparent 75%, transparent);
  background-image: -o-linear-gradient(45deg, rgba(255, 255, 255, 0.15) 25%, transparent 25%, transparent 50%, rgba(255, 255, 255, 0.15) 50%, rgba(255, 255, 255, 0.15) 75%, transparent 75%, transparent);
  background-image: linear-gradient(45deg, rgba(255, 255, 255, 0.15) 25%, transparent 25%, transparent 50%, rgba(255, 255, 255, 0.15) 50%, rgba(255, 255, 255, 0.15) 75%, transparent 75%, transparent);
}
.media {
  margin-top: 15px;
}
.media:first-child {
  margin-top: 0;
}
.media,
.media-body {
  zoom: 1;
  overflow: hidden;
}
.media-body {
  width: 10000px;
}
.media-object {
  display: block;
}
.media-object.img-thumbnail {
  max-width: none;
}
.media-right,
.media > .pull-right {
  padding-left: 10px;
}
.media-left,
.media > .pull-left {
  padding-right: 10px;
}
.media-left,
.media-right,
.media-body {
  display: table-cell;
  vertical-align: top;
}
.media-middle {
  vertical-align: middle;
}
.media-bottom {
  vertical-align: bottom;
}
.media-heading {
  margin-top: 0;
  margin-bottom: 5px;
}
.media-list {
  padding-left: 0;
  list-style: none;
}
.list-group {
  margin-bottom: 20px;
  padding-left: 0;
}
.list-group-item {
  position: relative;
  display: block;
  padding: 10px 15px;
  margin-bottom: -1px;
  background-color: #fff;
  border: 1px solid #ddd;
}
.list-group-item:first-child {
  border-top-right-radius: 2px;
  border-top-left-radius: 2px;
}
.list-group-item:last-child {
  margin-bottom: 0;
  border-bottom-right-radius: 2px;
  border-bottom-left-radius: 2px;
}
a.list-group-item,
button.list-group-item {
  color: #555;
}
a.list-group-item .list-group-item-heading,
button.list-group-item .list-group-item-heading {
  color: #333;
}
a.list-group-item:hover,
button.list-group-item:hover,
a.list-group-item:focus,
button.list-group-item:focus {
  text-decoration: none;
  color: #555;
  background-color: #f5f5f5;
}
button.list-group-item {
  width: 100%;
  text-align: left;
}
.list-group-item.disabled,
.list-group-item.disabled:hover,
.list-group-item.disabled:focus {
  background-color: #eeeeee;
  color: #777777;
  cursor: not-allowed;
}
.list-group-item.disabled .list-group-item-heading,
.list-group-item.disabled:hover .list-group-item-heading,
.list-group-item.disabled:focus .list-group-item-heading {
  color: inherit;
}
.list-group-item.disabled .list-group-item-text,
.list-group-item.disabled:hover .list-group-item-text,
.list-group-item.disabled:focus .list-group-item-text {
  color: #777777;
}
.list-group-item.active,
.list-group-item.active:hover,
.list-group-item.active:focus {
  z-index: 2;
  color: #fff;
  background-color: #337ab7;
  border-color: #337ab7;
}
.list-group-item.active .list-group-item-heading,
.list-group-item.active:hover .list-group-item-heading,
.list-group-item.active:focus .list-group-item-heading,
.list-group-item.active .list-group-item-heading > small,
.list-group-item.active:hover .list-group-item-heading > small,
.list-group-item.active:focus .list-group-item-heading > small,
.list-group-item.active .list-group-item-heading > .small,
.list-group-item.active:hover .list-group-item-heading > .small,
.list-group-item.active:focus .list-group-item-heading > .small {
  color: inherit;
}
.list-group-item.active .list-group-item-text,
.list-group-item.active:hover .list-group-item-text,
.list-group-item.active:focus .list-group-item-text {
  color: #c7ddef;
}
.list-group-item-success {
  color: #3c763d;
  background-color: #dff0d8;
}
a.list-group-item-success,
button.list-group-item-success {
  color: #3c763d;
}
a.list-group-item-success .list-group-item-heading,
button.list-group-item-success .list-group-item-heading {
  color: inherit;
}
a.list-group-item-success:hover,
button.list-group-item-success:hover,
a.list-group-item-success:focus,
button.list-group-item-success:focus {
  color: #3c763d;
  background-color: #d0e9c6;
}
a.list-group-item-success.active,
button.list-group-item-success.active,
a.list-group-item-success.active:hover,
button.list-group-item-success.active:hover,
a.list-group-item-success.active:focus,
button.list-group-item-success.active:focus {
  color: #fff;
  background-color: #3c763d;
  border-color: #3c763d;
}
.list-group-item-info {
  color: #31708f;
  background-color: #d9edf7;
}
a.list-group-item-info,
button.list-group-item-info {
  color: #31708f;
}
a.list-group-item-info .list-group-item-heading,
button.list-group-item-info .list-group-item-heading {
  color: inherit;
}
a.list-group-item-info:hover,
button.list-group-item-info:hover,
a.list-group-item-info:focus,
button.list-group-item-info:focus {
  color: #31708f;
  background-color: #c4e3f3;
}
a.list-group-item-info.active,
button.list-group-item-info.active,
a.list-group-item-info.active:hover,
button.list-group-item-info.active:hover,
a.list-group-item-info.active:focus,
button.list-group-item-info.active:focus {
  color: #fff;
  background-color: #31708f;
  border-color: #31708f;
}
.list-group-item-warning {
  color: #8a6d3b;
  background-color: #fcf8e3;
}
a.list-group-item-warning,
button.list-group-item-warning {
  color: #8a6d3b;
}
a.list-group-item-warning .list-group-item-heading,
button.list-group-item-warning .list-group-item-heading {
  color: inherit;
}
a.list-group-item-warning:hover,
button.list-group-item-warning:hover,
a.list-group-item-warning:focus,
button.list-group-item-warning:focus {
  color: #8a6d3b;
  background-color: #faf2cc;
}
a.list-group-item-warning.active,
button.list-group-item-warning.active,
a.list-group-item-warning.active:hover,
button.list-group-item-warning.active:hover,
a.list-group-item-warning.active:focus,
button.list-group-item-warning.active:focus {
  color: #fff;
  background-color: #8a6d3b;
  border-color: #8a6d3b;
}
.list-group-item-danger {
  color: #a94442;
  background-color: #f2dede;
}
a.list-group-item-danger,
button.list-group-item-danger {
  color: #a94442;
}
a.list-group-item-danger .list-group-item-heading,
button.list-group-item-danger .list-group-item-heading {
  color: inherit;
}
a.list-group-item-danger:hover,
button.list-group-item-danger:hover,
a.list-group-item-danger:focus,
button.list-group-item-danger:focus {
  color: #a94442;
  background-color: #ebcccc;
}
a.list-group-item-danger.active,
button.list-group-item-danger.active,
a.list-group-item-danger.active:hover,
button.list-group-item-danger.active:hover,
a.list-group-item-danger.active:focus,
button.list-group-item-danger.active:focus {
  color: #fff;
  background-color: #a94442;
  border-color: #a94442;
}
.list-group-item-heading {
  margin-top: 0;
  margin-bottom: 5px;
}
.list-group-item-text {
  margin-bottom: 0;
  line-height: 1.3;
}
.panel {
  margin-bottom: 18px;
  background-color: #fff;
  border: 1px solid transparent;
  border-radius: 2px;
  -webkit-box-shadow: 0 1px 1px rgba(0, 0, 0, 0.05);
  box-shadow: 0 1px 1px rgba(0, 0, 0, 0.05);
}
.panel-body {
  padding: 15px;
}
.panel-heading {
  padding: 10px 15px;
  border-bottom: 1px solid transparent;
  border-top-right-radius: 1px;
  border-top-left-radius: 1px;
}
.panel-heading > .dropdown .dropdown-toggle {
  color: inherit;
}
.panel-title {
  margin-top: 0;
  margin-bottom: 0;
  font-size: 15px;
  color: inherit;
}
.panel-title > a,
.panel-title > small,
.panel-title > .small,
.panel-title > small > a,
.panel-title > .small > a {
  color: inherit;
}
.panel-footer {
  padding: 10px 15px;
  background-color: #f5f5f5;
  border-top: 1px solid #ddd;
  border-bottom-right-radius: 1px;
  border-bottom-left-radius: 1px;
}
.panel > .list-group,
.panel > .panel-collapse > .list-group {
  margin-bottom: 0;
}
.panel > .list-group .list-group-item,
.panel > .panel-collapse > .list-group .list-group-item {
  border-width: 1px 0;
  border-radius: 0;
}
.panel > .list-group:first-child .list-group-item:first-child,
.panel > .panel-collapse > .list-group:first-child .list-group-item:first-child {
  border-top: 0;
  border-top-right-radius: 1px;
  border-top-left-radius: 1px;
}
.panel > .list-group:last-child .list-group-item:last-child,
.panel > .panel-collapse > .list-group:last-child .list-group-item:last-child {
  border-bottom: 0;
  border-bottom-right-radius: 1px;
  border-bottom-left-radius: 1px;
}
.panel > .panel-heading + .panel-collapse > .list-group .list-group-item:first-child {
  border-top-right-radius: 0;
  border-top-left-radius: 0;
}
.panel-heading + .list-group .list-group-item:first-child {
  border-top-width: 0;
}
.list-group + .panel-footer {
  border-top-width: 0;
}
.panel > .table,
.panel > .table-responsive > .table,
.panel > .panel-collapse > .table {
  margin-bottom: 0;
}
.panel > .table caption,
.panel > .table-responsive > .table caption,
.panel > .panel-collapse > .table caption {
  padding-left: 15px;
  padding-right: 15px;
}
.panel > .table:first-child,
.panel > .table-responsive:first-child > .table:first-child {
  border-top-right-radius: 1px;
  border-top-left-radius: 1px;
}
.panel > .table:first-child > thead:first-child > tr:first-child,
.panel > .table-responsive:first-child > .table:first-child > thead:first-child > tr:first-child,
.panel > .table:first-child > tbody:first-child > tr:first-child,
.panel > .table-responsive:first-child > .table:first-child > tbody:first-child > tr:first-child {
  border-top-left-radius: 1px;
  border-top-right-radius: 1px;
}
.panel > .table:first-child > thead:first-child > tr:first-child td:first-child,
.panel > .table-responsive:first-child > .table:first-child > thead:first-child > tr:first-child td:first-child,
.panel > .table:first-child > tbody:first-child > tr:first-child td:first-child,
.panel > .table-responsive:first-child > .table:first-child > tbody:first-child > tr:first-child td:first-child,
.panel > .table:first-child > thead:first-child > tr:first-child th:first-child,
.panel > .table-responsive:first-child > .table:first-child > thead:first-child > tr:first-child th:first-child,
.panel > .table:first-child > tbody:first-child > tr:first-child th:first-child,
.panel > .table-responsive:first-child > .table:first-child > tbody:first-child > tr:first-child th:first-child {
  border-top-left-radius: 1px;
}
.panel > .table:first-child > thead:first-child > tr:first-child td:last-child,
.panel > .table-responsive:first-child > .table:first-child > thead:first-child > tr:first-child td:last-child,
.panel > .table:first-child > tbody:first-child > tr:first-child td:last-child,
.panel > .table-responsive:first-child > .table:first-child > tbody:first-child > tr:first-child td:last-child,
.panel > .table:first-child > thead:first-child > tr:first-child th:last-child,
.panel > .table-responsive:first-child > .table:first-child > thead:first-child > tr:first-child th:last-child,
.panel > .table:first-child > tbody:first-child > tr:first-child th:last-child,
.panel > .table-responsive:first-child > .table:first-child > tbody:first-child > tr:first-child th:last-child {
  border-top-right-radius: 1px;
}
.panel > .table:last-child,
.panel > .table-responsive:last-child > .table:last-child {
  border-bottom-right-radius: 1px;
  border-bottom-left-radius: 1px;
}
.panel > .table:last-child > tbody:last-child > tr:last-child,
.panel > .table-responsive:last-child > .table:last-child > tbody:last-child > tr:last-child,
.panel > .table:last-child > tfoot:last-child > tr:last-child,
.panel > .table-responsive:last-child > .table:last-child > tfoot:last-child > tr:last-child {
  border-bottom-left-radius: 1px;
  border-bottom-right-radius: 1px;
}
.panel > .table:last-child > tbody:last-child > tr:last-child td:first-child,
.panel > .table-responsive:last-child > .table:last-child > tbody:last-child > tr:last-child td:first-child,
.panel > .table:last-child > tfoot:last-child > tr:last-child td:first-child,
.panel > .table-responsive:last-child > .table:last-child > tfoot:last-child > tr:last-child td:first-child,
.panel > .table:last-child > tbody:last-child > tr:last-child th:first-child,
.panel > .table-responsive:last-child > .table:last-child > tbody:last-child > tr:last-child th:first-child,
.panel > .table:last-child > tfoot:last-child > tr:last-child th:first-child,
.panel > .table-responsive:last-child > .table:last-child > tfoot:last-child > tr:last-child th:first-child {
  border-bottom-left-radius: 1px;
}
.panel > .table:last-child > tbody:last-child > tr:last-child td:last-child,
.panel > .table-responsive:last-child > .table:last-child > tbody:last-child > tr:last-child td:last-child,
.panel > .table:last-child > tfoot:last-child > tr:last-child td:last-child,
.panel > .table-responsive:last-child > .table:last-child > tfoot:last-child > tr:last-child td:last-child,
.panel > .table:last-child > tbody:last-child > tr:last-child th:last-child,
.panel > .table-responsive:last-child > .table:last-child > tbody:last-child > tr:last-child th:last-child,
.panel > .table:last-child > tfoot:last-child > tr:last-child th:last-child,
.panel > .table-responsive:last-child > .table:last-child > tfoot:last-child > tr:last-child th:last-child {
  border-bottom-right-radius: 1px;
}
.panel > .panel-body + .table,
.panel > .panel-body + .table-responsive,
.panel > .table + .panel-body,
.panel > .table-responsive + .panel-body {
  border-top: 1px solid #ddd;
}
.panel > .table > tbody:first-child > tr:first-child th,
.panel > .table > tbody:first-child > tr:first-child td {
  border-top: 0;
}
.panel > .table-bordered,
.panel > .table-responsive > .table-bordered {
  border: 0;
}
.panel > .table-bordered > thead > tr > th:first-child,
.panel > .table-responsive > .table-bordered > thead > tr > th:first-child,
.panel > .table-bordered > tbody > tr > th:first-child,
.panel > .table-responsive > .table-bordered > tbody > tr > th:first-child,
.panel > .table-bordered > tfoot > tr > th:first-child,
.panel > .table-responsive > .table-bordered > tfoot > tr > th:first-child,
.panel > .table-bordered > thead > tr > td:first-child,
.panel > .table-responsive > .table-bordered > thead > tr > td:first-child,
.panel > .table-bordered > tbody > tr > td:first-child,
.panel > .table-responsive > .table-bordered > tbody > tr > td:first-child,
.panel > .table-bordered > tfoot > tr > td:first-child,
.panel > .table-responsive > .table-bordered > tfoot > tr > td:first-child {
  border-left: 0;
}
.panel > .table-bordered > thead > tr > th:last-child,
.panel > .table-responsive > .table-bordered > thead > tr > th:last-child,
.panel > .table-bordered > tbody > tr > th:last-child,
.panel > .table-responsive > .table-bordered > tbody > tr > th:last-child,
.panel > .table-bordered > tfoot > tr > th:last-child,
.panel > .table-responsive > .table-bordered > tfoot > tr > th:last-child,
.panel > .table-bordered > thead > tr > td:last-child,
.panel > .table-responsive > .table-bordered > thead > tr > td:last-child,
.panel > .table-bordered > tbody > tr > td:last-child,
.panel > .table-responsive > .table-bordered > tbody > tr > td:last-child,
.panel > .table-bordered > tfoot > tr > td:last-child,
.panel > .table-responsive > .table-bordered > tfoot > tr > td:last-child {
  border-right: 0;
}
.panel > .table-bordered > thead > tr:first-child > td,
.panel > .table-responsive > .table-bordered > thead > tr:first-child > td,
.panel > .table-bordered > tbody > tr:first-child > td,
.panel > .table-responsive > .table-bordered > tbody > tr:first-child > td,
.panel > .table-bordered > thead > tr:first-child > th,
.panel > .table-responsive > .table-bordered > thead > tr:first-child > th,
.panel > .table-bordered > tbody > tr:first-child > th,
.panel > .table-responsive > .table-bordered > tbody > tr:first-child > th {
  border-bottom: 0;
}
.panel > .table-bordered > tbody > tr:last-child > td,
.panel > .table-responsive > .table-bordered > tbody > tr:last-child > td,
.panel > .table-bordered > tfoot > tr:last-child > td,
.panel > .table-responsive > .table-bordered > tfoot > tr:last-child > td,
.panel > .table-bordered > tbody > tr:last-child > th,
.panel > .table-responsive > .table-bordered > tbody > tr:last-child > th,
.panel > .table-bordered > tfoot > tr:last-child > th,
.panel > .table-responsive > .table-bordered > tfoot > tr:last-child > th {
  border-bottom: 0;
}
.panel > .table-responsive {
  border: 0;
  margin-bottom: 0;
}
.panel-group {
  margin-bottom: 18px;
}
.panel-group .panel {
  margin-bottom: 0;
  border-radius: 2px;
}
.panel-group .panel + .panel {
  margin-top: 5px;
}
.panel-group .panel-heading {
  border-bottom: 0;
}
.panel-group .panel-heading + .panel-collapse > .panel-body,
.panel-group .panel-heading + .panel-collapse > .list-group {
  border-top: 1px solid #ddd;
}
.panel-group .panel-footer {
  border-top: 0;
}
.panel-group .panel-footer + .panel-collapse .panel-body {
  border-bottom: 1px solid #ddd;
}
.panel-default {
  border-color: #ddd;
}
.panel-default > .panel-heading {
  color: #333333;
  background-color: #f5f5f5;
  border-color: #ddd;
}
.panel-default > .panel-heading + .panel-collapse > .panel-body {
  border-top-color: #ddd;
}
.panel-default > .panel-heading .badge {
  color: #f5f5f5;
  background-color: #333333;
}
.panel-default > .panel-footer + .panel-collapse > .panel-body {
  border-bottom-color: #ddd;
}
.panel-primary {
  border-color: #337ab7;
}
.panel-primary > .panel-heading {
  color: #fff;
  background-color: #337ab7;
  border-color: #337ab7;
}
.panel-primary > .panel-heading + .panel-collapse > .panel-body {
  border-top-color: #337ab7;
}
.panel-primary > .panel-heading .badge {
  color: #337ab7;
  background-color: #fff;
}
.panel-primary > .panel-footer + .panel-collapse > .panel-body {
  border-bottom-color: #337ab7;
}
.panel-success {
  border-color: #d6e9c6;
}
.panel-success > .panel-heading {
  color: #3c763d;
  background-color: #dff0d8;
  border-color: #d6e9c6;
}
.panel-success > .panel-heading + .panel-collapse > .panel-body {
  border-top-color: #d6e9c6;
}
.panel-success > .panel-heading .badge {
  color: #dff0d8;
  background-color: #3c763d;
}
.panel-success > .panel-footer + .panel-collapse > .panel-body {
  border-bottom-color: #d6e9c6;
}
.panel-info {
  border-color: #bce8f1;
}
.panel-info > .panel-heading {
  color: #31708f;
  background-color: #d9edf7;
  border-color: #bce8f1;
}
.panel-info > .panel-heading + .panel-collapse > .panel-body {
  border-top-color: #bce8f1;
}
.panel-info > .panel-heading .badge {
  color: #d9edf7;
  background-color: #31708f;
}
.panel-info > .panel-footer + .panel-collapse > .panel-body {
  border-bottom-color: #bce8f1;
}
.panel-warning {
  border-color: #faebcc;
}
.panel-warning > .panel-heading {
  color: #8a6d3b;
  background-color: #fcf8e3;
  border-color: #faebcc;
}
.panel-warning > .panel-heading + .panel-collapse > .panel-body {
  border-top-color: #faebcc;
}
.panel-warning > .panel-heading .badge {
  color: #fcf8e3;
  background-color: #8a6d3b;
}
.panel-warning > .panel-footer + .panel-collapse > .panel-body {
  border-bottom-color: #faebcc;
}
.panel-danger {
  border-color: #ebccd1;
}
.panel-danger > .panel-heading {
  color: #a94442;
  background-color: #f2dede;
  border-color: #ebccd1;
}
.panel-danger > .panel-heading + .panel-collapse > .panel-body {
  border-top-color: #ebccd1;
}
.panel-danger > .panel-heading .badge {
  color: #f2dede;
  background-color: #a94442;
}
.panel-danger > .panel-footer + .panel-collapse > .panel-body {
  border-bottom-color: #ebccd1;
}
.embed-responsive {
  position: relative;
  display: block;
  height: 0;
  padding: 0;
  overflow: hidden;
}
.embed-responsive .embed-responsive-item,
.embed-responsive iframe,
.embed-responsive embed,
.embed-responsive object,
.embed-responsive video {
  position: absolute;
  top: 0;
  left: 0;
  bottom: 0;
  height: 100%;
  width: 100%;
  border: 0;
}
.embed-responsive-16by9 {
  padding-bottom: 56.25%;
}
.embed-responsive-4by3 {
  padding-bottom: 75%;
}
.well {
  min-height: 20px;
  padding: 19px;
  margin-bottom: 20px;
  background-color: #f5f5f5;
  border: 1px solid #e3e3e3;
  border-radius: 2px;
  -webkit-box-shadow: inset 0 1px 1px rgba(0, 0, 0, 0.05);
  box-shadow: inset 0 1px 1px rgba(0, 0, 0, 0.05);
}
.well blockquote {
  border-color: #ddd;
  border-color: rgba(0, 0, 0, 0.15);
}
.well-lg {
  padding: 24px;
  border-radius: 3px;
}
.well-sm {
  padding: 9px;
  border-radius: 1px;
}
.close {
  float: right;
  font-size: 19.5px;
  font-weight: bold;
  line-height: 1;
  color: #000;
  text-shadow: 0 1px 0 #fff;
  opacity: 0.2;
  filter: alpha(opacity=20);
}
.close:hover,
.close:focus {
  color: #000;
  text-decoration: none;
  cursor: pointer;
  opacity: 0.5;
  filter: alpha(opacity=50);
}
button.close {
  padding: 0;
  cursor: pointer;
  background: transparent;
  border: 0;
  -webkit-appearance: none;
}
.modal-open {
  overflow: hidden;
}
.modal {
  display: none;
  overflow: hidden;
  position: fixed;
  top: 0;
  right: 0;
  bottom: 0;
  left: 0;
  z-index: 1050;
  -webkit-overflow-scrolling: touch;
  outline: 0;
}
.modal.fade .modal-dialog {
  -webkit-transform: translate(0, -25%);
  -ms-transform: translate(0, -25%);
  -o-transform: translate(0, -25%);
  transform: translate(0, -25%);
  -webkit-transition: -webkit-transform 0.3s ease-out;
  -moz-transition: -moz-transform 0.3s ease-out;
  -o-transition: -o-transform 0.3s ease-out;
  transition: transform 0.3s ease-out;
}
.modal.in .modal-dialog {
  -webkit-transform: translate(0, 0);
  -ms-transform: translate(0, 0);
  -o-transform: translate(0, 0);
  transform: translate(0, 0);
}
.modal-open .modal {
  overflow-x: hidden;
  overflow-y: auto;
}
.modal-dialog {
  position: relative;
  width: auto;
  margin: 10px;
}
.modal-content {
  position: relative;
  background-color: #fff;
  border: 1px solid #999;
  border: 1px solid rgba(0, 0, 0, 0.2);
  border-radius: 3px;
  -webkit-box-shadow: 0 3px 9px rgba(0, 0, 0, 0.5);
  box-shadow: 0 3px 9px rgba(0, 0, 0, 0.5);
  background-clip: padding-box;
  outline: 0;
}
.modal-backdrop {
  position: fixed;
  top: 0;
  right: 0;
  bottom: 0;
  left: 0;
  z-index: 1040;
  background-color: #000;
}
.modal-backdrop.fade {
  opacity: 0;
  filter: alpha(opacity=0);
}
.modal-backdrop.in {
  opacity: 0.5;
  filter: alpha(opacity=50);
}
.modal-header {
  padding: 15px;
  border-bottom: 1px solid #e5e5e5;
}
.modal-header .close {
  margin-top: -2px;
}
.modal-title {
  margin: 0;
  line-height: 1.42857143;
}
.modal-body {
  position: relative;
  padding: 15px;
}
.modal-footer {
  padding: 15px;
  text-align: right;
  border-top: 1px solid #e5e5e5;
}
.modal-footer .btn + .btn {
  margin-left: 5px;
  margin-bottom: 0;
}
.modal-footer .btn-group .btn + .btn {
  margin-left: -1px;
}
.modal-footer .btn-block + .btn-block {
  margin-left: 0;
}
.modal-scrollbar-measure {
  position: absolute;
  top: -9999px;
  width: 50px;
  height: 50px;
  overflow: scroll;
}
@media (min-width: 768px) {
  .modal-dialog {
    width: 600px;
    margin: 30px auto;
  }
  .modal-content {
    -webkit-box-shadow: 0 5px 15px rgba(0, 0, 0, 0.5);
    box-shadow: 0 5px 15px rgba(0, 0, 0, 0.5);
  }
  .modal-sm {
    width: 300px;
  }
}
@media (min-width: 992px) {
  .modal-lg {
    width: 900px;
  }
}
.tooltip {
  position: absolute;
  z-index: 1070;
  display: block;
  font-family: "Helvetica Neue", Helvetica, Arial, sans-serif;
  font-style: normal;
  font-weight: normal;
  letter-spacing: normal;
  line-break: auto;
  line-height: 1.42857143;
  text-align: left;
  text-align: start;
  text-decoration: none;
  text-shadow: none;
  text-transform: none;
  white-space: normal;
  word-break: normal;
  word-spacing: normal;
  word-wrap: normal;
  font-size: 12px;
  opacity: 0;
  filter: alpha(opacity=0);
}
.tooltip.in {
  opacity: 0.9;
  filter: alpha(opacity=90);
}
.tooltip.top {
  margin-top: -3px;
  padding: 5px 0;
}
.tooltip.right {
  margin-left: 3px;
  padding: 0 5px;
}
.tooltip.bottom {
  margin-top: 3px;
  padding: 5px 0;
}
.tooltip.left {
  margin-left: -3px;
  padding: 0 5px;
}
.tooltip-inner {
  max-width: 200px;
  padding: 3px 8px;
  color: #fff;
  text-align: center;
  background-color: #000;
  border-radius: 2px;
}
.tooltip-arrow {
  position: absolute;
  width: 0;
  height: 0;
  border-color: transparent;
  border-style: solid;
}
.tooltip.top .tooltip-arrow {
  bottom: 0;
  left: 50%;
  margin-left: -5px;
  border-width: 5px 5px 0;
  border-top-color: #000;
}
.tooltip.top-left .tooltip-arrow {
  bottom: 0;
  right: 5px;
  margin-bottom: -5px;
  border-width: 5px 5px 0;
  border-top-color: #000;
}
.tooltip.top-right .tooltip-arrow {
  bottom: 0;
  left: 5px;
  margin-bottom: -5px;
  border-width: 5px 5px 0;
  border-top-color: #000;
}
.tooltip.right .tooltip-arrow {
  top: 50%;
  left: 0;
  margin-top: -5px;
  border-width: 5px 5px 5px 0;
  border-right-color: #000;
}
.tooltip.left .tooltip-arrow {
  top: 50%;
  right: 0;
  margin-top: -5px;
  border-width: 5px 0 5px 5px;
  border-left-color: #000;
}
.tooltip.bottom .tooltip-arrow {
  top: 0;
  left: 50%;
  margin-left: -5px;
  border-width: 0 5px 5px;
  border-bottom-color: #000;
}
.tooltip.bottom-left .tooltip-arrow {
  top: 0;
  right: 5px;
  margin-top: -5px;
  border-width: 0 5px 5px;
  border-bottom-color: #000;
}
.tooltip.bottom-right .tooltip-arrow {
  top: 0;
  left: 5px;
  margin-top: -5px;
  border-width: 0 5px 5px;
  border-bottom-color: #000;
}
.popover {
  position: absolute;
  top: 0;
  left: 0;
  z-index: 1060;
  display: none;
  max-width: 276px;
  padding: 1px;
  font-family: "Helvetica Neue", Helvetica, Arial, sans-serif;
  font-style: normal;
  font-weight: normal;
  letter-spacing: normal;
  line-break: auto;
  line-height: 1.42857143;
  text-align: left;
  text-align: start;
  text-decoration: none;
  text-shadow: none;
  text-transform: none;
  white-space: normal;
  word-break: normal;
  word-spacing: normal;
  word-wrap: normal;
  font-size: 13px;
  background-color: #fff;
  background-clip: padding-box;
  border: 1px solid #ccc;
  border: 1px solid rgba(0, 0, 0, 0.2);
  border-radius: 3px;
  -webkit-box-shadow: 0 5px 10px rgba(0, 0, 0, 0.2);
  box-shadow: 0 5px 10px rgba(0, 0, 0, 0.2);
}
.popover.top {
  margin-top: -10px;
}
.popover.right {
  margin-left: 10px;
}
.popover.bottom {
  margin-top: 10px;
}
.popover.left {
  margin-left: -10px;
}
.popover-title {
  margin: 0;
  padding: 8px 14px;
  font-size: 13px;
  background-color: #f7f7f7;
  border-bottom: 1px solid #ebebeb;
  border-radius: 2px 2px 0 0;
}
.popover-content {
  padding: 9px 14px;
}
.popover > .arrow,
.popover > .arrow:after {
  position: absolute;
  display: block;
  width: 0;
  height: 0;
  border-color: transparent;
  border-style: solid;
}
.popover > .arrow {
  border-width: 11px;
}
.popover > .arrow:after {
  border-width: 10px;
  content: "";
}
.popover.top > .arrow {
  left: 50%;
  margin-left: -11px;
  border-bottom-width: 0;
  border-top-color: #999999;
  border-top-color: rgba(0, 0, 0, 0.25);
  bottom: -11px;
}
.popover.top > .arrow:after {
  content: " ";
  bottom: 1px;
  margin-left: -10px;
  border-bottom-width: 0;
  border-top-color: #fff;
}
.popover.right > .arrow {
  top: 50%;
  left: -11px;
  margin-top: -11px;
  border-left-width: 0;
  border-right-color: #999999;
  border-right-color: rgba(0, 0, 0, 0.25);
}
.popover.right > .arrow:after {
  content: " ";
  left: 1px;
  bottom: -10px;
  border-left-width: 0;
  border-right-color: #fff;
}
.popover.bottom > .arrow {
  left: 50%;
  margin-left: -11px;
  border-top-width: 0;
  border-bottom-color: #999999;
  border-bottom-color: rgba(0, 0, 0, 0.25);
  top: -11px;
}
.popover.bottom > .arrow:after {
  content: " ";
  top: 1px;
  margin-left: -10px;
  border-top-width: 0;
  border-bottom-color: #fff;
}
.popover.left > .arrow {
  top: 50%;
  right: -11px;
  margin-top: -11px;
  border-right-width: 0;
  border-left-color: #999999;
  border-left-color: rgba(0, 0, 0, 0.25);
}
.popover.left > .arrow:after {
  content: " ";
  right: 1px;
  border-right-width: 0;
  border-left-color: #fff;
  bottom: -10px;
}
.carousel {
  position: relative;
}
.carousel-inner {
  position: relative;
  overflow: hidden;
  width: 100%;
}
.carousel-inner > .item {
  display: none;
  position: relative;
  -webkit-transition: 0.6s ease-in-out left;
  -o-transition: 0.6s ease-in-out left;
  transition: 0.6s ease-in-out left;
}
.carousel-inner > .item > img,
.carousel-inner > .item > a > img {
  line-height: 1;
}
@media all and (transform-3d), (-webkit-transform-3d) {
  .carousel-inner > .item {
    -webkit-transition: -webkit-transform 0.6s ease-in-out;
    -moz-transition: -moz-transform 0.6s ease-in-out;
    -o-transition: -o-transform 0.6s ease-in-out;
    transition: transform 0.6s ease-in-out;
    -webkit-backface-visibility: hidden;
    -moz-backface-visibility: hidden;
    backface-visibility: hidden;
    -webkit-perspective: 1000px;
    -moz-perspective: 1000px;
    perspective: 1000px;
  }
  .carousel-inner > .item.next,
  .carousel-inner > .item.active.right {
    -webkit-transform: translate3d(100%, 0, 0);
    transform: translate3d(100%, 0, 0);
    left: 0;
  }
  .carousel-inner > .item.prev,
  .carousel-inner > .item.active.left {
    -webkit-transform: translate3d(-100%, 0, 0);
    transform: translate3d(-100%, 0, 0);
    left: 0;
  }
  .carousel-inner > .item.next.left,
  .carousel-inner > .item.prev.right,
  .carousel-inner > .item.active {
    -webkit-transform: translate3d(0, 0, 0);
    transform: translate3d(0, 0, 0);
    left: 0;
  }
}
.carousel-inner > .active,
.carousel-inner > .next,
.carousel-inner > .prev {
  display: block;
}
.carousel-inner > .active {
  left: 0;
}
.carousel-inner > .next,
.carousel-inner > .prev {
  position: absolute;
  top: 0;
  width: 100%;
}
.carousel-inner > .next {
  left: 100%;
}
.carousel-inner > .prev {
  left: -100%;
}
.carousel-inner > .next.left,
.carousel-inner > .prev.right {
  left: 0;
}
.carousel-inner > .active.left {
  left: -100%;
}
.carousel-inner > .active.right {
  left: 100%;
}
.carousel-control {
  position: absolute;
  top: 0;
  left: 0;
  bottom: 0;
  width: 15%;
  opacity: 0.5;
  filter: alpha(opacity=50);
  font-size: 20px;
  color: #fff;
  text-align: center;
  text-shadow: 0 1px 2px rgba(0, 0, 0, 0.6);
  background-color: rgba(0, 0, 0, 0);
}
.carousel-control.left {
  background-image: -webkit-linear-gradient(left, rgba(0, 0, 0, 0.5) 0%, rgba(0, 0, 0, 0.0001) 100%);
  background-image: -o-linear-gradient(left, rgba(0, 0, 0, 0.5) 0%, rgba(0, 0, 0, 0.0001) 100%);
  background-image: linear-gradient(to right, rgba(0, 0, 0, 0.5) 0%, rgba(0, 0, 0, 0.0001) 100%);
  background-repeat: repeat-x;
  filter: progid:DXImageTransform.Microsoft.gradient(startColorstr='#80000000', endColorstr='#00000000', GradientType=1);
}
.carousel-control.right {
  left: auto;
  right: 0;
  background-image: -webkit-linear-gradient(left, rgba(0, 0, 0, 0.0001) 0%, rgba(0, 0, 0, 0.5) 100%);
  background-image: -o-linear-gradient(left, rgba(0, 0, 0, 0.0001) 0%, rgba(0, 0, 0, 0.5) 100%);
  background-image: linear-gradient(to right, rgba(0, 0, 0, 0.0001) 0%, rgba(0, 0, 0, 0.5) 100%);
  background-repeat: repeat-x;
  filter: progid:DXImageTransform.Microsoft.gradient(startColorstr='#00000000', endColorstr='#80000000', GradientType=1);
}
.carousel-control:hover,
.carousel-control:focus {
  outline: 0;
  color: #fff;
  text-decoration: none;
  opacity: 0.9;
  filter: alpha(opacity=90);
}
.carousel-control .icon-prev,
.carousel-control .icon-next,
.carousel-control .glyphicon-chevron-left,
.carousel-control .glyphicon-chevron-right {
  position: absolute;
  top: 50%;
  margin-top: -10px;
  z-index: 5;
  display: inline-block;
}
.carousel-control .icon-prev,
.carousel-control .glyphicon-chevron-left {
  left: 50%;
  margin-left: -10px;
}
.carousel-control .icon-next,
.carousel-control .glyphicon-chevron-right {
  right: 50%;
  margin-right: -10px;
}
.carousel-control .icon-prev,
.carousel-control .icon-next {
  width: 20px;
  height: 20px;
  line-height: 1;
  font-family: serif;
}
.carousel-control .icon-prev:before {
  content: '\2039';
}
.carousel-control .icon-next:before {
  content: '\203a';
}
.carousel-indicators {
  position: absolute;
  bottom: 10px;
  left: 50%;
  z-index: 15;
  width: 60%;
  margin-left: -30%;
  padding-left: 0;
  list-style: none;
  text-align: center;
}
.carousel-indicators li {
  display: inline-block;
  width: 10px;
  height: 10px;
  margin: 1px;
  text-indent: -999px;
  border: 1px solid #fff;
  border-radius: 10px;
  cursor: pointer;
  background-color: #000 \9;
  background-color: rgba(0, 0, 0, 0);
}
.carousel-indicators .active {
  margin: 0;
  width: 12px;
  height: 12px;
  background-color: #fff;
}
.carousel-caption {
  position: absolute;
  left: 15%;
  right: 15%;
  bottom: 20px;
  z-index: 10;
  padding-top: 20px;
  padding-bottom: 20px;
  color: #fff;
  text-align: center;
  text-shadow: 0 1px 2px rgba(0, 0, 0, 0.6);
}
.carousel-caption .btn {
  text-shadow: none;
}
@media screen and (min-width: 768px) {
  .carousel-control .glyphicon-chevron-left,
  .carousel-control .glyphicon-chevron-right,
  .carousel-control .icon-prev,
  .carousel-control .icon-next {
    width: 30px;
    height: 30px;
    margin-top: -10px;
    font-size: 30px;
  }
  .carousel-control .glyphicon-chevron-left,
  .carousel-control .icon-prev {
    margin-left: -10px;
  }
  .carousel-control .glyphicon-chevron-right,
  .carousel-control .icon-next {
    margin-right: -10px;
  }
  .carousel-caption {
    left: 20%;
    right: 20%;
    padding-bottom: 30px;
  }
  .carousel-indicators {
    bottom: 20px;
  }
}
.clearfix:before,
.clearfix:after,
.dl-horizontal dd:before,
.dl-horizontal dd:after,
.container:before,
.container:after,
.container-fluid:before,
.container-fluid:after,
.row:before,
.row:after,
.form-horizontal .form-group:before,
.form-horizontal .form-group:after,
.btn-toolbar:before,
.btn-toolbar:after,
.btn-group-vertical > .btn-group:before,
.btn-group-vertical > .btn-group:after,
.nav:before,
.nav:after,
.navbar:before,
.navbar:after,
.navbar-header:before,
.navbar-header:after,
.navbar-collapse:before,
.navbar-collapse:after,
.pager:before,
.pager:after,
.panel-body:before,
.panel-body:after,
.modal-header:before,
.modal-header:after,
.modal-footer:before,
.modal-footer:after,
.item_buttons:before,
.item_buttons:after {
  content: " ";
  display: table;
}
.clearfix:after,
.dl-horizontal dd:after,
.container:after,
.container-fluid:after,
.row:after,
.form-horizontal .form-group:after,
.btn-toolbar:after,
.btn-group-vertical > .btn-group:after,
.nav:after,
.navbar:after,
.navbar-header:after,
.navbar-collapse:after,
.pager:after,
.panel-body:after,
.modal-header:after,
.modal-footer:after,
.item_buttons:after {
  clear: both;
}
.center-block {
  display: block;
  margin-left: auto;
  margin-right: auto;
}
.pull-right {
  float: right !important;
}
.pull-left {
  float: left !important;
}
.hide {
  display: none !important;
}
.show {
  display: block !important;
}
.invisible {
  visibility: hidden;
}
.text-hide {
  font: 0/0 a;
  color: transparent;
  text-shadow: none;
  background-color: transparent;
  border: 0;
}
.hidden {
  display: none !important;
}
.affix {
  position: fixed;
}
@-ms-viewport {
  width: device-width;
}
.visible-xs,
.visible-sm,
.visible-md,
.visible-lg {
  display: none !important;
}
.visible-xs-block,
.visible-xs-inline,
.visible-xs-inline-block,
.visible-sm-block,
.visible-sm-inline,
.visible-sm-inline-block,
.visible-md-block,
.visible-md-inline,
.visible-md-inline-block,
.visible-lg-block,
.visible-lg-inline,
.visible-lg-inline-block {
  display: none !important;
}
@media (max-width: 767px) {
  .visible-xs {
    display: block !important;
  }
  table.visible-xs {
    display: table !important;
  }
  tr.visible-xs {
    display: table-row !important;
  }
  th.visible-xs,
  td.visible-xs {
    display: table-cell !important;
  }
}
@media (max-width: 767px) {
  .visible-xs-block {
    display: block !important;
  }
}
@media (max-width: 767px) {
  .visible-xs-inline {
    display: inline !important;
  }
}
@media (max-width: 767px) {
  .visible-xs-inline-block {
    display: inline-block !important;
  }
}
@media (min-width: 768px) and (max-width: 991px) {
  .visible-sm {
    display: block !important;
  }
  table.visible-sm {
    display: table !important;
  }
  tr.visible-sm {
    display: table-row !important;
  }
  th.visible-sm,
  td.visible-sm {
    display: table-cell !important;
  }
}
@media (min-width: 768px) and (max-width: 991px) {
  .visible-sm-block {
    display: block !important;
  }
}
@media (min-width: 768px) and (max-width: 991px) {
  .visible-sm-inline {
    display: inline !important;
  }
}
@media (min-width: 768px) and (max-width: 991px) {
  .visible-sm-inline-block {
    display: inline-block !important;
  }
}
@media (min-width: 992px) and (max-width: 1199px) {
  .visible-md {
    display: block !important;
  }
  table.visible-md {
    display: table !important;
  }
  tr.visible-md {
    display: table-row !important;
  }
  th.visible-md,
  td.visible-md {
    display: table-cell !important;
  }
}
@media (min-width: 992px) and (max-width: 1199px) {
  .visible-md-block {
    display: block !important;
  }
}
@media (min-width: 992px) and (max-width: 1199px) {
  .visible-md-inline {
    display: inline !important;
  }
}
@media (min-width: 992px) and (max-width: 1199px) {
  .visible-md-inline-block {
    display: inline-block !important;
  }
}
@media (min-width: 1200px) {
  .visible-lg {
    display: block !important;
  }
  table.visible-lg {
    display: table !important;
  }
  tr.visible-lg {
    display: table-row !important;
  }
  th.visible-lg,
  td.visible-lg {
    display: table-cell !important;
  }
}
@media (min-width: 1200px) {
  .visible-lg-block {
    display: block !important;
  }
}
@media (min-width: 1200px) {
  .visible-lg-inline {
    display: inline !important;
  }
}
@media (min-width: 1200px) {
  .visible-lg-inline-block {
    display: inline-block !important;
  }
}
@media (max-width: 767px) {
  .hidden-xs {
    display: none !important;
  }
}
@media (min-width: 768px) and (max-width: 991px) {
  .hidden-sm {
    display: none !important;
  }
}
@media (min-width: 992px) and (max-width: 1199px) {
  .hidden-md {
    display: none !important;
  }
}
@media (min-width: 1200px) {
  .hidden-lg {
    display: none !important;
  }
}
.visible-print {
  display: none !important;
}
@media print {
  .visible-print {
    display: block !important;
  }
  table.visible-print {
    display: table !important;
  }
  tr.visible-print {
    display: table-row !important;
  }
  th.visible-print,
  td.visible-print {
    display: table-cell !important;
  }
}
.visible-print-block {
  display: none !important;
}
@media print {
  .visible-print-block {
    display: block !important;
  }
}
.visible-print-inline {
  display: none !important;
}
@media print {
  .visible-print-inline {
    display: inline !important;
  }
}
.visible-print-inline-block {
  display: none !important;
}
@media print {
  .visible-print-inline-block {
    display: inline-block !important;
  }
}
@media print {
  .hidden-print {
    display: none !important;
  }
}
/*!
*
* Font Awesome
*
*/
/*!
 *  Font Awesome 4.7.0 by @davegandy - http://fontawesome.io - @fontawesome
 *  License - http://fontawesome.io/license (Font: SIL OFL 1.1, CSS: MIT License)
 */
/* FONT PATH
 * -------------------------- */
@font-face {
  font-family: 'FontAwesome';
  src: url('../components/font-awesome/fonts/fontawesome-webfont.eot?v=4.7.0');
  src: url('../components/font-awesome/fonts/fontawesome-webfont.eot?#iefix&v=4.7.0') format('embedded-opentype'), url('../components/font-awesome/fonts/fontawesome-webfont.woff2?v=4.7.0') format('woff2'), url('../components/font-awesome/fonts/fontawesome-webfont.woff?v=4.7.0') format('woff'), url('../components/font-awesome/fonts/fontawesome-webfont.ttf?v=4.7.0') format('truetype'), url('../components/font-awesome/fonts/fontawesome-webfont.svg?v=4.7.0#fontawesomeregular') format('svg');
  font-weight: normal;
  font-style: normal;
}
.fa {
  display: inline-block;
  font: normal normal normal 14px/1 FontAwesome;
  font-size: inherit;
  text-rendering: auto;
  -webkit-font-smoothing: antialiased;
  -moz-osx-font-smoothing: grayscale;
}
/* makes the font 33% larger relative to the icon container */
.fa-lg {
  font-size: 1.33333333em;
  line-height: 0.75em;
  vertical-align: -15%;
}
.fa-2x {
  font-size: 2em;
}
.fa-3x {
  font-size: 3em;
}
.fa-4x {
  font-size: 4em;
}
.fa-5x {
  font-size: 5em;
}
.fa-fw {
  width: 1.28571429em;
  text-align: center;
}
.fa-ul {
  padding-left: 0;
  margin-left: 2.14285714em;
  list-style-type: none;
}
.fa-ul > li {
  position: relative;
}
.fa-li {
  position: absolute;
  left: -2.14285714em;
  width: 2.14285714em;
  top: 0.14285714em;
  text-align: center;
}
.fa-li.fa-lg {
  left: -1.85714286em;
}
.fa-border {
  padding: .2em .25em .15em;
  border: solid 0.08em #eee;
  border-radius: .1em;
}
.fa-pull-left {
  float: left;
}
.fa-pull-right {
  float: right;
}
.fa.fa-pull-left {
  margin-right: .3em;
}
.fa.fa-pull-right {
  margin-left: .3em;
}
/* Deprecated as of 4.4.0 */
.pull-right {
  float: right;
}
.pull-left {
  float: left;
}
.fa.pull-left {
  margin-right: .3em;
}
.fa.pull-right {
  margin-left: .3em;
}
.fa-spin {
  -webkit-animation: fa-spin 2s infinite linear;
  animation: fa-spin 2s infinite linear;
}
.fa-pulse {
  -webkit-animation: fa-spin 1s infinite steps(8);
  animation: fa-spin 1s infinite steps(8);
}
@-webkit-keyframes fa-spin {
  0% {
    -webkit-transform: rotate(0deg);
    transform: rotate(0deg);
  }
  100% {
    -webkit-transform: rotate(359deg);
    transform: rotate(359deg);
  }
}
@keyframes fa-spin {
  0% {
    -webkit-transform: rotate(0deg);
    transform: rotate(0deg);
  }
  100% {
    -webkit-transform: rotate(359deg);
    transform: rotate(359deg);
  }
}
.fa-rotate-90 {
  -ms-filter: "progid:DXImageTransform.Microsoft.BasicImage(rotation=1)";
  -webkit-transform: rotate(90deg);
  -ms-transform: rotate(90deg);
  transform: rotate(90deg);
}
.fa-rotate-180 {
  -ms-filter: "progid:DXImageTransform.Microsoft.BasicImage(rotation=2)";
  -webkit-transform: rotate(180deg);
  -ms-transform: rotate(180deg);
  transform: rotate(180deg);
}
.fa-rotate-270 {
  -ms-filter: "progid:DXImageTransform.Microsoft.BasicImage(rotation=3)";
  -webkit-transform: rotate(270deg);
  -ms-transform: rotate(270deg);
  transform: rotate(270deg);
}
.fa-flip-horizontal {
  -ms-filter: "progid:DXImageTransform.Microsoft.BasicImage(rotation=0, mirror=1)";
  -webkit-transform: scale(-1, 1);
  -ms-transform: scale(-1, 1);
  transform: scale(-1, 1);
}
.fa-flip-vertical {
  -ms-filter: "progid:DXImageTransform.Microsoft.BasicImage(rotation=2, mirror=1)";
  -webkit-transform: scale(1, -1);
  -ms-transform: scale(1, -1);
  transform: scale(1, -1);
}
:root .fa-rotate-90,
:root .fa-rotate-180,
:root .fa-rotate-270,
:root .fa-flip-horizontal,
:root .fa-flip-vertical {
  filter: none;
}
.fa-stack {
  position: relative;
  display: inline-block;
  width: 2em;
  height: 2em;
  line-height: 2em;
  vertical-align: middle;
}
.fa-stack-1x,
.fa-stack-2x {
  position: absolute;
  left: 0;
  width: 100%;
  text-align: center;
}
.fa-stack-1x {
  line-height: inherit;
}
.fa-stack-2x {
  font-size: 2em;
}
.fa-inverse {
  color: #fff;
}
/* Font Awesome uses the Unicode Private Use Area (PUA) to ensure screen
   readers do not read off random characters that represent icons */
.fa-glass:before {
  content: "\f000";
}
.fa-music:before {
  content: "\f001";
}
.fa-search:before {
  content: "\f002";
}
.fa-envelope-o:before {
  content: "\f003";
}
.fa-heart:before {
  content: "\f004";
}
.fa-star:before {
  content: "\f005";
}
.fa-star-o:before {
  content: "\f006";
}
.fa-user:before {
  content: "\f007";
}
.fa-film:before {
  content: "\f008";
}
.fa-th-large:before {
  content: "\f009";
}
.fa-th:before {
  content: "\f00a";
}
.fa-th-list:before {
  content: "\f00b";
}
.fa-check:before {
  content: "\f00c";
}
.fa-remove:before,
.fa-close:before,
.fa-times:before {
  content: "\f00d";
}
.fa-search-plus:before {
  content: "\f00e";
}
.fa-search-minus:before {
  content: "\f010";
}
.fa-power-off:before {
  content: "\f011";
}
.fa-signal:before {
  content: "\f012";
}
.fa-gear:before,
.fa-cog:before {
  content: "\f013";
}
.fa-trash-o:before {
  content: "\f014";
}
.fa-home:before {
  content: "\f015";
}
.fa-file-o:before {
  content: "\f016";
}
.fa-clock-o:before {
  content: "\f017";
}
.fa-road:before {
  content: "\f018";
}
.fa-download:before {
  content: "\f019";
}
.fa-arrow-circle-o-down:before {
  content: "\f01a";
}
.fa-arrow-circle-o-up:before {
  content: "\f01b";
}
.fa-inbox:before {
  content: "\f01c";
}
.fa-play-circle-o:before {
  content: "\f01d";
}
.fa-rotate-right:before,
.fa-repeat:before {
  content: "\f01e";
}
.fa-refresh:before {
  content: "\f021";
}
.fa-list-alt:before {
  content: "\f022";
}
.fa-lock:before {
  content: "\f023";
}
.fa-flag:before {
  content: "\f024";
}
.fa-headphones:before {
  content: "\f025";
}
.fa-volume-off:before {
  content: "\f026";
}
.fa-volume-down:before {
  content: "\f027";
}
.fa-volume-up:before {
  content: "\f028";
}
.fa-qrcode:before {
  content: "\f029";
}
.fa-barcode:before {
  content: "\f02a";
}
.fa-tag:before {
  content: "\f02b";
}
.fa-tags:before {
  content: "\f02c";
}
.fa-book:before {
  content: "\f02d";
}
.fa-bookmark:before {
  content: "\f02e";
}
.fa-print:before {
  content: "\f02f";
}
.fa-camera:before {
  content: "\f030";
}
.fa-font:before {
  content: "\f031";
}
.fa-bold:before {
  content: "\f032";
}
.fa-italic:before {
  content: "\f033";
}
.fa-text-height:before {
  content: "\f034";
}
.fa-text-width:before {
  content: "\f035";
}
.fa-align-left:before {
  content: "\f036";
}
.fa-align-center:before {
  content: "\f037";
}
.fa-align-right:before {
  content: "\f038";
}
.fa-align-justify:before {
  content: "\f039";
}
.fa-list:before {
  content: "\f03a";
}
.fa-dedent:before,
.fa-outdent:before {
  content: "\f03b";
}
.fa-indent:before {
  content: "\f03c";
}
.fa-video-camera:before {
  content: "\f03d";
}
.fa-photo:before,
.fa-image:before,
.fa-picture-o:before {
  content: "\f03e";
}
.fa-pencil:before {
  content: "\f040";
}
.fa-map-marker:before {
  content: "\f041";
}
.fa-adjust:before {
  content: "\f042";
}
.fa-tint:before {
  content: "\f043";
}
.fa-edit:before,
.fa-pencil-square-o:before {
  content: "\f044";
}
.fa-share-square-o:before {
  content: "\f045";
}
.fa-check-square-o:before {
  content: "\f046";
}
.fa-arrows:before {
  content: "\f047";
}
.fa-step-backward:before {
  content: "\f048";
}
.fa-fast-backward:before {
  content: "\f049";
}
.fa-backward:before {
  content: "\f04a";
}
.fa-play:before {
  content: "\f04b";
}
.fa-pause:before {
  content: "\f04c";
}
.fa-stop:before {
  content: "\f04d";
}
.fa-forward:before {
  content: "\f04e";
}
.fa-fast-forward:before {
  content: "\f050";
}
.fa-step-forward:before {
  content: "\f051";
}
.fa-eject:before {
  content: "\f052";
}
.fa-chevron-left:before {
  content: "\f053";
}
.fa-chevron-right:before {
  content: "\f054";
}
.fa-plus-circle:before {
  content: "\f055";
}
.fa-minus-circle:before {
  content: "\f056";
}
.fa-times-circle:before {
  content: "\f057";
}
.fa-check-circle:before {
  content: "\f058";
}
.fa-question-circle:before {
  content: "\f059";
}
.fa-info-circle:before {
  content: "\f05a";
}
.fa-crosshairs:before {
  content: "\f05b";
}
.fa-times-circle-o:before {
  content: "\f05c";
}
.fa-check-circle-o:before {
  content: "\f05d";
}
.fa-ban:before {
  content: "\f05e";
}
.fa-arrow-left:before {
  content: "\f060";
}
.fa-arrow-right:before {
  content: "\f061";
}
.fa-arrow-up:before {
  content: "\f062";
}
.fa-arrow-down:before {
  content: "\f063";
}
.fa-mail-forward:before,
.fa-share:before {
  content: "\f064";
}
.fa-expand:before {
  content: "\f065";
}
.fa-compress:before {
  content: "\f066";
}
.fa-plus:before {
  content: "\f067";
}
.fa-minus:before {
  content: "\f068";
}
.fa-asterisk:before {
  content: "\f069";
}
.fa-exclamation-circle:before {
  content: "\f06a";
}
.fa-gift:before {
  content: "\f06b";
}
.fa-leaf:before {
  content: "\f06c";
}
.fa-fire:before {
  content: "\f06d";
}
.fa-eye:before {
  content: "\f06e";
}
.fa-eye-slash:before {
  content: "\f070";
}
.fa-warning:before,
.fa-exclamation-triangle:before {
  content: "\f071";
}
.fa-plane:before {
  content: "\f072";
}
.fa-calendar:before {
  content: "\f073";
}
.fa-random:before {
  content: "\f074";
}
.fa-comment:before {
  content: "\f075";
}
.fa-magnet:before {
  content: "\f076";
}
.fa-chevron-up:before {
  content: "\f077";
}
.fa-chevron-down:before {
  content: "\f078";
}
.fa-retweet:before {
  content: "\f079";
}
.fa-shopping-cart:before {
  content: "\f07a";
}
.fa-folder:before {
  content: "\f07b";
}
.fa-folder-open:before {
  content: "\f07c";
}
.fa-arrows-v:before {
  content: "\f07d";
}
.fa-arrows-h:before {
  content: "\f07e";
}
.fa-bar-chart-o:before,
.fa-bar-chart:before {
  content: "\f080";
}
.fa-twitter-square:before {
  content: "\f081";
}
.fa-facebook-square:before {
  content: "\f082";
}
.fa-camera-retro:before {
  content: "\f083";
}
.fa-key:before {
  content: "\f084";
}
.fa-gears:before,
.fa-cogs:before {
  content: "\f085";
}
.fa-comments:before {
  content: "\f086";
}
.fa-thumbs-o-up:before {
  content: "\f087";
}
.fa-thumbs-o-down:before {
  content: "\f088";
}
.fa-star-half:before {
  content: "\f089";
}
.fa-heart-o:before {
  content: "\f08a";
}
.fa-sign-out:before {
  content: "\f08b";
}
.fa-linkedin-square:before {
  content: "\f08c";
}
.fa-thumb-tack:before {
  content: "\f08d";
}
.fa-external-link:before {
  content: "\f08e";
}
.fa-sign-in:before {
  content: "\f090";
}
.fa-trophy:before {
  content: "\f091";
}
.fa-github-square:before {
  content: "\f092";
}
.fa-upload:before {
  content: "\f093";
}
.fa-lemon-o:before {
  content: "\f094";
}
.fa-phone:before {
  content: "\f095";
}
.fa-square-o:before {
  content: "\f096";
}
.fa-bookmark-o:before {
  content: "\f097";
}
.fa-phone-square:before {
  content: "\f098";
}
.fa-twitter:before {
  content: "\f099";
}
.fa-facebook-f:before,
.fa-facebook:before {
  content: "\f09a";
}
.fa-github:before {
  content: "\f09b";
}
.fa-unlock:before {
  content: "\f09c";
}
.fa-credit-card:before {
  content: "\f09d";
}
.fa-feed:before,
.fa-rss:before {
  content: "\f09e";
}
.fa-hdd-o:before {
  content: "\f0a0";
}
.fa-bullhorn:before {
  content: "\f0a1";
}
.fa-bell:before {
  content: "\f0f3";
}
.fa-certificate:before {
  content: "\f0a3";
}
.fa-hand-o-right:before {
  content: "\f0a4";
}
.fa-hand-o-left:before {
  content: "\f0a5";
}
.fa-hand-o-up:before {
  content: "\f0a6";
}
.fa-hand-o-down:before {
  content: "\f0a7";
}
.fa-arrow-circle-left:before {
  content: "\f0a8";
}
.fa-arrow-circle-right:before {
  content: "\f0a9";
}
.fa-arrow-circle-up:before {
  content: "\f0aa";
}
.fa-arrow-circle-down:before {
  content: "\f0ab";
}
.fa-globe:before {
  content: "\f0ac";
}
.fa-wrench:before {
  content: "\f0ad";
}
.fa-tasks:before {
  content: "\f0ae";
}
.fa-filter:before {
  content: "\f0b0";
}
.fa-briefcase:before {
  content: "\f0b1";
}
.fa-arrows-alt:before {
  content: "\f0b2";
}
.fa-group:before,
.fa-users:before {
  content: "\f0c0";
}
.fa-chain:before,
.fa-link:before {
  content: "\f0c1";
}
.fa-cloud:before {
  content: "\f0c2";
}
.fa-flask:before {
  content: "\f0c3";
}
.fa-cut:before,
.fa-scissors:before {
  content: "\f0c4";
}
.fa-copy:before,
.fa-files-o:before {
  content: "\f0c5";
}
.fa-paperclip:before {
  content: "\f0c6";
}
.fa-save:before,
.fa-floppy-o:before {
  content: "\f0c7";
}
.fa-square:before {
  content: "\f0c8";
}
.fa-navicon:before,
.fa-reorder:before,
.fa-bars:before {
  content: "\f0c9";
}
.fa-list-ul:before {
  content: "\f0ca";
}
.fa-list-ol:before {
  content: "\f0cb";
}
.fa-strikethrough:before {
  content: "\f0cc";
}
.fa-underline:before {
  content: "\f0cd";
}
.fa-table:before {
  content: "\f0ce";
}
.fa-magic:before {
  content: "\f0d0";
}
.fa-truck:before {
  content: "\f0d1";
}
.fa-pinterest:before {
  content: "\f0d2";
}
.fa-pinterest-square:before {
  content: "\f0d3";
}
.fa-google-plus-square:before {
  content: "\f0d4";
}
.fa-google-plus:before {
  content: "\f0d5";
}
.fa-money:before {
  content: "\f0d6";
}
.fa-caret-down:before {
  content: "\f0d7";
}
.fa-caret-up:before {
  content: "\f0d8";
}
.fa-caret-left:before {
  content: "\f0d9";
}
.fa-caret-right:before {
  content: "\f0da";
}
.fa-columns:before {
  content: "\f0db";
}
.fa-unsorted:before,
.fa-sort:before {
  content: "\f0dc";
}
.fa-sort-down:before,
.fa-sort-desc:before {
  content: "\f0dd";
}
.fa-sort-up:before,
.fa-sort-asc:before {
  content: "\f0de";
}
.fa-envelope:before {
  content: "\f0e0";
}
.fa-linkedin:before {
  content: "\f0e1";
}
.fa-rotate-left:before,
.fa-undo:before {
  content: "\f0e2";
}
.fa-legal:before,
.fa-gavel:before {
  content: "\f0e3";
}
.fa-dashboard:before,
.fa-tachometer:before {
  content: "\f0e4";
}
.fa-comment-o:before {
  content: "\f0e5";
}
.fa-comments-o:before {
  content: "\f0e6";
}
.fa-flash:before,
.fa-bolt:before {
  content: "\f0e7";
}
.fa-sitemap:before {
  content: "\f0e8";
}
.fa-umbrella:before {
  content: "\f0e9";
}
.fa-paste:before,
.fa-clipboard:before {
  content: "\f0ea";
}
.fa-lightbulb-o:before {
  content: "\f0eb";
}
.fa-exchange:before {
  content: "\f0ec";
}
.fa-cloud-download:before {
  content: "\f0ed";
}
.fa-cloud-upload:before {
  content: "\f0ee";
}
.fa-user-md:before {
  content: "\f0f0";
}
.fa-stethoscope:before {
  content: "\f0f1";
}
.fa-suitcase:before {
  content: "\f0f2";
}
.fa-bell-o:before {
  content: "\f0a2";
}
.fa-coffee:before {
  content: "\f0f4";
}
.fa-cutlery:before {
  content: "\f0f5";
}
.fa-file-text-o:before {
  content: "\f0f6";
}
.fa-building-o:before {
  content: "\f0f7";
}
.fa-hospital-o:before {
  content: "\f0f8";
}
.fa-ambulance:before {
  content: "\f0f9";
}
.fa-medkit:before {
  content: "\f0fa";
}
.fa-fighter-jet:before {
  content: "\f0fb";
}
.fa-beer:before {
  content: "\f0fc";
}
.fa-h-square:before {
  content: "\f0fd";
}
.fa-plus-square:before {
  content: "\f0fe";
}
.fa-angle-double-left:before {
  content: "\f100";
}
.fa-angle-double-right:before {
  content: "\f101";
}
.fa-angle-double-up:before {
  content: "\f102";
}
.fa-angle-double-down:before {
  content: "\f103";
}
.fa-angle-left:before {
  content: "\f104";
}
.fa-angle-right:before {
  content: "\f105";
}
.fa-angle-up:before {
  content: "\f106";
}
.fa-angle-down:before {
  content: "\f107";
}
.fa-desktop:before {
  content: "\f108";
}
.fa-laptop:before {
  content: "\f109";
}
.fa-tablet:before {
  content: "\f10a";
}
.fa-mobile-phone:before,
.fa-mobile:before {
  content: "\f10b";
}
.fa-circle-o:before {
  content: "\f10c";
}
.fa-quote-left:before {
  content: "\f10d";
}
.fa-quote-right:before {
  content: "\f10e";
}
.fa-spinner:before {
  content: "\f110";
}
.fa-circle:before {
  content: "\f111";
}
.fa-mail-reply:before,
.fa-reply:before {
  content: "\f112";
}
.fa-github-alt:before {
  content: "\f113";
}
.fa-folder-o:before {
  content: "\f114";
}
.fa-folder-open-o:before {
  content: "\f115";
}
.fa-smile-o:before {
  content: "\f118";
}
.fa-frown-o:before {
  content: "\f119";
}
.fa-meh-o:before {
  content: "\f11a";
}
.fa-gamepad:before {
  content: "\f11b";
}
.fa-keyboard-o:before {
  content: "\f11c";
}
.fa-flag-o:before {
  content: "\f11d";
}
.fa-flag-checkered:before {
  content: "\f11e";
}
.fa-terminal:before {
  content: "\f120";
}
.fa-code:before {
  content: "\f121";
}
.fa-mail-reply-all:before,
.fa-reply-all:before {
  content: "\f122";
}
.fa-star-half-empty:before,
.fa-star-half-full:before,
.fa-star-half-o:before {
  content: "\f123";
}
.fa-location-arrow:before {
  content: "\f124";
}
.fa-crop:before {
  content: "\f125";
}
.fa-code-fork:before {
  content: "\f126";
}
.fa-unlink:before,
.fa-chain-broken:before {
  content: "\f127";
}
.fa-question:before {
  content: "\f128";
}
.fa-info:before {
  content: "\f129";
}
.fa-exclamation:before {
  content: "\f12a";
}
.fa-superscript:before {
  content: "\f12b";
}
.fa-subscript:before {
  content: "\f12c";
}
.fa-eraser:before {
  content: "\f12d";
}
.fa-puzzle-piece:before {
  content: "\f12e";
}
.fa-microphone:before {
  content: "\f130";
}
.fa-microphone-slash:before {
  content: "\f131";
}
.fa-shield:before {
  content: "\f132";
}
.fa-calendar-o:before {
  content: "\f133";
}
.fa-fire-extinguisher:before {
  content: "\f134";
}
.fa-rocket:before {
  content: "\f135";
}
.fa-maxcdn:before {
  content: "\f136";
}
.fa-chevron-circle-left:before {
  content: "\f137";
}
.fa-chevron-circle-right:before {
  content: "\f138";
}
.fa-chevron-circle-up:before {
  content: "\f139";
}
.fa-chevron-circle-down:before {
  content: "\f13a";
}
.fa-html5:before {
  content: "\f13b";
}
.fa-css3:before {
  content: "\f13c";
}
.fa-anchor:before {
  content: "\f13d";
}
.fa-unlock-alt:before {
  content: "\f13e";
}
.fa-bullseye:before {
  content: "\f140";
}
.fa-ellipsis-h:before {
  content: "\f141";
}
.fa-ellipsis-v:before {
  content: "\f142";
}
.fa-rss-square:before {
  content: "\f143";
}
.fa-play-circle:before {
  content: "\f144";
}
.fa-ticket:before {
  content: "\f145";
}
.fa-minus-square:before {
  content: "\f146";
}
.fa-minus-square-o:before {
  content: "\f147";
}
.fa-level-up:before {
  content: "\f148";
}
.fa-level-down:before {
  content: "\f149";
}
.fa-check-square:before {
  content: "\f14a";
}
.fa-pencil-square:before {
  content: "\f14b";
}
.fa-external-link-square:before {
  content: "\f14c";
}
.fa-share-square:before {
  content: "\f14d";
}
.fa-compass:before {
  content: "\f14e";
}
.fa-toggle-down:before,
.fa-caret-square-o-down:before {
  content: "\f150";
}
.fa-toggle-up:before,
.fa-caret-square-o-up:before {
  content: "\f151";
}
.fa-toggle-right:before,
.fa-caret-square-o-right:before {
  content: "\f152";
}
.fa-euro:before,
.fa-eur:before {
  content: "\f153";
}
.fa-gbp:before {
  content: "\f154";
}
.fa-dollar:before,
.fa-usd:before {
  content: "\f155";
}
.fa-rupee:before,
.fa-inr:before {
  content: "\f156";
}
.fa-cny:before,
.fa-rmb:before,
.fa-yen:before,
.fa-jpy:before {
  content: "\f157";
}
.fa-ruble:before,
.fa-rouble:before,
.fa-rub:before {
  content: "\f158";
}
.fa-won:before,
.fa-krw:before {
  content: "\f159";
}
.fa-bitcoin:before,
.fa-btc:before {
  content: "\f15a";
}
.fa-file:before {
  content: "\f15b";
}
.fa-file-text:before {
  content: "\f15c";
}
.fa-sort-alpha-asc:before {
  content: "\f15d";
}
.fa-sort-alpha-desc:before {
  content: "\f15e";
}
.fa-sort-amount-asc:before {
  content: "\f160";
}
.fa-sort-amount-desc:before {
  content: "\f161";
}
.fa-sort-numeric-asc:before {
  content: "\f162";
}
.fa-sort-numeric-desc:before {
  content: "\f163";
}
.fa-thumbs-up:before {
  content: "\f164";
}
.fa-thumbs-down:before {
  content: "\f165";
}
.fa-youtube-square:before {
  content: "\f166";
}
.fa-youtube:before {
  content: "\f167";
}
.fa-xing:before {
  content: "\f168";
}
.fa-xing-square:before {
  content: "\f169";
}
.fa-youtube-play:before {
  content: "\f16a";
}
.fa-dropbox:before {
  content: "\f16b";
}
.fa-stack-overflow:before {
  content: "\f16c";
}
.fa-instagram:before {
  content: "\f16d";
}
.fa-flickr:before {
  content: "\f16e";
}
.fa-adn:before {
  content: "\f170";
}
.fa-bitbucket:before {
  content: "\f171";
}
.fa-bitbucket-square:before {
  content: "\f172";
}
.fa-tumblr:before {
  content: "\f173";
}
.fa-tumblr-square:before {
  content: "\f174";
}
.fa-long-arrow-down:before {
  content: "\f175";
}
.fa-long-arrow-up:before {
  content: "\f176";
}
.fa-long-arrow-left:before {
  content: "\f177";
}
.fa-long-arrow-right:before {
  content: "\f178";
}
.fa-apple:before {
  content: "\f179";
}
.fa-windows:before {
  content: "\f17a";
}
.fa-android:before {
  content: "\f17b";
}
.fa-linux:before {
  content: "\f17c";
}
.fa-dribbble:before {
  content: "\f17d";
}
.fa-skype:before {
  content: "\f17e";
}
.fa-foursquare:before {
  content: "\f180";
}
.fa-trello:before {
  content: "\f181";
}
.fa-female:before {
  content: "\f182";
}
.fa-male:before {
  content: "\f183";
}
.fa-gittip:before,
.fa-gratipay:before {
  content: "\f184";
}
.fa-sun-o:before {
  content: "\f185";
}
.fa-moon-o:before {
  content: "\f186";
}
.fa-archive:before {
  content: "\f187";
}
.fa-bug:before {
  content: "\f188";
}
.fa-vk:before {
  content: "\f189";
}
.fa-weibo:before {
  content: "\f18a";
}
.fa-renren:before {
  content: "\f18b";
}
.fa-pagelines:before {
  content: "\f18c";
}
.fa-stack-exchange:before {
  content: "\f18d";
}
.fa-arrow-circle-o-right:before {
  content: "\f18e";
}
.fa-arrow-circle-o-left:before {
  content: "\f190";
}
.fa-toggle-left:before,
.fa-caret-square-o-left:before {
  content: "\f191";
}
.fa-dot-circle-o:before {
  content: "\f192";
}
.fa-wheelchair:before {
  content: "\f193";
}
.fa-vimeo-square:before {
  content: "\f194";
}
.fa-turkish-lira:before,
.fa-try:before {
  content: "\f195";
}
.fa-plus-square-o:before {
  content: "\f196";
}
.fa-space-shuttle:before {
  content: "\f197";
}
.fa-slack:before {
  content: "\f198";
}
.fa-envelope-square:before {
  content: "\f199";
}
.fa-wordpress:before {
  content: "\f19a";
}
.fa-openid:before {
  content: "\f19b";
}
.fa-institution:before,
.fa-bank:before,
.fa-university:before {
  content: "\f19c";
}
.fa-mortar-board:before,
.fa-graduation-cap:before {
  content: "\f19d";
}
.fa-yahoo:before {
  content: "\f19e";
}
.fa-google:before {
  content: "\f1a0";
}
.fa-reddit:before {
  content: "\f1a1";
}
.fa-reddit-square:before {
  content: "\f1a2";
}
.fa-stumbleupon-circle:before {
  content: "\f1a3";
}
.fa-stumbleupon:before {
  content: "\f1a4";
}
.fa-delicious:before {
  content: "\f1a5";
}
.fa-digg:before {
  content: "\f1a6";
}
.fa-pied-piper-pp:before {
  content: "\f1a7";
}
.fa-pied-piper-alt:before {
  content: "\f1a8";
}
.fa-drupal:before {
  content: "\f1a9";
}
.fa-joomla:before {
  content: "\f1aa";
}
.fa-language:before {
  content: "\f1ab";
}
.fa-fax:before {
  content: "\f1ac";
}
.fa-building:before {
  content: "\f1ad";
}
.fa-child:before {
  content: "\f1ae";
}
.fa-paw:before {
  content: "\f1b0";
}
.fa-spoon:before {
  content: "\f1b1";
}
.fa-cube:before {
  content: "\f1b2";
}
.fa-cubes:before {
  content: "\f1b3";
}
.fa-behance:before {
  content: "\f1b4";
}
.fa-behance-square:before {
  content: "\f1b5";
}
.fa-steam:before {
  content: "\f1b6";
}
.fa-steam-square:before {
  content: "\f1b7";
}
.fa-recycle:before {
  content: "\f1b8";
}
.fa-automobile:before,
.fa-car:before {
  content: "\f1b9";
}
.fa-cab:before,
.fa-taxi:before {
  content: "\f1ba";
}
.fa-tree:before {
  content: "\f1bb";
}
.fa-spotify:before {
  content: "\f1bc";
}
.fa-deviantart:before {
  content: "\f1bd";
}
.fa-soundcloud:before {
  content: "\f1be";
}
.fa-database:before {
  content: "\f1c0";
}
.fa-file-pdf-o:before {
  content: "\f1c1";
}
.fa-file-word-o:before {
  content: "\f1c2";
}
.fa-file-excel-o:before {
  content: "\f1c3";
}
.fa-file-powerpoint-o:before {
  content: "\f1c4";
}
.fa-file-photo-o:before,
.fa-file-picture-o:before,
.fa-file-image-o:before {
  content: "\f1c5";
}
.fa-file-zip-o:before,
.fa-file-archive-o:before {
  content: "\f1c6";
}
.fa-file-sound-o:before,
.fa-file-audio-o:before {
  content: "\f1c7";
}
.fa-file-movie-o:before,
.fa-file-video-o:before {
  content: "\f1c8";
}
.fa-file-code-o:before {
  content: "\f1c9";
}
.fa-vine:before {
  content: "\f1ca";
}
.fa-codepen:before {
  content: "\f1cb";
}
.fa-jsfiddle:before {
  content: "\f1cc";
}
.fa-life-bouy:before,
.fa-life-buoy:before,
.fa-life-saver:before,
.fa-support:before,
.fa-life-ring:before {
  content: "\f1cd";
}
.fa-circle-o-notch:before {
  content: "\f1ce";
}
.fa-ra:before,
.fa-resistance:before,
.fa-rebel:before {
  content: "\f1d0";
}
.fa-ge:before,
.fa-empire:before {
  content: "\f1d1";
}
.fa-git-square:before {
  content: "\f1d2";
}
.fa-git:before {
  content: "\f1d3";
}
.fa-y-combinator-square:before,
.fa-yc-square:before,
.fa-hacker-news:before {
  content: "\f1d4";
}
.fa-tencent-weibo:before {
  content: "\f1d5";
}
.fa-qq:before {
  content: "\f1d6";
}
.fa-wechat:before,
.fa-weixin:before {
  content: "\f1d7";
}
.fa-send:before,
.fa-paper-plane:before {
  content: "\f1d8";
}
.fa-send-o:before,
.fa-paper-plane-o:before {
  content: "\f1d9";
}
.fa-history:before {
  content: "\f1da";
}
.fa-circle-thin:before {
  content: "\f1db";
}
.fa-header:before {
  content: "\f1dc";
}
.fa-paragraph:before {
  content: "\f1dd";
}
.fa-sliders:before {
  content: "\f1de";
}
.fa-share-alt:before {
  content: "\f1e0";
}
.fa-share-alt-square:before {
  content: "\f1e1";
}
.fa-bomb:before {
  content: "\f1e2";
}
.fa-soccer-ball-o:before,
.fa-futbol-o:before {
  content: "\f1e3";
}
.fa-tty:before {
  content: "\f1e4";
}
.fa-binoculars:before {
  content: "\f1e5";
}
.fa-plug:before {
  content: "\f1e6";
}
.fa-slideshare:before {
  content: "\f1e7";
}
.fa-twitch:before {
  content: "\f1e8";
}
.fa-yelp:before {
  content: "\f1e9";
}
.fa-newspaper-o:before {
  content: "\f1ea";
}
.fa-wifi:before {
  content: "\f1eb";
}
.fa-calculator:before {
  content: "\f1ec";
}
.fa-paypal:before {
  content: "\f1ed";
}
.fa-google-wallet:before {
  content: "\f1ee";
}
.fa-cc-visa:before {
  content: "\f1f0";
}
.fa-cc-mastercard:before {
  content: "\f1f1";
}
.fa-cc-discover:before {
  content: "\f1f2";
}
.fa-cc-amex:before {
  content: "\f1f3";
}
.fa-cc-paypal:before {
  content: "\f1f4";
}
.fa-cc-stripe:before {
  content: "\f1f5";
}
.fa-bell-slash:before {
  content: "\f1f6";
}
.fa-bell-slash-o:before {
  content: "\f1f7";
}
.fa-trash:before {
  content: "\f1f8";
}
.fa-copyright:before {
  content: "\f1f9";
}
.fa-at:before {
  content: "\f1fa";
}
.fa-eyedropper:before {
  content: "\f1fb";
}
.fa-paint-brush:before {
  content: "\f1fc";
}
.fa-birthday-cake:before {
  content: "\f1fd";
}
.fa-area-chart:before {
  content: "\f1fe";
}
.fa-pie-chart:before {
  content: "\f200";
}
.fa-line-chart:before {
  content: "\f201";
}
.fa-lastfm:before {
  content: "\f202";
}
.fa-lastfm-square:before {
  content: "\f203";
}
.fa-toggle-off:before {
  content: "\f204";
}
.fa-toggle-on:before {
  content: "\f205";
}
.fa-bicycle:before {
  content: "\f206";
}
.fa-bus:before {
  content: "\f207";
}
.fa-ioxhost:before {
  content: "\f208";
}
.fa-angellist:before {
  content: "\f209";
}
.fa-cc:before {
  content: "\f20a";
}
.fa-shekel:before,
.fa-sheqel:before,
.fa-ils:before {
  content: "\f20b";
}
.fa-meanpath:before {
  content: "\f20c";
}
.fa-buysellads:before {
  content: "\f20d";
}
.fa-connectdevelop:before {
  content: "\f20e";
}
.fa-dashcube:before {
  content: "\f210";
}
.fa-forumbee:before {
  content: "\f211";
}
.fa-leanpub:before {
  content: "\f212";
}
.fa-sellsy:before {
  content: "\f213";
}
.fa-shirtsinbulk:before {
  content: "\f214";
}
.fa-simplybuilt:before {
  content: "\f215";
}
.fa-skyatlas:before {
  content: "\f216";
}
.fa-cart-plus:before {
  content: "\f217";
}
.fa-cart-arrow-down:before {
  content: "\f218";
}
.fa-diamond:before {
  content: "\f219";
}
.fa-ship:before {
  content: "\f21a";
}
.fa-user-secret:before {
  content: "\f21b";
}
.fa-motorcycle:before {
  content: "\f21c";
}
.fa-street-view:before {
  content: "\f21d";
}
.fa-heartbeat:before {
  content: "\f21e";
}
.fa-venus:before {
  content: "\f221";
}
.fa-mars:before {
  content: "\f222";
}
.fa-mercury:before {
  content: "\f223";
}
.fa-intersex:before,
.fa-transgender:before {
  content: "\f224";
}
.fa-transgender-alt:before {
  content: "\f225";
}
.fa-venus-double:before {
  content: "\f226";
}
.fa-mars-double:before {
  content: "\f227";
}
.fa-venus-mars:before {
  content: "\f228";
}
.fa-mars-stroke:before {
  content: "\f229";
}
.fa-mars-stroke-v:before {
  content: "\f22a";
}
.fa-mars-stroke-h:before {
  content: "\f22b";
}
.fa-neuter:before {
  content: "\f22c";
}
.fa-genderless:before {
  content: "\f22d";
}
.fa-facebook-official:before {
  content: "\f230";
}
.fa-pinterest-p:before {
  content: "\f231";
}
.fa-whatsapp:before {
  content: "\f232";
}
.fa-server:before {
  content: "\f233";
}
.fa-user-plus:before {
  content: "\f234";
}
.fa-user-times:before {
  content: "\f235";
}
.fa-hotel:before,
.fa-bed:before {
  content: "\f236";
}
.fa-viacoin:before {
  content: "\f237";
}
.fa-train:before {
  content: "\f238";
}
.fa-subway:before {
  content: "\f239";
}
.fa-medium:before {
  content: "\f23a";
}
.fa-yc:before,
.fa-y-combinator:before {
  content: "\f23b";
}
.fa-optin-monster:before {
  content: "\f23c";
}
.fa-opencart:before {
  content: "\f23d";
}
.fa-expeditedssl:before {
  content: "\f23e";
}
.fa-battery-4:before,
.fa-battery:before,
.fa-battery-full:before {
  content: "\f240";
}
.fa-battery-3:before,
.fa-battery-three-quarters:before {
  content: "\f241";
}
.fa-battery-2:before,
.fa-battery-half:before {
  content: "\f242";
}
.fa-battery-1:before,
.fa-battery-quarter:before {
  content: "\f243";
}
.fa-battery-0:before,
.fa-battery-empty:before {
  content: "\f244";
}
.fa-mouse-pointer:before {
  content: "\f245";
}
.fa-i-cursor:before {
  content: "\f246";
}
.fa-object-group:before {
  content: "\f247";
}
.fa-object-ungroup:before {
  content: "\f248";
}
.fa-sticky-note:before {
  content: "\f249";
}
.fa-sticky-note-o:before {
  content: "\f24a";
}
.fa-cc-jcb:before {
  content: "\f24b";
}
.fa-cc-diners-club:before {
  content: "\f24c";
}
.fa-clone:before {
  content: "\f24d";
}
.fa-balance-scale:before {
  content: "\f24e";
}
.fa-hourglass-o:before {
  content: "\f250";
}
.fa-hourglass-1:before,
.fa-hourglass-start:before {
  content: "\f251";
}
.fa-hourglass-2:before,
.fa-hourglass-half:before {
  content: "\f252";
}
.fa-hourglass-3:before,
.fa-hourglass-end:before {
  content: "\f253";
}
.fa-hourglass:before {
  content: "\f254";
}
.fa-hand-grab-o:before,
.fa-hand-rock-o:before {
  content: "\f255";
}
.fa-hand-stop-o:before,
.fa-hand-paper-o:before {
  content: "\f256";
}
.fa-hand-scissors-o:before {
  content: "\f257";
}
.fa-hand-lizard-o:before {
  content: "\f258";
}
.fa-hand-spock-o:before {
  content: "\f259";
}
.fa-hand-pointer-o:before {
  content: "\f25a";
}
.fa-hand-peace-o:before {
  content: "\f25b";
}
.fa-trademark:before {
  content: "\f25c";
}
.fa-registered:before {
  content: "\f25d";
}
.fa-creative-commons:before {
  content: "\f25e";
}
.fa-gg:before {
  content: "\f260";
}
.fa-gg-circle:before {
  content: "\f261";
}
.fa-tripadvisor:before {
  content: "\f262";
}
.fa-odnoklassniki:before {
  content: "\f263";
}
.fa-odnoklassniki-square:before {
  content: "\f264";
}
.fa-get-pocket:before {
  content: "\f265";
}
.fa-wikipedia-w:before {
  content: "\f266";
}
.fa-safari:before {
  content: "\f267";
}
.fa-chrome:before {
  content: "\f268";
}
.fa-firefox:before {
  content: "\f269";
}
.fa-opera:before {
  content: "\f26a";
}
.fa-internet-explorer:before {
  content: "\f26b";
}
.fa-tv:before,
.fa-television:before {
  content: "\f26c";
}
.fa-contao:before {
  content: "\f26d";
}
.fa-500px:before {
  content: "\f26e";
}
.fa-amazon:before {
  content: "\f270";
}
.fa-calendar-plus-o:before {
  content: "\f271";
}
.fa-calendar-minus-o:before {
  content: "\f272";
}
.fa-calendar-times-o:before {
  content: "\f273";
}
.fa-calendar-check-o:before {
  content: "\f274";
}
.fa-industry:before {
  content: "\f275";
}
.fa-map-pin:before {
  content: "\f276";
}
.fa-map-signs:before {
  content: "\f277";
}
.fa-map-o:before {
  content: "\f278";
}
.fa-map:before {
  content: "\f279";
}
.fa-commenting:before {
  content: "\f27a";
}
.fa-commenting-o:before {
  content: "\f27b";
}
.fa-houzz:before {
  content: "\f27c";
}
.fa-vimeo:before {
  content: "\f27d";
}
.fa-black-tie:before {
  content: "\f27e";
}
.fa-fonticons:before {
  content: "\f280";
}
.fa-reddit-alien:before {
  content: "\f281";
}
.fa-edge:before {
  content: "\f282";
}
.fa-credit-card-alt:before {
  content: "\f283";
}
.fa-codiepie:before {
  content: "\f284";
}
.fa-modx:before {
  content: "\f285";
}
.fa-fort-awesome:before {
  content: "\f286";
}
.fa-usb:before {
  content: "\f287";
}
.fa-product-hunt:before {
  content: "\f288";
}
.fa-mixcloud:before {
  content: "\f289";
}
.fa-scribd:before {
  content: "\f28a";
}
.fa-pause-circle:before {
  content: "\f28b";
}
.fa-pause-circle-o:before {
  content: "\f28c";
}
.fa-stop-circle:before {
  content: "\f28d";
}
.fa-stop-circle-o:before {
  content: "\f28e";
}
.fa-shopping-bag:before {
  content: "\f290";
}
.fa-shopping-basket:before {
  content: "\f291";
}
.fa-hashtag:before {
  content: "\f292";
}
.fa-bluetooth:before {
  content: "\f293";
}
.fa-bluetooth-b:before {
  content: "\f294";
}
.fa-percent:before {
  content: "\f295";
}
.fa-gitlab:before {
  content: "\f296";
}
.fa-wpbeginner:before {
  content: "\f297";
}
.fa-wpforms:before {
  content: "\f298";
}
.fa-envira:before {
  content: "\f299";
}
.fa-universal-access:before {
  content: "\f29a";
}
.fa-wheelchair-alt:before {
  content: "\f29b";
}
.fa-question-circle-o:before {
  content: "\f29c";
}
.fa-blind:before {
  content: "\f29d";
}
.fa-audio-description:before {
  content: "\f29e";
}
.fa-volume-control-phone:before {
  content: "\f2a0";
}
.fa-braille:before {
  content: "\f2a1";
}
.fa-assistive-listening-systems:before {
  content: "\f2a2";
}
.fa-asl-interpreting:before,
.fa-american-sign-language-interpreting:before {
  content: "\f2a3";
}
.fa-deafness:before,
.fa-hard-of-hearing:before,
.fa-deaf:before {
  content: "\f2a4";
}
.fa-glide:before {
  content: "\f2a5";
}
.fa-glide-g:before {
  content: "\f2a6";
}
.fa-signing:before,
.fa-sign-language:before {
  content: "\f2a7";
}
.fa-low-vision:before {
  content: "\f2a8";
}
.fa-viadeo:before {
  content: "\f2a9";
}
.fa-viadeo-square:before {
  content: "\f2aa";
}
.fa-snapchat:before {
  content: "\f2ab";
}
.fa-snapchat-ghost:before {
  content: "\f2ac";
}
.fa-snapchat-square:before {
  content: "\f2ad";
}
.fa-pied-piper:before {
  content: "\f2ae";
}
.fa-first-order:before {
  content: "\f2b0";
}
.fa-yoast:before {
  content: "\f2b1";
}
.fa-themeisle:before {
  content: "\f2b2";
}
.fa-google-plus-circle:before,
.fa-google-plus-official:before {
  content: "\f2b3";
}
.fa-fa:before,
.fa-font-awesome:before {
  content: "\f2b4";
}
.fa-handshake-o:before {
  content: "\f2b5";
}
.fa-envelope-open:before {
  content: "\f2b6";
}
.fa-envelope-open-o:before {
  content: "\f2b7";
}
.fa-linode:before {
  content: "\f2b8";
}
.fa-address-book:before {
  content: "\f2b9";
}
.fa-address-book-o:before {
  content: "\f2ba";
}
.fa-vcard:before,
.fa-address-card:before {
  content: "\f2bb";
}
.fa-vcard-o:before,
.fa-address-card-o:before {
  content: "\f2bc";
}
.fa-user-circle:before {
  content: "\f2bd";
}
.fa-user-circle-o:before {
  content: "\f2be";
}
.fa-user-o:before {
  content: "\f2c0";
}
.fa-id-badge:before {
  content: "\f2c1";
}
.fa-drivers-license:before,
.fa-id-card:before {
  content: "\f2c2";
}
.fa-drivers-license-o:before,
.fa-id-card-o:before {
  content: "\f2c3";
}
.fa-quora:before {
  content: "\f2c4";
}
.fa-free-code-camp:before {
  content: "\f2c5";
}
.fa-telegram:before {
  content: "\f2c6";
}
.fa-thermometer-4:before,
.fa-thermometer:before,
.fa-thermometer-full:before {
  content: "\f2c7";
}
.fa-thermometer-3:before,
.fa-thermometer-three-quarters:before {
  content: "\f2c8";
}
.fa-thermometer-2:before,
.fa-thermometer-half:before {
  content: "\f2c9";
}
.fa-thermometer-1:before,
.fa-thermometer-quarter:before {
  content: "\f2ca";
}
.fa-thermometer-0:before,
.fa-thermometer-empty:before {
  content: "\f2cb";
}
.fa-shower:before {
  content: "\f2cc";
}
.fa-bathtub:before,
.fa-s15:before,
.fa-bath:before {
  content: "\f2cd";
}
.fa-podcast:before {
  content: "\f2ce";
}
.fa-window-maximize:before {
  content: "\f2d0";
}
.fa-window-minimize:before {
  content: "\f2d1";
}
.fa-window-restore:before {
  content: "\f2d2";
}
.fa-times-rectangle:before,
.fa-window-close:before {
  content: "\f2d3";
}
.fa-times-rectangle-o:before,
.fa-window-close-o:before {
  content: "\f2d4";
}
.fa-bandcamp:before {
  content: "\f2d5";
}
.fa-grav:before {
  content: "\f2d6";
}
.fa-etsy:before {
  content: "\f2d7";
}
.fa-imdb:before {
  content: "\f2d8";
}
.fa-ravelry:before {
  content: "\f2d9";
}
.fa-eercast:before {
  content: "\f2da";
}
.fa-microchip:before {
  content: "\f2db";
}
.fa-snowflake-o:before {
  content: "\f2dc";
}
.fa-superpowers:before {
  content: "\f2dd";
}
.fa-wpexplorer:before {
  content: "\f2de";
}
.fa-meetup:before {
  content: "\f2e0";
}
.sr-only {
  position: absolute;
  width: 1px;
  height: 1px;
  padding: 0;
  margin: -1px;
  overflow: hidden;
  clip: rect(0, 0, 0, 0);
  border: 0;
}
.sr-only-focusable:active,
.sr-only-focusable:focus {
  position: static;
  width: auto;
  height: auto;
  margin: 0;
  overflow: visible;
  clip: auto;
}
.sr-only-focusable:active,
.sr-only-focusable:focus {
  position: static;
  width: auto;
  height: auto;
  margin: 0;
  overflow: visible;
  clip: auto;
}
/*!
*
* IPython base
*
*/
.modal.fade .modal-dialog {
  -webkit-transform: translate(0, 0);
  -ms-transform: translate(0, 0);
  -o-transform: translate(0, 0);
  transform: translate(0, 0);
}
code {
  color: #000;
}
pre {
  font-size: inherit;
  line-height: inherit;
}
label {
  font-weight: normal;
}
/* Make the page background atleast 100% the height of the view port */
/* Make the page itself atleast 70% the height of the view port */
.border-box-sizing {
  box-sizing: border-box;
  -moz-box-sizing: border-box;
  -webkit-box-sizing: border-box;
}
.corner-all {
  border-radius: 2px;
}
.no-padding {
  padding: 0px;
}
/* Flexible box model classes */
/* Taken from Alex Russell http://infrequently.org/2009/08/css-3-progress/ */
/* This file is a compatability layer.  It allows the usage of flexible box 
model layouts accross multiple browsers, including older browsers.  The newest,
universal implementation of the flexible box model is used when available (see
`Modern browsers` comments below).  Browsers that are known to implement this 
new spec completely include:

    Firefox 28.0+
    Chrome 29.0+
    Internet Explorer 11+ 
    Opera 17.0+

Browsers not listed, including Safari, are supported via the styling under the
`Old browsers` comments below.
*/
.hbox {
  /* Old browsers */
  display: -webkit-box;
  -webkit-box-orient: horizontal;
  -webkit-box-align: stretch;
  display: -moz-box;
  -moz-box-orient: horizontal;
  -moz-box-align: stretch;
  display: box;
  box-orient: horizontal;
  box-align: stretch;
  /* Modern browsers */
  display: flex;
  flex-direction: row;
  align-items: stretch;
}
.hbox > * {
  /* Old browsers */
  -webkit-box-flex: 0;
  -moz-box-flex: 0;
  box-flex: 0;
  /* Modern browsers */
  flex: none;
}
.vbox {
  /* Old browsers */
  display: -webkit-box;
  -webkit-box-orient: vertical;
  -webkit-box-align: stretch;
  display: -moz-box;
  -moz-box-orient: vertical;
  -moz-box-align: stretch;
  display: box;
  box-orient: vertical;
  box-align: stretch;
  /* Modern browsers */
  display: flex;
  flex-direction: column;
  align-items: stretch;
}
.vbox > * {
  /* Old browsers */
  -webkit-box-flex: 0;
  -moz-box-flex: 0;
  box-flex: 0;
  /* Modern browsers */
  flex: none;
}
.hbox.reverse,
.vbox.reverse,
.reverse {
  /* Old browsers */
  -webkit-box-direction: reverse;
  -moz-box-direction: reverse;
  box-direction: reverse;
  /* Modern browsers */
  flex-direction: row-reverse;
}
.hbox.box-flex0,
.vbox.box-flex0,
.box-flex0 {
  /* Old browsers */
  -webkit-box-flex: 0;
  -moz-box-flex: 0;
  box-flex: 0;
  /* Modern browsers */
  flex: none;
  width: auto;
}
.hbox.box-flex1,
.vbox.box-flex1,
.box-flex1 {
  /* Old browsers */
  -webkit-box-flex: 1;
  -moz-box-flex: 1;
  box-flex: 1;
  /* Modern browsers */
  flex: 1;
}
.hbox.box-flex,
.vbox.box-flex,
.box-flex {
  /* Old browsers */
  /* Old browsers */
  -webkit-box-flex: 1;
  -moz-box-flex: 1;
  box-flex: 1;
  /* Modern browsers */
  flex: 1;
}
.hbox.box-flex2,
.vbox.box-flex2,
.box-flex2 {
  /* Old browsers */
  -webkit-box-flex: 2;
  -moz-box-flex: 2;
  box-flex: 2;
  /* Modern browsers */
  flex: 2;
}
.box-group1 {
  /*  Deprecated */
  -webkit-box-flex-group: 1;
  -moz-box-flex-group: 1;
  box-flex-group: 1;
}
.box-group2 {
  /* Deprecated */
  -webkit-box-flex-group: 2;
  -moz-box-flex-group: 2;
  box-flex-group: 2;
}
.hbox.start,
.vbox.start,
.start {
  /* Old browsers */
  -webkit-box-pack: start;
  -moz-box-pack: start;
  box-pack: start;
  /* Modern browsers */
  justify-content: flex-start;
}
.hbox.end,
.vbox.end,
.end {
  /* Old browsers */
  -webkit-box-pack: end;
  -moz-box-pack: end;
  box-pack: end;
  /* Modern browsers */
  justify-content: flex-end;
}
.hbox.center,
.vbox.center,
.center {
  /* Old browsers */
  -webkit-box-pack: center;
  -moz-box-pack: center;
  box-pack: center;
  /* Modern browsers */
  justify-content: center;
}
.hbox.baseline,
.vbox.baseline,
.baseline {
  /* Old browsers */
  -webkit-box-pack: baseline;
  -moz-box-pack: baseline;
  box-pack: baseline;
  /* Modern browsers */
  justify-content: baseline;
}
.hbox.stretch,
.vbox.stretch,
.stretch {
  /* Old browsers */
  -webkit-box-pack: stretch;
  -moz-box-pack: stretch;
  box-pack: stretch;
  /* Modern browsers */
  justify-content: stretch;
}
.hbox.align-start,
.vbox.align-start,
.align-start {
  /* Old browsers */
  -webkit-box-align: start;
  -moz-box-align: start;
  box-align: start;
  /* Modern browsers */
  align-items: flex-start;
}
.hbox.align-end,
.vbox.align-end,
.align-end {
  /* Old browsers */
  -webkit-box-align: end;
  -moz-box-align: end;
  box-align: end;
  /* Modern browsers */
  align-items: flex-end;
}
.hbox.align-center,
.vbox.align-center,
.align-center {
  /* Old browsers */
  -webkit-box-align: center;
  -moz-box-align: center;
  box-align: center;
  /* Modern browsers */
  align-items: center;
}
.hbox.align-baseline,
.vbox.align-baseline,
.align-baseline {
  /* Old browsers */
  -webkit-box-align: baseline;
  -moz-box-align: baseline;
  box-align: baseline;
  /* Modern browsers */
  align-items: baseline;
}
.hbox.align-stretch,
.vbox.align-stretch,
.align-stretch {
  /* Old browsers */
  -webkit-box-align: stretch;
  -moz-box-align: stretch;
  box-align: stretch;
  /* Modern browsers */
  align-items: stretch;
}
div.error {
  margin: 2em;
  text-align: center;
}
div.error > h1 {
  font-size: 500%;
  line-height: normal;
}
div.error > p {
  font-size: 200%;
  line-height: normal;
}
div.traceback-wrapper {
  text-align: left;
  max-width: 800px;
  margin: auto;
}
div.traceback-wrapper pre.traceback {
  max-height: 600px;
  overflow: auto;
}
/**
 * Primary styles
 *
 * Author: Jupyter Development Team
 */
body {
  background-color: #fff;
  /* This makes sure that the body covers the entire window and needs to
       be in a different element than the display: box in wrapper below */
  position: absolute;
  left: 0px;
  right: 0px;
  top: 0px;
  bottom: 0px;
  overflow: visible;
}
body > #header {
  /* Initially hidden to prevent FLOUC */
  display: none;
  background-color: #fff;
  /* Display over codemirror */
  position: relative;
  z-index: 100;
}
body > #header #header-container {
  display: flex;
  flex-direction: row;
  justify-content: space-between;
  padding: 5px;
  padding-bottom: 5px;
  padding-top: 5px;
  box-sizing: border-box;
  -moz-box-sizing: border-box;
  -webkit-box-sizing: border-box;
}
body > #header .header-bar {
  width: 100%;
  height: 1px;
  background: #e7e7e7;
  margin-bottom: -1px;
}
@media print {
  body > #header {
    display: none !important;
  }
}
#header-spacer {
  width: 100%;
  visibility: hidden;
}
@media print {
  #header-spacer {
    display: none;
  }
}
#ipython_notebook {
  padding-left: 0px;
  padding-top: 1px;
  padding-bottom: 1px;
}
[dir="rtl"] #ipython_notebook {
  margin-right: 10px;
  margin-left: 0;
}
[dir="rtl"] #ipython_notebook.pull-left {
  float: right !important;
  float: right;
}
.flex-spacer {
  flex: 1;
}
#noscript {
  width: auto;
  padding-top: 16px;
  padding-bottom: 16px;
  text-align: center;
  font-size: 22px;
  color: red;
  font-weight: bold;
}
#ipython_notebook img {
  height: 28px;
}
#site {
  width: 100%;
  display: none;
  box-sizing: border-box;
  -moz-box-sizing: border-box;
  -webkit-box-sizing: border-box;
  overflow: auto;
}
@media print {
  #site {
    height: auto !important;
  }
}
/* Smaller buttons */
.ui-button .ui-button-text {
  padding: 0.2em 0.8em;
  font-size: 77%;
}
input.ui-button {
  padding: 0.3em 0.9em;
}
span#kernel_logo_widget {
  margin: 0 10px;
}
span#login_widget {
  float: right;
}
[dir="rtl"] span#login_widget {
  float: left;
}
span#login_widget > .button,
#logout {
  color: #333;
  background-color: #fff;
  border-color: #ccc;
}
span#login_widget > .button:focus,
#logout:focus,
span#login_widget > .button.focus,
#logout.focus {
  color: #333;
  background-color: #e6e6e6;
  border-color: #8c8c8c;
}
span#login_widget > .button:hover,
#logout:hover {
  color: #333;
  background-color: #e6e6e6;
  border-color: #adadad;
}
span#login_widget > .button:active,
#logout:active,
span#login_widget > .button.active,
#logout.active,
.open > .dropdown-togglespan#login_widget > .button,
.open > .dropdown-toggle#logout {
  color: #333;
  background-color: #e6e6e6;
  border-color: #adadad;
}
span#login_widget > .button:active:hover,
#logout:active:hover,
span#login_widget > .button.active:hover,
#logout.active:hover,
.open > .dropdown-togglespan#login_widget > .button:hover,
.open > .dropdown-toggle#logout:hover,
span#login_widget > .button:active:focus,
#logout:active:focus,
span#login_widget > .button.active:focus,
#logout.active:focus,
.open > .dropdown-togglespan#login_widget > .button:focus,
.open > .dropdown-toggle#logout:focus,
span#login_widget > .button:active.focus,
#logout:active.focus,
span#login_widget > .button.active.focus,
#logout.active.focus,
.open > .dropdown-togglespan#login_widget > .button.focus,
.open > .dropdown-toggle#logout.focus {
  color: #333;
  background-color: #d4d4d4;
  border-color: #8c8c8c;
}
span#login_widget > .button:active,
#logout:active,
span#login_widget > .button.active,
#logout.active,
.open > .dropdown-togglespan#login_widget > .button,
.open > .dropdown-toggle#logout {
  background-image: none;
}
span#login_widget > .button.disabled:hover,
#logout.disabled:hover,
span#login_widget > .button[disabled]:hover,
#logout[disabled]:hover,
fieldset[disabled] span#login_widget > .button:hover,
fieldset[disabled] #logout:hover,
span#login_widget > .button.disabled:focus,
#logout.disabled:focus,
span#login_widget > .button[disabled]:focus,
#logout[disabled]:focus,
fieldset[disabled] span#login_widget > .button:focus,
fieldset[disabled] #logout:focus,
span#login_widget > .button.disabled.focus,
#logout.disabled.focus,
span#login_widget > .button[disabled].focus,
#logout[disabled].focus,
fieldset[disabled] span#login_widget > .button.focus,
fieldset[disabled] #logout.focus {
  background-color: #fff;
  border-color: #ccc;
}
span#login_widget > .button .badge,
#logout .badge {
  color: #fff;
  background-color: #333;
}
.nav-header {
  text-transform: none;
}
#header > span {
  margin-top: 10px;
}
.modal_stretch .modal-dialog {
  /* Old browsers */
  display: -webkit-box;
  -webkit-box-orient: vertical;
  -webkit-box-align: stretch;
  display: -moz-box;
  -moz-box-orient: vertical;
  -moz-box-align: stretch;
  display: box;
  box-orient: vertical;
  box-align: stretch;
  /* Modern browsers */
  display: flex;
  flex-direction: column;
  align-items: stretch;
  min-height: 80vh;
}
.modal_stretch .modal-dialog .modal-body {
  max-height: calc(100vh - 200px);
  overflow: auto;
  flex: 1;
}
.modal-header {
  cursor: move;
}
@media (min-width: 768px) {
  .modal .modal-dialog {
    width: 700px;
  }
}
@media (min-width: 768px) {
  select.form-control {
    margin-left: 12px;
    margin-right: 12px;
  }
}
/*!
*
* IPython auth
*
*/
.center-nav {
  display: inline-block;
  margin-bottom: -4px;
}
[dir="rtl"] .center-nav form.pull-left {
  float: right !important;
  float: right;
}
[dir="rtl"] .center-nav .navbar-text {
  float: right;
}
[dir="rtl"] .navbar-inner {
  text-align: right;
}
[dir="rtl"] div.text-left {
  text-align: right;
}
/*!
*
* IPython tree view
*
*/
/* We need an invisible input field on top of the sentense*/
/* "Drag file onto the list ..." */
.alternate_upload {
  background-color: none;
  display: inline;
}
.alternate_upload.form {
  padding: 0;
  margin: 0;
}
.alternate_upload input.fileinput {
  position: absolute;
  display: block;
  width: 100%;
  height: 100%;
  overflow: hidden;
  cursor: pointer;
  opacity: 0;
  z-index: 2;
}
.alternate_upload .btn-xs > input.fileinput {
  margin: -1px -5px;
}
.alternate_upload .btn-upload {
  position: relative;
  height: 22px;
}
::-webkit-file-upload-button {
  cursor: pointer;
}
/**
 * Primary styles
 *
 * Author: Jupyter Development Team
 */
ul#tabs {
  margin-bottom: 4px;
}
ul#tabs a {
  padding-top: 6px;
  padding-bottom: 4px;
}
[dir="rtl"] ul#tabs.nav-tabs > li {
  float: right;
}
[dir="rtl"] ul#tabs.nav.nav-tabs {
  padding-right: 0;
}
ul.breadcrumb a:focus,
ul.breadcrumb a:hover {
  text-decoration: none;
}
ul.breadcrumb i.icon-home {
  font-size: 16px;
  margin-right: 4px;
}
ul.breadcrumb span {
  color: #5e5e5e;
}
.list_toolbar {
  padding: 4px 0 4px 0;
  vertical-align: middle;
}
.list_toolbar .tree-buttons {
  padding-top: 1px;
}
[dir="rtl"] .list_toolbar .tree-buttons .pull-right {
  float: left !important;
  float: left;
}
[dir="rtl"] .list_toolbar .col-sm-4,
[dir="rtl"] .list_toolbar .col-sm-8 {
  float: right;
}
.dynamic-buttons {
  padding-top: 3px;
  display: inline-block;
}
.list_toolbar [class*="span"] {
  min-height: 24px;
}
.list_header {
  font-weight: bold;
  background-color: #EEE;
}
.list_placeholder {
  font-weight: bold;
  padding-top: 4px;
  padding-bottom: 4px;
  padding-left: 7px;
  padding-right: 7px;
}
.list_container {
  margin-top: 4px;
  margin-bottom: 20px;
  border: 1px solid #ddd;
  border-radius: 2px;
}
.list_container > div {
  border-bottom: 1px solid #ddd;
}
.list_container > div:hover .list-item {
  background-color: red;
}
.list_container > div:last-child {
  border: none;
}
.list_item:hover .list_item {
  background-color: #ddd;
}
.list_item a {
  text-decoration: none;
}
.list_item:hover {
  background-color: #fafafa;
}
.list_header > div,
.list_item > div {
  padding-top: 4px;
  padding-bottom: 4px;
  padding-left: 7px;
  padding-right: 7px;
  line-height: 22px;
}
.list_header > div input,
.list_item > div input {
  margin-right: 7px;
  margin-left: 14px;
  vertical-align: text-bottom;
  line-height: 22px;
  position: relative;
  top: -1px;
}
.list_header > div .item_link,
.list_item > div .item_link {
  margin-left: -1px;
  vertical-align: baseline;
  line-height: 22px;
}
[dir="rtl"] .list_item > div input {
  margin-right: 0;
}
.new-file input[type=checkbox] {
  visibility: hidden;
}
.item_name {
  line-height: 22px;
  height: 24px;
}
.item_icon {
  font-size: 14px;
  color: #5e5e5e;
  margin-right: 7px;
  margin-left: 7px;
  line-height: 22px;
  vertical-align: baseline;
}
.item_modified {
  margin-right: 7px;
  margin-left: 7px;
}
[dir="rtl"] .item_modified.pull-right {
  float: left !important;
  float: left;
}
.item_buttons {
  line-height: 1em;
  margin-left: -5px;
}
.item_buttons .btn,
.item_buttons .btn-group,
.item_buttons .input-group {
  float: left;
}
.item_buttons > .btn,
.item_buttons > .btn-group,
.item_buttons > .input-group {
  margin-left: 5px;
}
.item_buttons .btn {
  min-width: 13ex;
}
.item_buttons .running-indicator {
  padding-top: 4px;
  color: #5cb85c;
}
.item_buttons .kernel-name {
  padding-top: 4px;
  color: #5bc0de;
  margin-right: 7px;
  float: left;
}
[dir="rtl"] .item_buttons.pull-right {
  float: left !important;
  float: left;
}
[dir="rtl"] .item_buttons .kernel-name {
  margin-left: 7px;
  float: right;
}
.toolbar_info {
  height: 24px;
  line-height: 24px;
}
.list_item input:not([type=checkbox]) {
  padding-top: 3px;
  padding-bottom: 3px;
  height: 22px;
  line-height: 14px;
  margin: 0px;
}
.highlight_text {
  color: blue;
}
#project_name {
  display: inline-block;
  padding-left: 7px;
  margin-left: -2px;
}
#project_name > .breadcrumb {
  padding: 0px;
  margin-bottom: 0px;
  background-color: transparent;
  font-weight: bold;
}
.sort_button {
  display: inline-block;
  padding-left: 7px;
}
[dir="rtl"] .sort_button.pull-right {
  float: left !important;
  float: left;
}
#tree-selector {
  padding-right: 0px;
}
#button-select-all {
  min-width: 50px;
}
[dir="rtl"] #button-select-all.btn {
  float: right ;
}
#select-all {
  margin-left: 7px;
  margin-right: 2px;
  margin-top: 2px;
  height: 16px;
}
[dir="rtl"] #select-all.pull-left {
  float: right !important;
  float: right;
}
.menu_icon {
  margin-right: 2px;
}
.tab-content .row {
  margin-left: 0px;
  margin-right: 0px;
}
.folder_icon:before {
  display: inline-block;
  font: normal normal normal 14px/1 FontAwesome;
  font-size: inherit;
  text-rendering: auto;
  -webkit-font-smoothing: antialiased;
  -moz-osx-font-smoothing: grayscale;
  content: "\f114";
}
.folder_icon:before.fa-pull-left {
  margin-right: .3em;
}
.folder_icon:before.fa-pull-right {
  margin-left: .3em;
}
.folder_icon:before.pull-left {
  margin-right: .3em;
}
.folder_icon:before.pull-right {
  margin-left: .3em;
}
.notebook_icon:before {
  display: inline-block;
  font: normal normal normal 14px/1 FontAwesome;
  font-size: inherit;
  text-rendering: auto;
  -webkit-font-smoothing: antialiased;
  -moz-osx-font-smoothing: grayscale;
  content: "\f02d";
  position: relative;
  top: -1px;
}
.notebook_icon:before.fa-pull-left {
  margin-right: .3em;
}
.notebook_icon:before.fa-pull-right {
  margin-left: .3em;
}
.notebook_icon:before.pull-left {
  margin-right: .3em;
}
.notebook_icon:before.pull-right {
  margin-left: .3em;
}
.running_notebook_icon:before {
  display: inline-block;
  font: normal normal normal 14px/1 FontAwesome;
  font-size: inherit;
  text-rendering: auto;
  -webkit-font-smoothing: antialiased;
  -moz-osx-font-smoothing: grayscale;
  content: "\f02d";
  position: relative;
  top: -1px;
  color: #5cb85c;
}
.running_notebook_icon:before.fa-pull-left {
  margin-right: .3em;
}
.running_notebook_icon:before.fa-pull-right {
  margin-left: .3em;
}
.running_notebook_icon:before.pull-left {
  margin-right: .3em;
}
.running_notebook_icon:before.pull-right {
  margin-left: .3em;
}
.file_icon:before {
  display: inline-block;
  font: normal normal normal 14px/1 FontAwesome;
  font-size: inherit;
  text-rendering: auto;
  -webkit-font-smoothing: antialiased;
  -moz-osx-font-smoothing: grayscale;
  content: "\f016";
  position: relative;
  top: -2px;
}
.file_icon:before.fa-pull-left {
  margin-right: .3em;
}
.file_icon:before.fa-pull-right {
  margin-left: .3em;
}
.file_icon:before.pull-left {
  margin-right: .3em;
}
.file_icon:before.pull-right {
  margin-left: .3em;
}
#notebook_toolbar .pull-right {
  padding-top: 0px;
  margin-right: -1px;
}
ul#new-menu {
  left: auto;
  right: 0;
}
#new-menu .dropdown-header {
  font-size: 10px;
  border-bottom: 1px solid #e5e5e5;
  padding: 0 0 3px;
  margin: -3px 20px 0;
}
.kernel-menu-icon {
  padding-right: 12px;
  width: 24px;
  content: "\f096";
}
.kernel-menu-icon:before {
  content: "\f096";
}
.kernel-menu-icon-current:before {
  content: "\f00c";
}
#tab_content {
  padding-top: 20px;
}
#running .panel-group .panel {
  margin-top: 3px;
  margin-bottom: 1em;
}
#running .panel-group .panel .panel-heading {
  background-color: #EEE;
  padding-top: 4px;
  padding-bottom: 4px;
  padding-left: 7px;
  padding-right: 7px;
  line-height: 22px;
}
#running .panel-group .panel .panel-heading a:focus,
#running .panel-group .panel .panel-heading a:hover {
  text-decoration: none;
}
#running .panel-group .panel .panel-body {
  padding: 0px;
}
#running .panel-group .panel .panel-body .list_container {
  margin-top: 0px;
  margin-bottom: 0px;
  border: 0px;
  border-radius: 0px;
}
#running .panel-group .panel .panel-body .list_container .list_item {
  border-bottom: 1px solid #ddd;
}
#running .panel-group .panel .panel-body .list_container .list_item:last-child {
  border-bottom: 0px;
}
.delete-button {
  display: none;
}
.duplicate-button {
  display: none;
}
.rename-button {
  display: none;
}
.move-button {
  display: none;
}
.download-button {
  display: none;
}
.shutdown-button {
  display: none;
}
.dynamic-instructions {
  display: inline-block;
  padding-top: 4px;
}
/*!
*
* IPython text editor webapp
*
*/
.selected-keymap i.fa {
  padding: 0px 5px;
}
.selected-keymap i.fa:before {
  content: "\f00c";
}
#mode-menu {
  overflow: auto;
  max-height: 20em;
}
.edit_app #header {
  -webkit-box-shadow: 0px 0px 12px 1px rgba(87, 87, 87, 0.2);
  box-shadow: 0px 0px 12px 1px rgba(87, 87, 87, 0.2);
}
.edit_app #menubar .navbar {
  /* Use a negative 1 bottom margin, so the border overlaps the border of the
    header */
  margin-bottom: -1px;
}
.dirty-indicator {
  display: inline-block;
  font: normal normal normal 14px/1 FontAwesome;
  font-size: inherit;
  text-rendering: auto;
  -webkit-font-smoothing: antialiased;
  -moz-osx-font-smoothing: grayscale;
  width: 20px;
}
.dirty-indicator.fa-pull-left {
  margin-right: .3em;
}
.dirty-indicator.fa-pull-right {
  margin-left: .3em;
}
.dirty-indicator.pull-left {
  margin-right: .3em;
}
.dirty-indicator.pull-right {
  margin-left: .3em;
}
.dirty-indicator-dirty {
  display: inline-block;
  font: normal normal normal 14px/1 FontAwesome;
  font-size: inherit;
  text-rendering: auto;
  -webkit-font-smoothing: antialiased;
  -moz-osx-font-smoothing: grayscale;
  width: 20px;
}
.dirty-indicator-dirty.fa-pull-left {
  margin-right: .3em;
}
.dirty-indicator-dirty.fa-pull-right {
  margin-left: .3em;
}
.dirty-indicator-dirty.pull-left {
  margin-right: .3em;
}
.dirty-indicator-dirty.pull-right {
  margin-left: .3em;
}
.dirty-indicator-clean {
  display: inline-block;
  font: normal normal normal 14px/1 FontAwesome;
  font-size: inherit;
  text-rendering: auto;
  -webkit-font-smoothing: antialiased;
  -moz-osx-font-smoothing: grayscale;
  width: 20px;
}
.dirty-indicator-clean.fa-pull-left {
  margin-right: .3em;
}
.dirty-indicator-clean.fa-pull-right {
  margin-left: .3em;
}
.dirty-indicator-clean.pull-left {
  margin-right: .3em;
}
.dirty-indicator-clean.pull-right {
  margin-left: .3em;
}
.dirty-indicator-clean:before {
  display: inline-block;
  font: normal normal normal 14px/1 FontAwesome;
  font-size: inherit;
  text-rendering: auto;
  -webkit-font-smoothing: antialiased;
  -moz-osx-font-smoothing: grayscale;
  content: "\f00c";
}
.dirty-indicator-clean:before.fa-pull-left {
  margin-right: .3em;
}
.dirty-indicator-clean:before.fa-pull-right {
  margin-left: .3em;
}
.dirty-indicator-clean:before.pull-left {
  margin-right: .3em;
}
.dirty-indicator-clean:before.pull-right {
  margin-left: .3em;
}
#filename {
  font-size: 16pt;
  display: table;
  padding: 0px 5px;
}
#current-mode {
  padding-left: 5px;
  padding-right: 5px;
}
#texteditor-backdrop {
  padding-top: 20px;
  padding-bottom: 20px;
}
@media not print {
  #texteditor-backdrop {
    background-color: #EEE;
  }
}
@media print {
  #texteditor-backdrop #texteditor-container .CodeMirror-gutter,
  #texteditor-backdrop #texteditor-container .CodeMirror-gutters {
    background-color: #fff;
  }
}
@media not print {
  #texteditor-backdrop #texteditor-container .CodeMirror-gutter,
  #texteditor-backdrop #texteditor-container .CodeMirror-gutters {
    background-color: #fff;
  }
}
@media not print {
  #texteditor-backdrop #texteditor-container {
    padding: 0px;
    background-color: #fff;
    -webkit-box-shadow: 0px 0px 12px 1px rgba(87, 87, 87, 0.2);
    box-shadow: 0px 0px 12px 1px rgba(87, 87, 87, 0.2);
  }
}
.CodeMirror-dialog {
  background-color: #fff;
}
/*!
*
* IPython notebook
*
*/
/* CSS font colors for translated ANSI escape sequences */
/* The color values are a mix of
   http://www.xcolors.net/dl/baskerville-ivorylight and
   http://www.xcolors.net/dl/euphrasia */
.ansi-black-fg {
  color: #3E424D;
}
.ansi-black-bg {
  background-color: #3E424D;
}
.ansi-black-intense-fg {
  color: #282C36;
}
.ansi-black-intense-bg {
  background-color: #282C36;
}
.ansi-red-fg {
  color: #E75C58;
}
.ansi-red-bg {
  background-color: #E75C58;
}
.ansi-red-intense-fg {
  color: #B22B31;
}
.ansi-red-intense-bg {
  background-color: #B22B31;
}
.ansi-green-fg {
  color: #00A250;
}
.ansi-green-bg {
  background-color: #00A250;
}
.ansi-green-intense-fg {
  color: #007427;
}
.ansi-green-intense-bg {
  background-color: #007427;
}
.ansi-yellow-fg {
  color: #DDB62B;
}
.ansi-yellow-bg {
  background-color: #DDB62B;
}
.ansi-yellow-intense-fg {
  color: #B27D12;
}
.ansi-yellow-intense-bg {
  background-color: #B27D12;
}
.ansi-blue-fg {
  color: #208FFB;
}
.ansi-blue-bg {
  background-color: #208FFB;
}
.ansi-blue-intense-fg {
  color: #0065CA;
}
.ansi-blue-intense-bg {
  background-color: #0065CA;
}
.ansi-magenta-fg {
  color: #D160C4;
}
.ansi-magenta-bg {
  background-color: #D160C4;
}
.ansi-magenta-intense-fg {
  color: #A03196;
}
.ansi-magenta-intense-bg {
  background-color: #A03196;
}
.ansi-cyan-fg {
  color: #60C6C8;
}
.ansi-cyan-bg {
  background-color: #60C6C8;
}
.ansi-cyan-intense-fg {
  color: #258F8F;
}
.ansi-cyan-intense-bg {
  background-color: #258F8F;
}
.ansi-white-fg {
  color: #C5C1B4;
}
.ansi-white-bg {
  background-color: #C5C1B4;
}
.ansi-white-intense-fg {
  color: #A1A6B2;
}
.ansi-white-intense-bg {
  background-color: #A1A6B2;
}
.ansi-default-inverse-fg {
  color: #FFFFFF;
}
.ansi-default-inverse-bg {
  background-color: #000000;
}
.ansi-bold {
  font-weight: bold;
}
.ansi-underline {
  text-decoration: underline;
}
/* The following styles are deprecated an will be removed in a future version */
.ansibold {
  font-weight: bold;
}
.ansi-inverse {
  outline: 0.5px dotted;
}
/* use dark versions for foreground, to improve visibility */
.ansiblack {
  color: black;
}
.ansired {
  color: darkred;
}
.ansigreen {
  color: darkgreen;
}
.ansiyellow {
  color: #c4a000;
}
.ansiblue {
  color: darkblue;
}
.ansipurple {
  color: darkviolet;
}
.ansicyan {
  color: steelblue;
}
.ansigray {
  color: gray;
}
/* and light for background, for the same reason */
.ansibgblack {
  background-color: black;
}
.ansibgred {
  background-color: red;
}
.ansibggreen {
  background-color: green;
}
.ansibgyellow {
  background-color: yellow;
}
.ansibgblue {
  background-color: blue;
}
.ansibgpurple {
  background-color: magenta;
}
.ansibgcyan {
  background-color: cyan;
}
.ansibggray {
  background-color: gray;
}
div.cell {
  /* Old browsers */
  display: -webkit-box;
  -webkit-box-orient: vertical;
  -webkit-box-align: stretch;
  display: -moz-box;
  -moz-box-orient: vertical;
  -moz-box-align: stretch;
  display: box;
  box-orient: vertical;
  box-align: stretch;
  /* Modern browsers */
  display: flex;
  flex-direction: column;
  align-items: stretch;
  border-radius: 2px;
  box-sizing: border-box;
  -moz-box-sizing: border-box;
  -webkit-box-sizing: border-box;
  border-width: 1px;
  border-style: solid;
  border-color: transparent;
  width: 100%;
  padding: 5px;
  /* This acts as a spacer between cells, that is outside the border */
  margin: 0px;
  outline: none;
  position: relative;
  overflow: visible;
}
div.cell:before {
  position: absolute;
  display: block;
  top: -1px;
  left: -1px;
  width: 5px;
  height: calc(100% +  2px);
  content: '';
  background: transparent;
}
div.cell.jupyter-soft-selected {
  border-left-color: #E3F2FD;
  border-left-width: 1px;
  padding-left: 5px;
  border-right-color: #E3F2FD;
  border-right-width: 1px;
  background: #E3F2FD;
}
@media print {
  div.cell.jupyter-soft-selected {
    border-color: transparent;
  }
}
div.cell.selected,
div.cell.selected.jupyter-soft-selected {
  border-color: #ababab;
}
div.cell.selected:before,
div.cell.selected.jupyter-soft-selected:before {
  position: absolute;
  display: block;
  top: -1px;
  left: -1px;
  width: 5px;
  height: calc(100% +  2px);
  content: '';
  background: #42A5F5;
}
@media print {
  div.cell.selected,
  div.cell.selected.jupyter-soft-selected {
    border-color: transparent;
  }
}
.edit_mode div.cell.selected {
  border-color: #66BB6A;
}
.edit_mode div.cell.selected:before {
  position: absolute;
  display: block;
  top: -1px;
  left: -1px;
  width: 5px;
  height: calc(100% +  2px);
  content: '';
  background: #66BB6A;
}
@media print {
  .edit_mode div.cell.selected {
    border-color: transparent;
  }
}
.prompt {
  /* This needs to be wide enough for 3 digit prompt numbers: In[100]: */
  min-width: 14ex;
  /* This padding is tuned to match the padding on the CodeMirror editor. */
  padding: 0.4em;
  margin: 0px;
  font-family: monospace;
  text-align: right;
  /* This has to match that of the the CodeMirror class line-height below */
  line-height: 1.21429em;
  /* Don't highlight prompt number selection */
  -webkit-touch-callout: none;
  -webkit-user-select: none;
  -khtml-user-select: none;
  -moz-user-select: none;
  -ms-user-select: none;
  user-select: none;
  /* Use default cursor */
  cursor: default;
}
@media (max-width: 540px) {
  .prompt {
    text-align: left;
  }
}
div.inner_cell {
  min-width: 0;
  /* Old browsers */
  display: -webkit-box;
  -webkit-box-orient: vertical;
  -webkit-box-align: stretch;
  display: -moz-box;
  -moz-box-orient: vertical;
  -moz-box-align: stretch;
  display: box;
  box-orient: vertical;
  box-align: stretch;
  /* Modern browsers */
  display: flex;
  flex-direction: column;
  align-items: stretch;
  /* Old browsers */
  -webkit-box-flex: 1;
  -moz-box-flex: 1;
  box-flex: 1;
  /* Modern browsers */
  flex: 1;
}
/* input_area and input_prompt must match in top border and margin for alignment */
div.input_area {
  border: 1px solid #cfcfcf;
  border-radius: 2px;
  background: #f7f7f7;
  line-height: 1.21429em;
}
/* This is needed so that empty prompt areas can collapse to zero height when there
   is no content in the output_subarea and the prompt. The main purpose of this is
   to make sure that empty JavaScript output_subareas have no height. */
div.prompt:empty {
  padding-top: 0;
  padding-bottom: 0;
}
div.unrecognized_cell {
  padding: 5px 5px 5px 0px;
  /* Old browsers */
  display: -webkit-box;
  -webkit-box-orient: horizontal;
  -webkit-box-align: stretch;
  display: -moz-box;
  -moz-box-orient: horizontal;
  -moz-box-align: stretch;
  display: box;
  box-orient: horizontal;
  box-align: stretch;
  /* Modern browsers */
  display: flex;
  flex-direction: row;
  align-items: stretch;
}
div.unrecognized_cell .inner_cell {
  border-radius: 2px;
  padding: 5px;
  font-weight: bold;
  color: red;
  border: 1px solid #cfcfcf;
  background: #eaeaea;
}
div.unrecognized_cell .inner_cell a {
  color: inherit;
  text-decoration: none;
}
div.unrecognized_cell .inner_cell a:hover {
  color: inherit;
  text-decoration: none;
}
@media (max-width: 540px) {
  div.unrecognized_cell > div.prompt {
    display: none;
  }
}
div.code_cell {
  /* avoid page breaking on code cells when printing */
}
@media print {
  div.code_cell {
    page-break-inside: avoid;
  }
}
/* any special styling for code cells that are currently running goes here */
div.input {
  page-break-inside: avoid;
  /* Old browsers */
  display: -webkit-box;
  -webkit-box-orient: horizontal;
  -webkit-box-align: stretch;
  display: -moz-box;
  -moz-box-orient: horizontal;
  -moz-box-align: stretch;
  display: box;
  box-orient: horizontal;
  box-align: stretch;
  /* Modern browsers */
  display: flex;
  flex-direction: row;
  align-items: stretch;
}
@media (max-width: 540px) {
  div.input {
    /* Old browsers */
    display: -webkit-box;
    -webkit-box-orient: vertical;
    -webkit-box-align: stretch;
    display: -moz-box;
    -moz-box-orient: vertical;
    -moz-box-align: stretch;
    display: box;
    box-orient: vertical;
    box-align: stretch;
    /* Modern browsers */
    display: flex;
    flex-direction: column;
    align-items: stretch;
  }
}
/* input_area and input_prompt must match in top border and margin for alignment */
div.input_prompt {
  color: #303F9F;
  border-top: 1px solid transparent;
}
div.input_area > div.highlight {
  margin: 0.4em;
  border: none;
  padding: 0px;
  background-color: transparent;
}
div.input_area > div.highlight > pre {
  margin: 0px;
  border: none;
  padding: 0px;
  background-color: transparent;
}
/* The following gets added to the <head> if it is detected that the user has a
 * monospace font with inconsistent normal/bold/italic height.  See
 * notebookmain.js.  Such fonts will have keywords vertically offset with
 * respect to the rest of the text.  The user should select a better font.
 * See: https://github.com/ipython/ipython/issues/1503
 *
 * .CodeMirror span {
 *      vertical-align: bottom;
 * }
 */
.CodeMirror {
  line-height: 1.21429em;
  /* Changed from 1em to our global default */
  font-size: 14px;
  height: auto;
  /* Changed to auto to autogrow */
  background: none;
  /* Changed from white to allow our bg to show through */
}
.CodeMirror-scroll {
  /*  The CodeMirror docs are a bit fuzzy on if overflow-y should be hidden or visible.*/
  /*  We have found that if it is visible, vertical scrollbars appear with font size changes.*/
  overflow-y: hidden;
  overflow-x: auto;
}
.CodeMirror-lines {
  /* In CM2, this used to be 0.4em, but in CM3 it went to 4px. We need the em value because */
  /* we have set a different line-height and want this to scale with that. */
  /* Note that this should set vertical padding only, since CodeMirror assumes
       that horizontal padding will be set on CodeMirror pre */
  padding: 0.4em 0;
}
.CodeMirror-linenumber {
  padding: 0 8px 0 4px;
}
.CodeMirror-gutters {
  border-bottom-left-radius: 2px;
  border-top-left-radius: 2px;
}
.CodeMirror pre {
  /* In CM3 this went to 4px from 0 in CM2. This sets horizontal padding only,
    use .CodeMirror-lines for vertical */
  padding: 0 0.4em;
  border: 0;
  border-radius: 0;
}
.CodeMirror-cursor {
  border-left: 1.4px solid black;
}
@media screen and (min-width: 2138px) and (max-width: 4319px) {
  .CodeMirror-cursor {
    border-left: 2px solid black;
  }
}
@media screen and (min-width: 4320px) {
  .CodeMirror-cursor {
    border-left: 4px solid black;
  }
}
/*

Original style from softwaremaniacs.org (c) Ivan Sagalaev <Maniac@SoftwareManiacs.Org>
Adapted from GitHub theme

*/
.highlight-base {
  color: #000;
}
.highlight-variable {
  color: #000;
}
.highlight-variable-2 {
  color: #1a1a1a;
}
.highlight-variable-3 {
  color: #333333;
}
.highlight-string {
  color: #BA2121;
}
.highlight-comment {
  color: #408080;
  font-style: italic;
}
.highlight-number {
  color: #080;
}
.highlight-atom {
  color: #88F;
}
.highlight-keyword {
  color: #008000;
  font-weight: bold;
}
.highlight-builtin {
  color: #008000;
}
.highlight-error {
  color: #f00;
}
.highlight-operator {
  color: #AA22FF;
  font-weight: bold;
}
.highlight-meta {
  color: #AA22FF;
}
/* previously not defined, copying from default codemirror */
.highlight-def {
  color: #00f;
}
.highlight-string-2 {
  color: #f50;
}
.highlight-qualifier {
  color: #555;
}
.highlight-bracket {
  color: #997;
}
.highlight-tag {
  color: #170;
}
.highlight-attribute {
  color: #00c;
}
.highlight-header {
  color: blue;
}
.highlight-quote {
  color: #090;
}
.highlight-link {
  color: #00c;
}
/* apply the same style to codemirror */
.cm-s-ipython span.cm-keyword {
  color: #008000;
  font-weight: bold;
}
.cm-s-ipython span.cm-atom {
  color: #88F;
}
.cm-s-ipython span.cm-number {
  color: #080;
}
.cm-s-ipython span.cm-def {
  color: #00f;
}
.cm-s-ipython span.cm-variable {
  color: #000;
}
.cm-s-ipython span.cm-operator {
  color: #AA22FF;
  font-weight: bold;
}
.cm-s-ipython span.cm-variable-2 {
  color: #1a1a1a;
}
.cm-s-ipython span.cm-variable-3 {
  color: #333333;
}
.cm-s-ipython span.cm-comment {
  color: #408080;
  font-style: italic;
}
.cm-s-ipython span.cm-string {
  color: #BA2121;
}
.cm-s-ipython span.cm-string-2 {
  color: #f50;
}
.cm-s-ipython span.cm-meta {
  color: #AA22FF;
}
.cm-s-ipython span.cm-qualifier {
  color: #555;
}
.cm-s-ipython span.cm-builtin {
  color: #008000;
}
.cm-s-ipython span.cm-bracket {
  color: #997;
}
.cm-s-ipython span.cm-tag {
  color: #170;
}
.cm-s-ipython span.cm-attribute {
  color: #00c;
}
.cm-s-ipython span.cm-header {
  color: blue;
}
.cm-s-ipython span.cm-quote {
  color: #090;
}
.cm-s-ipython span.cm-link {
  color: #00c;
}
.cm-s-ipython span.cm-error {
  color: #f00;
}
.cm-s-ipython span.cm-tab {
  background: url(data:image/png;base64,iVBORw0KGgoAAAANSUhEUgAAADAAAAAMCAYAAAAkuj5RAAAAAXNSR0IArs4c6QAAAGFJREFUSMft1LsRQFAQheHPowAKoACx3IgEKtaEHujDjORSgWTH/ZOdnZOcM/sgk/kFFWY0qV8foQwS4MKBCS3qR6ixBJvElOobYAtivseIE120FaowJPN75GMu8j/LfMwNjh4HUpwg4LUAAAAASUVORK5CYII=);
  background-position: right;
  background-repeat: no-repeat;
}
div.output_wrapper {
  /* this position must be relative to enable descendents to be absolute within it */
  position: relative;
  /* Old browsers */
  display: -webkit-box;
  -webkit-box-orient: vertical;
  -webkit-box-align: stretch;
  display: -moz-box;
  -moz-box-orient: vertical;
  -moz-box-align: stretch;
  display: box;
  box-orient: vertical;
  box-align: stretch;
  /* Modern browsers */
  display: flex;
  flex-direction: column;
  align-items: stretch;
  z-index: 1;
}
/* class for the output area when it should be height-limited */
div.output_scroll {
  /* ideally, this would be max-height, but FF barfs all over that */
  height: 24em;
  /* FF needs this *and the wrapper* to specify full width, or it will shrinkwrap */
  width: 100%;
  overflow: auto;
  border-radius: 2px;
  -webkit-box-shadow: inset 0 2px 8px rgba(0, 0, 0, 0.8);
  box-shadow: inset 0 2px 8px rgba(0, 0, 0, 0.8);
  display: block;
}
/* output div while it is collapsed */
div.output_collapsed {
  margin: 0px;
  padding: 0px;
  /* Old browsers */
  display: -webkit-box;
  -webkit-box-orient: vertical;
  -webkit-box-align: stretch;
  display: -moz-box;
  -moz-box-orient: vertical;
  -moz-box-align: stretch;
  display: box;
  box-orient: vertical;
  box-align: stretch;
  /* Modern browsers */
  display: flex;
  flex-direction: column;
  align-items: stretch;
}
div.out_prompt_overlay {
  height: 100%;
  padding: 0px 0.4em;
  position: absolute;
  border-radius: 2px;
}
div.out_prompt_overlay:hover {
  /* use inner shadow to get border that is computed the same on WebKit/FF */
  -webkit-box-shadow: inset 0 0 1px #000;
  box-shadow: inset 0 0 1px #000;
  background: rgba(240, 240, 240, 0.5);
}
div.output_prompt {
  color: #D84315;
}
/* This class is the outer container of all output sections. */
div.output_area {
  padding: 0px;
  page-break-inside: avoid;
  /* Old browsers */
  display: -webkit-box;
  -webkit-box-orient: horizontal;
  -webkit-box-align: stretch;
  display: -moz-box;
  -moz-box-orient: horizontal;
  -moz-box-align: stretch;
  display: box;
  box-orient: horizontal;
  box-align: stretch;
  /* Modern browsers */
  display: flex;
  flex-direction: row;
  align-items: stretch;
}
div.output_area .MathJax_Display {
  text-align: left !important;
}
div.output_area .rendered_html table {
  margin-left: 0;
  margin-right: 0;
}
div.output_area .rendered_html img {
  margin-left: 0;
  margin-right: 0;
}
div.output_area img,
div.output_area svg {
  max-width: 100%;
  height: auto;
}
div.output_area img.unconfined,
div.output_area svg.unconfined {
  max-width: none;
}
div.output_area .mglyph > img {
  max-width: none;
}
/* This is needed to protect the pre formating from global settings such
   as that of bootstrap */
.output {
  /* Old browsers */
  display: -webkit-box;
  -webkit-box-orient: vertical;
  -webkit-box-align: stretch;
  display: -moz-box;
  -moz-box-orient: vertical;
  -moz-box-align: stretch;
  display: box;
  box-orient: vertical;
  box-align: stretch;
  /* Modern browsers */
  display: flex;
  flex-direction: column;
  align-items: stretch;
}
@media (max-width: 540px) {
  div.output_area {
    /* Old browsers */
    display: -webkit-box;
    -webkit-box-orient: vertical;
    -webkit-box-align: stretch;
    display: -moz-box;
    -moz-box-orient: vertical;
    -moz-box-align: stretch;
    display: box;
    box-orient: vertical;
    box-align: stretch;
    /* Modern browsers */
    display: flex;
    flex-direction: column;
    align-items: stretch;
  }
}
div.output_area pre {
  margin: 0;
  padding: 1px 0 1px 0;
  border: 0;
  vertical-align: baseline;
  color: black;
  background-color: transparent;
  border-radius: 0;
}
/* This class is for the output subarea inside the output_area and after
   the prompt div. */
div.output_subarea {
  overflow-x: auto;
  padding: 0.4em;
  /* Old browsers */
  -webkit-box-flex: 1;
  -moz-box-flex: 1;
  box-flex: 1;
  /* Modern browsers */
  flex: 1;
  max-width: calc(100% - 14ex);
}
div.output_scroll div.output_subarea {
  overflow-x: visible;
}
/* The rest of the output_* classes are for special styling of the different
   output types */
/* all text output has this class: */
div.output_text {
  text-align: left;
  color: #000;
  /* This has to match that of the the CodeMirror class line-height below */
  line-height: 1.21429em;
}
/* stdout/stderr are 'text' as well as 'stream', but execute_result/error are *not* streams */
div.output_stderr {
  background: #fdd;
  /* very light red background for stderr */
}
div.output_latex {
  text-align: left;
}
/* Empty output_javascript divs should have no height */
div.output_javascript:empty {
  padding: 0;
}
.js-error {
  color: darkred;
}
/* raw_input styles */
div.raw_input_container {
  line-height: 1.21429em;
  padding-top: 5px;
}
pre.raw_input_prompt {
  /* nothing needed here. */
}
input.raw_input {
  font-family: monospace;
  font-size: inherit;
  color: inherit;
  width: auto;
  /* make sure input baseline aligns with prompt */
  vertical-align: baseline;
  /* padding + margin = 0.5em between prompt and cursor */
  padding: 0em 0.25em;
  margin: 0em 0.25em;
}
input.raw_input:focus {
  box-shadow: none;
}
p.p-space {
  margin-bottom: 10px;
}
div.output_unrecognized {
  padding: 5px;
  font-weight: bold;
  color: red;
}
div.output_unrecognized a {
  color: inherit;
  text-decoration: none;
}
div.output_unrecognized a:hover {
  color: inherit;
  text-decoration: none;
}
.rendered_html {
  color: #000;
  /* any extras will just be numbers: */
}
.rendered_html em {
  font-style: italic;
}
.rendered_html strong {
  font-weight: bold;
}
.rendered_html u {
  text-decoration: underline;
}
.rendered_html :link {
  text-decoration: underline;
}
.rendered_html :visited {
  text-decoration: underline;
}
.rendered_html h1 {
  font-size: 185.7%;
  margin: 1.08em 0 0 0;
  font-weight: bold;
  line-height: 1.0;
}
.rendered_html h2 {
  font-size: 157.1%;
  margin: 1.27em 0 0 0;
  font-weight: bold;
  line-height: 1.0;
}
.rendered_html h3 {
  font-size: 128.6%;
  margin: 1.55em 0 0 0;
  font-weight: bold;
  line-height: 1.0;
}
.rendered_html h4 {
  font-size: 100%;
  margin: 2em 0 0 0;
  font-weight: bold;
  line-height: 1.0;
}
.rendered_html h5 {
  font-size: 100%;
  margin: 2em 0 0 0;
  font-weight: bold;
  line-height: 1.0;
  font-style: italic;
}
.rendered_html h6 {
  font-size: 100%;
  margin: 2em 0 0 0;
  font-weight: bold;
  line-height: 1.0;
  font-style: italic;
}
.rendered_html h1:first-child {
  margin-top: 0.538em;
}
.rendered_html h2:first-child {
  margin-top: 0.636em;
}
.rendered_html h3:first-child {
  margin-top: 0.777em;
}
.rendered_html h4:first-child {
  margin-top: 1em;
}
.rendered_html h5:first-child {
  margin-top: 1em;
}
.rendered_html h6:first-child {
  margin-top: 1em;
}
.rendered_html ul:not(.list-inline),
.rendered_html ol:not(.list-inline) {
  padding-left: 2em;
}
.rendered_html ul {
  list-style: disc;
}
.rendered_html ul ul {
  list-style: square;
  margin-top: 0;
}
.rendered_html ul ul ul {
  list-style: circle;
}
.rendered_html ol {
  list-style: decimal;
}
.rendered_html ol ol {
  list-style: upper-alpha;
  margin-top: 0;
}
.rendered_html ol ol ol {
  list-style: lower-alpha;
}
.rendered_html ol ol ol ol {
  list-style: lower-roman;
}
.rendered_html ol ol ol ol ol {
  list-style: decimal;
}
.rendered_html * + ul {
  margin-top: 1em;
}
.rendered_html * + ol {
  margin-top: 1em;
}
.rendered_html hr {
  color: black;
  background-color: black;
}
.rendered_html pre {
  margin: 1em 2em;
  padding: 0px;
  background-color: #fff;
}
.rendered_html code {
  background-color: #eff0f1;
}
.rendered_html p code {
  padding: 1px 5px;
}
.rendered_html pre code {
  background-color: #fff;
}
.rendered_html pre,
.rendered_html code {
  border: 0;
  color: #000;
  font-size: 100%;
}
.rendered_html blockquote {
  margin: 1em 2em;
}
.rendered_html table {
  margin-left: auto;
  margin-right: auto;
  border: none;
  border-collapse: collapse;
  border-spacing: 0;
  color: black;
  font-size: 12px;
  table-layout: fixed;
}
.rendered_html thead {
  border-bottom: 1px solid black;
  vertical-align: bottom;
}
.rendered_html tr,
.rendered_html th,
.rendered_html td {
  text-align: right;
  vertical-align: middle;
  padding: 0.5em 0.5em;
  line-height: normal;
  white-space: normal;
  max-width: none;
  border: none;
}
.rendered_html th {
  font-weight: bold;
}
.rendered_html tbody tr:nth-child(odd) {
  background: #f5f5f5;
}
.rendered_html tbody tr:hover {
  background: rgba(66, 165, 245, 0.2);
}
.rendered_html * + table {
  margin-top: 1em;
}
.rendered_html p {
  text-align: left;
}
.rendered_html * + p {
  margin-top: 1em;
}
.rendered_html img {
  display: block;
  margin-left: auto;
  margin-right: auto;
}
.rendered_html * + img {
  margin-top: 1em;
}
.rendered_html img,
.rendered_html svg {
  max-width: 100%;
  height: auto;
}
.rendered_html img.unconfined,
.rendered_html svg.unconfined {
  max-width: none;
}
.rendered_html .alert {
  margin-bottom: initial;
}
.rendered_html * + .alert {
  margin-top: 1em;
}
[dir="rtl"] .rendered_html p {
  text-align: right;
}
div.text_cell {
  /* Old browsers */
  display: -webkit-box;
  -webkit-box-orient: horizontal;
  -webkit-box-align: stretch;
  display: -moz-box;
  -moz-box-orient: horizontal;
  -moz-box-align: stretch;
  display: box;
  box-orient: horizontal;
  box-align: stretch;
  /* Modern browsers */
  display: flex;
  flex-direction: row;
  align-items: stretch;
}
@media (max-width: 540px) {
  div.text_cell > div.prompt {
    display: none;
  }
}
div.text_cell_render {
  /*font-family: "Helvetica Neue", Arial, Helvetica, Geneva, sans-serif;*/
  outline: none;
  resize: none;
  width: inherit;
  border-style: none;
  padding: 0.5em 0.5em 0.5em 0.4em;
  color: #000;
  box-sizing: border-box;
  -moz-box-sizing: border-box;
  -webkit-box-sizing: border-box;
}
a.anchor-link:link {
  text-decoration: none;
  padding: 0px 20px;
  visibility: hidden;
}
h1:hover .anchor-link,
h2:hover .anchor-link,
h3:hover .anchor-link,
h4:hover .anchor-link,
h5:hover .anchor-link,
h6:hover .anchor-link {
  visibility: visible;
}
.text_cell.rendered .input_area {
  display: none;
}
.text_cell.rendered .rendered_html {
  overflow-x: auto;
  overflow-y: hidden;
}
.text_cell.rendered .rendered_html tr,
.text_cell.rendered .rendered_html th,
.text_cell.rendered .rendered_html td {
  max-width: none;
}
.text_cell.unrendered .text_cell_render {
  display: none;
}
.text_cell .dropzone .input_area {
  border: 2px dashed #bababa;
  margin: -1px;
}
.cm-header-1,
.cm-header-2,
.cm-header-3,
.cm-header-4,
.cm-header-5,
.cm-header-6 {
  font-weight: bold;
  font-family: "Helvetica Neue", Helvetica, Arial, sans-serif;
}
.cm-header-1 {
  font-size: 185.7%;
}
.cm-header-2 {
  font-size: 157.1%;
}
.cm-header-3 {
  font-size: 128.6%;
}
.cm-header-4 {
  font-size: 110%;
}
.cm-header-5 {
  font-size: 100%;
  font-style: italic;
}
.cm-header-6 {
  font-size: 100%;
  font-style: italic;
}
/*!
*
* IPython notebook webapp
*
*/
@media (max-width: 767px) {
  .notebook_app {
    padding-left: 0px;
    padding-right: 0px;
  }
}
#ipython-main-app {
  box-sizing: border-box;
  -moz-box-sizing: border-box;
  -webkit-box-sizing: border-box;
  height: 100%;
}
div#notebook_panel {
  margin: 0px;
  padding: 0px;
  box-sizing: border-box;
  -moz-box-sizing: border-box;
  -webkit-box-sizing: border-box;
  height: 100%;
}
div#notebook {
  font-size: 14px;
  line-height: 20px;
  overflow-y: hidden;
  overflow-x: auto;
  width: 100%;
  /* This spaces the page away from the edge of the notebook area */
  padding-top: 20px;
  margin: 0px;
  outline: none;
  box-sizing: border-box;
  -moz-box-sizing: border-box;
  -webkit-box-sizing: border-box;
  min-height: 100%;
}
@media not print {
  #notebook-container {
    padding: 15px;
    background-color: #fff;
    min-height: 0;
    -webkit-box-shadow: 0px 0px 12px 1px rgba(87, 87, 87, 0.2);
    box-shadow: 0px 0px 12px 1px rgba(87, 87, 87, 0.2);
  }
}
@media print {
  #notebook-container {
    width: 100%;
  }
}
div.ui-widget-content {
  border: 1px solid #ababab;
  outline: none;
}
pre.dialog {
  background-color: #f7f7f7;
  border: 1px solid #ddd;
  border-radius: 2px;
  padding: 0.4em;
  padding-left: 2em;
}
p.dialog {
  padding: 0.2em;
}
/* Word-wrap output correctly.  This is the CSS3 spelling, though Firefox seems
   to not honor it correctly.  Webkit browsers (Chrome, rekonq, Safari) do.
 */
pre,
code,
kbd,
samp {
  white-space: pre-wrap;
}
#fonttest {
  font-family: monospace;
}
p {
  margin-bottom: 0;
}
.end_space {
  min-height: 100px;
  transition: height .2s ease;
}
.notebook_app > #header {
  -webkit-box-shadow: 0px 0px 12px 1px rgba(87, 87, 87, 0.2);
  box-shadow: 0px 0px 12px 1px rgba(87, 87, 87, 0.2);
}
@media not print {
  .notebook_app {
    background-color: #EEE;
  }
}
kbd {
  border-style: solid;
  border-width: 1px;
  box-shadow: none;
  margin: 2px;
  padding-left: 2px;
  padding-right: 2px;
  padding-top: 1px;
  padding-bottom: 1px;
}
.jupyter-keybindings {
  padding: 1px;
  line-height: 24px;
  border-bottom: 1px solid gray;
}
.jupyter-keybindings input {
  margin: 0;
  padding: 0;
  border: none;
}
.jupyter-keybindings i {
  padding: 6px;
}
.well code {
  background-color: #ffffff;
  border-color: #ababab;
  border-width: 1px;
  border-style: solid;
  padding: 2px;
  padding-top: 1px;
  padding-bottom: 1px;
}
/* CSS for the cell toolbar */
.celltoolbar {
  border: thin solid #CFCFCF;
  border-bottom: none;
  background: #EEE;
  border-radius: 2px 2px 0px 0px;
  width: 100%;
  height: 29px;
  padding-right: 4px;
  /* Old browsers */
  display: -webkit-box;
  -webkit-box-orient: horizontal;
  -webkit-box-align: stretch;
  display: -moz-box;
  -moz-box-orient: horizontal;
  -moz-box-align: stretch;
  display: box;
  box-orient: horizontal;
  box-align: stretch;
  /* Modern browsers */
  display: flex;
  flex-direction: row;
  align-items: stretch;
  /* Old browsers */
  -webkit-box-pack: end;
  -moz-box-pack: end;
  box-pack: end;
  /* Modern browsers */
  justify-content: flex-end;
  display: -webkit-flex;
}
@media print {
  .celltoolbar {
    display: none;
  }
}
.ctb_hideshow {
  display: none;
  vertical-align: bottom;
}
/* ctb_show is added to the ctb_hideshow div to show the cell toolbar.
   Cell toolbars are only shown when the ctb_global_show class is also set.
*/
.ctb_global_show .ctb_show.ctb_hideshow {
  display: block;
}
.ctb_global_show .ctb_show + .input_area,
.ctb_global_show .ctb_show + div.text_cell_input,
.ctb_global_show .ctb_show ~ div.text_cell_render {
  border-top-right-radius: 0px;
  border-top-left-radius: 0px;
}
.ctb_global_show .ctb_show ~ div.text_cell_render {
  border: 1px solid #cfcfcf;
}
.celltoolbar {
  font-size: 87%;
  padding-top: 3px;
}
.celltoolbar select {
  display: block;
  width: 100%;
  height: 32px;
  padding: 6px 12px;
  font-size: 13px;
  line-height: 1.42857143;
  color: #555555;
  background-color: #fff;
  background-image: none;
  border: 1px solid #ccc;
  border-radius: 2px;
  -webkit-box-shadow: inset 0 1px 1px rgba(0, 0, 0, 0.075);
  box-shadow: inset 0 1px 1px rgba(0, 0, 0, 0.075);
  -webkit-transition: border-color ease-in-out .15s, box-shadow ease-in-out .15s;
  -o-transition: border-color ease-in-out .15s, box-shadow ease-in-out .15s;
  transition: border-color ease-in-out .15s, box-shadow ease-in-out .15s;
  height: 30px;
  padding: 5px 10px;
  font-size: 12px;
  line-height: 1.5;
  border-radius: 1px;
  width: inherit;
  font-size: inherit;
  height: 22px;
  padding: 0px;
  display: inline-block;
}
.celltoolbar select:focus {
  border-color: #66afe9;
  outline: 0;
  -webkit-box-shadow: inset 0 1px 1px rgba(0,0,0,.075), 0 0 8px rgba(102, 175, 233, 0.6);
  box-shadow: inset 0 1px 1px rgba(0,0,0,.075), 0 0 8px rgba(102, 175, 233, 0.6);
}
.celltoolbar select::-moz-placeholder {
  color: #999;
  opacity: 1;
}
.celltoolbar select:-ms-input-placeholder {
  color: #999;
}
.celltoolbar select::-webkit-input-placeholder {
  color: #999;
}
.celltoolbar select::-ms-expand {
  border: 0;
  background-color: transparent;
}
.celltoolbar select[disabled],
.celltoolbar select[readonly],
fieldset[disabled] .celltoolbar select {
  background-color: #eeeeee;
  opacity: 1;
}
.celltoolbar select[disabled],
fieldset[disabled] .celltoolbar select {
  cursor: not-allowed;
}
textarea.celltoolbar select {
  height: auto;
}
select.celltoolbar select {
  height: 30px;
  line-height: 30px;
}
textarea.celltoolbar select,
select[multiple].celltoolbar select {
  height: auto;
}
.celltoolbar label {
  margin-left: 5px;
  margin-right: 5px;
}
.tags_button_container {
  width: 100%;
  display: flex;
}
.tag-container {
  display: flex;
  flex-direction: row;
  flex-grow: 1;
  overflow: hidden;
  position: relative;
}
.tag-container > * {
  margin: 0 4px;
}
.remove-tag-btn {
  margin-left: 4px;
}
.tags-input {
  display: flex;
}
.cell-tag:last-child:after {
  content: "";
  position: absolute;
  right: 0;
  width: 40px;
  height: 100%;
  /* Fade to background color of cell toolbar */
  background: linear-gradient(to right, rgba(0, 0, 0, 0), #EEE);
}
.tags-input > * {
  margin-left: 4px;
}
.cell-tag,
.tags-input input,
.tags-input button {
  display: block;
  width: 100%;
  height: 32px;
  padding: 6px 12px;
  font-size: 13px;
  line-height: 1.42857143;
  color: #555555;
  background-color: #fff;
  background-image: none;
  border: 1px solid #ccc;
  border-radius: 2px;
  -webkit-box-shadow: inset 0 1px 1px rgba(0, 0, 0, 0.075);
  box-shadow: inset 0 1px 1px rgba(0, 0, 0, 0.075);
  -webkit-transition: border-color ease-in-out .15s, box-shadow ease-in-out .15s;
  -o-transition: border-color ease-in-out .15s, box-shadow ease-in-out .15s;
  transition: border-color ease-in-out .15s, box-shadow ease-in-out .15s;
  height: 30px;
  padding: 5px 10px;
  font-size: 12px;
  line-height: 1.5;
  border-radius: 1px;
  box-shadow: none;
  width: inherit;
  font-size: inherit;
  height: 22px;
  line-height: 22px;
  padding: 0px 4px;
  display: inline-block;
}
.cell-tag:focus,
.tags-input input:focus,
.tags-input button:focus {
  border-color: #66afe9;
  outline: 0;
  -webkit-box-shadow: inset 0 1px 1px rgba(0,0,0,.075), 0 0 8px rgba(102, 175, 233, 0.6);
  box-shadow: inset 0 1px 1px rgba(0,0,0,.075), 0 0 8px rgba(102, 175, 233, 0.6);
}
.cell-tag::-moz-placeholder,
.tags-input input::-moz-placeholder,
.tags-input button::-moz-placeholder {
  color: #999;
  opacity: 1;
}
.cell-tag:-ms-input-placeholder,
.tags-input input:-ms-input-placeholder,
.tags-input button:-ms-input-placeholder {
  color: #999;
}
.cell-tag::-webkit-input-placeholder,
.tags-input input::-webkit-input-placeholder,
.tags-input button::-webkit-input-placeholder {
  color: #999;
}
.cell-tag::-ms-expand,
.tags-input input::-ms-expand,
.tags-input button::-ms-expand {
  border: 0;
  background-color: transparent;
}
.cell-tag[disabled],
.tags-input input[disabled],
.tags-input button[disabled],
.cell-tag[readonly],
.tags-input input[readonly],
.tags-input button[readonly],
fieldset[disabled] .cell-tag,
fieldset[disabled] .tags-input input,
fieldset[disabled] .tags-input button {
  background-color: #eeeeee;
  opacity: 1;
}
.cell-tag[disabled],
.tags-input input[disabled],
.tags-input button[disabled],
fieldset[disabled] .cell-tag,
fieldset[disabled] .tags-input input,
fieldset[disabled] .tags-input button {
  cursor: not-allowed;
}
textarea.cell-tag,
textarea.tags-input input,
textarea.tags-input button {
  height: auto;
}
select.cell-tag,
select.tags-input input,
select.tags-input button {
  height: 30px;
  line-height: 30px;
}
textarea.cell-tag,
textarea.tags-input input,
textarea.tags-input button,
select[multiple].cell-tag,
select[multiple].tags-input input,
select[multiple].tags-input button {
  height: auto;
}
.cell-tag,
.tags-input button {
  padding: 0px 4px;
}
.cell-tag {
  background-color: #fff;
  white-space: nowrap;
}
.tags-input input[type=text]:focus {
  outline: none;
  box-shadow: none;
  border-color: #ccc;
}
.completions {
  position: absolute;
  z-index: 110;
  overflow: hidden;
  border: 1px solid #ababab;
  border-radius: 2px;
  -webkit-box-shadow: 0px 6px 10px -1px #adadad;
  box-shadow: 0px 6px 10px -1px #adadad;
  line-height: 1;
}
.completions select {
  background: white;
  outline: none;
  border: none;
  padding: 0px;
  margin: 0px;
  overflow: auto;
  font-family: monospace;
  font-size: 110%;
  color: #000;
  width: auto;
}
.completions select option.context {
  color: #286090;
}
#kernel_logo_widget .current_kernel_logo {
  display: none;
  margin-top: -1px;
  margin-bottom: -1px;
  width: 32px;
  height: 32px;
}
[dir="rtl"] #kernel_logo_widget {
  float: left !important;
  float: left;
}
.modal .modal-body .move-path {
  display: flex;
  flex-direction: row;
  justify-content: space;
  align-items: center;
}
.modal .modal-body .move-path .server-root {
  padding-right: 20px;
}
.modal .modal-body .move-path .path-input {
  flex: 1;
}
#menubar {
  box-sizing: border-box;
  -moz-box-sizing: border-box;
  -webkit-box-sizing: border-box;
  margin-top: 1px;
}
#menubar .navbar {
  border-top: 1px;
  border-radius: 0px 0px 2px 2px;
  margin-bottom: 0px;
}
#menubar .navbar-toggle {
  float: left;
  padding-top: 7px;
  padding-bottom: 7px;
  border: none;
}
#menubar .navbar-collapse {
  clear: left;
}
[dir="rtl"] #menubar .navbar-toggle {
  float: right;
}
[dir="rtl"] #menubar .navbar-collapse {
  clear: right;
}
[dir="rtl"] #menubar .navbar-nav {
  float: right;
}
[dir="rtl"] #menubar .nav {
  padding-right: 0px;
}
[dir="rtl"] #menubar .navbar-nav > li {
  float: right;
}
[dir="rtl"] #menubar .navbar-right {
  float: left !important;
}
[dir="rtl"] ul.dropdown-menu {
  text-align: right;
  left: auto;
}
[dir="rtl"] ul#new-menu.dropdown-menu {
  right: auto;
  left: 0;
}
.nav-wrapper {
  border-bottom: 1px solid #e7e7e7;
}
i.menu-icon {
  padding-top: 4px;
}
[dir="rtl"] i.menu-icon.pull-right {
  float: left !important;
  float: left;
}
ul#help_menu li a {
  overflow: hidden;
  padding-right: 2.2em;
}
ul#help_menu li a i {
  margin-right: -1.2em;
}
[dir="rtl"] ul#help_menu li a {
  padding-left: 2.2em;
}
[dir="rtl"] ul#help_menu li a i {
  margin-right: 0;
  margin-left: -1.2em;
}
[dir="rtl"] ul#help_menu li a i.pull-right {
  float: left !important;
  float: left;
}
.dropdown-submenu {
  position: relative;
}
.dropdown-submenu > .dropdown-menu {
  top: 0;
  left: 100%;
  margin-top: -6px;
  margin-left: -1px;
}
[dir="rtl"] .dropdown-submenu > .dropdown-menu {
  right: 100%;
  margin-right: -1px;
}
.dropdown-submenu:hover > .dropdown-menu {
  display: block;
}
.dropdown-submenu > a:after {
  display: inline-block;
  font: normal normal normal 14px/1 FontAwesome;
  font-size: inherit;
  text-rendering: auto;
  -webkit-font-smoothing: antialiased;
  -moz-osx-font-smoothing: grayscale;
  display: block;
  content: "\f0da";
  float: right;
  color: #333333;
  margin-top: 2px;
  margin-right: -10px;
}
.dropdown-submenu > a:after.fa-pull-left {
  margin-right: .3em;
}
.dropdown-submenu > a:after.fa-pull-right {
  margin-left: .3em;
}
.dropdown-submenu > a:after.pull-left {
  margin-right: .3em;
}
.dropdown-submenu > a:after.pull-right {
  margin-left: .3em;
}
[dir="rtl"] .dropdown-submenu > a:after {
  float: left;
  content: "\f0d9";
  margin-right: 0;
  margin-left: -10px;
}
.dropdown-submenu:hover > a:after {
  color: #262626;
}
.dropdown-submenu.pull-left {
  float: none;
}
.dropdown-submenu.pull-left > .dropdown-menu {
  left: -100%;
  margin-left: 10px;
}
#notification_area {
  float: right !important;
  float: right;
  z-index: 10;
}
[dir="rtl"] #notification_area {
  float: left !important;
  float: left;
}
.indicator_area {
  float: right !important;
  float: right;
  color: #777;
  margin-left: 5px;
  margin-right: 5px;
  width: 11px;
  z-index: 10;
  text-align: center;
  width: auto;
}
[dir="rtl"] .indicator_area {
  float: left !important;
  float: left;
}
#kernel_indicator {
  float: right !important;
  float: right;
  color: #777;
  margin-left: 5px;
  margin-right: 5px;
  width: 11px;
  z-index: 10;
  text-align: center;
  width: auto;
  border-left: 1px solid;
}
#kernel_indicator .kernel_indicator_name {
  padding-left: 5px;
  padding-right: 5px;
}
[dir="rtl"] #kernel_indicator {
  float: left !important;
  float: left;
  border-left: 0;
  border-right: 1px solid;
}
#modal_indicator {
  float: right !important;
  float: right;
  color: #777;
  margin-left: 5px;
  margin-right: 5px;
  width: 11px;
  z-index: 10;
  text-align: center;
  width: auto;
}
[dir="rtl"] #modal_indicator {
  float: left !important;
  float: left;
}
#readonly-indicator {
  float: right !important;
  float: right;
  color: #777;
  margin-left: 5px;
  margin-right: 5px;
  width: 11px;
  z-index: 10;
  text-align: center;
  width: auto;
  margin-top: 2px;
  margin-bottom: 0px;
  margin-left: 0px;
  margin-right: 0px;
  display: none;
}
.modal_indicator:before {
  width: 1.28571429em;
  text-align: center;
}
.edit_mode .modal_indicator:before {
  display: inline-block;
  font: normal normal normal 14px/1 FontAwesome;
  font-size: inherit;
  text-rendering: auto;
  -webkit-font-smoothing: antialiased;
  -moz-osx-font-smoothing: grayscale;
  content: "\f040";
}
.edit_mode .modal_indicator:before.fa-pull-left {
  margin-right: .3em;
}
.edit_mode .modal_indicator:before.fa-pull-right {
  margin-left: .3em;
}
.edit_mode .modal_indicator:before.pull-left {
  margin-right: .3em;
}
.edit_mode .modal_indicator:before.pull-right {
  margin-left: .3em;
}
.command_mode .modal_indicator:before {
  display: inline-block;
  font: normal normal normal 14px/1 FontAwesome;
  font-size: inherit;
  text-rendering: auto;
  -webkit-font-smoothing: antialiased;
  -moz-osx-font-smoothing: grayscale;
  content: ' ';
}
.command_mode .modal_indicator:before.fa-pull-left {
  margin-right: .3em;
}
.command_mode .modal_indicator:before.fa-pull-right {
  margin-left: .3em;
}
.command_mode .modal_indicator:before.pull-left {
  margin-right: .3em;
}
.command_mode .modal_indicator:before.pull-right {
  margin-left: .3em;
}
.kernel_idle_icon:before {
  display: inline-block;
  font: normal normal normal 14px/1 FontAwesome;
  font-size: inherit;
  text-rendering: auto;
  -webkit-font-smoothing: antialiased;
  -moz-osx-font-smoothing: grayscale;
  content: "\f10c";
}
.kernel_idle_icon:before.fa-pull-left {
  margin-right: .3em;
}
.kernel_idle_icon:before.fa-pull-right {
  margin-left: .3em;
}
.kernel_idle_icon:before.pull-left {
  margin-right: .3em;
}
.kernel_idle_icon:before.pull-right {
  margin-left: .3em;
}
.kernel_busy_icon:before {
  display: inline-block;
  font: normal normal normal 14px/1 FontAwesome;
  font-size: inherit;
  text-rendering: auto;
  -webkit-font-smoothing: antialiased;
  -moz-osx-font-smoothing: grayscale;
  content: "\f111";
}
.kernel_busy_icon:before.fa-pull-left {
  margin-right: .3em;
}
.kernel_busy_icon:before.fa-pull-right {
  margin-left: .3em;
}
.kernel_busy_icon:before.pull-left {
  margin-right: .3em;
}
.kernel_busy_icon:before.pull-right {
  margin-left: .3em;
}
.kernel_dead_icon:before {
  display: inline-block;
  font: normal normal normal 14px/1 FontAwesome;
  font-size: inherit;
  text-rendering: auto;
  -webkit-font-smoothing: antialiased;
  -moz-osx-font-smoothing: grayscale;
  content: "\f1e2";
}
.kernel_dead_icon:before.fa-pull-left {
  margin-right: .3em;
}
.kernel_dead_icon:before.fa-pull-right {
  margin-left: .3em;
}
.kernel_dead_icon:before.pull-left {
  margin-right: .3em;
}
.kernel_dead_icon:before.pull-right {
  margin-left: .3em;
}
.kernel_disconnected_icon:before {
  display: inline-block;
  font: normal normal normal 14px/1 FontAwesome;
  font-size: inherit;
  text-rendering: auto;
  -webkit-font-smoothing: antialiased;
  -moz-osx-font-smoothing: grayscale;
  content: "\f127";
}
.kernel_disconnected_icon:before.fa-pull-left {
  margin-right: .3em;
}
.kernel_disconnected_icon:before.fa-pull-right {
  margin-left: .3em;
}
.kernel_disconnected_icon:before.pull-left {
  margin-right: .3em;
}
.kernel_disconnected_icon:before.pull-right {
  margin-left: .3em;
}
.notification_widget {
  color: #777;
  z-index: 10;
  background: rgba(240, 240, 240, 0.5);
  margin-right: 4px;
  color: #333;
  background-color: #fff;
  border-color: #ccc;
}
.notification_widget:focus,
.notification_widget.focus {
  color: #333;
  background-color: #e6e6e6;
  border-color: #8c8c8c;
}
.notification_widget:hover {
  color: #333;
  background-color: #e6e6e6;
  border-color: #adadad;
}
.notification_widget:active,
.notification_widget.active,
.open > .dropdown-toggle.notification_widget {
  color: #333;
  background-color: #e6e6e6;
  border-color: #adadad;
}
.notification_widget:active:hover,
.notification_widget.active:hover,
.open > .dropdown-toggle.notification_widget:hover,
.notification_widget:active:focus,
.notification_widget.active:focus,
.open > .dropdown-toggle.notification_widget:focus,
.notification_widget:active.focus,
.notification_widget.active.focus,
.open > .dropdown-toggle.notification_widget.focus {
  color: #333;
  background-color: #d4d4d4;
  border-color: #8c8c8c;
}
.notification_widget:active,
.notification_widget.active,
.open > .dropdown-toggle.notification_widget {
  background-image: none;
}
.notification_widget.disabled:hover,
.notification_widget[disabled]:hover,
fieldset[disabled] .notification_widget:hover,
.notification_widget.disabled:focus,
.notification_widget[disabled]:focus,
fieldset[disabled] .notification_widget:focus,
.notification_widget.disabled.focus,
.notification_widget[disabled].focus,
fieldset[disabled] .notification_widget.focus {
  background-color: #fff;
  border-color: #ccc;
}
.notification_widget .badge {
  color: #fff;
  background-color: #333;
}
.notification_widget.warning {
  color: #fff;
  background-color: #f0ad4e;
  border-color: #eea236;
}
.notification_widget.warning:focus,
.notification_widget.warning.focus {
  color: #fff;
  background-color: #ec971f;
  border-color: #985f0d;
}
.notification_widget.warning:hover {
  color: #fff;
  background-color: #ec971f;
  border-color: #d58512;
}
.notification_widget.warning:active,
.notification_widget.warning.active,
.open > .dropdown-toggle.notification_widget.warning {
  color: #fff;
  background-color: #ec971f;
  border-color: #d58512;
}
.notification_widget.warning:active:hover,
.notification_widget.warning.active:hover,
.open > .dropdown-toggle.notification_widget.warning:hover,
.notification_widget.warning:active:focus,
.notification_widget.warning.active:focus,
.open > .dropdown-toggle.notification_widget.warning:focus,
.notification_widget.warning:active.focus,
.notification_widget.warning.active.focus,
.open > .dropdown-toggle.notification_widget.warning.focus {
  color: #fff;
  background-color: #d58512;
  border-color: #985f0d;
}
.notification_widget.warning:active,
.notification_widget.warning.active,
.open > .dropdown-toggle.notification_widget.warning {
  background-image: none;
}
.notification_widget.warning.disabled:hover,
.notification_widget.warning[disabled]:hover,
fieldset[disabled] .notification_widget.warning:hover,
.notification_widget.warning.disabled:focus,
.notification_widget.warning[disabled]:focus,
fieldset[disabled] .notification_widget.warning:focus,
.notification_widget.warning.disabled.focus,
.notification_widget.warning[disabled].focus,
fieldset[disabled] .notification_widget.warning.focus {
  background-color: #f0ad4e;
  border-color: #eea236;
}
.notification_widget.warning .badge {
  color: #f0ad4e;
  background-color: #fff;
}
.notification_widget.success {
  color: #fff;
  background-color: #5cb85c;
  border-color: #4cae4c;
}
.notification_widget.success:focus,
.notification_widget.success.focus {
  color: #fff;
  background-color: #449d44;
  border-color: #255625;
}
.notification_widget.success:hover {
  color: #fff;
  background-color: #449d44;
  border-color: #398439;
}
.notification_widget.success:active,
.notification_widget.success.active,
.open > .dropdown-toggle.notification_widget.success {
  color: #fff;
  background-color: #449d44;
  border-color: #398439;
}
.notification_widget.success:active:hover,
.notification_widget.success.active:hover,
.open > .dropdown-toggle.notification_widget.success:hover,
.notification_widget.success:active:focus,
.notification_widget.success.active:focus,
.open > .dropdown-toggle.notification_widget.success:focus,
.notification_widget.success:active.focus,
.notification_widget.success.active.focus,
.open > .dropdown-toggle.notification_widget.success.focus {
  color: #fff;
  background-color: #398439;
  border-color: #255625;
}
.notification_widget.success:active,
.notification_widget.success.active,
.open > .dropdown-toggle.notification_widget.success {
  background-image: none;
}
.notification_widget.success.disabled:hover,
.notification_widget.success[disabled]:hover,
fieldset[disabled] .notification_widget.success:hover,
.notification_widget.success.disabled:focus,
.notification_widget.success[disabled]:focus,
fieldset[disabled] .notification_widget.success:focus,
.notification_widget.success.disabled.focus,
.notification_widget.success[disabled].focus,
fieldset[disabled] .notification_widget.success.focus {
  background-color: #5cb85c;
  border-color: #4cae4c;
}
.notification_widget.success .badge {
  color: #5cb85c;
  background-color: #fff;
}
.notification_widget.info {
  color: #fff;
  background-color: #5bc0de;
  border-color: #46b8da;
}
.notification_widget.info:focus,
.notification_widget.info.focus {
  color: #fff;
  background-color: #31b0d5;
  border-color: #1b6d85;
}
.notification_widget.info:hover {
  color: #fff;
  background-color: #31b0d5;
  border-color: #269abc;
}
.notification_widget.info:active,
.notification_widget.info.active,
.open > .dropdown-toggle.notification_widget.info {
  color: #fff;
  background-color: #31b0d5;
  border-color: #269abc;
}
.notification_widget.info:active:hover,
.notification_widget.info.active:hover,
.open > .dropdown-toggle.notification_widget.info:hover,
.notification_widget.info:active:focus,
.notification_widget.info.active:focus,
.open > .dropdown-toggle.notification_widget.info:focus,
.notification_widget.info:active.focus,
.notification_widget.info.active.focus,
.open > .dropdown-toggle.notification_widget.info.focus {
  color: #fff;
  background-color: #269abc;
  border-color: #1b6d85;
}
.notification_widget.info:active,
.notification_widget.info.active,
.open > .dropdown-toggle.notification_widget.info {
  background-image: none;
}
.notification_widget.info.disabled:hover,
.notification_widget.info[disabled]:hover,
fieldset[disabled] .notification_widget.info:hover,
.notification_widget.info.disabled:focus,
.notification_widget.info[disabled]:focus,
fieldset[disabled] .notification_widget.info:focus,
.notification_widget.info.disabled.focus,
.notification_widget.info[disabled].focus,
fieldset[disabled] .notification_widget.info.focus {
  background-color: #5bc0de;
  border-color: #46b8da;
}
.notification_widget.info .badge {
  color: #5bc0de;
  background-color: #fff;
}
.notification_widget.danger {
  color: #fff;
  background-color: #d9534f;
  border-color: #d43f3a;
}
.notification_widget.danger:focus,
.notification_widget.danger.focus {
  color: #fff;
  background-color: #c9302c;
  border-color: #761c19;
}
.notification_widget.danger:hover {
  color: #fff;
  background-color: #c9302c;
  border-color: #ac2925;
}
.notification_widget.danger:active,
.notification_widget.danger.active,
.open > .dropdown-toggle.notification_widget.danger {
  color: #fff;
  background-color: #c9302c;
  border-color: #ac2925;
}
.notification_widget.danger:active:hover,
.notification_widget.danger.active:hover,
.open > .dropdown-toggle.notification_widget.danger:hover,
.notification_widget.danger:active:focus,
.notification_widget.danger.active:focus,
.open > .dropdown-toggle.notification_widget.danger:focus,
.notification_widget.danger:active.focus,
.notification_widget.danger.active.focus,
.open > .dropdown-toggle.notification_widget.danger.focus {
  color: #fff;
  background-color: #ac2925;
  border-color: #761c19;
}
.notification_widget.danger:active,
.notification_widget.danger.active,
.open > .dropdown-toggle.notification_widget.danger {
  background-image: none;
}
.notification_widget.danger.disabled:hover,
.notification_widget.danger[disabled]:hover,
fieldset[disabled] .notification_widget.danger:hover,
.notification_widget.danger.disabled:focus,
.notification_widget.danger[disabled]:focus,
fieldset[disabled] .notification_widget.danger:focus,
.notification_widget.danger.disabled.focus,
.notification_widget.danger[disabled].focus,
fieldset[disabled] .notification_widget.danger.focus {
  background-color: #d9534f;
  border-color: #d43f3a;
}
.notification_widget.danger .badge {
  color: #d9534f;
  background-color: #fff;
}
div#pager {
  background-color: #fff;
  font-size: 14px;
  line-height: 20px;
  overflow: hidden;
  display: none;
  position: fixed;
  bottom: 0px;
  width: 100%;
  max-height: 50%;
  padding-top: 8px;
  -webkit-box-shadow: 0px 0px 12px 1px rgba(87, 87, 87, 0.2);
  box-shadow: 0px 0px 12px 1px rgba(87, 87, 87, 0.2);
  /* Display over codemirror */
  z-index: 100;
  /* Hack which prevents jquery ui resizable from changing top. */
  top: auto !important;
}
div#pager pre {
  line-height: 1.21429em;
  color: #000;
  background-color: #f7f7f7;
  padding: 0.4em;
}
div#pager #pager-button-area {
  position: absolute;
  top: 8px;
  right: 20px;
}
div#pager #pager-contents {
  position: relative;
  overflow: auto;
  width: 100%;
  height: 100%;
}
div#pager #pager-contents #pager-container {
  position: relative;
  padding: 15px 0px;
  box-sizing: border-box;
  -moz-box-sizing: border-box;
  -webkit-box-sizing: border-box;
}
div#pager .ui-resizable-handle {
  top: 0px;
  height: 8px;
  background: #f7f7f7;
  border-top: 1px solid #cfcfcf;
  border-bottom: 1px solid #cfcfcf;
  /* This injects handle bars (a short, wide = symbol) for 
        the resize handle. */
}
div#pager .ui-resizable-handle::after {
  content: '';
  top: 2px;
  left: 50%;
  height: 3px;
  width: 30px;
  margin-left: -15px;
  position: absolute;
  border-top: 1px solid #cfcfcf;
}
.quickhelp {
  /* Old browsers */
  display: -webkit-box;
  -webkit-box-orient: horizontal;
  -webkit-box-align: stretch;
  display: -moz-box;
  -moz-box-orient: horizontal;
  -moz-box-align: stretch;
  display: box;
  box-orient: horizontal;
  box-align: stretch;
  /* Modern browsers */
  display: flex;
  flex-direction: row;
  align-items: stretch;
  line-height: 1.8em;
}
.shortcut_key {
  display: inline-block;
  width: 21ex;
  text-align: right;
  font-family: monospace;
}
.shortcut_descr {
  display: inline-block;
  /* Old browsers */
  -webkit-box-flex: 1;
  -moz-box-flex: 1;
  box-flex: 1;
  /* Modern browsers */
  flex: 1;
}
span.save_widget {
  height: 30px;
  margin-top: 4px;
  display: flex;
  justify-content: flex-start;
  align-items: baseline;
  width: 50%;
  flex: 1;
}
span.save_widget span.filename {
  height: 100%;
  line-height: 1em;
  margin-left: 16px;
  border: none;
  font-size: 146.5%;
  text-overflow: ellipsis;
  overflow: hidden;
  white-space: nowrap;
  border-radius: 2px;
}
span.save_widget span.filename:hover {
  background-color: #e6e6e6;
}
[dir="rtl"] span.save_widget.pull-left {
  float: right !important;
  float: right;
}
[dir="rtl"] span.save_widget span.filename {
  margin-left: 0;
  margin-right: 16px;
}
span.checkpoint_status,
span.autosave_status {
  font-size: small;
  white-space: nowrap;
  padding: 0 5px;
}
@media (max-width: 767px) {
  span.save_widget {
    font-size: small;
    padding: 0 0 0 5px;
  }
  span.checkpoint_status,
  span.autosave_status {
    display: none;
  }
}
@media (min-width: 768px) and (max-width: 991px) {
  span.checkpoint_status {
    display: none;
  }
  span.autosave_status {
    font-size: x-small;
  }
}
.toolbar {
  padding: 0px;
  margin-left: -5px;
  margin-top: 2px;
  margin-bottom: 5px;
  box-sizing: border-box;
  -moz-box-sizing: border-box;
  -webkit-box-sizing: border-box;
}
.toolbar select,
.toolbar label {
  width: auto;
  vertical-align: middle;
  margin-right: 2px;
  margin-bottom: 0px;
  display: inline;
  font-size: 92%;
  margin-left: 0.3em;
  margin-right: 0.3em;
  padding: 0px;
  padding-top: 3px;
}
.toolbar .btn {
  padding: 2px 8px;
}
.toolbar .btn-group {
  margin-top: 0px;
  margin-left: 5px;
}
.toolbar-btn-label {
  margin-left: 6px;
}
#maintoolbar {
  margin-bottom: -3px;
  margin-top: -8px;
  border: 0px;
  min-height: 27px;
  margin-left: 0px;
  padding-top: 11px;
  padding-bottom: 3px;
}
#maintoolbar .navbar-text {
  float: none;
  vertical-align: middle;
  text-align: right;
  margin-left: 5px;
  margin-right: 0px;
  margin-top: 0px;
}
.select-xs {
  height: 24px;
}
[dir="rtl"] .btn-group > .btn,
.btn-group-vertical > .btn {
  float: right;
}
.pulse,
.dropdown-menu > li > a.pulse,
li.pulse > a.dropdown-toggle,
li.pulse.open > a.dropdown-toggle {
  background-color: #F37626;
  color: white;
}
/**
 * Primary styles
 *
 * Author: Jupyter Development Team
 */
/** WARNING IF YOU ARE EDITTING THIS FILE, if this is a .css file, It has a lot
 * of chance of beeing generated from the ../less/[samename].less file, you can
 * try to get back the less file by reverting somme commit in history
 **/
/*
 * We'll try to get something pretty, so we
 * have some strange css to have the scroll bar on
 * the left with fix button on the top right of the tooltip
 */
@-moz-keyframes fadeOut {
  from {
    opacity: 1;
  }
  to {
    opacity: 0;
  }
}
@-webkit-keyframes fadeOut {
  from {
    opacity: 1;
  }
  to {
    opacity: 0;
  }
}
@-moz-keyframes fadeIn {
  from {
    opacity: 0;
  }
  to {
    opacity: 1;
  }
}
@-webkit-keyframes fadeIn {
  from {
    opacity: 0;
  }
  to {
    opacity: 1;
  }
}
/*properties of tooltip after "expand"*/
.bigtooltip {
  overflow: auto;
  height: 200px;
  -webkit-transition-property: height;
  -webkit-transition-duration: 500ms;
  -moz-transition-property: height;
  -moz-transition-duration: 500ms;
  transition-property: height;
  transition-duration: 500ms;
}
/*properties of tooltip before "expand"*/
.smalltooltip {
  -webkit-transition-property: height;
  -webkit-transition-duration: 500ms;
  -moz-transition-property: height;
  -moz-transition-duration: 500ms;
  transition-property: height;
  transition-duration: 500ms;
  text-overflow: ellipsis;
  overflow: hidden;
  height: 80px;
}
.tooltipbuttons {
  position: absolute;
  padding-right: 15px;
  top: 0px;
  right: 0px;
}
.tooltiptext {
  /*avoid the button to overlap on some docstring*/
  padding-right: 30px;
}
.ipython_tooltip {
  max-width: 700px;
  /*fade-in animation when inserted*/
  -webkit-animation: fadeOut 400ms;
  -moz-animation: fadeOut 400ms;
  animation: fadeOut 400ms;
  -webkit-animation: fadeIn 400ms;
  -moz-animation: fadeIn 400ms;
  animation: fadeIn 400ms;
  vertical-align: middle;
  background-color: #f7f7f7;
  overflow: visible;
  border: #ababab 1px solid;
  outline: none;
  padding: 3px;
  margin: 0px;
  padding-left: 7px;
  font-family: monospace;
  min-height: 50px;
  -moz-box-shadow: 0px 6px 10px -1px #adadad;
  -webkit-box-shadow: 0px 6px 10px -1px #adadad;
  box-shadow: 0px 6px 10px -1px #adadad;
  border-radius: 2px;
  position: absolute;
  z-index: 1000;
}
.ipython_tooltip a {
  float: right;
}
.ipython_tooltip .tooltiptext pre {
  border: 0;
  border-radius: 0;
  font-size: 100%;
  background-color: #f7f7f7;
}
.pretooltiparrow {
  left: 0px;
  margin: 0px;
  top: -16px;
  width: 40px;
  height: 16px;
  overflow: hidden;
  position: absolute;
}
.pretooltiparrow:before {
  background-color: #f7f7f7;
  border: 1px #ababab solid;
  z-index: 11;
  content: "";
  position: absolute;
  left: 15px;
  top: 10px;
  width: 25px;
  height: 25px;
  -webkit-transform: rotate(45deg);
  -moz-transform: rotate(45deg);
  -ms-transform: rotate(45deg);
  -o-transform: rotate(45deg);
}
ul.typeahead-list i {
  margin-left: -10px;
  width: 18px;
}
[dir="rtl"] ul.typeahead-list i {
  margin-left: 0;
  margin-right: -10px;
}
ul.typeahead-list {
  max-height: 80vh;
  overflow: auto;
}
ul.typeahead-list > li > a {
  /** Firefox bug **/
  /* see https://github.com/jupyter/notebook/issues/559 */
  white-space: normal;
}
ul.typeahead-list  > li > a.pull-right {
  float: left !important;
  float: left;
}
[dir="rtl"] .typeahead-list {
  text-align: right;
}
.cmd-palette .modal-body {
  padding: 7px;
}
.cmd-palette form {
  background: white;
}
.cmd-palette input {
  outline: none;
}
.no-shortcut {
  min-width: 20px;
  color: transparent;
}
[dir="rtl"] .no-shortcut.pull-right {
  float: left !important;
  float: left;
}
[dir="rtl"] .command-shortcut.pull-right {
  float: left !important;
  float: left;
}
.command-shortcut:before {
  content: "(command mode)";
  padding-right: 3px;
  color: #777777;
}
.edit-shortcut:before {
  content: "(edit)";
  padding-right: 3px;
  color: #777777;
}
[dir="rtl"] .edit-shortcut.pull-right {
  float: left !important;
  float: left;
}
#find-and-replace #replace-preview .match,
#find-and-replace #replace-preview .insert {
  background-color: #BBDEFB;
  border-color: #90CAF9;
  border-style: solid;
  border-width: 1px;
  border-radius: 0px;
}
[dir="ltr"] #find-and-replace .input-group-btn + .form-control {
  border-left: none;
}
[dir="rtl"] #find-and-replace .input-group-btn + .form-control {
  border-right: none;
}
#find-and-replace #replace-preview .replace .match {
  background-color: #FFCDD2;
  border-color: #EF9A9A;
  border-radius: 0px;
}
#find-and-replace #replace-preview .replace .insert {
  background-color: #C8E6C9;
  border-color: #A5D6A7;
  border-radius: 0px;
}
#find-and-replace #replace-preview {
  max-height: 60vh;
  overflow: auto;
}
#find-and-replace #replace-preview pre {
  padding: 5px 10px;
}
.terminal-app {
  background: #EEE;
}
.terminal-app #header {
  background: #fff;
  -webkit-box-shadow: 0px 0px 12px 1px rgba(87, 87, 87, 0.2);
  box-shadow: 0px 0px 12px 1px rgba(87, 87, 87, 0.2);
}
.terminal-app .terminal {
  width: 100%;
  float: left;
  font-family: monospace;
  color: white;
  background: black;
  padding: 0.4em;
  border-radius: 2px;
  -webkit-box-shadow: 0px 0px 12px 1px rgba(87, 87, 87, 0.4);
  box-shadow: 0px 0px 12px 1px rgba(87, 87, 87, 0.4);
}
.terminal-app .terminal,
.terminal-app .terminal dummy-screen {
  line-height: 1em;
  font-size: 14px;
}
.terminal-app .terminal .xterm-rows {
  padding: 10px;
}
.terminal-app .terminal-cursor {
  color: black;
  background: white;
}
.terminal-app #terminado-container {
  margin-top: 20px;
}
/*# sourceMappingURL=style.min.css.map */
    </style>
<style type="text/css">
    .highlight .hll { background-color: #ffffcc }
.highlight  { background: #f8f8f8; }
.highlight .c { color: #408080; font-style: italic } /* Comment */
.highlight .err { border: 1px solid #FF0000 } /* Error */
.highlight .k { color: #008000; font-weight: bold } /* Keyword */
.highlight .o { color: #666666 } /* Operator */
.highlight .ch { color: #408080; font-style: italic } /* Comment.Hashbang */
.highlight .cm { color: #408080; font-style: italic } /* Comment.Multiline */
.highlight .cp { color: #BC7A00 } /* Comment.Preproc */
.highlight .cpf { color: #408080; font-style: italic } /* Comment.PreprocFile */
.highlight .c1 { color: #408080; font-style: italic } /* Comment.Single */
.highlight .cs { color: #408080; font-style: italic } /* Comment.Special */
.highlight .gd { color: #A00000 } /* Generic.Deleted */
.highlight .ge { font-style: italic } /* Generic.Emph */
.highlight .gr { color: #FF0000 } /* Generic.Error */
.highlight .gh { color: #000080; font-weight: bold } /* Generic.Heading */
.highlight .gi { color: #00A000 } /* Generic.Inserted */
.highlight .go { color: #888888 } /* Generic.Output */
.highlight .gp { color: #000080; font-weight: bold } /* Generic.Prompt */
.highlight .gs { font-weight: bold } /* Generic.Strong */
.highlight .gu { color: #800080; font-weight: bold } /* Generic.Subheading */
.highlight .gt { color: #0044DD } /* Generic.Traceback */
.highlight .kc { color: #008000; font-weight: bold } /* Keyword.Constant */
.highlight .kd { color: #008000; font-weight: bold } /* Keyword.Declaration */
.highlight .kn { color: #008000; font-weight: bold } /* Keyword.Namespace */
.highlight .kp { color: #008000 } /* Keyword.Pseudo */
.highlight .kr { color: #008000; font-weight: bold } /* Keyword.Reserved */
.highlight .kt { color: #B00040 } /* Keyword.Type */
.highlight .m { color: #666666 } /* Literal.Number */
.highlight .s { color: #BA2121 } /* Literal.String */
.highlight .na { color: #7D9029 } /* Name.Attribute */
.highlight .nb { color: #008000 } /* Name.Builtin */
.highlight .nc { color: #0000FF; font-weight: bold } /* Name.Class */
.highlight .no { color: #880000 } /* Name.Constant */
.highlight .nd { color: #AA22FF } /* Name.Decorator */
.highlight .ni { color: #999999; font-weight: bold } /* Name.Entity */
.highlight .ne { color: #D2413A; font-weight: bold } /* Name.Exception */
.highlight .nf { color: #0000FF } /* Name.Function */
.highlight .nl { color: #A0A000 } /* Name.Label */
.highlight .nn { color: #0000FF; font-weight: bold } /* Name.Namespace */
.highlight .nt { color: #008000; font-weight: bold } /* Name.Tag */
.highlight .nv { color: #19177C } /* Name.Variable */
.highlight .ow { color: #AA22FF; font-weight: bold } /* Operator.Word */
.highlight .w { color: #bbbbbb } /* Text.Whitespace */
.highlight .mb { color: #666666 } /* Literal.Number.Bin */
.highlight .mf { color: #666666 } /* Literal.Number.Float */
.highlight .mh { color: #666666 } /* Literal.Number.Hex */
.highlight .mi { color: #666666 } /* Literal.Number.Integer */
.highlight .mo { color: #666666 } /* Literal.Number.Oct */
.highlight .sa { color: #BA2121 } /* Literal.String.Affix */
.highlight .sb { color: #BA2121 } /* Literal.String.Backtick */
.highlight .sc { color: #BA2121 } /* Literal.String.Char */
.highlight .dl { color: #BA2121 } /* Literal.String.Delimiter */
.highlight .sd { color: #BA2121; font-style: italic } /* Literal.String.Doc */
.highlight .s2 { color: #BA2121 } /* Literal.String.Double */
.highlight .se { color: #BB6622; font-weight: bold } /* Literal.String.Escape */
.highlight .sh { color: #BA2121 } /* Literal.String.Heredoc */
.highlight .si { color: #BB6688; font-weight: bold } /* Literal.String.Interpol */
.highlight .sx { color: #008000 } /* Literal.String.Other */
.highlight .sr { color: #BB6688 } /* Literal.String.Regex */
.highlight .s1 { color: #BA2121 } /* Literal.String.Single */
.highlight .ss { color: #19177C } /* Literal.String.Symbol */
.highlight .bp { color: #008000 } /* Name.Builtin.Pseudo */
.highlight .fm { color: #0000FF } /* Name.Function.Magic */
.highlight .vc { color: #19177C } /* Name.Variable.Class */
.highlight .vg { color: #19177C } /* Name.Variable.Global */
.highlight .vi { color: #19177C } /* Name.Variable.Instance */
.highlight .vm { color: #19177C } /* Name.Variable.Magic */
.highlight .il { color: #666666 } /* Literal.Number.Integer.Long */
    </style>
<style type="text/css">
    
/* Temporary definitions which will become obsolete with Notebook release 5.0 */
.ansi-black-fg { color: #3E424D; }
.ansi-black-bg { background-color: #3E424D; }
.ansi-black-intense-fg { color: #282C36; }
.ansi-black-intense-bg { background-color: #282C36; }
.ansi-red-fg { color: #E75C58; }
.ansi-red-bg { background-color: #E75C58; }
.ansi-red-intense-fg { color: #B22B31; }
.ansi-red-intense-bg { background-color: #B22B31; }
.ansi-green-fg { color: #00A250; }
.ansi-green-bg { background-color: #00A250; }
.ansi-green-intense-fg { color: #007427; }
.ansi-green-intense-bg { background-color: #007427; }
.ansi-yellow-fg { color: #DDB62B; }
.ansi-yellow-bg { background-color: #DDB62B; }
.ansi-yellow-intense-fg { color: #B27D12; }
.ansi-yellow-intense-bg { background-color: #B27D12; }
.ansi-blue-fg { color: #208FFB; }
.ansi-blue-bg { background-color: #208FFB; }
.ansi-blue-intense-fg { color: #0065CA; }
.ansi-blue-intense-bg { background-color: #0065CA; }
.ansi-magenta-fg { color: #D160C4; }
.ansi-magenta-bg { background-color: #D160C4; }
.ansi-magenta-intense-fg { color: #A03196; }
.ansi-magenta-intense-bg { background-color: #A03196; }
.ansi-cyan-fg { color: #60C6C8; }
.ansi-cyan-bg { background-color: #60C6C8; }
.ansi-cyan-intense-fg { color: #258F8F; }
.ansi-cyan-intense-bg { background-color: #258F8F; }
.ansi-white-fg { color: #C5C1B4; }
.ansi-white-bg { background-color: #C5C1B4; }
.ansi-white-intense-fg { color: #A1A6B2; }
.ansi-white-intense-bg { background-color: #A1A6B2; }

.ansi-bold { font-weight: bold; }

    </style>
<style type="text/css">
    body[data-notebook-name] > #header #header-container:not(.show-panel), /* body has data-notebook-name attribute when 
a notebook is open. this rule won't be applied when the notebook is not open (in 404 view for example) */
body[data-notebook-name] #menubar-container #maintoolbar:not(.show-panel),
body[data-notebook-name] #menubar-container ul.navbar-nav:not(.show-panel) {
  display: none;
}

#menubar.only-panel #menus.navbar-default {
    background: #fff;
    border-color: #fff;
}

.toolbar.with-statusbar{
    margin-top: 3px;
    margin-bottom: 0;
}

    </style>


<style type="text/css">
/* Overrides of notebook CSS for static HTML export */
body {
  overflow: visible;
  padding: 8px;
}

div#notebook {
  overflow: visible;
  border-top: none;
}@media print {
  div.cell {
    display: block;
    page-break-inside: avoid;
  } 
  div.output_wrapper { 
    display: block;
    page-break-inside: avoid; 
  }
  div.output { 
    display: block;
    page-break-inside: avoid; 
  }
}
</style>

<!-- Custom stylesheet, it must be in the same directory as the html file -->
<link rel="stylesheet" href="custom.css">

<!-- Loading mathjax macro -->
<!-- Load mathjax -->
    <script src="https://cdnjs.cloudflare.com/ajax/libs/mathjax/2.7.1/MathJax.js?config=TeX-AMS_HTML"></script>
    <!-- MathJax configuration -->
    <script type="text/x-mathjax-config">
    MathJax.Hub.Config({
        tex2jax: {
            inlineMath: [ ['$','$'], ["\\(","\\)"] ],
            displayMath: [ ['$$','$$'], ["\\[","\\]"] ],
            processEscapes: true,
            processEnvironments: true
        },
        // Center justify equations in code and markdown cells. Elsewhere
        // we use CSS to left justify single line equations in code cells.
        displayAlign: 'center',
        "HTML-CSS": {
            styles: {'.MathJax_Display': {"margin": 0}},
            linebreaks: { automatic: true }
        }
    });
    </script>
    <!-- End of mathjax configuration --></head>
<body>
  <div tabindex="-1" id="notebook" class="border-box-sizing">
    <div class="container" id="notebook-container">

<div class="cell border-box-sizing text_cell rendered"><div class="prompt input_prompt">
</div><div class="inner_cell">
<div class="text_cell_render border-box-sizing rendered_html">
<h1 id="Developing-an-AI-application">Developing an AI application<a class="anchor-link" href="#Developing-an-AI-application">&#182;</a></h1><p>Going forward, AI algorithms will be incorporated into more and more everyday applications. For example, you might want to include an image classifier in a smart phone app. To do this, you'd use a deep learning model trained on hundreds of thousands of images as part of the overall application architecture. A large part of software development in the future will be using these types of models as common parts of applications.</p>
<p>In this project, you'll train an image classifier to recognize different species of flowers. You can imagine using something like this in a phone app that tells you the name of the flower your camera is looking at. In practice you'd train this classifier, then export it for use in your application. We'll be using <a href="http://www.robots.ox.ac.uk/~vgg/data/flowers/102/index.html">this dataset</a> of 102 flower categories, you can see a few examples below.</p>
<p><img src='assets/Flowers.png' width=500px></p>
<p>The project is broken down into multiple steps:</p>
<ul>
<li>Load and preprocess the image dataset</li>
<li>Train the image classifier on your dataset</li>
<li>Use the trained classifier to predict image content</li>
</ul>
<p>We'll lead you through each part which you'll implement in Python.</p>
<p>When you've completed this project, you'll have an application that can be trained on any set of labeled images. Here your network will be learning about flowers and end up as a command line application. But, what you do with your new skills depends on your imagination and effort in building a dataset. For example, imagine an app where you take a picture of a car, it tells you what the make and model is, then looks up information about it. Go build your own dataset and make something new.</p>
<p>First up is importing the packages you'll need. It's good practice to keep all the imports at the beginning of your code. As you work through this notebook and find you need to import a package, make sure to add the import up here.</p>

</div>
</div>
</div>
<div class="cell border-box-sizing code_cell rendered">
<div class="input">
<div class="prompt input_prompt">In&nbsp;[2]:</div>
<div class="inner_cell">
    <div class="input_area">
<div class=" highlight hl-ipython3"><pre><span></span><span class="c1"># Imports here</span>
<span class="kn">from</span> <span class="nn">collections</span> <span class="k">import</span> <span class="n">OrderedDict</span>
<span class="kn">import</span> <span class="nn">copy</span>
<span class="kn">from</span> <span class="nn">PIL</span> <span class="k">import</span> <span class="n">Image</span>
<span class="kn">from</span> <span class="nn">torch</span> <span class="k">import</span> <span class="n">nn</span>
<span class="kn">from</span> <span class="nn">torch</span> <span class="k">import</span> <span class="n">optim</span>
<span class="kn">from</span> <span class="nn">torch.autograd</span> <span class="k">import</span> <span class="n">Variable</span>
<span class="kn">from</span> <span class="nn">torchvision</span> <span class="k">import</span> <span class="n">datasets</span><span class="p">,</span> <span class="n">transforms</span><span class="p">,</span> <span class="n">models</span>
<span class="kn">import</span> <span class="nn">json</span>
<span class="kn">import</span> <span class="nn">matplotlib.pyplot</span> <span class="k">as</span> <span class="nn">plt</span>
<span class="kn">import</span> <span class="nn">numpy</span> <span class="k">as</span> <span class="nn">np</span>
<span class="kn">import</span> <span class="nn">os</span><span class="o">,</span> <span class="nn">random</span><span class="o">,</span> <span class="nn">sys</span>
<span class="kn">import</span> <span class="nn">time</span>
<span class="kn">import</span> <span class="nn">torch</span>
<span class="kn">import</span> <span class="nn">torch.nn.functional</span> <span class="k">as</span> <span class="nn">F</span>
<span class="kn">import</span> <span class="nn">torchvision</span> 
</pre></div>

    </div>
</div>
</div>

</div>
<div class="cell border-box-sizing text_cell rendered"><div class="prompt input_prompt">
</div><div class="inner_cell">
<div class="text_cell_render border-box-sizing rendered_html">
<h2 id="Load-the-data">Load the data<a class="anchor-link" href="#Load-the-data">&#182;</a></h2><p>Here you'll use <code>torchvision</code> to load the data (<a href="http://pytorch.org/docs/0.3.0/torchvision/index.html">documentation</a>). The data should be included alongside this notebook, otherwise you can <a href="https://s3.amazonaws.com/content.udacity-data.com/nd089/flower_data.tar.gz">download it here</a>. The dataset is split into three parts, training, validation, and testing. For the training, you'll want to apply transformations such as random scaling, cropping, and flipping. This will help the network generalize leading to better performance. You'll also need to make sure the input data is resized to 224x224 pixels as required by the pre-trained networks.</p>
<p>The validation and testing sets are used to measure the model's performance on data it hasn't seen yet. For this you don't want any scaling or rotation transformations, but you'll need to resize then crop the images to the appropriate size.</p>
<p>The pre-trained networks you'll use were trained on the ImageNet dataset where each color channel was normalized separately. For all three sets you'll need to normalize the means and standard deviations of the images to what the network expects. For the means, it's <code>[0.485, 0.456, 0.406]</code> and for the standard deviations <code>[0.229, 0.224, 0.225]</code>, calculated from the ImageNet images.  These values will shift each color channel to be centered at 0 and range from -1 to 1.</p>

</div>
</div>
</div>
<div class="cell border-box-sizing code_cell rendered">
<div class="input">
<div class="prompt input_prompt">In&nbsp;[&nbsp;]:</div>
<div class="inner_cell">
    <div class="input_area">
<div class=" highlight hl-ipython3"><pre><span></span> 
</pre></div>

    </div>
</div>
</div>

</div>
<div class="cell border-box-sizing code_cell rendered">
<div class="input">
<div class="prompt input_prompt">In&nbsp;[3]:</div>
<div class="inner_cell">
    <div class="input_area">
<div class=" highlight hl-ipython3"><pre><span></span><span class="n">data_dir</span> <span class="o">=</span> <span class="s1">&#39;flowers&#39;</span>
<span class="n">train_dir</span> <span class="o">=</span> <span class="n">data_dir</span> <span class="o">+</span> <span class="s1">&#39;/train&#39;</span>
<span class="n">valid_dir</span> <span class="o">=</span> <span class="n">data_dir</span> <span class="o">+</span> <span class="s1">&#39;/valid&#39;</span>
<span class="n">test_dir</span> <span class="o">=</span> <span class="n">data_dir</span> <span class="o">+</span> <span class="s1">&#39;/test&#39;</span>
</pre></div>

    </div>
</div>
</div>

</div>
<div class="cell border-box-sizing code_cell rendered">
<div class="input">
<div class="prompt input_prompt">In&nbsp;[4]:</div>
<div class="inner_cell">
    <div class="input_area">
<div class=" highlight hl-ipython3"><pre><span></span><span class="c1"># TODO: Define your transforms for the training, validation, and testing sets</span>
<span class="sd">&quot;&quot;&quot;</span>
<span class="sd"> Normalize the means and standard deviations of the images to what the network expects</span>
<span class="sd"> #Normalization keeps the weight near zero which tends to make backpropogation more stable.</span>
<span class="sd"> TODO: Understand and be able to apply backpropogation optimization techniques.</span>
<span class="sd">&quot;&quot;&quot;</span>
<span class="n">std</span> <span class="o">=</span> <span class="p">[</span><span class="mf">0.229</span><span class="p">,</span> <span class="mf">0.224</span><span class="p">,</span> <span class="mf">0.225</span><span class="p">]</span>
<span class="n">means</span> <span class="o">=</span> <span class="p">[</span><span class="mf">0.485</span><span class="p">,</span> <span class="mf">0.456</span><span class="p">,</span> <span class="mf">0.406</span><span class="p">]</span>

<span class="n">train_transform</span> <span class="o">=</span> <span class="n">transforms</span><span class="o">.</span><span class="n">Compose</span><span class="p">([</span><span class="n">transforms</span><span class="o">.</span><span class="n">RandomRotation</span><span class="p">(</span><span class="mi">30</span><span class="p">),</span>
						<span class="n">transforms</span><span class="o">.</span><span class="n">RandomResizedCrop</span><span class="p">(</span><span class="mi">224</span><span class="p">),</span>
						<span class="n">transforms</span><span class="o">.</span><span class="n">RandomHorizontalFlip</span><span class="p">(),</span>
						<span class="n">transforms</span><span class="o">.</span><span class="n">ToTensor</span><span class="p">(),</span>
						<span class="n">transforms</span><span class="o">.</span><span class="n">Normalize</span><span class="p">(</span><span class="n">means</span><span class="p">,</span> <span class="n">std</span><span class="p">)])</span>

<span class="n">val_transform</span> <span class="o">=</span> <span class="n">transforms</span><span class="o">.</span><span class="n">Compose</span><span class="p">([</span><span class="n">transforms</span><span class="o">.</span><span class="n">Resize</span><span class="p">(</span><span class="mi">256</span><span class="p">),</span>
						<span class="n">transforms</span><span class="o">.</span><span class="n">CenterCrop</span><span class="p">(</span><span class="mi">224</span><span class="p">),</span>
						<span class="n">transforms</span><span class="o">.</span><span class="n">ToTensor</span><span class="p">(),</span>
						<span class="n">transforms</span><span class="o">.</span><span class="n">Normalize</span><span class="p">(</span><span class="n">means</span><span class="p">,</span> <span class="n">std</span><span class="p">)])</span>

<span class="n">test_transform</span> <span class="o">=</span> <span class="n">transforms</span><span class="o">.</span><span class="n">Compose</span><span class="p">([</span><span class="n">transforms</span><span class="o">.</span><span class="n">Resize</span><span class="p">(</span><span class="mi">256</span><span class="p">),</span>
						<span class="n">transforms</span><span class="o">.</span><span class="n">CenterCrop</span><span class="p">(</span><span class="mi">224</span><span class="p">),</span>
						<span class="n">transforms</span><span class="o">.</span><span class="n">ToTensor</span><span class="p">(),</span>
                        <span class="n">transforms</span><span class="o">.</span><span class="n">Normalize</span><span class="p">(</span><span class="n">means</span><span class="p">,</span> <span class="n">std</span><span class="p">)])</span>

<span class="nb">print</span><span class="p">(</span><span class="s2">&quot;Initializing Datasets and DataLoaders&quot;</span><span class="p">)</span>

<span class="c1"># TODO: Load the datasets with ImageFolder</span>
<span class="c1"># Load the datasets with ImageFolder</span>
<span class="n">train_data</span> <span class="o">=</span> <span class="n">datasets</span><span class="o">.</span><span class="n">ImageFolder</span><span class="p">(</span><span class="n">train_dir</span><span class="p">,</span> <span class="n">transform</span><span class="o">=</span><span class="n">train_transform</span><span class="p">)</span>
<span class="n">val_data</span> <span class="o">=</span> <span class="n">datasets</span><span class="o">.</span><span class="n">ImageFolder</span><span class="p">(</span><span class="n">valid_dir</span><span class="p">,</span> <span class="n">transform</span><span class="o">=</span><span class="n">val_transform</span><span class="p">)</span>
<span class="n">test_data</span> <span class="o">=</span> <span class="n">datasets</span><span class="o">.</span><span class="n">ImageFolder</span><span class="p">(</span><span class="n">test_dir</span><span class="p">,</span> <span class="n">transform</span><span class="o">=</span><span class="n">test_transform</span><span class="p">)</span>

<span class="n">image_datasets</span> <span class="o">=</span> <span class="p">[</span><span class="n">train_data</span><span class="p">,</span> <span class="n">val_data</span><span class="p">,</span> <span class="n">test_data</span><span class="p">]</span>

<span class="c1"># TODO: Using the image datasets and the trainforms, define the dataloaders</span>
<span class="c1"># Dataloader definitions using the image datasets and the transforms</span>
<span class="n">train_loader</span> <span class="o">=</span> <span class="n">torch</span><span class="o">.</span><span class="n">utils</span><span class="o">.</span><span class="n">data</span><span class="o">.</span><span class="n">DataLoader</span><span class="p">(</span><span class="n">train_data</span><span class="p">,</span> <span class="n">batch_size</span><span class="o">=</span><span class="mi">64</span><span class="p">,</span> <span class="n">shuffle</span><span class="o">=</span><span class="kc">True</span><span class="p">)</span>
<span class="n">val_loader</span> <span class="o">=</span> <span class="n">torch</span><span class="o">.</span><span class="n">utils</span><span class="o">.</span><span class="n">data</span><span class="o">.</span><span class="n">DataLoader</span><span class="p">(</span><span class="n">val_data</span><span class="p">,</span> <span class="n">batch_size</span><span class="o">=</span><span class="mi">32</span><span class="p">)</span>
<span class="n">test_loader</span> <span class="o">=</span> <span class="n">torch</span><span class="o">.</span><span class="n">utils</span><span class="o">.</span><span class="n">data</span><span class="o">.</span><span class="n">DataLoader</span><span class="p">(</span><span class="n">test_data</span><span class="p">,</span> <span class="n">batch_size</span><span class="o">=</span><span class="mi">32</span><span class="p">)</span>

<span class="n">dataloaders</span> <span class="o">=</span> <span class="p">[</span><span class="n">train_loader</span><span class="p">,</span> <span class="n">val_loader</span><span class="p">,</span> <span class="n">test_loader</span><span class="p">]</span>
</pre></div>

    </div>
</div>
</div>

<div class="output_wrapper">
<div class="output">


<div class="output_area">

    <div class="prompt"></div>


<div class="output_subarea output_stream output_stdout output_text">
<pre>Initializing Datasets and DataLoaders
</pre>
</div>
</div>

</div>
</div>

</div>
<div class="cell border-box-sizing text_cell rendered"><div class="prompt input_prompt">
</div><div class="inner_cell">
<div class="text_cell_render border-box-sizing rendered_html">
<h3 id="Label-mapping">Label mapping<a class="anchor-link" href="#Label-mapping">&#182;</a></h3><p>You'll also need to load in a mapping from category label to category name. You can find this in the file <code>cat_to_name.json</code>. It's a JSON object which you can read in with the <a href="https://docs.python.org/2/library/json.html"><code>json</code> module</a>. This will give you a dictionary mapping the integer encoded categories to the actual names of the flowers.</p>

</div>
</div>
</div>
<div class="cell border-box-sizing code_cell rendered">
<div class="input">
<div class="prompt input_prompt">In&nbsp;[5]:</div>
<div class="inner_cell">
    <div class="input_area">
<div class=" highlight hl-ipython3"><pre><span></span><span class="k">with</span> <span class="nb">open</span><span class="p">(</span><span class="s1">&#39;cat_to_name.json&#39;</span><span class="p">,</span> <span class="s1">&#39;r&#39;</span><span class="p">)</span> <span class="k">as</span> <span class="n">f</span><span class="p">:</span>
	<span class="n">cat_to_name</span> <span class="o">=</span> <span class="n">json</span><span class="o">.</span><span class="n">load</span><span class="p">(</span><span class="n">f</span><span class="p">)</span>

<span class="nb">print</span><span class="p">(</span><span class="n">cat_to_name</span><span class="p">)</span>
<span class="nb">print</span><span class="p">(</span><span class="s2">&quot;</span><span class="se">\n</span><span class="s2"> Length:&quot;</span><span class="p">,</span> <span class="nb">len</span><span class="p">(</span><span class="n">cat_to_name</span><span class="p">))</span>
</pre></div>

    </div>
</div>
</div>

<div class="output_wrapper">
<div class="output">


<div class="output_area">

    <div class="prompt"></div>


<div class="output_subarea output_stream output_stdout output_text">
<pre>{&#39;21&#39;: &#39;fire lily&#39;, &#39;3&#39;: &#39;canterbury bells&#39;, &#39;45&#39;: &#39;bolero deep blue&#39;, &#39;1&#39;: &#39;pink primrose&#39;, &#39;34&#39;: &#39;mexican aster&#39;, &#39;27&#39;: &#39;prince of wales feathers&#39;, &#39;7&#39;: &#39;moon orchid&#39;, &#39;16&#39;: &#39;globe-flower&#39;, &#39;25&#39;: &#39;grape hyacinth&#39;, &#39;26&#39;: &#39;corn poppy&#39;, &#39;79&#39;: &#39;toad lily&#39;, &#39;39&#39;: &#39;siam tulip&#39;, &#39;24&#39;: &#39;red ginger&#39;, &#39;67&#39;: &#39;spring crocus&#39;, &#39;35&#39;: &#39;alpine sea holly&#39;, &#39;32&#39;: &#39;garden phlox&#39;, &#39;10&#39;: &#39;globe thistle&#39;, &#39;6&#39;: &#39;tiger lily&#39;, &#39;93&#39;: &#39;ball moss&#39;, &#39;33&#39;: &#39;love in the mist&#39;, &#39;9&#39;: &#39;monkshood&#39;, &#39;102&#39;: &#39;blackberry lily&#39;, &#39;14&#39;: &#39;spear thistle&#39;, &#39;19&#39;: &#39;balloon flower&#39;, &#39;100&#39;: &#39;blanket flower&#39;, &#39;13&#39;: &#39;king protea&#39;, &#39;49&#39;: &#39;oxeye daisy&#39;, &#39;15&#39;: &#39;yellow iris&#39;, &#39;61&#39;: &#39;cautleya spicata&#39;, &#39;31&#39;: &#39;carnation&#39;, &#39;64&#39;: &#39;silverbush&#39;, &#39;68&#39;: &#39;bearded iris&#39;, &#39;63&#39;: &#39;black-eyed susan&#39;, &#39;69&#39;: &#39;windflower&#39;, &#39;62&#39;: &#39;japanese anemone&#39;, &#39;20&#39;: &#39;giant white arum lily&#39;, &#39;38&#39;: &#39;great masterwort&#39;, &#39;4&#39;: &#39;sweet pea&#39;, &#39;86&#39;: &#39;tree mallow&#39;, &#39;101&#39;: &#39;trumpet creeper&#39;, &#39;42&#39;: &#39;daffodil&#39;, &#39;22&#39;: &#39;pincushion flower&#39;, &#39;2&#39;: &#39;hard-leaved pocket orchid&#39;, &#39;54&#39;: &#39;sunflower&#39;, &#39;66&#39;: &#39;osteospermum&#39;, &#39;70&#39;: &#39;tree poppy&#39;, &#39;85&#39;: &#39;desert-rose&#39;, &#39;99&#39;: &#39;bromelia&#39;, &#39;87&#39;: &#39;magnolia&#39;, &#39;5&#39;: &#39;english marigold&#39;, &#39;92&#39;: &#39;bee balm&#39;, &#39;28&#39;: &#39;stemless gentian&#39;, &#39;97&#39;: &#39;mallow&#39;, &#39;57&#39;: &#39;gaura&#39;, &#39;40&#39;: &#39;lenten rose&#39;, &#39;47&#39;: &#39;marigold&#39;, &#39;59&#39;: &#39;orange dahlia&#39;, &#39;48&#39;: &#39;buttercup&#39;, &#39;55&#39;: &#39;pelargonium&#39;, &#39;36&#39;: &#39;ruby-lipped cattleya&#39;, &#39;91&#39;: &#39;hippeastrum&#39;, &#39;29&#39;: &#39;artichoke&#39;, &#39;71&#39;: &#39;gazania&#39;, &#39;90&#39;: &#39;canna lily&#39;, &#39;18&#39;: &#39;peruvian lily&#39;, &#39;98&#39;: &#39;mexican petunia&#39;, &#39;8&#39;: &#39;bird of paradise&#39;, &#39;30&#39;: &#39;sweet william&#39;, &#39;17&#39;: &#39;purple coneflower&#39;, &#39;52&#39;: &#39;wild pansy&#39;, &#39;84&#39;: &#39;columbine&#39;, &#39;12&#39;: &#34;colt&#39;s foot&#34;, &#39;11&#39;: &#39;snapdragon&#39;, &#39;96&#39;: &#39;camellia&#39;, &#39;23&#39;: &#39;fritillary&#39;, &#39;50&#39;: &#39;common dandelion&#39;, &#39;44&#39;: &#39;poinsettia&#39;, &#39;53&#39;: &#39;primula&#39;, &#39;72&#39;: &#39;azalea&#39;, &#39;65&#39;: &#39;californian poppy&#39;, &#39;80&#39;: &#39;anthurium&#39;, &#39;76&#39;: &#39;morning glory&#39;, &#39;37&#39;: &#39;cape flower&#39;, &#39;56&#39;: &#39;bishop of llandaff&#39;, &#39;60&#39;: &#39;pink-yellow dahlia&#39;, &#39;82&#39;: &#39;clematis&#39;, &#39;58&#39;: &#39;geranium&#39;, &#39;75&#39;: &#39;thorn apple&#39;, &#39;41&#39;: &#39;barbeton daisy&#39;, &#39;95&#39;: &#39;bougainvillea&#39;, &#39;43&#39;: &#39;sword lily&#39;, &#39;83&#39;: &#39;hibiscus&#39;, &#39;78&#39;: &#39;lotus lotus&#39;, &#39;88&#39;: &#39;cyclamen&#39;, &#39;94&#39;: &#39;foxglove&#39;, &#39;81&#39;: &#39;frangipani&#39;, &#39;74&#39;: &#39;rose&#39;, &#39;89&#39;: &#39;watercress&#39;, &#39;73&#39;: &#39;water lily&#39;, &#39;46&#39;: &#39;wallflower&#39;, &#39;77&#39;: &#39;passion flower&#39;, &#39;51&#39;: &#39;petunia&#39;}

 Length: 102
</pre>
</div>
</div>

</div>
</div>

</div>
<div class="cell border-box-sizing text_cell rendered"><div class="prompt input_prompt">
</div><div class="inner_cell">
<div class="text_cell_render border-box-sizing rendered_html">
<h1 id="Building-and-training-the-classifier">Building and training the classifier<a class="anchor-link" href="#Building-and-training-the-classifier">&#182;</a></h1><p>Now that the data is ready, it's time to build and train the classifier. As usual, you should use one of the pretrained models from <code>torchvision.models</code> to get the image features. Build and train a new feed-forward classifier using those features.</p>
<p>We're going to leave this part up to you. Refer to <a href="https://review.udacity.com/#!/rubrics/1663/view">the rubric</a> for guidance on successfully completing this section. Things you'll need to do:</p>
<ul>
<li>Load a <a href="http://pytorch.org/docs/master/torchvision/models.html">pre-trained network</a> (If you need a starting point, the VGG networks work great and are straightforward to use)</li>
<li>Define a new, untrained feed-forward network as a classifier, using ReLU activations and dropout</li>
<li>Train the classifier layers using backpropagation using the pre-trained network to get the features</li>
<li>Track the loss and accuracy on the validation set to determine the best hyperparameters</li>
</ul>
<p>We've left a cell open for you below, but use as many as you need. Our advice is to break the problem up into smaller parts you can run separately. Check that each part is doing what you expect, then move on to the next. You'll likely find that as you work through each part, you'll need to go back and modify your previous code. This is totally normal!</p>
<p>When training make sure you're updating only the weights of the feed-forward network. You should be able to get the validation accuracy above 70% if you build everything right. Make sure to try different hyperparameters (learning rate, units in the classifier, epochs, etc) to find the best model. Save those hyperparameters to use as default values in the next part of the project.</p>
<p>One last important tip if you're using the workspace to run your code: To avoid having your workspace disconnect during the long-running tasks in this notebook, please read in the earlier page in this lesson called Intro to
GPU Workspaces about Keeping Your Session Active. You'll want to include code from the workspace_utils.py module.</p>
<p><strong>Note for Workspace users:</strong> If your network is over 1 GB when saved as a checkpoint, there might be issues with saving backups in your workspace. Typically this happens with wide dense layers after the convolutional layers. If your saved checkpoint is larger than 1 GB (you can open a terminal and check with <code>ls -lh</code>), you should reduce the size of your hidden layers and train again.</p>

</div>
</div>
</div>
<div class="cell border-box-sizing code_cell rendered">
<div class="input">
<div class="prompt input_prompt">In&nbsp;[6]:</div>
<div class="inner_cell">
    <div class="input_area">
<div class=" highlight hl-ipython3"><pre><span></span><span class="c1"># Building and training the classifier</span>
<span class="c1"># Load a pre-trained network</span>
<span class="n">model_name</span> <span class="o">=</span> <span class="n">models</span><span class="o">.</span><span class="n">vgg19</span><span class="p">(</span><span class="n">pretrained</span><span class="o">=</span><span class="kc">True</span><span class="p">)</span>
<span class="n">model</span> <span class="o">=</span> <span class="n">model_name</span>

<span class="k">for</span> <span class="n">param</span> <span class="ow">in</span> <span class="n">model</span><span class="o">.</span><span class="n">parameters</span><span class="p">():</span>
	<span class="n">param</span><span class="o">.</span><span class="n">requires_grad</span> <span class="o">=</span> <span class="kc">False</span>

<span class="c1"># Define a new, untrained feed-forward network as a classifier, using ReLU activations and</span>
<span class="c1"># dropout. </span>
<span class="n">classifier</span> <span class="o">=</span> <span class="n">nn</span><span class="o">.</span><span class="n">Sequential</span><span class="p">(</span><span class="n">OrderedDict</span><span class="p">([</span>
									<span class="p">(</span><span class="s1">&#39;fcl&#39;</span><span class="p">,</span> <span class="n">nn</span><span class="o">.</span><span class="n">Linear</span><span class="p">(</span><span class="mi">25088</span><span class="p">,</span> <span class="mi">1024</span><span class="p">)),</span>
									<span class="p">(</span><span class="s1">&#39;drop&#39;</span><span class="p">,</span> <span class="n">nn</span><span class="o">.</span><span class="n">Dropout</span><span class="p">(</span><span class="n">p</span><span class="o">=</span><span class="mf">0.5</span><span class="p">)),</span>
									<span class="p">(</span><span class="s1">&#39;relu&#39;</span><span class="p">,</span> <span class="n">nn</span><span class="o">.</span><span class="n">ReLU</span><span class="p">()),</span>
									<span class="p">(</span><span class="s1">&#39;fc2&#39;</span><span class="p">,</span> <span class="n">nn</span><span class="o">.</span><span class="n">Linear</span><span class="p">(</span><span class="mi">1024</span><span class="p">,</span> <span class="mi">102</span><span class="p">)),</span>
									<span class="p">(</span><span class="s1">&#39;output&#39;</span><span class="p">,</span> <span class="n">nn</span><span class="o">.</span><span class="n">LogSoftmax</span><span class="p">(</span><span class="n">dim</span><span class="o">=</span><span class="mi">1</span><span class="p">))</span>
									<span class="p">]))</span>

<span class="n">model</span><span class="o">.</span><span class="n">classifier</span> <span class="o">=</span> <span class="n">classifier</span>
<span class="nb">print</span><span class="p">(</span><span class="n">model</span><span class="p">)</span>

<span class="c1"># Train the classifier layers using backpropagation using the pre-trained network to get the features.</span>
<span class="c1"># Track the loss and accuracy on the validation set to determine the best hyperparameters.</span>

<span class="c1"># Configuration parameters</span>
<span class="c1"># number of epochs to train for</span>
<span class="n">num_epochs</span> <span class="o">=</span> <span class="mi">25</span>

<span class="n">feature_extract</span> <span class="o">=</span> <span class="kc">True</span>

<span class="n">criterion</span> <span class="o">=</span> <span class="n">nn</span><span class="o">.</span><span class="n">CrossEntropyLoss</span><span class="p">()</span>

<span class="n">device</span> <span class="o">=</span> <span class="n">torch</span><span class="o">.</span><span class="n">device</span><span class="p">(</span><span class="s2">&quot;cuda&quot;</span> <span class="k">if</span> <span class="n">torch</span><span class="o">.</span><span class="n">cuda</span><span class="o">.</span><span class="n">is_available</span><span class="p">()</span> <span class="k">else</span> <span class="s1">&#39;cpu&#39;</span><span class="p">)</span>
<span class="nb">print</span><span class="p">(</span><span class="s2">&quot;</span><span class="si">{}</span><span class="s2">&quot;</span><span class="o">.</span><span class="n">format</span><span class="p">(</span><span class="n">device</span><span class="p">))</span>

<span class="n">model</span> <span class="o">=</span> <span class="n">model</span><span class="o">.</span><span class="n">to</span><span class="p">(</span><span class="n">device</span><span class="p">)</span>

<span class="c1"># Gather the parameters to be optimized/updated in this run.</span>
<span class="c1"># If we are finetuning we will be updating all parameters. However,</span>
<span class="c1"># if we are doing feature extract method, we will only update</span>
<span class="c1"># the parameters that we have just initialized. i.e., the parameters</span>
<span class="c1"># with requires_grad is True.</span>
<span class="n">params_to_update</span> <span class="o">=</span> <span class="n">model</span><span class="o">.</span><span class="n">parameters</span><span class="p">()</span>
<span class="nb">print</span><span class="p">(</span><span class="s2">&quot;Param to learn:&quot;</span><span class="p">)</span>
<span class="k">if</span> <span class="n">feature_extract</span><span class="p">:</span>
	<span class="n">params_to_update</span> <span class="o">=</span> <span class="p">[]</span>
	<span class="k">for</span> <span class="n">name</span><span class="p">,</span> <span class="n">param</span> <span class="ow">in</span> <span class="n">model</span><span class="o">.</span><span class="n">named_parameters</span><span class="p">():</span>
		<span class="k">if</span> <span class="n">param</span><span class="o">.</span><span class="n">requires_grad</span> <span class="o">==</span> <span class="kc">True</span><span class="p">:</span>
			<span class="n">params_to_update</span><span class="o">.</span><span class="n">append</span><span class="p">(</span><span class="n">param</span><span class="p">)</span>
			<span class="nb">print</span><span class="p">(</span><span class="s2">&quot;</span><span class="se">\t</span><span class="s2">&quot;</span><span class="p">,</span> <span class="n">name</span><span class="p">)</span>
<span class="k">else</span><span class="p">:</span>
	<span class="k">for</span> <span class="n">name</span><span class="p">,</span> <span class="n">param</span> <span class="ow">in</span> <span class="n">model</span><span class="o">.</span><span class="n">named_parameters</span><span class="p">():</span>
		<span class="k">if</span> <span class="n">param</span><span class="o">.</span><span class="n">requires_grad</span> <span class="o">==</span> <span class="kc">True</span><span class="p">:</span>
			<span class="nb">print</span><span class="p">(</span><span class="s2">&quot;</span><span class="se">\t</span><span class="s2">&quot;</span><span class="p">,</span> <span class="n">name</span><span class="p">)</span>

<span class="n">optimizer</span> <span class="o">=</span> <span class="n">optim</span><span class="o">.</span><span class="n">SGD</span><span class="p">(</span><span class="n">params_to_update</span><span class="p">,</span> <span class="n">lr</span><span class="o">=</span><span class="mf">0.01</span><span class="p">)</span>

<span class="k">def</span> <span class="nf">train_model</span><span class="p">(</span><span class="n">model</span><span class="p">,</span> <span class="n">dataloaders</span><span class="p">,</span> <span class="n">criterion</span><span class="p">,</span> <span class="n">optimizer</span><span class="p">,</span> <span class="n">num_epochs</span><span class="o">=</span><span class="n">num_epochs</span><span class="p">):</span>
	<span class="n">since</span> <span class="o">=</span> <span class="n">time</span><span class="o">.</span><span class="n">time</span><span class="p">()</span>

	<span class="c1"># list to keep track of model performance accuracy over epochs</span>
	<span class="n">val_acc_history</span> <span class="o">=</span> <span class="p">[]</span>

	<span class="n">best_acc</span> <span class="o">=</span> <span class="mf">0.0</span>
	<span class="n">best_model_wts</span> <span class="o">=</span> <span class="n">copy</span><span class="o">.</span><span class="n">deepcopy</span><span class="p">(</span><span class="n">model</span><span class="o">.</span><span class="n">state_dict</span><span class="p">())</span>

	<span class="k">for</span> <span class="n">epoch</span> <span class="ow">in</span> <span class="nb">range</span><span class="p">(</span><span class="n">num_epochs</span><span class="p">):</span>
		<span class="nb">print</span><span class="p">(</span><span class="s1">&#39;Epoch </span><span class="si">{}</span><span class="s1">/</span><span class="si">{}</span><span class="s1">&#39;</span><span class="o">.</span><span class="n">format</span><span class="p">(</span><span class="n">epoch</span><span class="p">,</span> <span class="n">num_epochs</span> <span class="o">-</span> <span class="mi">1</span><span class="p">))</span>
		<span class="nb">print</span><span class="p">(</span><span class="s1">&#39;-&#39;</span> <span class="o">*</span> <span class="mi">10</span><span class="p">)</span>

		<span class="n">train_mode</span> <span class="o">=</span> <span class="mi">0</span>
		<span class="n">valid_mode</span> <span class="o">=</span> <span class="mi">1</span>

		<span class="c1"># Each epoch has a training and validation mode</span>
		<span class="k">for</span> <span class="n">mode</span> <span class="ow">in</span> <span class="p">[</span><span class="n">train_mode</span><span class="p">,</span> <span class="n">valid_mode</span><span class="p">]:</span>
			<span class="k">if</span> <span class="n">mode</span> <span class="o">==</span> <span class="n">train_mode</span><span class="p">:</span>
				<span class="n">model</span><span class="o">.</span><span class="n">train</span><span class="p">()</span> <span class="c1"># set model to training mode</span>
			<span class="k">else</span><span class="p">:</span>
				<span class="n">model</span><span class="o">.</span><span class="n">eval</span><span class="p">()</span> <span class="c1"># set model to evaluation mode</span>

			<span class="n">running_loss</span> <span class="o">=</span> <span class="mf">0.0</span>
			<span class="n">running_corrects</span> <span class="o">=</span> <span class="mi">0</span>
			<span class="n">pass_count</span> <span class="o">=</span> <span class="mi">0</span>
            
			<span class="c1"># Iterate over data.</span>
			<span class="k">for</span> <span class="n">inputs</span><span class="p">,</span> <span class="n">labels</span> <span class="ow">in</span> <span class="n">dataloaders</span><span class="p">[</span><span class="n">mode</span><span class="p">]:</span>
				<span class="n">pass_count</span> <span class="o">+=</span> <span class="mi">1</span>
				<span class="n">inputs</span> <span class="o">=</span> <span class="n">inputs</span><span class="o">.</span><span class="n">to</span><span class="p">(</span><span class="n">device</span><span class="p">)</span>
				<span class="n">labels</span> <span class="o">=</span> <span class="n">labels</span><span class="o">.</span><span class="n">to</span><span class="p">(</span><span class="n">device</span><span class="p">)</span>

				<span class="c1"># zero the parameter gradients</span>
				<span class="n">optimizer</span><span class="o">.</span><span class="n">zero_grad</span><span class="p">()</span>

				<span class="c1"># forward</span>
				<span class="c1"># only track history if in train</span>

                <span class="c1"># Get model output and calculate loss</span>
				<span class="n">output</span> <span class="o">=</span> <span class="n">model</span><span class="o">.</span><span class="n">forward</span><span class="p">(</span><span class="n">inputs</span><span class="p">)</span>
				<span class="n">loss</span> <span class="o">=</span> <span class="n">criterion</span><span class="p">(</span><span class="n">output</span><span class="p">,</span> <span class="n">labels</span><span class="p">)</span>

				<span class="n">_</span><span class="p">,</span> <span class="n">preds</span> <span class="o">=</span> <span class="n">torch</span><span class="o">.</span><span class="n">max</span><span class="p">(</span><span class="n">output</span><span class="p">,</span> <span class="mi">1</span><span class="p">)</span>

                <span class="c1"># Backward. Optimize only if in training mode</span>
				<span class="k">if</span> <span class="n">mode</span> <span class="o">==</span> <span class="n">train_mode</span><span class="p">:</span>
					<span class="n">loss</span><span class="o">.</span><span class="n">backward</span><span class="p">()</span>
					<span class="n">optimizer</span><span class="o">.</span><span class="n">step</span><span class="p">()</span>

                <span class="c1"># statistics</span>
				<span class="n">running_loss</span> <span class="o">+=</span> <span class="n">loss</span><span class="o">.</span><span class="n">item</span><span class="p">()</span> <span class="o">*</span> <span class="n">inputs</span><span class="o">.</span><span class="n">size</span><span class="p">(</span><span class="mi">0</span><span class="p">)</span>
				<span class="n">running_corrects</span> <span class="o">+=</span> <span class="n">torch</span><span class="o">.</span><span class="n">sum</span><span class="p">(</span><span class="n">preds</span> <span class="o">==</span> <span class="n">labels</span><span class="o">.</span><span class="n">data</span><span class="p">)</span>

			<span class="n">epoch_acc</span> <span class="o">=</span> <span class="n">running_corrects</span><span class="o">.</span><span class="n">double</span><span class="p">()</span> <span class="o">/</span> <span class="nb">len</span><span class="p">(</span><span class="n">dataloaders</span><span class="p">[</span><span class="n">mode</span><span class="p">]</span><span class="o">.</span><span class="n">dataset</span><span class="p">)</span>

			<span class="k">if</span> <span class="n">mode</span> <span class="o">==</span> <span class="n">train_mode</span><span class="p">:</span>
				<span class="nb">print</span><span class="p">(</span><span class="s2">&quot;</span><span class="se">\n</span><span class="s2">Epoch: </span><span class="si">{}</span><span class="s2">/</span><span class="si">{}</span><span class="s2"> &quot;</span><span class="o">.</span><span class="n">format</span><span class="p">(</span><span class="n">epoch</span><span class="o">+</span><span class="mi">1</span><span class="p">,</span> <span class="n">num_epochs</span><span class="p">),</span>
                      <span class="s2">&quot;</span><span class="se">\n</span><span class="s2">Training Loss: </span><span class="si">{:.4f}</span><span class="s2">  &quot;</span><span class="o">.</span><span class="n">format</span><span class="p">(</span><span class="n">running_loss</span><span class="o">/</span><span class="n">pass_count</span><span class="p">))</span>
			<span class="k">else</span><span class="p">:</span>
				<span class="nb">print</span><span class="p">(</span><span class="s2">&quot;Validation Loss: </span><span class="si">{:.4f}</span><span class="s2">  &quot;</span><span class="o">.</span><span class="n">format</span><span class="p">(</span><span class="n">running_loss</span><span class="o">/</span><span class="n">pass_count</span><span class="p">),</span>
                  <span class="s2">&quot;Accuracy: </span><span class="si">{:.4f}</span><span class="s2">&quot;</span><span class="o">.</span><span class="n">format</span><span class="p">(</span><span class="n">epoch_acc</span><span class="p">))</span>
                
				<span class="n">running_loss</span> <span class="o">=</span> <span class="mi">0</span>

        
	<span class="n">time_elapsed</span> <span class="o">=</span> <span class="n">time</span><span class="o">.</span><span class="n">time</span><span class="p">()</span> <span class="o">-</span> <span class="n">since</span>
	<span class="nb">print</span><span class="p">(</span><span class="s2">&quot;</span><span class="se">\n</span><span class="s2">Total time: </span><span class="si">{:.0f}</span><span class="s2">m </span><span class="si">{:.0f}</span><span class="s2">s&quot;</span><span class="o">.</span><span class="n">format</span><span class="p">(</span><span class="n">time_elapsed</span><span class="o">//</span><span class="mi">60</span><span class="p">,</span> <span class="n">time_elapsed</span> <span class="o">%</span> <span class="mi">60</span><span class="p">))</span>



<span class="c1"># Run training and validation step</span>
<span class="n">train</span> <span class="o">=</span> <span class="n">train_model</span><span class="p">(</span><span class="n">model</span><span class="p">,</span> <span class="n">dataloaders</span><span class="p">,</span> <span class="n">criterion</span><span class="p">,</span> <span class="n">optimizer</span><span class="p">,</span> <span class="n">num_epochs</span><span class="p">)</span>
</pre></div>

    </div>
</div>
</div>

<div class="output_wrapper">
<div class="output">


<div class="output_area">

    <div class="prompt"></div>


<div class="output_subarea output_stream output_stderr output_text">
<pre>Downloading: &#34;https://download.pytorch.org/models/vgg19-dcbb9e9d.pth&#34; to /root/.torch/models/vgg19-dcbb9e9d.pth
100%|██████████| 574673361/574673361 [00:18&lt;00:00, 31703474.57it/s]
</pre>
</div>
</div>

<div class="output_area">

    <div class="prompt"></div>


<div class="output_subarea output_stream output_stdout output_text">
<pre>VGG(
  (features): Sequential(
    (0): Conv2d(3, 64, kernel_size=(3, 3), stride=(1, 1), padding=(1, 1))
    (1): ReLU(inplace)
    (2): Conv2d(64, 64, kernel_size=(3, 3), stride=(1, 1), padding=(1, 1))
    (3): ReLU(inplace)
    (4): MaxPool2d(kernel_size=2, stride=2, padding=0, dilation=1, ceil_mode=False)
    (5): Conv2d(64, 128, kernel_size=(3, 3), stride=(1, 1), padding=(1, 1))
    (6): ReLU(inplace)
    (7): Conv2d(128, 128, kernel_size=(3, 3), stride=(1, 1), padding=(1, 1))
    (8): ReLU(inplace)
    (9): MaxPool2d(kernel_size=2, stride=2, padding=0, dilation=1, ceil_mode=False)
    (10): Conv2d(128, 256, kernel_size=(3, 3), stride=(1, 1), padding=(1, 1))
    (11): ReLU(inplace)
    (12): Conv2d(256, 256, kernel_size=(3, 3), stride=(1, 1), padding=(1, 1))
    (13): ReLU(inplace)
    (14): Conv2d(256, 256, kernel_size=(3, 3), stride=(1, 1), padding=(1, 1))
    (15): ReLU(inplace)
    (16): Conv2d(256, 256, kernel_size=(3, 3), stride=(1, 1), padding=(1, 1))
    (17): ReLU(inplace)
    (18): MaxPool2d(kernel_size=2, stride=2, padding=0, dilation=1, ceil_mode=False)
    (19): Conv2d(256, 512, kernel_size=(3, 3), stride=(1, 1), padding=(1, 1))
    (20): ReLU(inplace)
    (21): Conv2d(512, 512, kernel_size=(3, 3), stride=(1, 1), padding=(1, 1))
    (22): ReLU(inplace)
    (23): Conv2d(512, 512, kernel_size=(3, 3), stride=(1, 1), padding=(1, 1))
    (24): ReLU(inplace)
    (25): Conv2d(512, 512, kernel_size=(3, 3), stride=(1, 1), padding=(1, 1))
    (26): ReLU(inplace)
    (27): MaxPool2d(kernel_size=2, stride=2, padding=0, dilation=1, ceil_mode=False)
    (28): Conv2d(512, 512, kernel_size=(3, 3), stride=(1, 1), padding=(1, 1))
    (29): ReLU(inplace)
    (30): Conv2d(512, 512, kernel_size=(3, 3), stride=(1, 1), padding=(1, 1))
    (31): ReLU(inplace)
    (32): Conv2d(512, 512, kernel_size=(3, 3), stride=(1, 1), padding=(1, 1))
    (33): ReLU(inplace)
    (34): Conv2d(512, 512, kernel_size=(3, 3), stride=(1, 1), padding=(1, 1))
    (35): ReLU(inplace)
    (36): MaxPool2d(kernel_size=2, stride=2, padding=0, dilation=1, ceil_mode=False)
  )
  (classifier): Sequential(
    (fcl): Linear(in_features=25088, out_features=1024, bias=True)
    (drop): Dropout(p=0.5)
    (relu): ReLU()
    (fc2): Linear(in_features=1024, out_features=102, bias=True)
    (output): LogSoftmax()
  )
)
cuda
Param to learn:
	 classifier.fcl.weight
	 classifier.fcl.bias
	 classifier.fc2.weight
	 classifier.fc2.bias
Epoch 0/24
----------

Epoch: 1/25  
Training Loss: 245.9644  
Validation Loss: 85.1336   Accuracy: 0.3924
Epoch 1/24
----------

Epoch: 2/25  
Training Loss: 169.1976  
Validation Loss: 52.6511   Accuracy: 0.6271
Epoch 2/24
----------

Epoch: 3/25  
Training Loss: 128.1194  
Validation Loss: 37.0859   Accuracy: 0.7616
Epoch 3/24
----------

Epoch: 4/25  
Training Loss: 104.0619  
Validation Loss: 29.5102   Accuracy: 0.7885
Epoch 4/24
----------

Epoch: 5/25  
Training Loss: 91.0770  
Validation Loss: 24.6079   Accuracy: 0.8178
Epoch 5/24
----------

Epoch: 6/25  
Training Loss: 81.6134  
Validation Loss: 22.3657   Accuracy: 0.8325
Epoch 6/24
----------

Epoch: 7/25  
Training Loss: 72.8428  
Validation Loss: 19.5259   Accuracy: 0.8509
Epoch 7/24
----------

Epoch: 8/25  
Training Loss: 67.1745  
Validation Loss: 17.2477   Accuracy: 0.8741
Epoch 8/24
----------

Epoch: 9/25  
Training Loss: 63.2931  
Validation Loss: 16.5117   Accuracy: 0.8619
Epoch 9/24
----------

Epoch: 10/25  
Training Loss: 61.5922  
Validation Loss: 15.4756   Accuracy: 0.8936
Epoch 10/24
----------

Epoch: 11/25  
Training Loss: 57.4065  
Validation Loss: 14.7778   Accuracy: 0.8741
Epoch 11/24
----------

Epoch: 12/25  
Training Loss: 54.7529  
Validation Loss: 13.4773   Accuracy: 0.8814
Epoch 12/24
----------

Epoch: 13/25  
Training Loss: 52.6676  
Validation Loss: 13.2160   Accuracy: 0.8936
Epoch 13/24
----------

Epoch: 14/25  
Training Loss: 49.1512  
Validation Loss: 12.8147   Accuracy: 0.8888
Epoch 14/24
----------

Epoch: 15/25  
Training Loss: 47.8290  
Validation Loss: 12.7478   Accuracy: 0.8839
Epoch 15/24
----------

Epoch: 16/25  
Training Loss: 46.8338  
Validation Loss: 11.6181   Accuracy: 0.8949
Epoch 16/24
----------

Epoch: 17/25  
Training Loss: 45.9120  
Validation Loss: 11.2935   Accuracy: 0.9083
Epoch 17/24
----------

Epoch: 18/25  
Training Loss: 44.3044  
Validation Loss: 11.5624   Accuracy: 0.8998
Epoch 18/24
----------

Epoch: 19/25  
Training Loss: 43.5270  
Validation Loss: 10.9964   Accuracy: 0.9046
Epoch 19/24
----------

Epoch: 20/25  
Training Loss: 41.1422  
Validation Loss: 10.3535   Accuracy: 0.9108
Epoch 20/24
----------

Epoch: 21/25  
Training Loss: 41.4787  
Validation Loss: 11.0599   Accuracy: 0.9010
Epoch 21/24
----------

Epoch: 22/25  
Training Loss: 39.7052  
Validation Loss: 9.8297   Accuracy: 0.9156
Epoch 22/24
----------

Epoch: 23/25  
Training Loss: 39.5993  
Validation Loss: 10.5911   Accuracy: 0.9083
Epoch 23/24
----------

Epoch: 24/25  
Training Loss: 38.6338  
Validation Loss: 9.6184   Accuracy: 0.9193
Epoch 24/24
----------

Epoch: 25/25  
Training Loss: 36.4692  
Validation Loss: 9.5721   Accuracy: 0.9218

Total time: 69m 8s
</pre>
</div>
</div>

</div>
</div>

</div>
<div class="cell border-box-sizing text_cell rendered"><div class="prompt input_prompt">
</div><div class="inner_cell">
<div class="text_cell_render border-box-sizing rendered_html">
<h2 id="Testing-your-network">Testing your network<a class="anchor-link" href="#Testing-your-network">&#182;</a></h2><p>It's good practice to test your trained network on test data, images the network has never seen either in training or validation. This will give you a good estimate for the model's performance on completely new images. Run the test images through the network and measure the accuracy, the same way you did validation. You should be able to reach around 70% accuracy on the test set if the model has been trained well.</p>

</div>
</div>
</div>
<div class="cell border-box-sizing code_cell rendered">
<div class="input">
<div class="prompt input_prompt">In&nbsp;[7]:</div>
<div class="inner_cell">
    <div class="input_area">
<div class=" highlight hl-ipython3"><pre><span></span><span class="c1"># TODO: Do validation on the test set</span>
<span class="n">model</span><span class="o">.</span><span class="n">eval</span><span class="p">()</span>
<span class="n">accuracy</span> <span class="o">=</span> <span class="mi">0</span>
<span class="n">use_cuda</span> <span class="o">=</span> <span class="n">torch</span><span class="o">.</span><span class="n">cuda</span><span class="o">.</span><span class="n">is_available</span><span class="p">()</span>

<span class="k">if</span> <span class="n">use_cuda</span><span class="p">:</span>
	<span class="n">model</span><span class="o">.</span><span class="n">cuda</span><span class="p">()</span>
<span class="k">else</span><span class="p">:</span>
	<span class="n">model</span><span class="o">.</span><span class="n">cpu</span><span class="p">()</span>

<span class="n">pass_count</span> <span class="o">=</span> <span class="mi">0</span>

<span class="k">for</span> <span class="n">data</span> <span class="ow">in</span> <span class="n">dataloaders</span><span class="p">[</span><span class="mi">2</span><span class="p">]:</span>
	<span class="n">pass_count</span> <span class="o">+=</span> <span class="mi">1</span>
	<span class="n">images</span><span class="p">,</span> <span class="n">labels</span> <span class="o">=</span> <span class="n">data</span>

	<span class="k">if</span> <span class="n">use_cuda</span> <span class="o">==</span> <span class="kc">True</span><span class="p">:</span>
		<span class="n">images</span><span class="p">,</span> <span class="n">labels</span> <span class="o">=</span> <span class="n">Variable</span><span class="p">(</span><span class="n">images</span><span class="o">.</span><span class="n">cuda</span><span class="p">()),</span> <span class="n">Variable</span><span class="p">(</span><span class="n">labels</span><span class="o">.</span><span class="n">cuda</span><span class="p">())</span>
	<span class="k">else</span><span class="p">:</span>
		<span class="n">images</span><span class="p">,</span> <span class="n">labels</span> <span class="o">=</span> <span class="n">Variable</span><span class="p">(</span><span class="n">images</span><span class="p">),</span> <span class="n">Variable</span><span class="p">(</span><span class="n">labels</span><span class="p">)</span>

	<span class="n">output</span> <span class="o">=</span> <span class="n">model</span><span class="o">.</span><span class="n">forward</span><span class="p">(</span><span class="n">images</span><span class="p">)</span>
	<span class="n">ps</span> <span class="o">=</span> <span class="n">torch</span><span class="o">.</span><span class="n">exp</span><span class="p">(</span><span class="n">output</span><span class="p">)</span><span class="o">.</span><span class="n">data</span>
	<span class="n">equality</span> <span class="o">=</span> <span class="p">(</span><span class="n">labels</span><span class="o">.</span><span class="n">data</span> <span class="o">==</span> <span class="n">ps</span><span class="o">.</span><span class="n">max</span><span class="p">(</span><span class="mi">1</span><span class="p">)[</span><span class="mi">1</span><span class="p">])</span>
	<span class="n">accuracy</span> <span class="o">+=</span> <span class="n">equality</span><span class="o">.</span><span class="n">type_as</span><span class="p">(</span><span class="n">torch</span><span class="o">.</span><span class="n">FloatTensor</span><span class="p">())</span><span class="o">.</span><span class="n">mean</span><span class="p">()</span>

<span class="nb">print</span><span class="p">(</span><span class="s2">&quot;Testing Accuracy: </span><span class="si">{:.4f}</span><span class="s2">&quot;</span><span class="o">.</span><span class="n">format</span><span class="p">(</span><span class="n">accuracy</span><span class="o">/</span><span class="n">pass_count</span><span class="p">))</span>
</pre></div>

    </div>
</div>
</div>

<div class="output_wrapper">
<div class="output">


<div class="output_area">

    <div class="prompt"></div>


<div class="output_subarea output_stream output_stdout output_text">
<pre>Testing Accuracy: 0.9025
</pre>
</div>
</div>

</div>
</div>

</div>
<div class="cell border-box-sizing text_cell rendered"><div class="prompt input_prompt">
</div><div class="inner_cell">
<div class="text_cell_render border-box-sizing rendered_html">
<h2 id="Save-the-checkpoint">Save the checkpoint<a class="anchor-link" href="#Save-the-checkpoint">&#182;</a></h2><p>Now that your network is trained, save the model so you can load it later for making predictions. You probably want to save other things such as the mapping of classes to indices which you get from one of the image datasets: <code>image_datasets['train'].class_to_idx</code>. You can attach this to the model as an attribute which makes inference easier later on.</p>
<p><code>model.class_to_idx = image_datasets['train'].class_to_idx</code></p>
<p>Remember that you'll want to completely rebuild the model later so you can use it for inference. Make sure to include any information you need in the checkpoint. If you want to load the model and keep training, you'll want to save the number of epochs as well as the optimizer state, <code>optimizer.state_dict</code>. You'll likely want to use this trained model in the next part of the project, so best to save it now.</p>

</div>
</div>
</div>
<div class="cell border-box-sizing code_cell rendered">
<div class="input">
<div class="prompt input_prompt">In&nbsp;[8]:</div>
<div class="inner_cell">
    <div class="input_area">
<div class=" highlight hl-ipython3"><pre><span></span><span class="c1"># TODO: Save the checkpoint </span>
<span class="n">model</span><span class="o">.</span><span class="n">class_to_idx</span> <span class="o">=</span> <span class="n">image_datasets</span><span class="p">[</span><span class="mi">0</span><span class="p">]</span><span class="o">.</span><span class="n">class_to_idx</span>

<span class="n">checkpoint</span> <span class="o">=</span> <span class="p">{</span><span class="s1">&#39;input_size&#39;</span><span class="p">:</span> <span class="mi">25088</span><span class="p">,</span>
			   <span class="s1">&#39;output_size&#39;</span><span class="p">:</span> <span class="mi">102</span><span class="p">,</span>
			    <span class="s1">&#39;arch&#39;</span><span class="p">:</span> <span class="s1">&#39;vgg19&#39;</span><span class="p">,</span>
			    <span class="s1">&#39;learning_rate&#39;</span><span class="p">:</span> <span class="mf">0.01</span><span class="p">,</span>
			    <span class="s1">&#39;batch_size&#39;</span><span class="p">:</span> <span class="mi">64</span><span class="p">,</span>
			    <span class="s1">&#39;classifier&#39;</span><span class="p">:</span> <span class="n">classifier</span><span class="p">,</span>
			    <span class="s1">&#39;num_epochs&#39;</span><span class="p">:</span> <span class="n">num_epochs</span><span class="p">,</span>
			    <span class="s1">&#39;optimizer&#39;</span><span class="p">:</span> <span class="n">optimizer</span><span class="o">.</span><span class="n">state_dict</span><span class="p">(),</span>
			    <span class="s1">&#39;state_dict&#39;</span><span class="p">:</span> <span class="n">model</span><span class="o">.</span><span class="n">state_dict</span><span class="p">(),</span>
			    <span class="s1">&#39;class_to_idx&#39;</span><span class="p">:</span> <span class="n">model</span><span class="o">.</span><span class="n">class_to_idx</span><span class="p">}</span>

<span class="n">torch</span><span class="o">.</span><span class="n">save</span><span class="p">(</span><span class="n">checkpoint</span><span class="p">,</span> <span class="s1">&#39;checkpoint.pth&#39;</span><span class="p">)</span>
</pre></div>

    </div>
</div>
</div>

</div>
<div class="cell border-box-sizing text_cell rendered"><div class="prompt input_prompt">
</div><div class="inner_cell">
<div class="text_cell_render border-box-sizing rendered_html">
<h2 id="Loading-the-checkpoint">Loading the checkpoint<a class="anchor-link" href="#Loading-the-checkpoint">&#182;</a></h2><p>At this point it's good to write a function that can load a checkpoint and rebuild the model. That way you can come back to this project and keep working on it without having to retrain the network.</p>

</div>
</div>
</div>
<div class="cell border-box-sizing code_cell rendered">
<div class="input">
<div class="prompt input_prompt">In&nbsp;[9]:</div>
<div class="inner_cell">
    <div class="input_area">
<div class=" highlight hl-ipython3"><pre><span></span><span class="c1"># TODO: Write a function that loads a checkpoint and rebuilds the model</span>
<span class="k">def</span> <span class="nf">load_checkpoint</span><span class="p">(</span><span class="n">filename</span><span class="p">):</span>
	<span class="n">checkpoint</span> <span class="o">=</span> <span class="n">torch</span><span class="o">.</span><span class="n">load</span><span class="p">(</span><span class="n">filename</span><span class="p">)</span>
	<span class="n">learning_rate</span> <span class="o">=</span> <span class="n">checkpoint</span><span class="p">[</span><span class="s1">&#39;learning_rate&#39;</span><span class="p">]</span>
	<span class="n">model</span> <span class="o">=</span> <span class="nb">getattr</span><span class="p">(</span><span class="n">torchvision</span><span class="o">.</span><span class="n">models</span><span class="p">,</span> <span class="n">checkpoint</span><span class="p">[</span><span class="s1">&#39;arch&#39;</span><span class="p">])(</span><span class="n">pretrained</span><span class="o">=</span><span class="kc">True</span><span class="p">)</span>
    
	<span class="n">model</span><span class="o">.</span><span class="n">classifier</span> <span class="o">=</span> <span class="n">checkpoint</span><span class="p">[</span><span class="s1">&#39;classifier&#39;</span><span class="p">]</span>
	<span class="n">model</span><span class="o">.</span><span class="n">num_epochs</span> <span class="o">=</span> <span class="n">checkpoint</span><span class="p">[</span><span class="s1">&#39;num_epochs&#39;</span><span class="p">]</span>
	<span class="n">model</span><span class="o">.</span><span class="n">load_state_dict</span><span class="p">(</span><span class="n">checkpoint</span><span class="p">[</span><span class="s1">&#39;state_dict&#39;</span><span class="p">])</span>
	<span class="n">model</span><span class="o">.</span><span class="n">class_to_idx</span> <span class="o">=</span> <span class="n">checkpoint</span><span class="p">[</span><span class="s1">&#39;class_to_idx&#39;</span><span class="p">]</span>
	<span class="n">optimizer</span><span class="o">.</span><span class="n">load_state_dict</span><span class="p">(</span><span class="n">checkpoint</span><span class="p">[</span><span class="s1">&#39;optimizer&#39;</span><span class="p">])</span>
                                    
	<span class="k">return</span> <span class="n">model</span><span class="p">,</span> <span class="n">optimizer</span>

<span class="n">nn_filename</span> <span class="o">=</span> <span class="s1">&#39;checkpoint.pth&#39;</span>
<span class="n">model</span><span class="p">,</span> <span class="n">optimizer</span> <span class="o">=</span> <span class="n">load_checkpoint</span><span class="p">(</span><span class="n">nn_filename</span><span class="p">)</span>
<span class="n">chkp_model</span> <span class="o">=</span> <span class="nb">print</span><span class="p">(</span><span class="n">model</span><span class="p">)</span>
</pre></div>

    </div>
</div>
</div>

<div class="output_wrapper">
<div class="output">


<div class="output_area">

    <div class="prompt"></div>


<div class="output_subarea output_stream output_stdout output_text">
<pre>VGG(
  (features): Sequential(
    (0): Conv2d(3, 64, kernel_size=(3, 3), stride=(1, 1), padding=(1, 1))
    (1): ReLU(inplace)
    (2): Conv2d(64, 64, kernel_size=(3, 3), stride=(1, 1), padding=(1, 1))
    (3): ReLU(inplace)
    (4): MaxPool2d(kernel_size=2, stride=2, padding=0, dilation=1, ceil_mode=False)
    (5): Conv2d(64, 128, kernel_size=(3, 3), stride=(1, 1), padding=(1, 1))
    (6): ReLU(inplace)
    (7): Conv2d(128, 128, kernel_size=(3, 3), stride=(1, 1), padding=(1, 1))
    (8): ReLU(inplace)
    (9): MaxPool2d(kernel_size=2, stride=2, padding=0, dilation=1, ceil_mode=False)
    (10): Conv2d(128, 256, kernel_size=(3, 3), stride=(1, 1), padding=(1, 1))
    (11): ReLU(inplace)
    (12): Conv2d(256, 256, kernel_size=(3, 3), stride=(1, 1), padding=(1, 1))
    (13): ReLU(inplace)
    (14): Conv2d(256, 256, kernel_size=(3, 3), stride=(1, 1), padding=(1, 1))
    (15): ReLU(inplace)
    (16): Conv2d(256, 256, kernel_size=(3, 3), stride=(1, 1), padding=(1, 1))
    (17): ReLU(inplace)
    (18): MaxPool2d(kernel_size=2, stride=2, padding=0, dilation=1, ceil_mode=False)
    (19): Conv2d(256, 512, kernel_size=(3, 3), stride=(1, 1), padding=(1, 1))
    (20): ReLU(inplace)
    (21): Conv2d(512, 512, kernel_size=(3, 3), stride=(1, 1), padding=(1, 1))
    (22): ReLU(inplace)
    (23): Conv2d(512, 512, kernel_size=(3, 3), stride=(1, 1), padding=(1, 1))
    (24): ReLU(inplace)
    (25): Conv2d(512, 512, kernel_size=(3, 3), stride=(1, 1), padding=(1, 1))
    (26): ReLU(inplace)
    (27): MaxPool2d(kernel_size=2, stride=2, padding=0, dilation=1, ceil_mode=False)
    (28): Conv2d(512, 512, kernel_size=(3, 3), stride=(1, 1), padding=(1, 1))
    (29): ReLU(inplace)
    (30): Conv2d(512, 512, kernel_size=(3, 3), stride=(1, 1), padding=(1, 1))
    (31): ReLU(inplace)
    (32): Conv2d(512, 512, kernel_size=(3, 3), stride=(1, 1), padding=(1, 1))
    (33): ReLU(inplace)
    (34): Conv2d(512, 512, kernel_size=(3, 3), stride=(1, 1), padding=(1, 1))
    (35): ReLU(inplace)
    (36): MaxPool2d(kernel_size=2, stride=2, padding=0, dilation=1, ceil_mode=False)
  )
  (classifier): Sequential(
    (fcl): Linear(in_features=25088, out_features=1024, bias=True)
    (drop): Dropout(p=0.5)
    (relu): ReLU()
    (fc2): Linear(in_features=1024, out_features=102, bias=True)
    (output): LogSoftmax()
  )
)
</pre>
</div>
</div>

</div>
</div>

</div>
<div class="cell border-box-sizing text_cell rendered"><div class="prompt input_prompt">
</div><div class="inner_cell">
<div class="text_cell_render border-box-sizing rendered_html">
<h1 id="Inference-for-classification">Inference for classification<a class="anchor-link" href="#Inference-for-classification">&#182;</a></h1><p>Now you'll write a function to use a trained network for inference. That is, you'll pass an image into the network and predict the class of the flower in the image. Write a function called <code>predict</code> that takes an image and a model, then returns the top $K$ most likely classes along with the probabilities. It should look like</p>
<div class="highlight"><pre><span></span><span class="n">probs</span><span class="p">,</span> <span class="n">classes</span> <span class="o">=</span> <span class="n">predict</span><span class="p">(</span><span class="n">image_path</span><span class="p">,</span> <span class="n">model</span><span class="p">)</span>
<span class="k">print</span><span class="p">(</span><span class="n">probs</span><span class="p">)</span>
<span class="k">print</span><span class="p">(</span><span class="n">classes</span><span class="p">)</span>
<span class="o">&gt;</span> <span class="p">[</span> <span class="mf">0.01558163</span>  <span class="mf">0.01541934</span>  <span class="mf">0.01452626</span>  <span class="mf">0.01443549</span>  <span class="mf">0.01407339</span><span class="p">]</span>
<span class="o">&gt;</span> <span class="p">[</span><span class="s1">&#39;70&#39;</span><span class="p">,</span> <span class="s1">&#39;3&#39;</span><span class="p">,</span> <span class="s1">&#39;45&#39;</span><span class="p">,</span> <span class="s1">&#39;62&#39;</span><span class="p">,</span> <span class="s1">&#39;55&#39;</span><span class="p">]</span>
</pre></div>
<p>First you'll need to handle processing the input image such that it can be used in your network.</p>
<h2 id="Image-Preprocessing">Image Preprocessing<a class="anchor-link" href="#Image-Preprocessing">&#182;</a></h2><p>You'll want to use <code>PIL</code> to load the image (<a href="https://pillow.readthedocs.io/en/latest/reference/Image.html">documentation</a>). It's best to write a function that preprocesses the image so it can be used as input for the model. This function should process the images in the same manner used for training.</p>
<p>First, resize the images where the shortest side is 256 pixels, keeping the aspect ratio. This can be done with the <a href="http://pillow.readthedocs.io/en/3.1.x/reference/Image.html#PIL.Image.Image.thumbnail"><code>thumbnail</code></a> or <a href="http://pillow.readthedocs.io/en/3.1.x/reference/Image.html#PIL.Image.Image.thumbnail"><code>resize</code></a> methods. Then you'll need to crop out the center 224x224 portion of the image.</p>
<p>Color channels of images are typically encoded as integers 0-255, but the model expected floats 0-1. You'll need to convert the values. It's easiest with a Numpy array, which you can get from a PIL image like so <code>np_image = np.array(pil_image)</code>.</p>
<p>As before, the network expects the images to be normalized in a specific way. For the means, it's <code>[0.485, 0.456, 0.406]</code> and for the standard deviations <code>[0.229, 0.224, 0.225]</code>. You'll want to subtract the means from each color channel, then divide by the standard deviation.</p>
<p>And finally, PyTorch expects the color channel to be the first dimension but it's the third dimension in the PIL image and Numpy array. You can reorder dimensions using <a href="https://docs.scipy.org/doc/numpy-1.13.0/reference/generated/numpy.ndarray.transpose.html"><code>ndarray.transpose</code></a>. The color channel needs to be first and retain the order of the other two dimensions.</p>

</div>
</div>
</div>
<div class="cell border-box-sizing code_cell rendered">
<div class="input">
<div class="prompt input_prompt">In&nbsp;[10]:</div>
<div class="inner_cell">
    <div class="input_area">
<div class=" highlight hl-ipython3"><pre><span></span><span class="k">def</span> <span class="nf">process_image</span><span class="p">(</span><span class="n">image</span><span class="p">):</span>
    <span class="sd">&#39;&#39;&#39; Scales, crops, and normalizes a PIL image for a PyTorch model,</span>
<span class="sd">        returns an Numpy array</span>
<span class="sd">    &#39;&#39;&#39;</span>
    <span class="n">im</span> <span class="o">=</span> <span class="n">Image</span><span class="o">.</span><span class="n">open</span><span class="p">(</span><span class="n">image</span><span class="p">)</span>
    <span class="n">im</span> <span class="o">=</span> <span class="n">im</span><span class="o">.</span><span class="n">resize</span><span class="p">((</span><span class="mi">256</span><span class="p">,</span> <span class="mi">256</span><span class="p">))</span>
    <span class="n">value</span> <span class="o">=</span> <span class="mf">0.5</span> <span class="o">*</span> <span class="p">(</span><span class="mi">256</span><span class="o">-</span><span class="mi">224</span><span class="p">)</span>
    <span class="n">im</span> <span class="o">=</span> <span class="n">im</span><span class="o">.</span><span class="n">crop</span><span class="p">((</span><span class="n">value</span><span class="p">,</span> <span class="n">value</span><span class="p">,</span> <span class="mi">256</span><span class="o">-</span><span class="n">value</span><span class="p">,</span> <span class="mi">256</span><span class="o">-</span><span class="n">value</span><span class="p">))</span>
    <span class="n">im</span> <span class="o">=</span> <span class="n">np</span><span class="o">.</span><span class="n">array</span><span class="p">(</span><span class="n">im</span><span class="p">)</span><span class="o">/</span><span class="mi">255</span>

    <span class="n">mean</span> <span class="o">=</span> <span class="n">np</span><span class="o">.</span><span class="n">array</span><span class="p">([</span><span class="mf">0.485</span><span class="p">,</span> <span class="mf">0.456</span><span class="p">,</span> <span class="mf">0.406</span><span class="p">])</span>
    <span class="n">std</span> <span class="o">=</span> <span class="n">np</span><span class="o">.</span><span class="n">array</span><span class="p">([</span><span class="mf">0.229</span><span class="p">,</span> <span class="mf">0.224</span><span class="p">,</span> <span class="mf">0.225</span><span class="p">])</span>
    <span class="n">im</span> <span class="o">=</span> <span class="p">(</span><span class="n">im</span> <span class="o">-</span> <span class="n">mean</span><span class="p">)</span> <span class="o">/</span> <span class="n">std</span> 

    <span class="k">return</span> <span class="n">im</span><span class="o">.</span><span class="n">transpose</span><span class="p">(</span><span class="mi">2</span><span class="p">,</span><span class="mi">0</span><span class="p">,</span><span class="mi">1</span><span class="p">)</span>
</pre></div>

    </div>
</div>
</div>

</div>
<div class="cell border-box-sizing text_cell rendered"><div class="prompt input_prompt">
</div><div class="inner_cell">
<div class="text_cell_render border-box-sizing rendered_html">
<p>To check your work, the function below converts a PyTorch tensor and displays it in the notebook. If your <code>process_image</code> function works, running the output through this function should return the original image (except for the cropped out portions).</p>

</div>
</div>
</div>
<div class="cell border-box-sizing code_cell rendered">
<div class="input">
<div class="prompt input_prompt">In&nbsp;[11]:</div>
<div class="inner_cell">
    <div class="input_area">
<div class=" highlight hl-ipython3"><pre><span></span><span class="k">def</span> <span class="nf">imshow</span><span class="p">(</span><span class="n">image</span><span class="p">,</span> <span class="n">ax</span><span class="o">=</span><span class="kc">None</span><span class="p">,</span> <span class="n">title</span><span class="o">=</span><span class="kc">None</span><span class="p">):</span>
    <span class="sd">&quot;&quot;&quot;Imshow for Tensor.&quot;&quot;&quot;</span>
    <span class="k">if</span> <span class="n">ax</span> <span class="ow">is</span> <span class="kc">None</span><span class="p">:</span>
        <span class="n">fig</span><span class="p">,</span> <span class="n">ax</span> <span class="o">=</span> <span class="n">plt</span><span class="o">.</span><span class="n">subplots</span><span class="p">()</span>
    
    <span class="c1"># PyTorch tensors assume the color channel is the first dimension</span>
    <span class="c1"># but matplotlib assumes is the third dimension</span>
    <span class="n">image</span> <span class="o">=</span> <span class="n">image</span><span class="o">.</span><span class="n">numpy</span><span class="p">()</span><span class="o">.</span><span class="n">transpose</span><span class="p">((</span><span class="mi">1</span><span class="p">,</span> <span class="mi">2</span><span class="p">,</span> <span class="mi">0</span><span class="p">))</span>
    
    <span class="c1"># Undo preprocessing</span>
    <span class="n">mean</span> <span class="o">=</span> <span class="n">np</span><span class="o">.</span><span class="n">array</span><span class="p">([</span><span class="mf">0.485</span><span class="p">,</span> <span class="mf">0.456</span><span class="p">,</span> <span class="mf">0.406</span><span class="p">])</span>
    <span class="n">std</span> <span class="o">=</span> <span class="n">np</span><span class="o">.</span><span class="n">array</span><span class="p">([</span><span class="mf">0.229</span><span class="p">,</span> <span class="mf">0.224</span><span class="p">,</span> <span class="mf">0.225</span><span class="p">])</span>
    <span class="n">image</span> <span class="o">=</span> <span class="n">std</span> <span class="o">*</span> <span class="n">image</span> <span class="o">+</span> <span class="n">mean</span>
    
    <span class="c1"># Image needs to be clipped between 0 and 1 or it looks like noise when displayed</span>
    <span class="n">image</span> <span class="o">=</span> <span class="n">np</span><span class="o">.</span><span class="n">clip</span><span class="p">(</span><span class="n">image</span><span class="p">,</span> <span class="mi">0</span><span class="p">,</span> <span class="mi">1</span><span class="p">)</span>
    
    <span class="n">ax</span><span class="o">.</span><span class="n">imshow</span><span class="p">(</span><span class="n">image</span><span class="p">)</span>
    
    <span class="k">return</span> <span class="n">ax</span>
</pre></div>

    </div>
</div>
</div>

</div>
<div class="cell border-box-sizing text_cell rendered"><div class="prompt input_prompt">
</div><div class="inner_cell">
<div class="text_cell_render border-box-sizing rendered_html">
<h2 id="Class-Prediction">Class Prediction<a class="anchor-link" href="#Class-Prediction">&#182;</a></h2><p>Once you can get images in the correct format, it's time to write a function for making predictions with your model. A common practice is to predict the top 5 or so (usually called top-$K$) most probable classes. You'll want to calculate the class probabilities then find the $K$ largest values.</p>
<p>To get the top $K$ largest values in a tensor use <a href="http://pytorch.org/docs/master/torch.html#torch.topk"><code>x.topk(k)</code></a>. This method returns both the highest <code>k</code> probabilities and the indices of those probabilities corresponding to the classes. You need to convert from these indices to the actual class labels using <code>class_to_idx</code> which hopefully you added to the model or from an <code>ImageFolder</code> you used to load the data (<a href="#Save-the-checkpoint">see here</a>). Make sure to invert the dictionary so you get a mapping from index to class as well.</p>
<p>Again, this method should take a path to an image and a model checkpoint, then return the probabilities and classes.</p>
<div class="highlight"><pre><span></span><span class="n">probs</span><span class="p">,</span> <span class="n">classes</span> <span class="o">=</span> <span class="n">predict</span><span class="p">(</span><span class="n">image_path</span><span class="p">,</span> <span class="n">model</span><span class="p">)</span>
<span class="k">print</span><span class="p">(</span><span class="n">probs</span><span class="p">)</span>
<span class="k">print</span><span class="p">(</span><span class="n">classes</span><span class="p">)</span>
<span class="o">&gt;</span> <span class="p">[</span> <span class="mf">0.01558163</span>  <span class="mf">0.01541934</span>  <span class="mf">0.01452626</span>  <span class="mf">0.01443549</span>  <span class="mf">0.01407339</span><span class="p">]</span>
<span class="o">&gt;</span> <span class="p">[</span><span class="s1">&#39;70&#39;</span><span class="p">,</span> <span class="s1">&#39;3&#39;</span><span class="p">,</span> <span class="s1">&#39;45&#39;</span><span class="p">,</span> <span class="s1">&#39;62&#39;</span><span class="p">,</span> <span class="s1">&#39;55&#39;</span><span class="p">]</span>
</pre></div>

</div>
</div>
</div>
<div class="cell border-box-sizing code_cell rendered">
<div class="input">
<div class="prompt input_prompt">In&nbsp;[12]:</div>
<div class="inner_cell">
    <div class="input_area">
<div class=" highlight hl-ipython3"><pre><span></span><span class="k">def</span> <span class="nf">predict</span><span class="p">(</span><span class="n">image_path</span><span class="p">,</span> <span class="n">model</span><span class="p">,</span> <span class="n">topk</span><span class="o">=</span><span class="mi">5</span><span class="p">):</span>
	<span class="c1"># Predict the class (or classes) of an image using a pretrained deep learing model.</span>

	<span class="c1"># TODO: Implement the code to predict the class from an image file</span>
	<span class="c1"># move the model to cuda</span>
	<span class="n">usa_cuda</span> <span class="o">=</span> <span class="n">torch</span><span class="o">.</span><span class="n">cuda</span><span class="o">.</span><span class="n">is_available</span><span class="p">()</span>
	<span class="k">if</span> <span class="n">use_cuda</span><span class="p">:</span>
		<span class="c1"># Move model parameters to the GPU</span>
		<span class="n">model</span><span class="o">.</span><span class="n">cuda</span><span class="p">()</span>
		<span class="nb">print</span><span class="p">(</span><span class="s2">&quot;Number of GPUS:&quot;</span><span class="p">,</span> <span class="n">torch</span><span class="o">.</span><span class="n">cuda</span><span class="o">.</span><span class="n">device_count</span><span class="p">())</span>
		<span class="nb">print</span><span class="p">(</span><span class="s2">&quot;Device name:&quot;</span><span class="p">,</span> <span class="n">torch</span><span class="o">.</span><span class="n">cuda</span><span class="o">.</span><span class="n">get_device_name</span><span class="p">(</span><span class="n">torch</span><span class="o">.</span><span class="n">cuda</span><span class="o">.</span><span class="n">device_count</span><span class="p">()</span><span class="o">-</span><span class="mi">1</span><span class="p">))</span>
	<span class="k">else</span><span class="p">:</span>
		<span class="n">model</span><span class="o">.</span><span class="n">cpu</span><span class="p">()</span>

	<span class="c1"># turn off dropout</span>
	<span class="n">model</span><span class="o">.</span><span class="n">eval</span><span class="p">()</span>

	<span class="c1"># The image</span>
	<span class="n">image</span> <span class="o">=</span> <span class="n">process_image</span><span class="p">(</span><span class="n">image_path</span><span class="p">)</span>

	<span class="c1"># transfer to tensor</span>
	<span class="n">image</span> <span class="o">=</span> <span class="n">torch</span><span class="o">.</span><span class="n">from_numpy</span><span class="p">(</span><span class="n">np</span><span class="o">.</span><span class="n">array</span><span class="p">([</span><span class="n">image</span><span class="p">]))</span><span class="o">.</span><span class="n">float</span><span class="p">()</span>

	<span class="c1"># The image becomes the input</span>
	<span class="n">image</span> <span class="o">=</span> <span class="n">Variable</span><span class="p">(</span><span class="n">image</span><span class="p">)</span>
	<span class="k">if</span> <span class="n">use_cuda</span><span class="p">:</span>
		<span class="n">image</span> <span class="o">=</span> <span class="n">image</span><span class="o">.</span><span class="n">cuda</span><span class="p">()</span>

	<span class="n">output</span> <span class="o">=</span> <span class="n">model</span><span class="o">.</span><span class="n">forward</span><span class="p">(</span><span class="n">image</span><span class="p">)</span>

	<span class="n">probabilities</span> <span class="o">=</span> <span class="n">torch</span><span class="o">.</span><span class="n">exp</span><span class="p">(</span><span class="n">output</span><span class="p">)</span><span class="o">.</span><span class="n">data</span>

	<span class="c1"># getting the topk (=5) probabilities and indexes</span>
	<span class="c1"># 0 --&gt; probabilities</span>
	<span class="c1"># 1 --&gt; index</span>
	<span class="c1"># probabilities</span>
	<span class="n">prob</span> <span class="o">=</span> <span class="n">torch</span><span class="o">.</span><span class="n">topk</span><span class="p">(</span><span class="n">probabilities</span><span class="p">,</span> <span class="n">topk</span><span class="p">)[</span><span class="mi">0</span><span class="p">]</span><span class="o">.</span><span class="n">tolist</span><span class="p">()[</span><span class="mi">0</span><span class="p">]</span> 
	<span class="c1"># index</span>
	<span class="n">index</span> <span class="o">=</span> <span class="n">torch</span><span class="o">.</span><span class="n">topk</span><span class="p">(</span><span class="n">probabilities</span><span class="p">,</span> <span class="n">topk</span><span class="p">)[</span><span class="mi">1</span><span class="p">]</span><span class="o">.</span><span class="n">tolist</span><span class="p">()[</span><span class="mi">0</span><span class="p">]</span> 

	<span class="n">ind</span> <span class="o">=</span> <span class="p">[]</span>
	<span class="k">for</span> <span class="n">i</span> <span class="ow">in</span> <span class="nb">range</span><span class="p">(</span><span class="nb">len</span><span class="p">(</span><span class="n">model</span><span class="o">.</span><span class="n">class_to_idx</span><span class="o">.</span><span class="n">items</span><span class="p">())):</span>
		<span class="n">ind</span><span class="o">.</span><span class="n">append</span><span class="p">(</span><span class="nb">list</span><span class="p">(</span><span class="n">model</span><span class="o">.</span><span class="n">class_to_idx</span><span class="o">.</span><span class="n">items</span><span class="p">())[</span><span class="n">i</span><span class="p">][</span><span class="mi">0</span><span class="p">])</span>

	<span class="c1"># transfer index to label</span>
	<span class="n">label</span> <span class="o">=</span> <span class="p">[]</span>
	<span class="k">for</span> <span class="n">i</span> <span class="ow">in</span> <span class="nb">range</span><span class="p">(</span><span class="mi">5</span><span class="p">):</span>
		<span class="n">label</span><span class="o">.</span><span class="n">append</span><span class="p">(</span><span class="n">ind</span><span class="p">[</span><span class="n">index</span><span class="p">[</span><span class="n">i</span><span class="p">]])</span>

	<span class="k">return</span> <span class="n">prob</span><span class="p">,</span> <span class="n">label</span>

<span class="n">img</span> <span class="o">=</span> <span class="n">random</span><span class="o">.</span><span class="n">choice</span><span class="p">(</span><span class="n">os</span><span class="o">.</span><span class="n">listdir</span><span class="p">(</span><span class="s1">&#39;./flowers/test/7/&#39;</span><span class="p">))</span>
<span class="n">img_path</span> <span class="o">=</span> <span class="s1">&#39;./flowers/test/7/&#39;</span> <span class="o">+</span> <span class="n">img</span>
<span class="k">with</span> <span class="n">Image</span><span class="o">.</span><span class="n">open</span><span class="p">(</span><span class="n">img_path</span><span class="p">)</span> <span class="k">as</span> <span class="n">image</span><span class="p">:</span>
	<span class="n">plt</span><span class="o">.</span><span class="n">imshow</span><span class="p">(</span><span class="n">image</span><span class="p">)</span>

<span class="n">probs</span><span class="p">,</span> <span class="n">classes</span> <span class="o">=</span> <span class="n">predict</span><span class="p">(</span><span class="n">img_path</span><span class="p">,</span> <span class="n">model</span><span class="p">)</span>
<span class="nb">print</span><span class="p">(</span><span class="n">probs</span><span class="p">)</span>
<span class="nb">print</span><span class="p">(</span><span class="n">classes</span><span class="p">)</span>
<span class="nb">print</span><span class="p">([</span><span class="n">cat_to_name</span><span class="p">[</span><span class="n">x</span><span class="p">]</span> <span class="k">for</span> <span class="n">x</span> <span class="ow">in</span> <span class="n">classes</span><span class="p">])</span>
</pre></div>

    </div>
</div>
</div>

<div class="output_wrapper">
<div class="output">


<div class="output_area">

    <div class="prompt"></div>


<div class="output_subarea output_stream output_stdout output_text">
<pre>Number of GPUS: 1
Device name: Tesla K80
[0.9637894630432129, 0.023698851466178894, 0.008893835358321667, 0.0016710256459191442, 0.0004266814503353089]
[&#39;7&#39;, &#39;4&#39;, &#39;84&#39;, &#39;88&#39;, &#39;96&#39;]
[&#39;moon orchid&#39;, &#39;sweet pea&#39;, &#39;columbine&#39;, &#39;cyclamen&#39;, &#39;camellia&#39;]
</pre>
</div>
</div>

<div class="output_area">

    <div class="prompt"></div>




<div class="output_png output_subarea ">
<img src="data:image/png;base64,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
"
>
</div>

</div>

</div>
</div>

</div>
<div class="cell border-box-sizing text_cell rendered"><div class="prompt input_prompt">
</div><div class="inner_cell">
<div class="text_cell_render border-box-sizing rendered_html">
<h2 id="Sanity-Checking">Sanity Checking<a class="anchor-link" href="#Sanity-Checking">&#182;</a></h2><p>Now that you can use a trained model for predictions, check to make sure it makes sense. Even if the testing accuracy is high, it's always good to check that there aren't obvious bugs. Use <code>matplotlib</code> to plot the probabilities for the top 5 classes as a bar graph, along with the input image. It should look like this:</p>
<p><img src='assets/inference_example.png' width=300px></p>
<p>You can convert from the class integer encoding to actual flower names with the <code>cat_to_name.json</code> file (should have been loaded earlier in the notebook). To show a PyTorch tensor as an image, use the <code>imshow</code> function defined above.</p>

</div>
</div>
</div>
<div class="cell border-box-sizing code_cell rendered">
<div class="input">
<div class="prompt input_prompt">In&nbsp;[13]:</div>
<div class="inner_cell">
    <div class="input_area">
<div class=" highlight hl-ipython3"><pre><span></span><span class="c1"># TODO: Display an image along with the top 5 classes</span>
<span class="n">prob</span><span class="p">,</span> <span class="n">classes</span> <span class="o">=</span> <span class="n">predict</span><span class="p">(</span><span class="n">img_path</span><span class="p">,</span> <span class="n">model</span><span class="p">)</span>

<span class="c1"># argmax return the indices of the max values along an axis, given an array.</span>
<span class="c1"># this will be used to find the highest probable class. </span>
<span class="n">max_index</span> <span class="o">=</span> <span class="n">np</span><span class="o">.</span><span class="n">argmax</span><span class="p">(</span><span class="n">prob</span><span class="p">)</span>
<span class="n">max_probability</span> <span class="o">=</span> <span class="n">prob</span><span class="p">[</span><span class="n">max_index</span><span class="p">]</span>
<span class="n">label</span> <span class="o">=</span> <span class="n">classes</span><span class="p">[</span><span class="n">max_index</span><span class="p">]</span>

<span class="n">fig</span> <span class="o">=</span> <span class="n">plt</span><span class="o">.</span><span class="n">figure</span><span class="p">(</span><span class="n">figsize</span><span class="o">=</span><span class="p">(</span><span class="mi">6</span><span class="p">,</span><span class="mi">6</span><span class="p">))</span>
<span class="n">ax1</span> <span class="o">=</span> <span class="n">plt</span><span class="o">.</span><span class="n">subplot2grid</span><span class="p">((</span><span class="mi">15</span><span class="p">,</span><span class="mi">9</span><span class="p">),</span> <span class="p">(</span><span class="mi">0</span><span class="p">,</span><span class="mi">0</span><span class="p">),</span> <span class="n">colspan</span><span class="o">=</span><span class="mi">9</span><span class="p">,</span> <span class="n">rowspan</span><span class="o">=</span><span class="mi">9</span><span class="p">)</span>
<span class="n">ax2</span> <span class="o">=</span> <span class="n">plt</span><span class="o">.</span><span class="n">subplot2grid</span><span class="p">((</span><span class="mi">15</span><span class="p">,</span><span class="mi">9</span><span class="p">),</span> <span class="p">(</span><span class="mi">9</span><span class="p">,</span><span class="mi">2</span><span class="p">),</span> <span class="n">colspan</span><span class="o">=</span><span class="mi">5</span><span class="p">,</span> <span class="n">rowspan</span><span class="o">=</span><span class="mi">5</span><span class="p">)</span>

<span class="n">image</span> <span class="o">=</span> <span class="n">Image</span><span class="o">.</span><span class="n">open</span><span class="p">(</span><span class="n">img_path</span><span class="p">)</span>
<span class="n">ax1</span><span class="o">.</span><span class="n">axis</span><span class="p">(</span><span class="s1">&#39;off&#39;</span><span class="p">)</span>
<span class="n">ax1</span><span class="o">.</span><span class="n">set_title</span><span class="p">(</span><span class="n">cat_to_name</span><span class="p">[</span><span class="n">label</span><span class="p">])</span>
<span class="n">ax1</span><span class="o">.</span><span class="n">imshow</span><span class="p">(</span><span class="n">image</span><span class="p">)</span>

<span class="n">labels</span> <span class="o">=</span> <span class="p">[]</span>
<span class="k">for</span> <span class="n">i</span> <span class="ow">in</span> <span class="n">classes</span><span class="p">:</span>
	<span class="n">labels</span><span class="o">.</span><span class="n">append</span><span class="p">(</span><span class="n">cat_to_name</span><span class="p">[</span><span class="n">i</span><span class="p">])</span>

<span class="n">y_pos</span> <span class="o">=</span> <span class="n">np</span><span class="o">.</span><span class="n">arange</span><span class="p">(</span><span class="mi">5</span><span class="p">)</span>
<span class="n">ax2</span><span class="o">.</span><span class="n">set_yticks</span><span class="p">(</span><span class="n">y_pos</span><span class="p">)</span>
<span class="n">ax2</span><span class="o">.</span><span class="n">set_yticklabels</span><span class="p">(</span><span class="n">labels</span><span class="p">)</span>
<span class="n">ax2</span><span class="o">.</span><span class="n">set_xlabel</span><span class="p">(</span><span class="s1">&#39;Probability&#39;</span><span class="p">)</span>
<span class="n">ax2</span><span class="o">.</span><span class="n">invert_yaxis</span><span class="p">()</span>
<span class="n">ax2</span><span class="o">.</span><span class="n">barh</span><span class="p">(</span><span class="n">y_pos</span><span class="p">,</span> <span class="n">prob</span><span class="p">,</span> <span class="n">xerr</span><span class="o">=</span><span class="mi">0</span><span class="p">,</span> <span class="n">align</span><span class="o">=</span><span class="s1">&#39;center&#39;</span><span class="p">,</span> <span class="n">color</span><span class="o">=</span><span class="s1">&#39;blue&#39;</span><span class="p">)</span>

<span class="n">plt</span><span class="o">.</span><span class="n">show</span><span class="p">()</span>
</pre></div>

    </div>
</div>
</div>

<div class="output_wrapper">
<div class="output">


<div class="output_area">

    <div class="prompt"></div>


<div class="output_subarea output_stream output_stdout output_text">
<pre>Number of GPUS: 1
Device name: Tesla K80
</pre>
</div>
</div>

<div class="output_area">

    <div class="prompt"></div>




<div class="output_png output_subarea ">
<img src="data:image/png;base64,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
"
>
</div>

</div>

</div>
</div>

</div>
<div class="cell border-box-sizing code_cell rendered">
<div class="input">
<div class="prompt input_prompt">In&nbsp;[&nbsp;]:</div>
<div class="inner_cell">
    <div class="input_area">
<div class=" highlight hl-ipython3"><pre><span></span> 
</pre></div>

    </div>
</div>
</div>

</div>
<div class="cell border-box-sizing code_cell rendered">
<div class="input">
<div class="prompt input_prompt">In&nbsp;[&nbsp;]:</div>
<div class="inner_cell">
    <div class="input_area">
<div class=" highlight hl-ipython3"><pre><span></span> 
</pre></div>

    </div>
</div>
</div>

</div>
<div class="cell border-box-sizing code_cell rendered">
<div class="input">
<div class="prompt input_prompt">In&nbsp;[&nbsp;]:</div>
<div class="inner_cell">
    <div class="input_area">
<div class=" highlight hl-ipython3"><pre><span></span> 
</pre></div>

    </div>
</div>
</div>

</div>
    </div>
  </div>
</body>

 


</html>
